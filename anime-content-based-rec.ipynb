{
 "cells": [
  {
   "cell_type": "code",
   "execution_count": 1,
   "id": "ceaaf34f",
   "metadata": {
    "_cell_guid": "b1076dfc-b9ad-4769-8c92-a6c4dae69d19",
    "_uuid": "8f2839f25d086af736a60e9eeb907d3b93b6e0e5",
    "execution": {
     "iopub.execute_input": "2022-02-11T19:17:21.099700Z",
     "iopub.status.busy": "2022-02-11T19:17:21.098378Z",
     "iopub.status.idle": "2022-02-11T19:17:21.118683Z",
     "shell.execute_reply": "2022-02-11T19:17:21.117918Z",
     "shell.execute_reply.started": "2022-02-11T18:56:30.333665Z"
    },
    "papermill": {
     "duration": 0.067108,
     "end_time": "2022-02-11T19:17:21.118875",
     "exception": false,
     "start_time": "2022-02-11T19:17:21.051767",
     "status": "completed"
    },
    "tags": []
   },
   "outputs": [
    {
     "name": "stdout",
     "output_type": "stream",
     "text": [
      "/kaggle/input/anime-recommendations-database/Anime_data.csv\n"
     ]
    }
   ],
   "source": [
    "# This Python 3 environment comes with many helpful analytics libraries installed\n",
    "# It is defined by the kaggle/python Docker image: https://github.com/kaggle/docker-python\n",
    "# For example, here's several helpful packages to load\n",
    "\n",
    "import numpy as np # linear algebra\n",
    "import pandas as pd # data processing, CSV file I/O (e.g. pd.read_csv)\n",
    "\n",
    "# Input data files are available in the read-only \"../input/\" directory\n",
    "# For example, running this (by clicking run or pressing Shift+Enter) will list all files under the input directory\n",
    "\n",
    "import os\n",
    "for dirname, _, filenames in os.walk('/kaggle/input'):\n",
    "    for filename in filenames:\n",
    "        print(os.path.join(dirname, filename))\n",
    "\n",
    "# You can write up to 20GB to the current directory (/kaggle/working/) that gets preserved as output when you create a version using \"Save & Run All\" \n",
    "# You can also write temporary files to /kaggle/temp/, but they won't be saved outside of the current session"
   ]
  },
  {
   "cell_type": "code",
   "execution_count": 2,
   "id": "346b1455",
   "metadata": {
    "execution": {
     "iopub.execute_input": "2022-02-11T19:17:21.208732Z",
     "iopub.status.busy": "2022-02-11T19:17:21.207939Z",
     "iopub.status.idle": "2022-02-11T19:17:21.514487Z",
     "shell.execute_reply": "2022-02-11T19:17:21.513782Z",
     "shell.execute_reply.started": "2022-02-11T18:56:30.514463Z"
    },
    "papermill": {
     "duration": 0.353386,
     "end_time": "2022-02-11T19:17:21.514646",
     "exception": false,
     "start_time": "2022-02-11T19:17:21.161260",
     "status": "completed"
    },
    "tags": []
   },
   "outputs": [],
   "source": [
    "df = pd.read_csv('/kaggle/input/anime-recommendations-database/Anime_data.csv')"
   ]
  },
  {
   "cell_type": "code",
   "execution_count": 3,
   "id": "b2c69e2b",
   "metadata": {
    "execution": {
     "iopub.execute_input": "2022-02-11T19:17:21.609730Z",
     "iopub.status.busy": "2022-02-11T19:17:21.608990Z",
     "iopub.status.idle": "2022-02-11T19:17:21.633031Z",
     "shell.execute_reply": "2022-02-11T19:17:21.633557Z",
     "shell.execute_reply.started": "2022-02-11T18:56:30.756854Z"
    },
    "papermill": {
     "duration": 0.077136,
     "end_time": "2022-02-11T19:17:21.633749",
     "exception": false,
     "start_time": "2022-02-11T19:17:21.556613",
     "status": "completed"
    },
    "tags": []
   },
   "outputs": [
    {
     "data": {
      "text/html": [
       "<div>\n",
       "<style scoped>\n",
       "    .dataframe tbody tr th:only-of-type {\n",
       "        vertical-align: middle;\n",
       "    }\n",
       "\n",
       "    .dataframe tbody tr th {\n",
       "        vertical-align: top;\n",
       "    }\n",
       "\n",
       "    .dataframe thead th {\n",
       "        text-align: right;\n",
       "    }\n",
       "</style>\n",
       "<table border=\"1\" class=\"dataframe\">\n",
       "  <thead>\n",
       "    <tr style=\"text-align: right;\">\n",
       "      <th></th>\n",
       "      <th>Anime_id</th>\n",
       "      <th>Title</th>\n",
       "      <th>Genre</th>\n",
       "      <th>Synopsis</th>\n",
       "      <th>Type</th>\n",
       "      <th>Producer</th>\n",
       "      <th>Studio</th>\n",
       "      <th>Rating</th>\n",
       "      <th>ScoredBy</th>\n",
       "      <th>Popularity</th>\n",
       "      <th>Members</th>\n",
       "      <th>Episodes</th>\n",
       "      <th>Source</th>\n",
       "      <th>Aired</th>\n",
       "      <th>Link</th>\n",
       "    </tr>\n",
       "  </thead>\n",
       "  <tbody>\n",
       "    <tr>\n",
       "      <th>0</th>\n",
       "      <td>1</td>\n",
       "      <td>Cowboy Bebop</td>\n",
       "      <td>['Action', 'Adventure', 'Comedy', 'Drama', 'Sc...</td>\n",
       "      <td>In the year 2071, humanity has colonized sever...</td>\n",
       "      <td>TV</td>\n",
       "      <td>['Bandai Visual']</td>\n",
       "      <td>['Sunrise']</td>\n",
       "      <td>8.81</td>\n",
       "      <td>363889.0</td>\n",
       "      <td>39.0</td>\n",
       "      <td>704490.0</td>\n",
       "      <td>26.0</td>\n",
       "      <td>Original</td>\n",
       "      <td>Apr 3, 1998 to Apr 24, 1999</td>\n",
       "      <td>https://myanimelist.net/anime/1/Cowboy_Bebop</td>\n",
       "    </tr>\n",
       "    <tr>\n",
       "      <th>1</th>\n",
       "      <td>5</td>\n",
       "      <td>Cowboy Bebop: Tengoku no Tobira</td>\n",
       "      <td>['Action', 'Space', 'Drama', 'Mystery', 'Sci-Fi']</td>\n",
       "      <td>Another day, another bounty—such is the life o...</td>\n",
       "      <td>Movie</td>\n",
       "      <td>['Sunrise', 'Bandai Visual']</td>\n",
       "      <td>['Bones']</td>\n",
       "      <td>8.41</td>\n",
       "      <td>111187.0</td>\n",
       "      <td>475.0</td>\n",
       "      <td>179899.0</td>\n",
       "      <td>1.0</td>\n",
       "      <td>Original</td>\n",
       "      <td>Sep 1, 2001</td>\n",
       "      <td>https://myanimelist.net/anime/5/Cowboy_Bebop__...</td>\n",
       "    </tr>\n",
       "    <tr>\n",
       "      <th>2</th>\n",
       "      <td>6</td>\n",
       "      <td>Trigun</td>\n",
       "      <td>['Action', 'Sci-Fi', 'Adventure', 'Comedy', 'D...</td>\n",
       "      <td>Vash the Stampede is the man with a $$60,000,0...</td>\n",
       "      <td>TV</td>\n",
       "      <td>['Victor Entertainment']</td>\n",
       "      <td>['Madhouse']</td>\n",
       "      <td>8.31</td>\n",
       "      <td>197451.0</td>\n",
       "      <td>158.0</td>\n",
       "      <td>372709.0</td>\n",
       "      <td>26.0</td>\n",
       "      <td>Manga</td>\n",
       "      <td>Apr 1, 1998 to Sep 30, 1998</td>\n",
       "      <td>https://myanimelist.net/anime/6/Trigun</td>\n",
       "    </tr>\n",
       "    <tr>\n",
       "      <th>3</th>\n",
       "      <td>7</td>\n",
       "      <td>Witch Hunter Robin</td>\n",
       "      <td>['Action', 'Magic', 'Police', 'Supernatural', ...</td>\n",
       "      <td>Witches are individuals with special powers li...</td>\n",
       "      <td>TV</td>\n",
       "      <td>['Bandai Visual']</td>\n",
       "      <td>['Sunrise']</td>\n",
       "      <td>7.34</td>\n",
       "      <td>31875.0</td>\n",
       "      <td>1278.0</td>\n",
       "      <td>74889.0</td>\n",
       "      <td>26.0</td>\n",
       "      <td>Original</td>\n",
       "      <td>Jul 2, 2002 to Dec 24, 2002</td>\n",
       "      <td>https://myanimelist.net/anime/7/Witch_Hunter_R...</td>\n",
       "    </tr>\n",
       "    <tr>\n",
       "      <th>4</th>\n",
       "      <td>8</td>\n",
       "      <td>Bouken Ou Beet</td>\n",
       "      <td>['Adventure', 'Fantasy', 'Shounen', 'Supernatu...</td>\n",
       "      <td>It is the dark century and the people are suff...</td>\n",
       "      <td>TV</td>\n",
       "      <td>NaN</td>\n",
       "      <td>['Toei Animation']</td>\n",
       "      <td>7.04</td>\n",
       "      <td>4757.0</td>\n",
       "      <td>3968.0</td>\n",
       "      <td>11247.0</td>\n",
       "      <td>52.0</td>\n",
       "      <td>Manga</td>\n",
       "      <td>Sep 30, 2004 to Sep 29, 2005</td>\n",
       "      <td>https://myanimelist.net/anime/8/Bouken_Ou_Beet</td>\n",
       "    </tr>\n",
       "  </tbody>\n",
       "</table>\n",
       "</div>"
      ],
      "text/plain": [
       "   Anime_id                            Title  \\\n",
       "0         1                     Cowboy Bebop   \n",
       "1         5  Cowboy Bebop: Tengoku no Tobira   \n",
       "2         6                           Trigun   \n",
       "3         7               Witch Hunter Robin   \n",
       "4         8                   Bouken Ou Beet   \n",
       "\n",
       "                                               Genre  \\\n",
       "0  ['Action', 'Adventure', 'Comedy', 'Drama', 'Sc...   \n",
       "1  ['Action', 'Space', 'Drama', 'Mystery', 'Sci-Fi']   \n",
       "2  ['Action', 'Sci-Fi', 'Adventure', 'Comedy', 'D...   \n",
       "3  ['Action', 'Magic', 'Police', 'Supernatural', ...   \n",
       "4  ['Adventure', 'Fantasy', 'Shounen', 'Supernatu...   \n",
       "\n",
       "                                            Synopsis   Type  \\\n",
       "0  In the year 2071, humanity has colonized sever...     TV   \n",
       "1  Another day, another bounty—such is the life o...  Movie   \n",
       "2  Vash the Stampede is the man with a $$60,000,0...     TV   \n",
       "3  Witches are individuals with special powers li...     TV   \n",
       "4  It is the dark century and the people are suff...     TV   \n",
       "\n",
       "                       Producer              Studio  Rating  ScoredBy  \\\n",
       "0             ['Bandai Visual']         ['Sunrise']    8.81  363889.0   \n",
       "1  ['Sunrise', 'Bandai Visual']           ['Bones']    8.41  111187.0   \n",
       "2      ['Victor Entertainment']        ['Madhouse']    8.31  197451.0   \n",
       "3             ['Bandai Visual']         ['Sunrise']    7.34   31875.0   \n",
       "4                           NaN  ['Toei Animation']    7.04    4757.0   \n",
       "\n",
       "   Popularity   Members  Episodes    Source                         Aired  \\\n",
       "0        39.0  704490.0      26.0  Original   Apr 3, 1998 to Apr 24, 1999   \n",
       "1       475.0  179899.0       1.0  Original                   Sep 1, 2001   \n",
       "2       158.0  372709.0      26.0     Manga   Apr 1, 1998 to Sep 30, 1998   \n",
       "3      1278.0   74889.0      26.0  Original   Jul 2, 2002 to Dec 24, 2002   \n",
       "4      3968.0   11247.0      52.0     Manga  Sep 30, 2004 to Sep 29, 2005   \n",
       "\n",
       "                                                Link  \n",
       "0       https://myanimelist.net/anime/1/Cowboy_Bebop  \n",
       "1  https://myanimelist.net/anime/5/Cowboy_Bebop__...  \n",
       "2             https://myanimelist.net/anime/6/Trigun  \n",
       "3  https://myanimelist.net/anime/7/Witch_Hunter_R...  \n",
       "4     https://myanimelist.net/anime/8/Bouken_Ou_Beet  "
      ]
     },
     "execution_count": 3,
     "metadata": {},
     "output_type": "execute_result"
    }
   ],
   "source": [
    "df.head()"
   ]
  },
  {
   "cell_type": "markdown",
   "id": "b116004a",
   "metadata": {
    "papermill": {
     "duration": 0.04188,
     "end_time": "2022-02-11T19:17:21.718018",
     "exception": false,
     "start_time": "2022-02-11T19:17:21.676138",
     "status": "completed"
    },
    "tags": []
   },
   "source": [
    "# PART 1 - clean and process data"
   ]
  },
  {
   "cell_type": "code",
   "execution_count": 4,
   "id": "0a852d3f",
   "metadata": {
    "execution": {
     "iopub.execute_input": "2022-02-11T19:17:21.806530Z",
     "iopub.status.busy": "2022-02-11T19:17:21.805422Z",
     "iopub.status.idle": "2022-02-11T19:17:21.811120Z",
     "shell.execute_reply": "2022-02-11T19:17:21.811681Z",
     "shell.execute_reply.started": "2022-02-11T18:56:31.352437Z"
    },
    "papermill": {
     "duration": 0.051672,
     "end_time": "2022-02-11T19:17:21.811885",
     "exception": false,
     "start_time": "2022-02-11T19:17:21.760213",
     "status": "completed"
    },
    "tags": []
   },
   "outputs": [
    {
     "data": {
      "text/plain": [
       "(17002, 15)"
      ]
     },
     "execution_count": 4,
     "metadata": {},
     "output_type": "execute_result"
    }
   ],
   "source": [
    "df.shape"
   ]
  },
  {
   "cell_type": "code",
   "execution_count": 5,
   "id": "cc74349a",
   "metadata": {
    "execution": {
     "iopub.execute_input": "2022-02-11T19:17:21.903482Z",
     "iopub.status.busy": "2022-02-11T19:17:21.902395Z",
     "iopub.status.idle": "2022-02-11T19:17:21.931846Z",
     "shell.execute_reply": "2022-02-11T19:17:21.932396Z",
     "shell.execute_reply.started": "2022-02-11T18:56:31.673332Z"
    },
    "papermill": {
     "duration": 0.076737,
     "end_time": "2022-02-11T19:17:21.932592",
     "exception": false,
     "start_time": "2022-02-11T19:17:21.855855",
     "status": "completed"
    },
    "tags": []
   },
   "outputs": [],
   "source": [
    "df.drop_duplicates(['Anime_id'],inplace=True)\n",
    "df.drop_duplicates(['Title'],inplace=True)"
   ]
  },
  {
   "cell_type": "code",
   "execution_count": 6,
   "id": "0b965dfe",
   "metadata": {
    "execution": {
     "iopub.execute_input": "2022-02-11T19:17:22.024715Z",
     "iopub.status.busy": "2022-02-11T19:17:22.023640Z",
     "iopub.status.idle": "2022-02-11T19:17:22.029529Z",
     "shell.execute_reply": "2022-02-11T19:17:22.030079Z",
     "shell.execute_reply.started": "2022-02-11T18:56:32.978100Z"
    },
    "papermill": {
     "duration": 0.053953,
     "end_time": "2022-02-11T19:17:22.030276",
     "exception": false,
     "start_time": "2022-02-11T19:17:21.976323",
     "status": "completed"
    },
    "tags": []
   },
   "outputs": [
    {
     "data": {
      "text/plain": [
       "(16737, 15)"
      ]
     },
     "execution_count": 6,
     "metadata": {},
     "output_type": "execute_result"
    }
   ],
   "source": [
    "df.shape"
   ]
  },
  {
   "cell_type": "code",
   "execution_count": 7,
   "id": "3c963cce",
   "metadata": {
    "execution": {
     "iopub.execute_input": "2022-02-11T19:17:22.121080Z",
     "iopub.status.busy": "2022-02-11T19:17:22.120070Z",
     "iopub.status.idle": "2022-02-11T19:17:22.127532Z",
     "shell.execute_reply": "2022-02-11T19:17:22.128103Z",
     "shell.execute_reply.started": "2022-02-11T18:56:33.281628Z"
    },
    "papermill": {
     "duration": 0.054275,
     "end_time": "2022-02-11T19:17:22.128279",
     "exception": false,
     "start_time": "2022-02-11T19:17:22.074004",
     "status": "completed"
    },
    "tags": []
   },
   "outputs": [],
   "source": [
    "df.drop(['Anime_id','Link'],axis=1,inplace=True)"
   ]
  },
  {
   "cell_type": "code",
   "execution_count": 8,
   "id": "17e0d954",
   "metadata": {
    "execution": {
     "iopub.execute_input": "2022-02-11T19:17:22.218213Z",
     "iopub.status.busy": "2022-02-11T19:17:22.217190Z",
     "iopub.status.idle": "2022-02-11T19:17:22.235839Z",
     "shell.execute_reply": "2022-02-11T19:17:22.236358Z",
     "shell.execute_reply.started": "2022-02-11T18:56:34.498650Z"
    },
    "papermill": {
     "duration": 0.065183,
     "end_time": "2022-02-11T19:17:22.236534",
     "exception": false,
     "start_time": "2022-02-11T19:17:22.171351",
     "status": "completed"
    },
    "tags": []
   },
   "outputs": [
    {
     "data": {
      "text/html": [
       "<div>\n",
       "<style scoped>\n",
       "    .dataframe tbody tr th:only-of-type {\n",
       "        vertical-align: middle;\n",
       "    }\n",
       "\n",
       "    .dataframe tbody tr th {\n",
       "        vertical-align: top;\n",
       "    }\n",
       "\n",
       "    .dataframe thead th {\n",
       "        text-align: right;\n",
       "    }\n",
       "</style>\n",
       "<table border=\"1\" class=\"dataframe\">\n",
       "  <thead>\n",
       "    <tr style=\"text-align: right;\">\n",
       "      <th></th>\n",
       "      <th>Title</th>\n",
       "      <th>Genre</th>\n",
       "      <th>Synopsis</th>\n",
       "      <th>Type</th>\n",
       "      <th>Producer</th>\n",
       "      <th>Studio</th>\n",
       "      <th>Rating</th>\n",
       "      <th>ScoredBy</th>\n",
       "      <th>Popularity</th>\n",
       "      <th>Members</th>\n",
       "      <th>Episodes</th>\n",
       "      <th>Source</th>\n",
       "      <th>Aired</th>\n",
       "    </tr>\n",
       "  </thead>\n",
       "  <tbody>\n",
       "    <tr>\n",
       "      <th>0</th>\n",
       "      <td>Cowboy Bebop</td>\n",
       "      <td>['Action', 'Adventure', 'Comedy', 'Drama', 'Sc...</td>\n",
       "      <td>In the year 2071, humanity has colonized sever...</td>\n",
       "      <td>TV</td>\n",
       "      <td>['Bandai Visual']</td>\n",
       "      <td>['Sunrise']</td>\n",
       "      <td>8.81</td>\n",
       "      <td>363889.0</td>\n",
       "      <td>39.0</td>\n",
       "      <td>704490.0</td>\n",
       "      <td>26.0</td>\n",
       "      <td>Original</td>\n",
       "      <td>Apr 3, 1998 to Apr 24, 1999</td>\n",
       "    </tr>\n",
       "    <tr>\n",
       "      <th>1</th>\n",
       "      <td>Cowboy Bebop: Tengoku no Tobira</td>\n",
       "      <td>['Action', 'Space', 'Drama', 'Mystery', 'Sci-Fi']</td>\n",
       "      <td>Another day, another bounty—such is the life o...</td>\n",
       "      <td>Movie</td>\n",
       "      <td>['Sunrise', 'Bandai Visual']</td>\n",
       "      <td>['Bones']</td>\n",
       "      <td>8.41</td>\n",
       "      <td>111187.0</td>\n",
       "      <td>475.0</td>\n",
       "      <td>179899.0</td>\n",
       "      <td>1.0</td>\n",
       "      <td>Original</td>\n",
       "      <td>Sep 1, 2001</td>\n",
       "    </tr>\n",
       "    <tr>\n",
       "      <th>2</th>\n",
       "      <td>Trigun</td>\n",
       "      <td>['Action', 'Sci-Fi', 'Adventure', 'Comedy', 'D...</td>\n",
       "      <td>Vash the Stampede is the man with a $$60,000,0...</td>\n",
       "      <td>TV</td>\n",
       "      <td>['Victor Entertainment']</td>\n",
       "      <td>['Madhouse']</td>\n",
       "      <td>8.31</td>\n",
       "      <td>197451.0</td>\n",
       "      <td>158.0</td>\n",
       "      <td>372709.0</td>\n",
       "      <td>26.0</td>\n",
       "      <td>Manga</td>\n",
       "      <td>Apr 1, 1998 to Sep 30, 1998</td>\n",
       "    </tr>\n",
       "    <tr>\n",
       "      <th>3</th>\n",
       "      <td>Witch Hunter Robin</td>\n",
       "      <td>['Action', 'Magic', 'Police', 'Supernatural', ...</td>\n",
       "      <td>Witches are individuals with special powers li...</td>\n",
       "      <td>TV</td>\n",
       "      <td>['Bandai Visual']</td>\n",
       "      <td>['Sunrise']</td>\n",
       "      <td>7.34</td>\n",
       "      <td>31875.0</td>\n",
       "      <td>1278.0</td>\n",
       "      <td>74889.0</td>\n",
       "      <td>26.0</td>\n",
       "      <td>Original</td>\n",
       "      <td>Jul 2, 2002 to Dec 24, 2002</td>\n",
       "    </tr>\n",
       "    <tr>\n",
       "      <th>4</th>\n",
       "      <td>Bouken Ou Beet</td>\n",
       "      <td>['Adventure', 'Fantasy', 'Shounen', 'Supernatu...</td>\n",
       "      <td>It is the dark century and the people are suff...</td>\n",
       "      <td>TV</td>\n",
       "      <td>NaN</td>\n",
       "      <td>['Toei Animation']</td>\n",
       "      <td>7.04</td>\n",
       "      <td>4757.0</td>\n",
       "      <td>3968.0</td>\n",
       "      <td>11247.0</td>\n",
       "      <td>52.0</td>\n",
       "      <td>Manga</td>\n",
       "      <td>Sep 30, 2004 to Sep 29, 2005</td>\n",
       "    </tr>\n",
       "  </tbody>\n",
       "</table>\n",
       "</div>"
      ],
      "text/plain": [
       "                             Title  \\\n",
       "0                     Cowboy Bebop   \n",
       "1  Cowboy Bebop: Tengoku no Tobira   \n",
       "2                           Trigun   \n",
       "3               Witch Hunter Robin   \n",
       "4                   Bouken Ou Beet   \n",
       "\n",
       "                                               Genre  \\\n",
       "0  ['Action', 'Adventure', 'Comedy', 'Drama', 'Sc...   \n",
       "1  ['Action', 'Space', 'Drama', 'Mystery', 'Sci-Fi']   \n",
       "2  ['Action', 'Sci-Fi', 'Adventure', 'Comedy', 'D...   \n",
       "3  ['Action', 'Magic', 'Police', 'Supernatural', ...   \n",
       "4  ['Adventure', 'Fantasy', 'Shounen', 'Supernatu...   \n",
       "\n",
       "                                            Synopsis   Type  \\\n",
       "0  In the year 2071, humanity has colonized sever...     TV   \n",
       "1  Another day, another bounty—such is the life o...  Movie   \n",
       "2  Vash the Stampede is the man with a $$60,000,0...     TV   \n",
       "3  Witches are individuals with special powers li...     TV   \n",
       "4  It is the dark century and the people are suff...     TV   \n",
       "\n",
       "                       Producer              Studio  Rating  ScoredBy  \\\n",
       "0             ['Bandai Visual']         ['Sunrise']    8.81  363889.0   \n",
       "1  ['Sunrise', 'Bandai Visual']           ['Bones']    8.41  111187.0   \n",
       "2      ['Victor Entertainment']        ['Madhouse']    8.31  197451.0   \n",
       "3             ['Bandai Visual']         ['Sunrise']    7.34   31875.0   \n",
       "4                           NaN  ['Toei Animation']    7.04    4757.0   \n",
       "\n",
       "   Popularity   Members  Episodes    Source                         Aired  \n",
       "0        39.0  704490.0      26.0  Original   Apr 3, 1998 to Apr 24, 1999  \n",
       "1       475.0  179899.0       1.0  Original                   Sep 1, 2001  \n",
       "2       158.0  372709.0      26.0     Manga   Apr 1, 1998 to Sep 30, 1998  \n",
       "3      1278.0   74889.0      26.0  Original   Jul 2, 2002 to Dec 24, 2002  \n",
       "4      3968.0   11247.0      52.0     Manga  Sep 30, 2004 to Sep 29, 2005  "
      ]
     },
     "execution_count": 8,
     "metadata": {},
     "output_type": "execute_result"
    }
   ],
   "source": [
    "df.head()"
   ]
  },
  {
   "cell_type": "code",
   "execution_count": 9,
   "id": "c6b24733",
   "metadata": {
    "execution": {
     "iopub.execute_input": "2022-02-11T19:17:22.327455Z",
     "iopub.status.busy": "2022-02-11T19:17:22.326410Z",
     "iopub.status.idle": "2022-02-11T19:17:22.349403Z",
     "shell.execute_reply": "2022-02-11T19:17:22.348674Z",
     "shell.execute_reply.started": "2022-02-11T18:56:35.606711Z"
    },
    "papermill": {
     "duration": 0.069552,
     "end_time": "2022-02-11T19:17:22.349556",
     "exception": false,
     "start_time": "2022-02-11T19:17:22.280004",
     "status": "completed"
    },
    "tags": []
   },
   "outputs": [
    {
     "data": {
      "text/plain": [
       "Title            0\n",
       "Genre         1961\n",
       "Synopsis      1304\n",
       "Type           591\n",
       "Producer      9161\n",
       "Studio        8885\n",
       "Rating        2396\n",
       "ScoredBy      3591\n",
       "Popularity     542\n",
       "Members          0\n",
       "Episodes      2809\n",
       "Source        1876\n",
       "Aired          542\n",
       "dtype: int64"
      ]
     },
     "execution_count": 9,
     "metadata": {},
     "output_type": "execute_result"
    }
   ],
   "source": [
    "df.isnull().sum()"
   ]
  },
  {
   "cell_type": "code",
   "execution_count": 10,
   "id": "32d592f3",
   "metadata": {
    "execution": {
     "iopub.execute_input": "2022-02-11T19:17:22.457474Z",
     "iopub.status.busy": "2022-02-11T19:17:22.456402Z",
     "iopub.status.idle": "2022-02-11T19:17:22.463213Z",
     "shell.execute_reply": "2022-02-11T19:17:22.464378Z",
     "shell.execute_reply.started": "2022-02-11T18:56:38.581788Z"
    },
    "papermill": {
     "duration": 0.070991,
     "end_time": "2022-02-11T19:17:22.464594",
     "exception": false,
     "start_time": "2022-02-11T19:17:22.393603",
     "status": "completed"
    },
    "tags": []
   },
   "outputs": [
    {
     "data": {
      "text/plain": [
       "array([0.        , 0.11716556, 0.07791121, 0.03531099, 0.54735018,\n",
       "       0.53085977, 0.14315588, 0.21455458, 0.03238334, 0.        ,\n",
       "       0.16783175, 0.11208699, 0.03238334])"
      ]
     },
     "execution_count": 10,
     "metadata": {},
     "output_type": "execute_result"
    }
   ],
   "source": [
    "df.isnull().sum().values / df.shape[0]"
   ]
  },
  {
   "cell_type": "code",
   "execution_count": 11,
   "id": "9e178fdc",
   "metadata": {
    "execution": {
     "iopub.execute_input": "2022-02-11T19:17:22.558914Z",
     "iopub.status.busy": "2022-02-11T19:17:22.557849Z",
     "iopub.status.idle": "2022-02-11T19:17:22.564464Z",
     "shell.execute_reply": "2022-02-11T19:17:22.565011Z",
     "shell.execute_reply.started": "2022-02-11T18:56:38.871088Z"
    },
    "papermill": {
     "duration": 0.054818,
     "end_time": "2022-02-11T19:17:22.565202",
     "exception": false,
     "start_time": "2022-02-11T19:17:22.510384",
     "status": "completed"
    },
    "tags": []
   },
   "outputs": [],
   "source": [
    "df.drop(['Producer','Studio'],axis=1,inplace=True)"
   ]
  },
  {
   "cell_type": "code",
   "execution_count": 12,
   "id": "f3a56cb8",
   "metadata": {
    "execution": {
     "iopub.execute_input": "2022-02-11T19:17:22.662715Z",
     "iopub.status.busy": "2022-02-11T19:17:22.661957Z",
     "iopub.status.idle": "2022-02-11T19:17:22.663502Z",
     "shell.execute_reply": "2022-02-11T19:17:22.664128Z",
     "shell.execute_reply.started": "2022-02-11T18:56:39.147581Z"
    },
    "papermill": {
     "duration": 0.054859,
     "end_time": "2022-02-11T19:17:22.664337",
     "exception": false,
     "start_time": "2022-02-11T19:17:22.609478",
     "status": "completed"
    },
    "tags": []
   },
   "outputs": [],
   "source": [
    "df.drop(['Aired'],axis=1,inplace=True)"
   ]
  },
  {
   "cell_type": "code",
   "execution_count": 13,
   "id": "914ce648",
   "metadata": {
    "execution": {
     "iopub.execute_input": "2022-02-11T19:17:22.758274Z",
     "iopub.status.busy": "2022-02-11T19:17:22.757608Z",
     "iopub.status.idle": "2022-02-11T19:17:22.773839Z",
     "shell.execute_reply": "2022-02-11T19:17:22.774639Z",
     "shell.execute_reply.started": "2022-02-11T18:56:39.514003Z"
    },
    "papermill": {
     "duration": 0.064419,
     "end_time": "2022-02-11T19:17:22.774871",
     "exception": false,
     "start_time": "2022-02-11T19:17:22.710452",
     "status": "completed"
    },
    "tags": []
   },
   "outputs": [
    {
     "data": {
      "text/html": [
       "<div>\n",
       "<style scoped>\n",
       "    .dataframe tbody tr th:only-of-type {\n",
       "        vertical-align: middle;\n",
       "    }\n",
       "\n",
       "    .dataframe tbody tr th {\n",
       "        vertical-align: top;\n",
       "    }\n",
       "\n",
       "    .dataframe thead th {\n",
       "        text-align: right;\n",
       "    }\n",
       "</style>\n",
       "<table border=\"1\" class=\"dataframe\">\n",
       "  <thead>\n",
       "    <tr style=\"text-align: right;\">\n",
       "      <th></th>\n",
       "      <th>Title</th>\n",
       "      <th>Genre</th>\n",
       "      <th>Synopsis</th>\n",
       "      <th>Type</th>\n",
       "      <th>Rating</th>\n",
       "      <th>ScoredBy</th>\n",
       "      <th>Popularity</th>\n",
       "      <th>Members</th>\n",
       "      <th>Episodes</th>\n",
       "      <th>Source</th>\n",
       "    </tr>\n",
       "  </thead>\n",
       "  <tbody>\n",
       "    <tr>\n",
       "      <th>0</th>\n",
       "      <td>Cowboy Bebop</td>\n",
       "      <td>['Action', 'Adventure', 'Comedy', 'Drama', 'Sc...</td>\n",
       "      <td>In the year 2071, humanity has colonized sever...</td>\n",
       "      <td>TV</td>\n",
       "      <td>8.81</td>\n",
       "      <td>363889.0</td>\n",
       "      <td>39.0</td>\n",
       "      <td>704490.0</td>\n",
       "      <td>26.0</td>\n",
       "      <td>Original</td>\n",
       "    </tr>\n",
       "    <tr>\n",
       "      <th>1</th>\n",
       "      <td>Cowboy Bebop: Tengoku no Tobira</td>\n",
       "      <td>['Action', 'Space', 'Drama', 'Mystery', 'Sci-Fi']</td>\n",
       "      <td>Another day, another bounty—such is the life o...</td>\n",
       "      <td>Movie</td>\n",
       "      <td>8.41</td>\n",
       "      <td>111187.0</td>\n",
       "      <td>475.0</td>\n",
       "      <td>179899.0</td>\n",
       "      <td>1.0</td>\n",
       "      <td>Original</td>\n",
       "    </tr>\n",
       "    <tr>\n",
       "      <th>2</th>\n",
       "      <td>Trigun</td>\n",
       "      <td>['Action', 'Sci-Fi', 'Adventure', 'Comedy', 'D...</td>\n",
       "      <td>Vash the Stampede is the man with a $$60,000,0...</td>\n",
       "      <td>TV</td>\n",
       "      <td>8.31</td>\n",
       "      <td>197451.0</td>\n",
       "      <td>158.0</td>\n",
       "      <td>372709.0</td>\n",
       "      <td>26.0</td>\n",
       "      <td>Manga</td>\n",
       "    </tr>\n",
       "    <tr>\n",
       "      <th>3</th>\n",
       "      <td>Witch Hunter Robin</td>\n",
       "      <td>['Action', 'Magic', 'Police', 'Supernatural', ...</td>\n",
       "      <td>Witches are individuals with special powers li...</td>\n",
       "      <td>TV</td>\n",
       "      <td>7.34</td>\n",
       "      <td>31875.0</td>\n",
       "      <td>1278.0</td>\n",
       "      <td>74889.0</td>\n",
       "      <td>26.0</td>\n",
       "      <td>Original</td>\n",
       "    </tr>\n",
       "    <tr>\n",
       "      <th>4</th>\n",
       "      <td>Bouken Ou Beet</td>\n",
       "      <td>['Adventure', 'Fantasy', 'Shounen', 'Supernatu...</td>\n",
       "      <td>It is the dark century and the people are suff...</td>\n",
       "      <td>TV</td>\n",
       "      <td>7.04</td>\n",
       "      <td>4757.0</td>\n",
       "      <td>3968.0</td>\n",
       "      <td>11247.0</td>\n",
       "      <td>52.0</td>\n",
       "      <td>Manga</td>\n",
       "    </tr>\n",
       "  </tbody>\n",
       "</table>\n",
       "</div>"
      ],
      "text/plain": [
       "                             Title  \\\n",
       "0                     Cowboy Bebop   \n",
       "1  Cowboy Bebop: Tengoku no Tobira   \n",
       "2                           Trigun   \n",
       "3               Witch Hunter Robin   \n",
       "4                   Bouken Ou Beet   \n",
       "\n",
       "                                               Genre  \\\n",
       "0  ['Action', 'Adventure', 'Comedy', 'Drama', 'Sc...   \n",
       "1  ['Action', 'Space', 'Drama', 'Mystery', 'Sci-Fi']   \n",
       "2  ['Action', 'Sci-Fi', 'Adventure', 'Comedy', 'D...   \n",
       "3  ['Action', 'Magic', 'Police', 'Supernatural', ...   \n",
       "4  ['Adventure', 'Fantasy', 'Shounen', 'Supernatu...   \n",
       "\n",
       "                                            Synopsis   Type  Rating  ScoredBy  \\\n",
       "0  In the year 2071, humanity has colonized sever...     TV    8.81  363889.0   \n",
       "1  Another day, another bounty—such is the life o...  Movie    8.41  111187.0   \n",
       "2  Vash the Stampede is the man with a $$60,000,0...     TV    8.31  197451.0   \n",
       "3  Witches are individuals with special powers li...     TV    7.34   31875.0   \n",
       "4  It is the dark century and the people are suff...     TV    7.04    4757.0   \n",
       "\n",
       "   Popularity   Members  Episodes    Source  \n",
       "0        39.0  704490.0      26.0  Original  \n",
       "1       475.0  179899.0       1.0  Original  \n",
       "2       158.0  372709.0      26.0     Manga  \n",
       "3      1278.0   74889.0      26.0  Original  \n",
       "4      3968.0   11247.0      52.0     Manga  "
      ]
     },
     "execution_count": 13,
     "metadata": {},
     "output_type": "execute_result"
    }
   ],
   "source": [
    "df.head()"
   ]
  },
  {
   "cell_type": "code",
   "execution_count": 14,
   "id": "72e11665",
   "metadata": {
    "execution": {
     "iopub.execute_input": "2022-02-11T19:17:22.868989Z",
     "iopub.status.busy": "2022-02-11T19:17:22.868236Z",
     "iopub.status.idle": "2022-02-11T19:17:22.891766Z",
     "shell.execute_reply": "2022-02-11T19:17:22.891024Z",
     "shell.execute_reply.started": "2022-02-11T18:56:40.677030Z"
    },
    "papermill": {
     "duration": 0.071588,
     "end_time": "2022-02-11T19:17:22.891918",
     "exception": false,
     "start_time": "2022-02-11T19:17:22.820330",
     "status": "completed"
    },
    "tags": []
   },
   "outputs": [],
   "source": [
    "df = df.join(pd.get_dummies(df['Source'],prefix='src',drop_first=True))\n",
    "df.drop('Source',axis=1,inplace=True)"
   ]
  },
  {
   "cell_type": "code",
   "execution_count": 15,
   "id": "2fe5510e",
   "metadata": {
    "execution": {
     "iopub.execute_input": "2022-02-11T19:17:22.991532Z",
     "iopub.status.busy": "2022-02-11T19:17:22.990854Z",
     "iopub.status.idle": "2022-02-11T19:17:23.002182Z",
     "shell.execute_reply": "2022-02-11T19:17:23.003195Z",
     "shell.execute_reply.started": "2022-02-11T18:56:41.944053Z"
    },
    "papermill": {
     "duration": 0.06453,
     "end_time": "2022-02-11T19:17:23.003484",
     "exception": false,
     "start_time": "2022-02-11T19:17:22.938954",
     "status": "completed"
    },
    "tags": []
   },
   "outputs": [],
   "source": [
    "df = df.join(pd.get_dummies(df['Type'],prefix='type',drop_first=True))\n",
    "df.drop('Type',axis=1,inplace=True)"
   ]
  },
  {
   "cell_type": "code",
   "execution_count": 16,
   "id": "8daeb0df",
   "metadata": {
    "execution": {
     "iopub.execute_input": "2022-02-11T19:17:23.099219Z",
     "iopub.status.busy": "2022-02-11T19:17:23.098457Z",
     "iopub.status.idle": "2022-02-11T19:17:23.122552Z",
     "shell.execute_reply": "2022-02-11T19:17:23.121888Z",
     "shell.execute_reply.started": "2022-02-11T18:56:42.468503Z"
    },
    "papermill": {
     "duration": 0.073577,
     "end_time": "2022-02-11T19:17:23.122709",
     "exception": false,
     "start_time": "2022-02-11T19:17:23.049132",
     "status": "completed"
    },
    "tags": []
   },
   "outputs": [
    {
     "data": {
      "text/html": [
       "<div>\n",
       "<style scoped>\n",
       "    .dataframe tbody tr th:only-of-type {\n",
       "        vertical-align: middle;\n",
       "    }\n",
       "\n",
       "    .dataframe tbody tr th {\n",
       "        vertical-align: top;\n",
       "    }\n",
       "\n",
       "    .dataframe thead th {\n",
       "        text-align: right;\n",
       "    }\n",
       "</style>\n",
       "<table border=\"1\" class=\"dataframe\">\n",
       "  <thead>\n",
       "    <tr style=\"text-align: right;\">\n",
       "      <th></th>\n",
       "      <th>Title</th>\n",
       "      <th>Genre</th>\n",
       "      <th>Synopsis</th>\n",
       "      <th>Rating</th>\n",
       "      <th>ScoredBy</th>\n",
       "      <th>Popularity</th>\n",
       "      <th>Members</th>\n",
       "      <th>Episodes</th>\n",
       "      <th>src_Book</th>\n",
       "      <th>src_Card game</th>\n",
       "      <th>...</th>\n",
       "      <th>src_Radio</th>\n",
       "      <th>src_Unknown</th>\n",
       "      <th>src_Visual novel</th>\n",
       "      <th>src_Web manga</th>\n",
       "      <th>type_Music</th>\n",
       "      <th>type_ONA</th>\n",
       "      <th>type_OVA</th>\n",
       "      <th>type_Special</th>\n",
       "      <th>type_TV</th>\n",
       "      <th>type_Unknown</th>\n",
       "    </tr>\n",
       "  </thead>\n",
       "  <tbody>\n",
       "    <tr>\n",
       "      <th>0</th>\n",
       "      <td>Cowboy Bebop</td>\n",
       "      <td>['Action', 'Adventure', 'Comedy', 'Drama', 'Sc...</td>\n",
       "      <td>In the year 2071, humanity has colonized sever...</td>\n",
       "      <td>8.81</td>\n",
       "      <td>363889.0</td>\n",
       "      <td>39.0</td>\n",
       "      <td>704490.0</td>\n",
       "      <td>26.0</td>\n",
       "      <td>0</td>\n",
       "      <td>0</td>\n",
       "      <td>...</td>\n",
       "      <td>0</td>\n",
       "      <td>0</td>\n",
       "      <td>0</td>\n",
       "      <td>0</td>\n",
       "      <td>0</td>\n",
       "      <td>0</td>\n",
       "      <td>0</td>\n",
       "      <td>0</td>\n",
       "      <td>1</td>\n",
       "      <td>0</td>\n",
       "    </tr>\n",
       "    <tr>\n",
       "      <th>1</th>\n",
       "      <td>Cowboy Bebop: Tengoku no Tobira</td>\n",
       "      <td>['Action', 'Space', 'Drama', 'Mystery', 'Sci-Fi']</td>\n",
       "      <td>Another day, another bounty—such is the life o...</td>\n",
       "      <td>8.41</td>\n",
       "      <td>111187.0</td>\n",
       "      <td>475.0</td>\n",
       "      <td>179899.0</td>\n",
       "      <td>1.0</td>\n",
       "      <td>0</td>\n",
       "      <td>0</td>\n",
       "      <td>...</td>\n",
       "      <td>0</td>\n",
       "      <td>0</td>\n",
       "      <td>0</td>\n",
       "      <td>0</td>\n",
       "      <td>0</td>\n",
       "      <td>0</td>\n",
       "      <td>0</td>\n",
       "      <td>0</td>\n",
       "      <td>0</td>\n",
       "      <td>0</td>\n",
       "    </tr>\n",
       "    <tr>\n",
       "      <th>2</th>\n",
       "      <td>Trigun</td>\n",
       "      <td>['Action', 'Sci-Fi', 'Adventure', 'Comedy', 'D...</td>\n",
       "      <td>Vash the Stampede is the man with a $$60,000,0...</td>\n",
       "      <td>8.31</td>\n",
       "      <td>197451.0</td>\n",
       "      <td>158.0</td>\n",
       "      <td>372709.0</td>\n",
       "      <td>26.0</td>\n",
       "      <td>0</td>\n",
       "      <td>0</td>\n",
       "      <td>...</td>\n",
       "      <td>0</td>\n",
       "      <td>0</td>\n",
       "      <td>0</td>\n",
       "      <td>0</td>\n",
       "      <td>0</td>\n",
       "      <td>0</td>\n",
       "      <td>0</td>\n",
       "      <td>0</td>\n",
       "      <td>1</td>\n",
       "      <td>0</td>\n",
       "    </tr>\n",
       "    <tr>\n",
       "      <th>3</th>\n",
       "      <td>Witch Hunter Robin</td>\n",
       "      <td>['Action', 'Magic', 'Police', 'Supernatural', ...</td>\n",
       "      <td>Witches are individuals with special powers li...</td>\n",
       "      <td>7.34</td>\n",
       "      <td>31875.0</td>\n",
       "      <td>1278.0</td>\n",
       "      <td>74889.0</td>\n",
       "      <td>26.0</td>\n",
       "      <td>0</td>\n",
       "      <td>0</td>\n",
       "      <td>...</td>\n",
       "      <td>0</td>\n",
       "      <td>0</td>\n",
       "      <td>0</td>\n",
       "      <td>0</td>\n",
       "      <td>0</td>\n",
       "      <td>0</td>\n",
       "      <td>0</td>\n",
       "      <td>0</td>\n",
       "      <td>1</td>\n",
       "      <td>0</td>\n",
       "    </tr>\n",
       "    <tr>\n",
       "      <th>4</th>\n",
       "      <td>Bouken Ou Beet</td>\n",
       "      <td>['Adventure', 'Fantasy', 'Shounen', 'Supernatu...</td>\n",
       "      <td>It is the dark century and the people are suff...</td>\n",
       "      <td>7.04</td>\n",
       "      <td>4757.0</td>\n",
       "      <td>3968.0</td>\n",
       "      <td>11247.0</td>\n",
       "      <td>52.0</td>\n",
       "      <td>0</td>\n",
       "      <td>0</td>\n",
       "      <td>...</td>\n",
       "      <td>0</td>\n",
       "      <td>0</td>\n",
       "      <td>0</td>\n",
       "      <td>0</td>\n",
       "      <td>0</td>\n",
       "      <td>0</td>\n",
       "      <td>0</td>\n",
       "      <td>0</td>\n",
       "      <td>1</td>\n",
       "      <td>0</td>\n",
       "    </tr>\n",
       "  </tbody>\n",
       "</table>\n",
       "<p>5 rows × 29 columns</p>\n",
       "</div>"
      ],
      "text/plain": [
       "                             Title  \\\n",
       "0                     Cowboy Bebop   \n",
       "1  Cowboy Bebop: Tengoku no Tobira   \n",
       "2                           Trigun   \n",
       "3               Witch Hunter Robin   \n",
       "4                   Bouken Ou Beet   \n",
       "\n",
       "                                               Genre  \\\n",
       "0  ['Action', 'Adventure', 'Comedy', 'Drama', 'Sc...   \n",
       "1  ['Action', 'Space', 'Drama', 'Mystery', 'Sci-Fi']   \n",
       "2  ['Action', 'Sci-Fi', 'Adventure', 'Comedy', 'D...   \n",
       "3  ['Action', 'Magic', 'Police', 'Supernatural', ...   \n",
       "4  ['Adventure', 'Fantasy', 'Shounen', 'Supernatu...   \n",
       "\n",
       "                                            Synopsis  Rating  ScoredBy  \\\n",
       "0  In the year 2071, humanity has colonized sever...    8.81  363889.0   \n",
       "1  Another day, another bounty—such is the life o...    8.41  111187.0   \n",
       "2  Vash the Stampede is the man with a $$60,000,0...    8.31  197451.0   \n",
       "3  Witches are individuals with special powers li...    7.34   31875.0   \n",
       "4  It is the dark century and the people are suff...    7.04    4757.0   \n",
       "\n",
       "   Popularity   Members  Episodes  src_Book  src_Card game  ...  src_Radio  \\\n",
       "0        39.0  704490.0      26.0         0              0  ...          0   \n",
       "1       475.0  179899.0       1.0         0              0  ...          0   \n",
       "2       158.0  372709.0      26.0         0              0  ...          0   \n",
       "3      1278.0   74889.0      26.0         0              0  ...          0   \n",
       "4      3968.0   11247.0      52.0         0              0  ...          0   \n",
       "\n",
       "   src_Unknown  src_Visual novel  src_Web manga  type_Music  type_ONA  \\\n",
       "0            0                 0              0           0         0   \n",
       "1            0                 0              0           0         0   \n",
       "2            0                 0              0           0         0   \n",
       "3            0                 0              0           0         0   \n",
       "4            0                 0              0           0         0   \n",
       "\n",
       "   type_OVA  type_Special  type_TV  type_Unknown  \n",
       "0         0             0        1             0  \n",
       "1         0             0        0             0  \n",
       "2         0             0        1             0  \n",
       "3         0             0        1             0  \n",
       "4         0             0        1             0  \n",
       "\n",
       "[5 rows x 29 columns]"
      ]
     },
     "execution_count": 16,
     "metadata": {},
     "output_type": "execute_result"
    }
   ],
   "source": [
    "df.head()"
   ]
  },
  {
   "cell_type": "code",
   "execution_count": 17,
   "id": "5e4c4d69",
   "metadata": {
    "execution": {
     "iopub.execute_input": "2022-02-11T19:17:23.220086Z",
     "iopub.status.busy": "2022-02-11T19:17:23.219347Z",
     "iopub.status.idle": "2022-02-11T19:17:23.223387Z",
     "shell.execute_reply": "2022-02-11T19:17:23.223996Z",
     "shell.execute_reply.started": "2022-02-11T18:56:44.242903Z"
    },
    "papermill": {
     "duration": 0.055995,
     "end_time": "2022-02-11T19:17:23.224169",
     "exception": false,
     "start_time": "2022-02-11T19:17:23.168174",
     "status": "completed"
    },
    "tags": []
   },
   "outputs": [
    {
     "data": {
      "text/plain": [
       "0        ['Action', 'Adventure', 'Comedy', 'Drama', 'Sc...\n",
       "1        ['Action', 'Space', 'Drama', 'Mystery', 'Sci-Fi']\n",
       "2        ['Action', 'Sci-Fi', 'Adventure', 'Comedy', 'D...\n",
       "3        ['Action', 'Magic', 'Police', 'Supernatural', ...\n",
       "4        ['Adventure', 'Fantasy', 'Shounen', 'Supernatu...\n",
       "                               ...                        \n",
       "16997                                                  NaN\n",
       "16998                                                  NaN\n",
       "16999                                                  NaN\n",
       "17000                                                  NaN\n",
       "17001                                                  NaN\n",
       "Name: Genre, Length: 16737, dtype: object"
      ]
     },
     "execution_count": 17,
     "metadata": {},
     "output_type": "execute_result"
    }
   ],
   "source": [
    "df['Genre']"
   ]
  },
  {
   "cell_type": "code",
   "execution_count": 18,
   "id": "abaf5f8d",
   "metadata": {
    "execution": {
     "iopub.execute_input": "2022-02-11T19:17:23.321005Z",
     "iopub.status.busy": "2022-02-11T19:17:23.320278Z",
     "iopub.status.idle": "2022-02-11T19:17:23.340952Z",
     "shell.execute_reply": "2022-02-11T19:17:23.341453Z",
     "shell.execute_reply.started": "2022-02-11T18:56:45.488632Z"
    },
    "papermill": {
     "duration": 0.070999,
     "end_time": "2022-02-11T19:17:23.341643",
     "exception": false,
     "start_time": "2022-02-11T19:17:23.270644",
     "status": "completed"
    },
    "tags": []
   },
   "outputs": [
    {
     "data": {
      "text/plain": [
       "0.27233076417518076"
      ]
     },
     "execution_count": 18,
     "metadata": {},
     "output_type": "execute_result"
    }
   ],
   "source": [
    "(df.shape[0] - df.dropna().shape[0]) / df.shape[0]"
   ]
  },
  {
   "cell_type": "code",
   "execution_count": 19,
   "id": "b1851207",
   "metadata": {
    "execution": {
     "iopub.execute_input": "2022-02-11T19:17:23.438488Z",
     "iopub.status.busy": "2022-02-11T19:17:23.437711Z",
     "iopub.status.idle": "2022-02-11T19:17:23.453870Z",
     "shell.execute_reply": "2022-02-11T19:17:23.454394Z",
     "shell.execute_reply.started": "2022-02-11T18:56:45.771641Z"
    },
    "papermill": {
     "duration": 0.066139,
     "end_time": "2022-02-11T19:17:23.454609",
     "exception": false,
     "start_time": "2022-02-11T19:17:23.388470",
     "status": "completed"
    },
    "tags": []
   },
   "outputs": [],
   "source": [
    "df.dropna(inplace=True)"
   ]
  },
  {
   "cell_type": "code",
   "execution_count": 20,
   "id": "548e35cc",
   "metadata": {
    "execution": {
     "iopub.execute_input": "2022-02-11T19:17:23.550990Z",
     "iopub.status.busy": "2022-02-11T19:17:23.550198Z",
     "iopub.status.idle": "2022-02-11T19:17:23.557333Z",
     "shell.execute_reply": "2022-02-11T19:17:23.556780Z",
     "shell.execute_reply.started": "2022-02-11T18:56:47.199778Z"
    },
    "papermill": {
     "duration": 0.056492,
     "end_time": "2022-02-11T19:17:23.557482",
     "exception": false,
     "start_time": "2022-02-11T19:17:23.500990",
     "status": "completed"
    },
    "tags": []
   },
   "outputs": [
    {
     "data": {
      "text/plain": [
       "Title                 object\n",
       "Genre                 object\n",
       "Synopsis              object\n",
       "Rating               float64\n",
       "ScoredBy             float64\n",
       "Popularity           float64\n",
       "Members              float64\n",
       "Episodes             float64\n",
       "src_Book               uint8\n",
       "src_Card game          uint8\n",
       "src_Digital manga      uint8\n",
       "src_Game               uint8\n",
       "src_Light novel        uint8\n",
       "src_Manga              uint8\n",
       "src_Music              uint8\n",
       "src_Novel              uint8\n",
       "src_Original           uint8\n",
       "src_Other              uint8\n",
       "src_Picture book       uint8\n",
       "src_Radio              uint8\n",
       "src_Unknown            uint8\n",
       "src_Visual novel       uint8\n",
       "src_Web manga          uint8\n",
       "type_Music             uint8\n",
       "type_ONA               uint8\n",
       "type_OVA               uint8\n",
       "type_Special           uint8\n",
       "type_TV                uint8\n",
       "type_Unknown           uint8\n",
       "dtype: object"
      ]
     },
     "execution_count": 20,
     "metadata": {},
     "output_type": "execute_result"
    }
   ],
   "source": [
    "df.dtypes"
   ]
  },
  {
   "cell_type": "code",
   "execution_count": 21,
   "id": "62cdecc9",
   "metadata": {
    "execution": {
     "iopub.execute_input": "2022-02-11T19:17:23.654070Z",
     "iopub.status.busy": "2022-02-11T19:17:23.653393Z",
     "iopub.status.idle": "2022-02-11T19:17:23.658667Z",
     "shell.execute_reply": "2022-02-11T19:17:23.657979Z",
     "shell.execute_reply.started": "2022-02-11T18:56:49.444254Z"
    },
    "papermill": {
     "duration": 0.054543,
     "end_time": "2022-02-11T19:17:23.658835",
     "exception": false,
     "start_time": "2022-02-11T19:17:23.604292",
     "status": "completed"
    },
    "tags": []
   },
   "outputs": [],
   "source": [
    "import ast\n",
    "\n",
    "def parse_list(x):\n",
    "    x = ast.literal_eval(x)\n",
    "    x = [n.strip() for n in x]\n",
    "    return(x)"
   ]
  },
  {
   "cell_type": "code",
   "execution_count": 22,
   "id": "317a01bc",
   "metadata": {
    "execution": {
     "iopub.execute_input": "2022-02-11T19:17:23.772456Z",
     "iopub.status.busy": "2022-02-11T19:17:23.767220Z",
     "iopub.status.idle": "2022-02-11T19:17:24.026814Z",
     "shell.execute_reply": "2022-02-11T19:17:24.026195Z",
     "shell.execute_reply.started": "2022-02-11T18:56:49.841637Z"
    },
    "papermill": {
     "duration": 0.321671,
     "end_time": "2022-02-11T19:17:24.026991",
     "exception": false,
     "start_time": "2022-02-11T19:17:23.705320",
     "status": "completed"
    },
    "tags": []
   },
   "outputs": [],
   "source": [
    "df['Genre'] = df['Genre'].apply(parse_list)"
   ]
  },
  {
   "cell_type": "code",
   "execution_count": 23,
   "id": "fe8ed444",
   "metadata": {
    "execution": {
     "iopub.execute_input": "2022-02-11T19:17:24.134149Z",
     "iopub.status.busy": "2022-02-11T19:17:24.131764Z",
     "iopub.status.idle": "2022-02-11T19:17:24.216865Z",
     "shell.execute_reply": "2022-02-11T19:17:24.217528Z",
     "shell.execute_reply.started": "2022-02-11T18:56:50.303205Z"
    },
    "papermill": {
     "duration": 0.143908,
     "end_time": "2022-02-11T19:17:24.217728",
     "exception": false,
     "start_time": "2022-02-11T19:17:24.073820",
     "status": "completed"
    },
    "tags": []
   },
   "outputs": [
    {
     "name": "stderr",
     "output_type": "stream",
     "text": [
      "/opt/conda/lib/python3.7/site-packages/ipykernel_launcher.py:1: FutureWarning: Using the level keyword in DataFrame and Series aggregations is deprecated and will be removed in a future version. Use groupby instead. df.sum(level=1) should use df.groupby(level=1).sum().\n",
      "  \"\"\"Entry point for launching an IPython kernel.\n"
     ]
    }
   ],
   "source": [
    "df = df.join(pd.get_dummies(df['Genre'].explode(),prefix='genre',drop_first=True).sum(level=0))\n",
    "df.drop('Genre',axis=1,inplace=True)"
   ]
  },
  {
   "cell_type": "code",
   "execution_count": 24,
   "id": "fc6a54c2",
   "metadata": {
    "execution": {
     "iopub.execute_input": "2022-02-11T19:17:24.328779Z",
     "iopub.status.busy": "2022-02-11T19:17:24.327767Z",
     "iopub.status.idle": "2022-02-11T19:17:24.341075Z",
     "shell.execute_reply": "2022-02-11T19:17:24.341565Z",
     "shell.execute_reply.started": "2022-02-11T18:56:52.765551Z"
    },
    "papermill": {
     "duration": 0.07657,
     "end_time": "2022-02-11T19:17:24.341752",
     "exception": false,
     "start_time": "2022-02-11T19:17:24.265182",
     "status": "completed"
    },
    "tags": []
   },
   "outputs": [
    {
     "data": {
      "text/html": [
       "<div>\n",
       "<style scoped>\n",
       "    .dataframe tbody tr th:only-of-type {\n",
       "        vertical-align: middle;\n",
       "    }\n",
       "\n",
       "    .dataframe tbody tr th {\n",
       "        vertical-align: top;\n",
       "    }\n",
       "\n",
       "    .dataframe thead th {\n",
       "        text-align: right;\n",
       "    }\n",
       "</style>\n",
       "<table border=\"1\" class=\"dataframe\">\n",
       "  <thead>\n",
       "    <tr style=\"text-align: right;\">\n",
       "      <th></th>\n",
       "      <th>Title</th>\n",
       "      <th>Synopsis</th>\n",
       "      <th>Rating</th>\n",
       "      <th>ScoredBy</th>\n",
       "      <th>Popularity</th>\n",
       "      <th>Members</th>\n",
       "      <th>Episodes</th>\n",
       "      <th>src_Book</th>\n",
       "      <th>src_Card game</th>\n",
       "      <th>src_Digital manga</th>\n",
       "      <th>...</th>\n",
       "      <th>genre_Shounen Ai</th>\n",
       "      <th>genre_Slice of Life</th>\n",
       "      <th>genre_Space</th>\n",
       "      <th>genre_Sports</th>\n",
       "      <th>genre_Super Power</th>\n",
       "      <th>genre_Supernatural</th>\n",
       "      <th>genre_Thriller</th>\n",
       "      <th>genre_Vampire</th>\n",
       "      <th>genre_Yaoi</th>\n",
       "      <th>genre_Yuri</th>\n",
       "    </tr>\n",
       "  </thead>\n",
       "  <tbody>\n",
       "    <tr>\n",
       "      <th>0</th>\n",
       "      <td>Cowboy Bebop</td>\n",
       "      <td>In the year 2071, humanity has colonized sever...</td>\n",
       "      <td>8.81</td>\n",
       "      <td>363889.0</td>\n",
       "      <td>39.0</td>\n",
       "      <td>704490.0</td>\n",
       "      <td>26.0</td>\n",
       "      <td>0</td>\n",
       "      <td>0</td>\n",
       "      <td>0</td>\n",
       "      <td>...</td>\n",
       "      <td>0</td>\n",
       "      <td>0</td>\n",
       "      <td>1</td>\n",
       "      <td>0</td>\n",
       "      <td>0</td>\n",
       "      <td>0</td>\n",
       "      <td>0</td>\n",
       "      <td>0</td>\n",
       "      <td>0</td>\n",
       "      <td>0</td>\n",
       "    </tr>\n",
       "    <tr>\n",
       "      <th>1</th>\n",
       "      <td>Cowboy Bebop: Tengoku no Tobira</td>\n",
       "      <td>Another day, another bounty—such is the life o...</td>\n",
       "      <td>8.41</td>\n",
       "      <td>111187.0</td>\n",
       "      <td>475.0</td>\n",
       "      <td>179899.0</td>\n",
       "      <td>1.0</td>\n",
       "      <td>0</td>\n",
       "      <td>0</td>\n",
       "      <td>0</td>\n",
       "      <td>...</td>\n",
       "      <td>0</td>\n",
       "      <td>0</td>\n",
       "      <td>1</td>\n",
       "      <td>0</td>\n",
       "      <td>0</td>\n",
       "      <td>0</td>\n",
       "      <td>0</td>\n",
       "      <td>0</td>\n",
       "      <td>0</td>\n",
       "      <td>0</td>\n",
       "    </tr>\n",
       "    <tr>\n",
       "      <th>2</th>\n",
       "      <td>Trigun</td>\n",
       "      <td>Vash the Stampede is the man with a $$60,000,0...</td>\n",
       "      <td>8.31</td>\n",
       "      <td>197451.0</td>\n",
       "      <td>158.0</td>\n",
       "      <td>372709.0</td>\n",
       "      <td>26.0</td>\n",
       "      <td>0</td>\n",
       "      <td>0</td>\n",
       "      <td>0</td>\n",
       "      <td>...</td>\n",
       "      <td>0</td>\n",
       "      <td>0</td>\n",
       "      <td>0</td>\n",
       "      <td>0</td>\n",
       "      <td>0</td>\n",
       "      <td>0</td>\n",
       "      <td>0</td>\n",
       "      <td>0</td>\n",
       "      <td>0</td>\n",
       "      <td>0</td>\n",
       "    </tr>\n",
       "    <tr>\n",
       "      <th>3</th>\n",
       "      <td>Witch Hunter Robin</td>\n",
       "      <td>Witches are individuals with special powers li...</td>\n",
       "      <td>7.34</td>\n",
       "      <td>31875.0</td>\n",
       "      <td>1278.0</td>\n",
       "      <td>74889.0</td>\n",
       "      <td>26.0</td>\n",
       "      <td>0</td>\n",
       "      <td>0</td>\n",
       "      <td>0</td>\n",
       "      <td>...</td>\n",
       "      <td>0</td>\n",
       "      <td>0</td>\n",
       "      <td>0</td>\n",
       "      <td>0</td>\n",
       "      <td>0</td>\n",
       "      <td>1</td>\n",
       "      <td>0</td>\n",
       "      <td>0</td>\n",
       "      <td>0</td>\n",
       "      <td>0</td>\n",
       "    </tr>\n",
       "    <tr>\n",
       "      <th>4</th>\n",
       "      <td>Bouken Ou Beet</td>\n",
       "      <td>It is the dark century and the people are suff...</td>\n",
       "      <td>7.04</td>\n",
       "      <td>4757.0</td>\n",
       "      <td>3968.0</td>\n",
       "      <td>11247.0</td>\n",
       "      <td>52.0</td>\n",
       "      <td>0</td>\n",
       "      <td>0</td>\n",
       "      <td>0</td>\n",
       "      <td>...</td>\n",
       "      <td>0</td>\n",
       "      <td>0</td>\n",
       "      <td>0</td>\n",
       "      <td>0</td>\n",
       "      <td>0</td>\n",
       "      <td>1</td>\n",
       "      <td>0</td>\n",
       "      <td>0</td>\n",
       "      <td>0</td>\n",
       "      <td>0</td>\n",
       "    </tr>\n",
       "  </tbody>\n",
       "</table>\n",
       "<p>5 rows × 70 columns</p>\n",
       "</div>"
      ],
      "text/plain": [
       "                             Title  \\\n",
       "0                     Cowboy Bebop   \n",
       "1  Cowboy Bebop: Tengoku no Tobira   \n",
       "2                           Trigun   \n",
       "3               Witch Hunter Robin   \n",
       "4                   Bouken Ou Beet   \n",
       "\n",
       "                                            Synopsis  Rating  ScoredBy  \\\n",
       "0  In the year 2071, humanity has colonized sever...    8.81  363889.0   \n",
       "1  Another day, another bounty—such is the life o...    8.41  111187.0   \n",
       "2  Vash the Stampede is the man with a $$60,000,0...    8.31  197451.0   \n",
       "3  Witches are individuals with special powers li...    7.34   31875.0   \n",
       "4  It is the dark century and the people are suff...    7.04    4757.0   \n",
       "\n",
       "   Popularity   Members  Episodes  src_Book  src_Card game  src_Digital manga  \\\n",
       "0        39.0  704490.0      26.0         0              0                  0   \n",
       "1       475.0  179899.0       1.0         0              0                  0   \n",
       "2       158.0  372709.0      26.0         0              0                  0   \n",
       "3      1278.0   74889.0      26.0         0              0                  0   \n",
       "4      3968.0   11247.0      52.0         0              0                  0   \n",
       "\n",
       "   ...  genre_Shounen Ai  genre_Slice of Life  genre_Space  genre_Sports  \\\n",
       "0  ...                 0                    0            1             0   \n",
       "1  ...                 0                    0            1             0   \n",
       "2  ...                 0                    0            0             0   \n",
       "3  ...                 0                    0            0             0   \n",
       "4  ...                 0                    0            0             0   \n",
       "\n",
       "   genre_Super Power  genre_Supernatural  genre_Thriller  genre_Vampire  \\\n",
       "0                  0                   0               0              0   \n",
       "1                  0                   0               0              0   \n",
       "2                  0                   0               0              0   \n",
       "3                  0                   1               0              0   \n",
       "4                  0                   1               0              0   \n",
       "\n",
       "   genre_Yaoi  genre_Yuri  \n",
       "0           0           0  \n",
       "1           0           0  \n",
       "2           0           0  \n",
       "3           0           0  \n",
       "4           0           0  \n",
       "\n",
       "[5 rows x 70 columns]"
      ]
     },
     "execution_count": 24,
     "metadata": {},
     "output_type": "execute_result"
    }
   ],
   "source": [
    "df.head()"
   ]
  },
  {
   "cell_type": "markdown",
   "id": "e5868d8b",
   "metadata": {
    "papermill": {
     "duration": 0.048903,
     "end_time": "2022-02-11T19:17:24.438333",
     "exception": false,
     "start_time": "2022-02-11T19:17:24.389430",
     "status": "completed"
    },
    "tags": []
   },
   "source": []
  },
  {
   "cell_type": "code",
   "execution_count": 25,
   "id": "b85cb4c2",
   "metadata": {
    "execution": {
     "iopub.execute_input": "2022-02-11T19:17:24.539625Z",
     "iopub.status.busy": "2022-02-11T19:17:24.538457Z",
     "iopub.status.idle": "2022-02-11T19:17:24.545262Z",
     "shell.execute_reply": "2022-02-11T19:17:24.545767Z",
     "shell.execute_reply.started": "2022-02-11T18:59:05.378265Z"
    },
    "papermill": {
     "duration": 0.058642,
     "end_time": "2022-02-11T19:17:24.545971",
     "exception": false,
     "start_time": "2022-02-11T19:17:24.487329",
     "status": "completed"
    },
    "tags": []
   },
   "outputs": [],
   "source": [
    "X = df.drop(['Title','Rating'],axis=1)\n",
    "y = df['Rating']"
   ]
  },
  {
   "cell_type": "code",
   "execution_count": 26,
   "id": "7e22682e",
   "metadata": {
    "execution": {
     "iopub.execute_input": "2022-02-11T19:17:24.646932Z",
     "iopub.status.busy": "2022-02-11T19:17:24.645878Z",
     "iopub.status.idle": "2022-02-11T19:17:25.685131Z",
     "shell.execute_reply": "2022-02-11T19:17:25.685635Z",
     "shell.execute_reply.started": "2022-02-11T19:00:19.205458Z"
    },
    "papermill": {
     "duration": 1.091968,
     "end_time": "2022-02-11T19:17:25.685854",
     "exception": false,
     "start_time": "2022-02-11T19:17:24.593886",
     "status": "completed"
    },
    "tags": []
   },
   "outputs": [],
   "source": [
    "from sklearn.model_selection import train_test_split\n",
    "\n",
    "X_train,X_test,y_train,y_test = train_test_split(X,y,test_size=.25,random_state=123)"
   ]
  },
  {
   "cell_type": "markdown",
   "id": "ea0d148e",
   "metadata": {
    "papermill": {
     "duration": 0.047497,
     "end_time": "2022-02-11T19:17:25.781041",
     "exception": false,
     "start_time": "2022-02-11T19:17:25.733544",
     "status": "completed"
    },
    "tags": []
   },
   "source": [
    "# PART 2 - predict rating from non-word features"
   ]
  },
  {
   "cell_type": "code",
   "execution_count": 27,
   "id": "a61e30e6",
   "metadata": {
    "execution": {
     "iopub.execute_input": "2022-02-11T19:17:25.884971Z",
     "iopub.status.busy": "2022-02-11T19:17:25.883544Z",
     "iopub.status.idle": "2022-02-11T19:17:25.888579Z",
     "shell.execute_reply": "2022-02-11T19:17:25.888023Z",
     "shell.execute_reply.started": "2022-02-11T19:01:38.246046Z"
    },
    "papermill": {
     "duration": 0.060086,
     "end_time": "2022-02-11T19:17:25.888772",
     "exception": false,
     "start_time": "2022-02-11T19:17:25.828686",
     "status": "completed"
    },
    "tags": []
   },
   "outputs": [],
   "source": [
    "X1_train = X_train.drop('Synopsis',axis=1)\n",
    "X1_test = X_test.drop('Synopsis',axis=1)"
   ]
  },
  {
   "cell_type": "code",
   "execution_count": 28,
   "id": "cbcd7188",
   "metadata": {
    "execution": {
     "iopub.execute_input": "2022-02-11T19:17:25.994160Z",
     "iopub.status.busy": "2022-02-11T19:17:25.993390Z",
     "iopub.status.idle": "2022-02-11T19:17:25.996132Z",
     "shell.execute_reply": "2022-02-11T19:17:25.996630Z",
     "shell.execute_reply.started": "2022-02-11T19:07:43.162503Z"
    },
    "papermill": {
     "duration": 0.060017,
     "end_time": "2022-02-11T19:17:25.996826",
     "exception": false,
     "start_time": "2022-02-11T19:17:25.936809",
     "status": "completed"
    },
    "tags": []
   },
   "outputs": [
    {
     "data": {
      "text/plain": [
       "ScoredBy              float64\n",
       "Popularity            float64\n",
       "Members               float64\n",
       "Episodes              float64\n",
       "src_Book                uint8\n",
       "                       ...   \n",
       "genre_Supernatural      uint8\n",
       "genre_Thriller          uint8\n",
       "genre_Vampire           uint8\n",
       "genre_Yaoi              uint8\n",
       "genre_Yuri              uint8\n",
       "Length: 67, dtype: object"
      ]
     },
     "execution_count": 28,
     "metadata": {},
     "output_type": "execute_result"
    }
   ],
   "source": [
    "X1_train.dtypes"
   ]
  },
  {
   "cell_type": "code",
   "execution_count": 29,
   "id": "d3064879",
   "metadata": {
    "execution": {
     "iopub.execute_input": "2022-02-11T19:17:26.099466Z",
     "iopub.status.busy": "2022-02-11T19:17:26.098618Z",
     "iopub.status.idle": "2022-02-11T19:17:26.194609Z",
     "shell.execute_reply": "2022-02-11T19:17:26.193965Z",
     "shell.execute_reply.started": "2022-02-11T19:10:11.391036Z"
    },
    "papermill": {
     "duration": 0.149477,
     "end_time": "2022-02-11T19:17:26.194799",
     "exception": false,
     "start_time": "2022-02-11T19:17:26.045322",
     "status": "completed"
    },
    "tags": []
   },
   "outputs": [],
   "source": [
    "import xgboost as xgb\n",
    "\n",
    "boost = xgb.XGBRegressor(n_estimators=10,seed=123)"
   ]
  },
  {
   "cell_type": "code",
   "execution_count": 30,
   "id": "4d8bd9e9",
   "metadata": {
    "execution": {
     "iopub.execute_input": "2022-02-11T19:17:26.296302Z",
     "iopub.status.busy": "2022-02-11T19:17:26.295638Z",
     "iopub.status.idle": "2022-02-11T19:17:26.545127Z",
     "shell.execute_reply": "2022-02-11T19:17:26.545717Z",
     "shell.execute_reply.started": "2022-02-11T19:10:26.652437Z"
    },
    "papermill": {
     "duration": 0.30247,
     "end_time": "2022-02-11T19:17:26.545949",
     "exception": false,
     "start_time": "2022-02-11T19:17:26.243479",
     "status": "completed"
    },
    "tags": []
   },
   "outputs": [],
   "source": [
    "boost.fit(X1_train,y_train)\n",
    "\n",
    "preds = boost.predict(X1_test)"
   ]
  },
  {
   "cell_type": "code",
   "execution_count": 31,
   "id": "b5c61734",
   "metadata": {
    "execution": {
     "iopub.execute_input": "2022-02-11T19:17:26.649283Z",
     "iopub.status.busy": "2022-02-11T19:17:26.648593Z",
     "iopub.status.idle": "2022-02-11T19:17:26.652617Z",
     "shell.execute_reply": "2022-02-11T19:17:26.653291Z",
     "shell.execute_reply.started": "2022-02-11T19:13:53.798859Z"
    },
    "papermill": {
     "duration": 0.05753,
     "end_time": "2022-02-11T19:17:26.653468",
     "exception": false,
     "start_time": "2022-02-11T19:17:26.595938",
     "status": "completed"
    },
    "tags": []
   },
   "outputs": [
    {
     "name": "stdout",
     "output_type": "stream",
     "text": [
      "RMSE: 0.6836235997139871\n"
     ]
    }
   ],
   "source": [
    "from sklearn.metrics import mean_squared_error\n",
    "\n",
    "print('RMSE: {}'.format(mean_squared_error(y_test,preds)**(1/2)))"
   ]
  },
  {
   "cell_type": "code",
   "execution_count": null,
   "id": "f6130533",
   "metadata": {
    "papermill": {
     "duration": 0.048021,
     "end_time": "2022-02-11T19:17:26.749536",
     "exception": false,
     "start_time": "2022-02-11T19:17:26.701515",
     "status": "completed"
    },
    "tags": []
   },
   "outputs": [],
   "source": []
  },
  {
   "cell_type": "code",
   "execution_count": null,
   "id": "0dd46505",
   "metadata": {
    "papermill": {
     "duration": 0.049242,
     "end_time": "2022-02-11T19:17:26.847780",
     "exception": false,
     "start_time": "2022-02-11T19:17:26.798538",
     "status": "completed"
    },
    "tags": []
   },
   "outputs": [],
   "source": []
  },
  {
   "cell_type": "code",
   "execution_count": null,
   "id": "8d8d3508",
   "metadata": {
    "papermill": {
     "duration": 0.050187,
     "end_time": "2022-02-11T19:17:26.946346",
     "exception": false,
     "start_time": "2022-02-11T19:17:26.896159",
     "status": "completed"
    },
    "tags": []
   },
   "outputs": [],
   "source": []
  },
  {
   "cell_type": "code",
   "execution_count": null,
   "id": "c23df8b0",
   "metadata": {
    "papermill": {
     "duration": 0.050757,
     "end_time": "2022-02-11T19:17:27.046897",
     "exception": false,
     "start_time": "2022-02-11T19:17:26.996140",
     "status": "completed"
    },
    "tags": []
   },
   "outputs": [],
   "source": []
  },
  {
   "cell_type": "code",
   "execution_count": null,
   "id": "1e04eabe",
   "metadata": {
    "papermill": {
     "duration": 0.047526,
     "end_time": "2022-02-11T19:17:27.142293",
     "exception": false,
     "start_time": "2022-02-11T19:17:27.094767",
     "status": "completed"
    },
    "tags": []
   },
   "outputs": [],
   "source": []
  },
  {
   "cell_type": "code",
   "execution_count": null,
   "id": "2bf97b2c",
   "metadata": {
    "papermill": {
     "duration": 0.048513,
     "end_time": "2022-02-11T19:17:27.240654",
     "exception": false,
     "start_time": "2022-02-11T19:17:27.192141",
     "status": "completed"
    },
    "tags": []
   },
   "outputs": [],
   "source": []
  },
  {
   "cell_type": "markdown",
   "id": "f2603af3",
   "metadata": {
    "papermill": {
     "duration": 0.04798,
     "end_time": "2022-02-11T19:17:27.337276",
     "exception": false,
     "start_time": "2022-02-11T19:17:27.289296",
     "status": "completed"
    },
    "tags": []
   },
   "source": [
    "# PART 3 - predict rating from tfidf_vect"
   ]
  },
  {
   "cell_type": "code",
   "execution_count": 32,
   "id": "d76883b9",
   "metadata": {
    "execution": {
     "iopub.execute_input": "2022-02-11T19:17:27.439186Z",
     "iopub.status.busy": "2022-02-11T19:17:27.438449Z",
     "iopub.status.idle": "2022-02-11T19:17:27.442867Z",
     "shell.execute_reply": "2022-02-11T19:17:27.443450Z",
     "shell.execute_reply.started": "2022-02-11T18:51:35.292827Z"
    },
    "papermill": {
     "duration": 0.056969,
     "end_time": "2022-02-11T19:17:27.443641",
     "exception": false,
     "start_time": "2022-02-11T19:17:27.386672",
     "status": "completed"
    },
    "tags": []
   },
   "outputs": [],
   "source": [
    "import re\n",
    "\n",
    "def clean_text(x):\n",
    "    expr = '[^a-zA-Z]'\n",
    "    x = re.sub(expr,' ',x)\n",
    "    return(x)"
   ]
  },
  {
   "cell_type": "code",
   "execution_count": 33,
   "id": "2ea87e6a",
   "metadata": {
    "execution": {
     "iopub.execute_input": "2022-02-11T19:17:27.545151Z",
     "iopub.status.busy": "2022-02-11T19:17:27.544339Z",
     "iopub.status.idle": "2022-02-11T19:17:28.048966Z",
     "shell.execute_reply": "2022-02-11T19:17:28.049533Z",
     "shell.execute_reply.started": "2022-02-11T18:51:35.300783Z"
    },
    "papermill": {
     "duration": 0.557602,
     "end_time": "2022-02-11T19:17:28.049733",
     "exception": false,
     "start_time": "2022-02-11T19:17:27.492131",
     "status": "completed"
    },
    "tags": []
   },
   "outputs": [],
   "source": [
    "df['Synopsis'] = df['Synopsis'].apply(clean_text)"
   ]
  },
  {
   "cell_type": "code",
   "execution_count": 34,
   "id": "3bd97179",
   "metadata": {
    "execution": {
     "iopub.execute_input": "2022-02-11T19:17:28.153529Z",
     "iopub.status.busy": "2022-02-11T19:17:28.152752Z",
     "iopub.status.idle": "2022-02-11T19:17:28.159425Z",
     "shell.execute_reply": "2022-02-11T19:17:28.160096Z",
     "shell.execute_reply.started": "2022-02-11T18:51:35.834578Z"
    },
    "papermill": {
     "duration": 0.061254,
     "end_time": "2022-02-11T19:17:28.160285",
     "exception": false,
     "start_time": "2022-02-11T19:17:28.099031",
     "status": "completed"
    },
    "tags": []
   },
   "outputs": [
    {
     "data": {
      "text/plain": [
       "0        In the year       humanity has colonized sever...\n",
       "1        Another day  another bounty such is the life o...\n",
       "2        Vash the Stampede is the man with a           ...\n",
       "3        Witches are individuals with special powers li...\n",
       "4        It is the dark century and the people are suff...\n",
       "                               ...                        \n",
       "15012    Relay PV with original animation that was not ...\n",
       "15013    Short anime celebrating the    th anniversary ...\n",
       "15015    Music video directed by Kouhei Yoshino for the...\n",
       "15016    Music video directed by Kouhei Yoshino for the...\n",
       "15031    Space Shower TV Station ID directed by Densuke...\n",
       "Name: Synopsis, Length: 12179, dtype: object"
      ]
     },
     "execution_count": 34,
     "metadata": {},
     "output_type": "execute_result"
    }
   ],
   "source": [
    "df['Synopsis']"
   ]
  },
  {
   "cell_type": "code",
   "execution_count": 35,
   "id": "0079c24b",
   "metadata": {
    "execution": {
     "iopub.execute_input": "2022-02-11T19:17:28.262235Z",
     "iopub.status.busy": "2022-02-11T19:17:28.261254Z",
     "iopub.status.idle": "2022-02-11T19:17:29.198666Z",
     "shell.execute_reply": "2022-02-11T19:17:29.197991Z",
     "shell.execute_reply.started": "2022-02-11T18:51:35.847831Z"
    },
    "papermill": {
     "duration": 0.989407,
     "end_time": "2022-02-11T19:17:29.198850",
     "exception": false,
     "start_time": "2022-02-11T19:17:28.209443",
     "status": "completed"
    },
    "tags": []
   },
   "outputs": [],
   "source": [
    "from sklearn.feature_extraction.text import TfidfVectorizer\n",
    "\n",
    "vect = TfidfVectorizer(min_df=2,max_df=10,stop_words='english')\n",
    "\n",
    "tfidf_matrix = vect.fit_transform(df['Synopsis'])"
   ]
  },
  {
   "cell_type": "code",
   "execution_count": 36,
   "id": "3f5f3264",
   "metadata": {
    "execution": {
     "iopub.execute_input": "2022-02-11T19:17:29.301278Z",
     "iopub.status.busy": "2022-02-11T19:17:29.300127Z",
     "iopub.status.idle": "2022-02-11T19:17:29.586637Z",
     "shell.execute_reply": "2022-02-11T19:17:29.586061Z",
     "shell.execute_reply.started": "2022-02-11T18:51:37.911828Z"
    },
    "papermill": {
     "duration": 0.339252,
     "end_time": "2022-02-11T19:17:29.586810",
     "exception": false,
     "start_time": "2022-02-11T19:17:29.247558",
     "status": "completed"
    },
    "tags": []
   },
   "outputs": [
    {
     "data": {
      "text/plain": [
       "array([[0., 0., 0., ..., 0., 0., 0.],\n",
       "       [0., 0., 0., ..., 0., 0., 0.],\n",
       "       [0., 0., 0., ..., 0., 0., 0.],\n",
       "       ...,\n",
       "       [0., 0., 0., ..., 0., 0., 0.],\n",
       "       [0., 0., 0., ..., 0., 0., 0.],\n",
       "       [0., 0., 0., ..., 0., 0., 0.]])"
      ]
     },
     "execution_count": 36,
     "metadata": {},
     "output_type": "execute_result"
    }
   ],
   "source": [
    "tfidf_matrix.toarray()"
   ]
  },
  {
   "cell_type": "code",
   "execution_count": 37,
   "id": "aefcbbe1",
   "metadata": {
    "execution": {
     "iopub.execute_input": "2022-02-11T19:17:29.691414Z",
     "iopub.status.busy": "2022-02-11T19:17:29.690256Z",
     "iopub.status.idle": "2022-02-11T19:17:29.993113Z",
     "shell.execute_reply": "2022-02-11T19:17:29.992454Z",
     "shell.execute_reply.started": "2022-02-11T18:51:38.256480Z"
    },
    "papermill": {
     "duration": 0.357375,
     "end_time": "2022-02-11T19:17:29.993281",
     "exception": false,
     "start_time": "2022-02-11T19:17:29.635906",
     "status": "completed"
    },
    "tags": []
   },
   "outputs": [],
   "source": [
    "tfidf_df = pd.DataFrame(tfidf_matrix.toarray(), columns = vect.get_feature_names())\n",
    "tfidf_df.index = df['Title']"
   ]
  },
  {
   "cell_type": "code",
   "execution_count": 38,
   "id": "1560b11a",
   "metadata": {
    "execution": {
     "iopub.execute_input": "2022-02-11T19:17:30.104575Z",
     "iopub.status.busy": "2022-02-11T19:17:30.103895Z",
     "iopub.status.idle": "2022-02-11T19:17:30.171624Z",
     "shell.execute_reply": "2022-02-11T19:17:30.171064Z",
     "shell.execute_reply.started": "2022-02-11T18:51:38.564461Z"
    },
    "papermill": {
     "duration": 0.126957,
     "end_time": "2022-02-11T19:17:30.171799",
     "exception": false,
     "start_time": "2022-02-11T19:17:30.044842",
     "status": "completed"
    },
    "tags": []
   },
   "outputs": [
    {
     "data": {
      "text/html": [
       "<div>\n",
       "<style scoped>\n",
       "    .dataframe tbody tr th:only-of-type {\n",
       "        vertical-align: middle;\n",
       "    }\n",
       "\n",
       "    .dataframe tbody tr th {\n",
       "        vertical-align: top;\n",
       "    }\n",
       "\n",
       "    .dataframe thead th {\n",
       "        text-align: right;\n",
       "    }\n",
       "</style>\n",
       "<table border=\"1\" class=\"dataframe\">\n",
       "  <thead>\n",
       "    <tr style=\"text-align: right;\">\n",
       "      <th></th>\n",
       "      <th>aa</th>\n",
       "      <th>aaron</th>\n",
       "      <th>aback</th>\n",
       "      <th>abandons</th>\n",
       "      <th>abarenbou</th>\n",
       "      <th>abashiri</th>\n",
       "      <th>abbreviated</th>\n",
       "      <th>abc</th>\n",
       "      <th>abduct</th>\n",
       "      <th>abducting</th>\n",
       "      <th>...</th>\n",
       "      <th>zora</th>\n",
       "      <th>zorbados</th>\n",
       "      <th>zoro</th>\n",
       "      <th>zorori</th>\n",
       "      <th>zukan</th>\n",
       "      <th>zukkoke</th>\n",
       "      <th>zure</th>\n",
       "      <th>zvezda</th>\n",
       "      <th>zwei</th>\n",
       "      <th>zz</th>\n",
       "    </tr>\n",
       "    <tr>\n",
       "      <th>Title</th>\n",
       "      <th></th>\n",
       "      <th></th>\n",
       "      <th></th>\n",
       "      <th></th>\n",
       "      <th></th>\n",
       "      <th></th>\n",
       "      <th></th>\n",
       "      <th></th>\n",
       "      <th></th>\n",
       "      <th></th>\n",
       "      <th></th>\n",
       "      <th></th>\n",
       "      <th></th>\n",
       "      <th></th>\n",
       "      <th></th>\n",
       "      <th></th>\n",
       "      <th></th>\n",
       "      <th></th>\n",
       "      <th></th>\n",
       "      <th></th>\n",
       "      <th></th>\n",
       "    </tr>\n",
       "  </thead>\n",
       "  <tbody>\n",
       "    <tr>\n",
       "      <th>Cowboy Bebop</th>\n",
       "      <td>0.0</td>\n",
       "      <td>0.0</td>\n",
       "      <td>0.0</td>\n",
       "      <td>0.0</td>\n",
       "      <td>0.0</td>\n",
       "      <td>0.0</td>\n",
       "      <td>0.0</td>\n",
       "      <td>0.0</td>\n",
       "      <td>0.0</td>\n",
       "      <td>0.0</td>\n",
       "      <td>...</td>\n",
       "      <td>0.0</td>\n",
       "      <td>0.0</td>\n",
       "      <td>0.0</td>\n",
       "      <td>0.0</td>\n",
       "      <td>0.0</td>\n",
       "      <td>0.0</td>\n",
       "      <td>0.0</td>\n",
       "      <td>0.0</td>\n",
       "      <td>0.0</td>\n",
       "      <td>0.0</td>\n",
       "    </tr>\n",
       "    <tr>\n",
       "      <th>Cowboy Bebop: Tengoku no Tobira</th>\n",
       "      <td>0.0</td>\n",
       "      <td>0.0</td>\n",
       "      <td>0.0</td>\n",
       "      <td>0.0</td>\n",
       "      <td>0.0</td>\n",
       "      <td>0.0</td>\n",
       "      <td>0.0</td>\n",
       "      <td>0.0</td>\n",
       "      <td>0.0</td>\n",
       "      <td>0.0</td>\n",
       "      <td>...</td>\n",
       "      <td>0.0</td>\n",
       "      <td>0.0</td>\n",
       "      <td>0.0</td>\n",
       "      <td>0.0</td>\n",
       "      <td>0.0</td>\n",
       "      <td>0.0</td>\n",
       "      <td>0.0</td>\n",
       "      <td>0.0</td>\n",
       "      <td>0.0</td>\n",
       "      <td>0.0</td>\n",
       "    </tr>\n",
       "    <tr>\n",
       "      <th>Trigun</th>\n",
       "      <td>0.0</td>\n",
       "      <td>0.0</td>\n",
       "      <td>0.0</td>\n",
       "      <td>0.0</td>\n",
       "      <td>0.0</td>\n",
       "      <td>0.0</td>\n",
       "      <td>0.0</td>\n",
       "      <td>0.0</td>\n",
       "      <td>0.0</td>\n",
       "      <td>0.0</td>\n",
       "      <td>...</td>\n",
       "      <td>0.0</td>\n",
       "      <td>0.0</td>\n",
       "      <td>0.0</td>\n",
       "      <td>0.0</td>\n",
       "      <td>0.0</td>\n",
       "      <td>0.0</td>\n",
       "      <td>0.0</td>\n",
       "      <td>0.0</td>\n",
       "      <td>0.0</td>\n",
       "      <td>0.0</td>\n",
       "    </tr>\n",
       "    <tr>\n",
       "      <th>Witch Hunter Robin</th>\n",
       "      <td>0.0</td>\n",
       "      <td>0.0</td>\n",
       "      <td>0.0</td>\n",
       "      <td>0.0</td>\n",
       "      <td>0.0</td>\n",
       "      <td>0.0</td>\n",
       "      <td>0.0</td>\n",
       "      <td>0.0</td>\n",
       "      <td>0.0</td>\n",
       "      <td>0.0</td>\n",
       "      <td>...</td>\n",
       "      <td>0.0</td>\n",
       "      <td>0.0</td>\n",
       "      <td>0.0</td>\n",
       "      <td>0.0</td>\n",
       "      <td>0.0</td>\n",
       "      <td>0.0</td>\n",
       "      <td>0.0</td>\n",
       "      <td>0.0</td>\n",
       "      <td>0.0</td>\n",
       "      <td>0.0</td>\n",
       "    </tr>\n",
       "    <tr>\n",
       "      <th>Bouken Ou Beet</th>\n",
       "      <td>0.0</td>\n",
       "      <td>0.0</td>\n",
       "      <td>0.0</td>\n",
       "      <td>0.0</td>\n",
       "      <td>0.0</td>\n",
       "      <td>0.0</td>\n",
       "      <td>0.0</td>\n",
       "      <td>0.0</td>\n",
       "      <td>0.0</td>\n",
       "      <td>0.0</td>\n",
       "      <td>...</td>\n",
       "      <td>0.0</td>\n",
       "      <td>0.0</td>\n",
       "      <td>0.0</td>\n",
       "      <td>0.0</td>\n",
       "      <td>0.0</td>\n",
       "      <td>0.0</td>\n",
       "      <td>0.0</td>\n",
       "      <td>0.0</td>\n",
       "      <td>0.0</td>\n",
       "      <td>0.0</td>\n",
       "    </tr>\n",
       "    <tr>\n",
       "      <th>...</th>\n",
       "      <td>...</td>\n",
       "      <td>...</td>\n",
       "      <td>...</td>\n",
       "      <td>...</td>\n",
       "      <td>...</td>\n",
       "      <td>...</td>\n",
       "      <td>...</td>\n",
       "      <td>...</td>\n",
       "      <td>...</td>\n",
       "      <td>...</td>\n",
       "      <td>...</td>\n",
       "      <td>...</td>\n",
       "      <td>...</td>\n",
       "      <td>...</td>\n",
       "      <td>...</td>\n",
       "      <td>...</td>\n",
       "      <td>...</td>\n",
       "      <td>...</td>\n",
       "      <td>...</td>\n",
       "      <td>...</td>\n",
       "      <td>...</td>\n",
       "    </tr>\n",
       "    <tr>\n",
       "      <th>Isekai Quartet Relay PV</th>\n",
       "      <td>0.0</td>\n",
       "      <td>0.0</td>\n",
       "      <td>0.0</td>\n",
       "      <td>0.0</td>\n",
       "      <td>0.0</td>\n",
       "      <td>0.0</td>\n",
       "      <td>0.0</td>\n",
       "      <td>0.0</td>\n",
       "      <td>0.0</td>\n",
       "      <td>0.0</td>\n",
       "      <td>...</td>\n",
       "      <td>0.0</td>\n",
       "      <td>0.0</td>\n",
       "      <td>0.0</td>\n",
       "      <td>0.0</td>\n",
       "      <td>0.0</td>\n",
       "      <td>0.0</td>\n",
       "      <td>0.0</td>\n",
       "      <td>0.0</td>\n",
       "      <td>0.0</td>\n",
       "      <td>0.0</td>\n",
       "    </tr>\n",
       "    <tr>\n",
       "      <th>Tanabata no Oto</th>\n",
       "      <td>0.0</td>\n",
       "      <td>0.0</td>\n",
       "      <td>0.0</td>\n",
       "      <td>0.0</td>\n",
       "      <td>0.0</td>\n",
       "      <td>0.0</td>\n",
       "      <td>0.0</td>\n",
       "      <td>0.0</td>\n",
       "      <td>0.0</td>\n",
       "      <td>0.0</td>\n",
       "      <td>...</td>\n",
       "      <td>0.0</td>\n",
       "      <td>0.0</td>\n",
       "      <td>0.0</td>\n",
       "      <td>0.0</td>\n",
       "      <td>0.0</td>\n",
       "      <td>0.0</td>\n",
       "      <td>0.0</td>\n",
       "      <td>0.0</td>\n",
       "      <td>0.0</td>\n",
       "      <td>0.0</td>\n",
       "    </tr>\n",
       "    <tr>\n",
       "      <th>Ake-Vono</th>\n",
       "      <td>0.0</td>\n",
       "      <td>0.0</td>\n",
       "      <td>0.0</td>\n",
       "      <td>0.0</td>\n",
       "      <td>0.0</td>\n",
       "      <td>0.0</td>\n",
       "      <td>0.0</td>\n",
       "      <td>0.0</td>\n",
       "      <td>0.0</td>\n",
       "      <td>0.0</td>\n",
       "      <td>...</td>\n",
       "      <td>0.0</td>\n",
       "      <td>0.0</td>\n",
       "      <td>0.0</td>\n",
       "      <td>0.0</td>\n",
       "      <td>0.0</td>\n",
       "      <td>0.0</td>\n",
       "      <td>0.0</td>\n",
       "      <td>0.0</td>\n",
       "      <td>0.0</td>\n",
       "      <td>0.0</td>\n",
       "    </tr>\n",
       "    <tr>\n",
       "      <th>Ab-rah</th>\n",
       "      <td>0.0</td>\n",
       "      <td>0.0</td>\n",
       "      <td>0.0</td>\n",
       "      <td>0.0</td>\n",
       "      <td>0.0</td>\n",
       "      <td>0.0</td>\n",
       "      <td>0.0</td>\n",
       "      <td>0.0</td>\n",
       "      <td>0.0</td>\n",
       "      <td>0.0</td>\n",
       "      <td>...</td>\n",
       "      <td>0.0</td>\n",
       "      <td>0.0</td>\n",
       "      <td>0.0</td>\n",
       "      <td>0.0</td>\n",
       "      <td>0.0</td>\n",
       "      <td>0.0</td>\n",
       "      <td>0.0</td>\n",
       "      <td>0.0</td>\n",
       "      <td>0.0</td>\n",
       "      <td>0.0</td>\n",
       "    </tr>\n",
       "    <tr>\n",
       "      <th>Space Shower Man: Legacy for the Future</th>\n",
       "      <td>0.0</td>\n",
       "      <td>0.0</td>\n",
       "      <td>0.0</td>\n",
       "      <td>0.0</td>\n",
       "      <td>0.0</td>\n",
       "      <td>0.0</td>\n",
       "      <td>0.0</td>\n",
       "      <td>0.0</td>\n",
       "      <td>0.0</td>\n",
       "      <td>0.0</td>\n",
       "      <td>...</td>\n",
       "      <td>0.0</td>\n",
       "      <td>0.0</td>\n",
       "      <td>0.0</td>\n",
       "      <td>0.0</td>\n",
       "      <td>0.0</td>\n",
       "      <td>0.0</td>\n",
       "      <td>0.0</td>\n",
       "      <td>0.0</td>\n",
       "      <td>0.0</td>\n",
       "      <td>0.0</td>\n",
       "    </tr>\n",
       "  </tbody>\n",
       "</table>\n",
       "<p>12179 rows × 14608 columns</p>\n",
       "</div>"
      ],
      "text/plain": [
       "                                          aa  aaron  aback  abandons  \\\n",
       "Title                                                                  \n",
       "Cowboy Bebop                             0.0    0.0    0.0       0.0   \n",
       "Cowboy Bebop: Tengoku no Tobira          0.0    0.0    0.0       0.0   \n",
       "Trigun                                   0.0    0.0    0.0       0.0   \n",
       "Witch Hunter Robin                       0.0    0.0    0.0       0.0   \n",
       "Bouken Ou Beet                           0.0    0.0    0.0       0.0   \n",
       "...                                      ...    ...    ...       ...   \n",
       "Isekai Quartet Relay PV                  0.0    0.0    0.0       0.0   \n",
       "Tanabata no Oto                          0.0    0.0    0.0       0.0   \n",
       "Ake-Vono                                 0.0    0.0    0.0       0.0   \n",
       "Ab-rah                                   0.0    0.0    0.0       0.0   \n",
       "Space Shower Man: Legacy for the Future  0.0    0.0    0.0       0.0   \n",
       "\n",
       "                                         abarenbou  abashiri  abbreviated  \\\n",
       "Title                                                                       \n",
       "Cowboy Bebop                                   0.0       0.0          0.0   \n",
       "Cowboy Bebop: Tengoku no Tobira                0.0       0.0          0.0   \n",
       "Trigun                                         0.0       0.0          0.0   \n",
       "Witch Hunter Robin                             0.0       0.0          0.0   \n",
       "Bouken Ou Beet                                 0.0       0.0          0.0   \n",
       "...                                            ...       ...          ...   \n",
       "Isekai Quartet Relay PV                        0.0       0.0          0.0   \n",
       "Tanabata no Oto                                0.0       0.0          0.0   \n",
       "Ake-Vono                                       0.0       0.0          0.0   \n",
       "Ab-rah                                         0.0       0.0          0.0   \n",
       "Space Shower Man: Legacy for the Future        0.0       0.0          0.0   \n",
       "\n",
       "                                         abc  abduct  abducting  ...  zora  \\\n",
       "Title                                                            ...         \n",
       "Cowboy Bebop                             0.0     0.0        0.0  ...   0.0   \n",
       "Cowboy Bebop: Tengoku no Tobira          0.0     0.0        0.0  ...   0.0   \n",
       "Trigun                                   0.0     0.0        0.0  ...   0.0   \n",
       "Witch Hunter Robin                       0.0     0.0        0.0  ...   0.0   \n",
       "Bouken Ou Beet                           0.0     0.0        0.0  ...   0.0   \n",
       "...                                      ...     ...        ...  ...   ...   \n",
       "Isekai Quartet Relay PV                  0.0     0.0        0.0  ...   0.0   \n",
       "Tanabata no Oto                          0.0     0.0        0.0  ...   0.0   \n",
       "Ake-Vono                                 0.0     0.0        0.0  ...   0.0   \n",
       "Ab-rah                                   0.0     0.0        0.0  ...   0.0   \n",
       "Space Shower Man: Legacy for the Future  0.0     0.0        0.0  ...   0.0   \n",
       "\n",
       "                                         zorbados  zoro  zorori  zukan  \\\n",
       "Title                                                                    \n",
       "Cowboy Bebop                                  0.0   0.0     0.0    0.0   \n",
       "Cowboy Bebop: Tengoku no Tobira               0.0   0.0     0.0    0.0   \n",
       "Trigun                                        0.0   0.0     0.0    0.0   \n",
       "Witch Hunter Robin                            0.0   0.0     0.0    0.0   \n",
       "Bouken Ou Beet                                0.0   0.0     0.0    0.0   \n",
       "...                                           ...   ...     ...    ...   \n",
       "Isekai Quartet Relay PV                       0.0   0.0     0.0    0.0   \n",
       "Tanabata no Oto                               0.0   0.0     0.0    0.0   \n",
       "Ake-Vono                                      0.0   0.0     0.0    0.0   \n",
       "Ab-rah                                        0.0   0.0     0.0    0.0   \n",
       "Space Shower Man: Legacy for the Future       0.0   0.0     0.0    0.0   \n",
       "\n",
       "                                         zukkoke  zure  zvezda  zwei   zz  \n",
       "Title                                                                      \n",
       "Cowboy Bebop                                 0.0   0.0     0.0   0.0  0.0  \n",
       "Cowboy Bebop: Tengoku no Tobira              0.0   0.0     0.0   0.0  0.0  \n",
       "Trigun                                       0.0   0.0     0.0   0.0  0.0  \n",
       "Witch Hunter Robin                           0.0   0.0     0.0   0.0  0.0  \n",
       "Bouken Ou Beet                               0.0   0.0     0.0   0.0  0.0  \n",
       "...                                          ...   ...     ...   ...  ...  \n",
       "Isekai Quartet Relay PV                      0.0   0.0     0.0   0.0  0.0  \n",
       "Tanabata no Oto                              0.0   0.0     0.0   0.0  0.0  \n",
       "Ake-Vono                                     0.0   0.0     0.0   0.0  0.0  \n",
       "Ab-rah                                       0.0   0.0     0.0   0.0  0.0  \n",
       "Space Shower Man: Legacy for the Future      0.0   0.0     0.0   0.0  0.0  \n",
       "\n",
       "[12179 rows x 14608 columns]"
      ]
     },
     "execution_count": 38,
     "metadata": {},
     "output_type": "execute_result"
    }
   ],
   "source": [
    "tfidf_df"
   ]
  },
  {
   "cell_type": "code",
   "execution_count": null,
   "id": "98910f8d",
   "metadata": {
    "papermill": {
     "duration": 0.052363,
     "end_time": "2022-02-11T19:17:30.274668",
     "exception": false,
     "start_time": "2022-02-11T19:17:30.222305",
     "status": "completed"
    },
    "tags": []
   },
   "outputs": [],
   "source": []
  },
  {
   "cell_type": "code",
   "execution_count": null,
   "id": "cbfca6ad",
   "metadata": {
    "papermill": {
     "duration": 0.04991,
     "end_time": "2022-02-11T19:17:30.375433",
     "exception": false,
     "start_time": "2022-02-11T19:17:30.325523",
     "status": "completed"
    },
    "tags": []
   },
   "outputs": [],
   "source": []
  },
  {
   "cell_type": "code",
   "execution_count": null,
   "id": "790f378a",
   "metadata": {
    "papermill": {
     "duration": 0.050515,
     "end_time": "2022-02-11T19:17:30.476539",
     "exception": false,
     "start_time": "2022-02-11T19:17:30.426024",
     "status": "completed"
    },
    "tags": []
   },
   "outputs": [],
   "source": []
  },
  {
   "cell_type": "code",
   "execution_count": null,
   "id": "8bb1f617",
   "metadata": {
    "execution": {
     "iopub.execute_input": "2022-02-11T19:16:13.734060Z",
     "iopub.status.busy": "2022-02-11T19:16:13.733719Z",
     "iopub.status.idle": "2022-02-11T19:16:13.738441Z",
     "shell.execute_reply": "2022-02-11T19:16:13.737708Z",
     "shell.execute_reply.started": "2022-02-11T19:16:13.734027Z"
    },
    "papermill": {
     "duration": 0.049777,
     "end_time": "2022-02-11T19:17:30.576624",
     "exception": false,
     "start_time": "2022-02-11T19:17:30.526847",
     "status": "completed"
    },
    "tags": []
   },
   "outputs": [],
   "source": []
  },
  {
   "cell_type": "markdown",
   "id": "f1bf8120",
   "metadata": {
    "papermill": {
     "duration": 0.051637,
     "end_time": "2022-02-11T19:17:30.678214",
     "exception": false,
     "start_time": "2022-02-11T19:17:30.626577",
     "status": "completed"
    },
    "tags": []
   },
   "source": [
    "# PART 4 - calculating show similarity from synopsis"
   ]
  },
  {
   "cell_type": "code",
   "execution_count": null,
   "id": "02f5b09b",
   "metadata": {
    "papermill": {
     "duration": 0.049996,
     "end_time": "2022-02-11T19:17:30.778391",
     "exception": false,
     "start_time": "2022-02-11T19:17:30.728395",
     "status": "completed"
    },
    "tags": []
   },
   "outputs": [],
   "source": []
  },
  {
   "cell_type": "code",
   "execution_count": null,
   "id": "12b1ac0f",
   "metadata": {
    "papermill": {
     "duration": 0.052515,
     "end_time": "2022-02-11T19:17:30.880823",
     "exception": false,
     "start_time": "2022-02-11T19:17:30.828308",
     "status": "completed"
    },
    "tags": []
   },
   "outputs": [],
   "source": []
  },
  {
   "cell_type": "code",
   "execution_count": null,
   "id": "555e65f8",
   "metadata": {
    "papermill": {
     "duration": 0.049937,
     "end_time": "2022-02-11T19:17:30.981275",
     "exception": false,
     "start_time": "2022-02-11T19:17:30.931338",
     "status": "completed"
    },
    "tags": []
   },
   "outputs": [],
   "source": []
  },
  {
   "cell_type": "code",
   "execution_count": null,
   "id": "a9ec9979",
   "metadata": {
    "papermill": {
     "duration": 0.049966,
     "end_time": "2022-02-11T19:17:31.082474",
     "exception": false,
     "start_time": "2022-02-11T19:17:31.032508",
     "status": "completed"
    },
    "tags": []
   },
   "outputs": [],
   "source": []
  }
 ],
 "metadata": {
  "kernelspec": {
   "display_name": "Python 3",
   "language": "python",
   "name": "python3"
  },
  "language_info": {
   "codemirror_mode": {
    "name": "ipython",
    "version": 3
   },
   "file_extension": ".py",
   "mimetype": "text/x-python",
   "name": "python",
   "nbconvert_exporter": "python",
   "pygments_lexer": "ipython3",
   "version": "3.7.12"
  },
  "papermill": {
   "default_parameters": {},
   "duration": 21.78132,
   "end_time": "2022-02-11T19:17:31.943422",
   "environment_variables": {},
   "exception": null,
   "input_path": "__notebook__.ipynb",
   "output_path": "__notebook__.ipynb",
   "parameters": {},
   "start_time": "2022-02-11T19:17:10.162102",
   "version": "2.3.3"
  }
 },
 "nbformat": 4,
 "nbformat_minor": 5
}
