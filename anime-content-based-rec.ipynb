{
 "cells": [
  {
   "cell_type": "code",
   "execution_count": 1,
   "id": "e00dbc8b",
   "metadata": {
    "_cell_guid": "b1076dfc-b9ad-4769-8c92-a6c4dae69d19",
    "_uuid": "8f2839f25d086af736a60e9eeb907d3b93b6e0e5",
    "execution": {
     "iopub.execute_input": "2022-02-11T19:17:41.267228Z",
     "iopub.status.busy": "2022-02-11T19:17:41.266595Z",
     "iopub.status.idle": "2022-02-11T19:17:41.279513Z",
     "shell.execute_reply": "2022-02-11T19:17:41.278650Z",
     "shell.execute_reply.started": "2022-02-11T18:56:30.333665Z"
    },
    "papermill": {
     "duration": 0.066939,
     "end_time": "2022-02-11T19:17:41.279691",
     "exception": false,
     "start_time": "2022-02-11T19:17:41.212752",
     "status": "completed"
    },
    "tags": []
   },
   "outputs": [
    {
     "name": "stdout",
     "output_type": "stream",
     "text": [
      "/kaggle/input/anime-recommendations-database/Anime_data.csv\n"
     ]
    }
   ],
   "source": [
    "# This Python 3 environment comes with many helpful analytics libraries installed\n",
    "# It is defined by the kaggle/python Docker image: https://github.com/kaggle/docker-python\n",
    "# For example, here's several helpful packages to load\n",
    "\n",
    "import numpy as np # linear algebra\n",
    "import pandas as pd # data processing, CSV file I/O (e.g. pd.read_csv)\n",
    "\n",
    "# Input data files are available in the read-only \"../input/\" directory\n",
    "# For example, running this (by clicking run or pressing Shift+Enter) will list all files under the input directory\n",
    "\n",
    "import os\n",
    "for dirname, _, filenames in os.walk('/kaggle/input'):\n",
    "    for filename in filenames:\n",
    "        print(os.path.join(dirname, filename))\n",
    "\n",
    "# You can write up to 20GB to the current directory (/kaggle/working/) that gets preserved as output when you create a version using \"Save & Run All\" \n",
    "# You can also write temporary files to /kaggle/temp/, but they won't be saved outside of the current session"
   ]
  },
  {
   "cell_type": "code",
   "execution_count": 2,
   "id": "7cfb7204",
   "metadata": {
    "execution": {
     "iopub.execute_input": "2022-02-11T19:17:41.371837Z",
     "iopub.status.busy": "2022-02-11T19:17:41.371076Z",
     "iopub.status.idle": "2022-02-11T19:17:41.630411Z",
     "shell.execute_reply": "2022-02-11T19:17:41.631166Z",
     "shell.execute_reply.started": "2022-02-11T18:56:30.514463Z"
    },
    "papermill": {
     "duration": 0.306505,
     "end_time": "2022-02-11T19:17:41.631343",
     "exception": false,
     "start_time": "2022-02-11T19:17:41.324838",
     "status": "completed"
    },
    "tags": []
   },
   "outputs": [],
   "source": [
    "df = pd.read_csv('/kaggle/input/anime-recommendations-database/Anime_data.csv')"
   ]
  },
  {
   "cell_type": "code",
   "execution_count": 3,
   "id": "cec5ea4f",
   "metadata": {
    "execution": {
     "iopub.execute_input": "2022-02-11T19:17:41.720282Z",
     "iopub.status.busy": "2022-02-11T19:17:41.719666Z",
     "iopub.status.idle": "2022-02-11T19:17:41.757812Z",
     "shell.execute_reply": "2022-02-11T19:17:41.758323Z",
     "shell.execute_reply.started": "2022-02-11T18:56:30.756854Z"
    },
    "papermill": {
     "duration": 0.084808,
     "end_time": "2022-02-11T19:17:41.758528",
     "exception": false,
     "start_time": "2022-02-11T19:17:41.673720",
     "status": "completed"
    },
    "tags": []
   },
   "outputs": [
    {
     "data": {
      "text/html": [
       "<div>\n",
       "<style scoped>\n",
       "    .dataframe tbody tr th:only-of-type {\n",
       "        vertical-align: middle;\n",
       "    }\n",
       "\n",
       "    .dataframe tbody tr th {\n",
       "        vertical-align: top;\n",
       "    }\n",
       "\n",
       "    .dataframe thead th {\n",
       "        text-align: right;\n",
       "    }\n",
       "</style>\n",
       "<table border=\"1\" class=\"dataframe\">\n",
       "  <thead>\n",
       "    <tr style=\"text-align: right;\">\n",
       "      <th></th>\n",
       "      <th>Anime_id</th>\n",
       "      <th>Title</th>\n",
       "      <th>Genre</th>\n",
       "      <th>Synopsis</th>\n",
       "      <th>Type</th>\n",
       "      <th>Producer</th>\n",
       "      <th>Studio</th>\n",
       "      <th>Rating</th>\n",
       "      <th>ScoredBy</th>\n",
       "      <th>Popularity</th>\n",
       "      <th>Members</th>\n",
       "      <th>Episodes</th>\n",
       "      <th>Source</th>\n",
       "      <th>Aired</th>\n",
       "      <th>Link</th>\n",
       "    </tr>\n",
       "  </thead>\n",
       "  <tbody>\n",
       "    <tr>\n",
       "      <th>0</th>\n",
       "      <td>1</td>\n",
       "      <td>Cowboy Bebop</td>\n",
       "      <td>['Action', 'Adventure', 'Comedy', 'Drama', 'Sc...</td>\n",
       "      <td>In the year 2071, humanity has colonized sever...</td>\n",
       "      <td>TV</td>\n",
       "      <td>['Bandai Visual']</td>\n",
       "      <td>['Sunrise']</td>\n",
       "      <td>8.81</td>\n",
       "      <td>363889.0</td>\n",
       "      <td>39.0</td>\n",
       "      <td>704490.0</td>\n",
       "      <td>26.0</td>\n",
       "      <td>Original</td>\n",
       "      <td>Apr 3, 1998 to Apr 24, 1999</td>\n",
       "      <td>https://myanimelist.net/anime/1/Cowboy_Bebop</td>\n",
       "    </tr>\n",
       "    <tr>\n",
       "      <th>1</th>\n",
       "      <td>5</td>\n",
       "      <td>Cowboy Bebop: Tengoku no Tobira</td>\n",
       "      <td>['Action', 'Space', 'Drama', 'Mystery', 'Sci-Fi']</td>\n",
       "      <td>Another day, another bounty—such is the life o...</td>\n",
       "      <td>Movie</td>\n",
       "      <td>['Sunrise', 'Bandai Visual']</td>\n",
       "      <td>['Bones']</td>\n",
       "      <td>8.41</td>\n",
       "      <td>111187.0</td>\n",
       "      <td>475.0</td>\n",
       "      <td>179899.0</td>\n",
       "      <td>1.0</td>\n",
       "      <td>Original</td>\n",
       "      <td>Sep 1, 2001</td>\n",
       "      <td>https://myanimelist.net/anime/5/Cowboy_Bebop__...</td>\n",
       "    </tr>\n",
       "    <tr>\n",
       "      <th>2</th>\n",
       "      <td>6</td>\n",
       "      <td>Trigun</td>\n",
       "      <td>['Action', 'Sci-Fi', 'Adventure', 'Comedy', 'D...</td>\n",
       "      <td>Vash the Stampede is the man with a $$60,000,0...</td>\n",
       "      <td>TV</td>\n",
       "      <td>['Victor Entertainment']</td>\n",
       "      <td>['Madhouse']</td>\n",
       "      <td>8.31</td>\n",
       "      <td>197451.0</td>\n",
       "      <td>158.0</td>\n",
       "      <td>372709.0</td>\n",
       "      <td>26.0</td>\n",
       "      <td>Manga</td>\n",
       "      <td>Apr 1, 1998 to Sep 30, 1998</td>\n",
       "      <td>https://myanimelist.net/anime/6/Trigun</td>\n",
       "    </tr>\n",
       "    <tr>\n",
       "      <th>3</th>\n",
       "      <td>7</td>\n",
       "      <td>Witch Hunter Robin</td>\n",
       "      <td>['Action', 'Magic', 'Police', 'Supernatural', ...</td>\n",
       "      <td>Witches are individuals with special powers li...</td>\n",
       "      <td>TV</td>\n",
       "      <td>['Bandai Visual']</td>\n",
       "      <td>['Sunrise']</td>\n",
       "      <td>7.34</td>\n",
       "      <td>31875.0</td>\n",
       "      <td>1278.0</td>\n",
       "      <td>74889.0</td>\n",
       "      <td>26.0</td>\n",
       "      <td>Original</td>\n",
       "      <td>Jul 2, 2002 to Dec 24, 2002</td>\n",
       "      <td>https://myanimelist.net/anime/7/Witch_Hunter_R...</td>\n",
       "    </tr>\n",
       "    <tr>\n",
       "      <th>4</th>\n",
       "      <td>8</td>\n",
       "      <td>Bouken Ou Beet</td>\n",
       "      <td>['Adventure', 'Fantasy', 'Shounen', 'Supernatu...</td>\n",
       "      <td>It is the dark century and the people are suff...</td>\n",
       "      <td>TV</td>\n",
       "      <td>NaN</td>\n",
       "      <td>['Toei Animation']</td>\n",
       "      <td>7.04</td>\n",
       "      <td>4757.0</td>\n",
       "      <td>3968.0</td>\n",
       "      <td>11247.0</td>\n",
       "      <td>52.0</td>\n",
       "      <td>Manga</td>\n",
       "      <td>Sep 30, 2004 to Sep 29, 2005</td>\n",
       "      <td>https://myanimelist.net/anime/8/Bouken_Ou_Beet</td>\n",
       "    </tr>\n",
       "  </tbody>\n",
       "</table>\n",
       "</div>"
      ],
      "text/plain": [
       "   Anime_id                            Title  \\\n",
       "0         1                     Cowboy Bebop   \n",
       "1         5  Cowboy Bebop: Tengoku no Tobira   \n",
       "2         6                           Trigun   \n",
       "3         7               Witch Hunter Robin   \n",
       "4         8                   Bouken Ou Beet   \n",
       "\n",
       "                                               Genre  \\\n",
       "0  ['Action', 'Adventure', 'Comedy', 'Drama', 'Sc...   \n",
       "1  ['Action', 'Space', 'Drama', 'Mystery', 'Sci-Fi']   \n",
       "2  ['Action', 'Sci-Fi', 'Adventure', 'Comedy', 'D...   \n",
       "3  ['Action', 'Magic', 'Police', 'Supernatural', ...   \n",
       "4  ['Adventure', 'Fantasy', 'Shounen', 'Supernatu...   \n",
       "\n",
       "                                            Synopsis   Type  \\\n",
       "0  In the year 2071, humanity has colonized sever...     TV   \n",
       "1  Another day, another bounty—such is the life o...  Movie   \n",
       "2  Vash the Stampede is the man with a $$60,000,0...     TV   \n",
       "3  Witches are individuals with special powers li...     TV   \n",
       "4  It is the dark century and the people are suff...     TV   \n",
       "\n",
       "                       Producer              Studio  Rating  ScoredBy  \\\n",
       "0             ['Bandai Visual']         ['Sunrise']    8.81  363889.0   \n",
       "1  ['Sunrise', 'Bandai Visual']           ['Bones']    8.41  111187.0   \n",
       "2      ['Victor Entertainment']        ['Madhouse']    8.31  197451.0   \n",
       "3             ['Bandai Visual']         ['Sunrise']    7.34   31875.0   \n",
       "4                           NaN  ['Toei Animation']    7.04    4757.0   \n",
       "\n",
       "   Popularity   Members  Episodes    Source                         Aired  \\\n",
       "0        39.0  704490.0      26.0  Original   Apr 3, 1998 to Apr 24, 1999   \n",
       "1       475.0  179899.0       1.0  Original                   Sep 1, 2001   \n",
       "2       158.0  372709.0      26.0     Manga   Apr 1, 1998 to Sep 30, 1998   \n",
       "3      1278.0   74889.0      26.0  Original   Jul 2, 2002 to Dec 24, 2002   \n",
       "4      3968.0   11247.0      52.0     Manga  Sep 30, 2004 to Sep 29, 2005   \n",
       "\n",
       "                                                Link  \n",
       "0       https://myanimelist.net/anime/1/Cowboy_Bebop  \n",
       "1  https://myanimelist.net/anime/5/Cowboy_Bebop__...  \n",
       "2             https://myanimelist.net/anime/6/Trigun  \n",
       "3  https://myanimelist.net/anime/7/Witch_Hunter_R...  \n",
       "4     https://myanimelist.net/anime/8/Bouken_Ou_Beet  "
      ]
     },
     "execution_count": 3,
     "metadata": {},
     "output_type": "execute_result"
    }
   ],
   "source": [
    "df.head()"
   ]
  },
  {
   "cell_type": "markdown",
   "id": "2a311ccb",
   "metadata": {
    "papermill": {
     "duration": 0.052407,
     "end_time": "2022-02-11T19:17:41.863782",
     "exception": false,
     "start_time": "2022-02-11T19:17:41.811375",
     "status": "completed"
    },
    "tags": []
   },
   "source": [
    "# PART 1 - clean and process data"
   ]
  },
  {
   "cell_type": "code",
   "execution_count": 4,
   "id": "5947f18d",
   "metadata": {
    "execution": {
     "iopub.execute_input": "2022-02-11T19:17:41.954955Z",
     "iopub.status.busy": "2022-02-11T19:17:41.953953Z",
     "iopub.status.idle": "2022-02-11T19:17:41.959232Z",
     "shell.execute_reply": "2022-02-11T19:17:41.959813Z",
     "shell.execute_reply.started": "2022-02-11T18:56:31.352437Z"
    },
    "papermill": {
     "duration": 0.051929,
     "end_time": "2022-02-11T19:17:41.959986",
     "exception": false,
     "start_time": "2022-02-11T19:17:41.908057",
     "status": "completed"
    },
    "tags": []
   },
   "outputs": [
    {
     "data": {
      "text/plain": [
       "(17002, 15)"
      ]
     },
     "execution_count": 4,
     "metadata": {},
     "output_type": "execute_result"
    }
   ],
   "source": [
    "df.shape"
   ]
  },
  {
   "cell_type": "code",
   "execution_count": 5,
   "id": "ca353f81",
   "metadata": {
    "execution": {
     "iopub.execute_input": "2022-02-11T19:17:42.050112Z",
     "iopub.status.busy": "2022-02-11T19:17:42.049102Z",
     "iopub.status.idle": "2022-02-11T19:17:42.078248Z",
     "shell.execute_reply": "2022-02-11T19:17:42.077657Z",
     "shell.execute_reply.started": "2022-02-11T18:56:31.673332Z"
    },
    "papermill": {
     "duration": 0.07572,
     "end_time": "2022-02-11T19:17:42.078409",
     "exception": false,
     "start_time": "2022-02-11T19:17:42.002689",
     "status": "completed"
    },
    "tags": []
   },
   "outputs": [],
   "source": [
    "df.drop_duplicates(['Anime_id'],inplace=True)\n",
    "df.drop_duplicates(['Title'],inplace=True)"
   ]
  },
  {
   "cell_type": "code",
   "execution_count": 6,
   "id": "4a23dbb4",
   "metadata": {
    "execution": {
     "iopub.execute_input": "2022-02-11T19:17:42.171240Z",
     "iopub.status.busy": "2022-02-11T19:17:42.170427Z",
     "iopub.status.idle": "2022-02-11T19:17:42.173537Z",
     "shell.execute_reply": "2022-02-11T19:17:42.174017Z",
     "shell.execute_reply.started": "2022-02-11T18:56:32.978100Z"
    },
    "papermill": {
     "duration": 0.052647,
     "end_time": "2022-02-11T19:17:42.174180",
     "exception": false,
     "start_time": "2022-02-11T19:17:42.121533",
     "status": "completed"
    },
    "tags": []
   },
   "outputs": [
    {
     "data": {
      "text/plain": [
       "(16737, 15)"
      ]
     },
     "execution_count": 6,
     "metadata": {},
     "output_type": "execute_result"
    }
   ],
   "source": [
    "df.shape"
   ]
  },
  {
   "cell_type": "code",
   "execution_count": 7,
   "id": "e9e5be30",
   "metadata": {
    "execution": {
     "iopub.execute_input": "2022-02-11T19:17:42.269601Z",
     "iopub.status.busy": "2022-02-11T19:17:42.268855Z",
     "iopub.status.idle": "2022-02-11T19:17:42.270178Z",
     "shell.execute_reply": "2022-02-11T19:17:42.270772Z",
     "shell.execute_reply.started": "2022-02-11T18:56:33.281628Z"
    },
    "papermill": {
     "duration": 0.05365,
     "end_time": "2022-02-11T19:17:42.270941",
     "exception": false,
     "start_time": "2022-02-11T19:17:42.217291",
     "status": "completed"
    },
    "tags": []
   },
   "outputs": [],
   "source": [
    "df.drop(['Anime_id','Link'],axis=1,inplace=True)"
   ]
  },
  {
   "cell_type": "code",
   "execution_count": 8,
   "id": "7a2a155b",
   "metadata": {
    "execution": {
     "iopub.execute_input": "2022-02-11T19:17:42.360303Z",
     "iopub.status.busy": "2022-02-11T19:17:42.359694Z",
     "iopub.status.idle": "2022-02-11T19:17:42.380211Z",
     "shell.execute_reply": "2022-02-11T19:17:42.379611Z",
     "shell.execute_reply.started": "2022-02-11T18:56:34.498650Z"
    },
    "papermill": {
     "duration": 0.066274,
     "end_time": "2022-02-11T19:17:42.380355",
     "exception": false,
     "start_time": "2022-02-11T19:17:42.314081",
     "status": "completed"
    },
    "tags": []
   },
   "outputs": [
    {
     "data": {
      "text/html": [
       "<div>\n",
       "<style scoped>\n",
       "    .dataframe tbody tr th:only-of-type {\n",
       "        vertical-align: middle;\n",
       "    }\n",
       "\n",
       "    .dataframe tbody tr th {\n",
       "        vertical-align: top;\n",
       "    }\n",
       "\n",
       "    .dataframe thead th {\n",
       "        text-align: right;\n",
       "    }\n",
       "</style>\n",
       "<table border=\"1\" class=\"dataframe\">\n",
       "  <thead>\n",
       "    <tr style=\"text-align: right;\">\n",
       "      <th></th>\n",
       "      <th>Title</th>\n",
       "      <th>Genre</th>\n",
       "      <th>Synopsis</th>\n",
       "      <th>Type</th>\n",
       "      <th>Producer</th>\n",
       "      <th>Studio</th>\n",
       "      <th>Rating</th>\n",
       "      <th>ScoredBy</th>\n",
       "      <th>Popularity</th>\n",
       "      <th>Members</th>\n",
       "      <th>Episodes</th>\n",
       "      <th>Source</th>\n",
       "      <th>Aired</th>\n",
       "    </tr>\n",
       "  </thead>\n",
       "  <tbody>\n",
       "    <tr>\n",
       "      <th>0</th>\n",
       "      <td>Cowboy Bebop</td>\n",
       "      <td>['Action', 'Adventure', 'Comedy', 'Drama', 'Sc...</td>\n",
       "      <td>In the year 2071, humanity has colonized sever...</td>\n",
       "      <td>TV</td>\n",
       "      <td>['Bandai Visual']</td>\n",
       "      <td>['Sunrise']</td>\n",
       "      <td>8.81</td>\n",
       "      <td>363889.0</td>\n",
       "      <td>39.0</td>\n",
       "      <td>704490.0</td>\n",
       "      <td>26.0</td>\n",
       "      <td>Original</td>\n",
       "      <td>Apr 3, 1998 to Apr 24, 1999</td>\n",
       "    </tr>\n",
       "    <tr>\n",
       "      <th>1</th>\n",
       "      <td>Cowboy Bebop: Tengoku no Tobira</td>\n",
       "      <td>['Action', 'Space', 'Drama', 'Mystery', 'Sci-Fi']</td>\n",
       "      <td>Another day, another bounty—such is the life o...</td>\n",
       "      <td>Movie</td>\n",
       "      <td>['Sunrise', 'Bandai Visual']</td>\n",
       "      <td>['Bones']</td>\n",
       "      <td>8.41</td>\n",
       "      <td>111187.0</td>\n",
       "      <td>475.0</td>\n",
       "      <td>179899.0</td>\n",
       "      <td>1.0</td>\n",
       "      <td>Original</td>\n",
       "      <td>Sep 1, 2001</td>\n",
       "    </tr>\n",
       "    <tr>\n",
       "      <th>2</th>\n",
       "      <td>Trigun</td>\n",
       "      <td>['Action', 'Sci-Fi', 'Adventure', 'Comedy', 'D...</td>\n",
       "      <td>Vash the Stampede is the man with a $$60,000,0...</td>\n",
       "      <td>TV</td>\n",
       "      <td>['Victor Entertainment']</td>\n",
       "      <td>['Madhouse']</td>\n",
       "      <td>8.31</td>\n",
       "      <td>197451.0</td>\n",
       "      <td>158.0</td>\n",
       "      <td>372709.0</td>\n",
       "      <td>26.0</td>\n",
       "      <td>Manga</td>\n",
       "      <td>Apr 1, 1998 to Sep 30, 1998</td>\n",
       "    </tr>\n",
       "    <tr>\n",
       "      <th>3</th>\n",
       "      <td>Witch Hunter Robin</td>\n",
       "      <td>['Action', 'Magic', 'Police', 'Supernatural', ...</td>\n",
       "      <td>Witches are individuals with special powers li...</td>\n",
       "      <td>TV</td>\n",
       "      <td>['Bandai Visual']</td>\n",
       "      <td>['Sunrise']</td>\n",
       "      <td>7.34</td>\n",
       "      <td>31875.0</td>\n",
       "      <td>1278.0</td>\n",
       "      <td>74889.0</td>\n",
       "      <td>26.0</td>\n",
       "      <td>Original</td>\n",
       "      <td>Jul 2, 2002 to Dec 24, 2002</td>\n",
       "    </tr>\n",
       "    <tr>\n",
       "      <th>4</th>\n",
       "      <td>Bouken Ou Beet</td>\n",
       "      <td>['Adventure', 'Fantasy', 'Shounen', 'Supernatu...</td>\n",
       "      <td>It is the dark century and the people are suff...</td>\n",
       "      <td>TV</td>\n",
       "      <td>NaN</td>\n",
       "      <td>['Toei Animation']</td>\n",
       "      <td>7.04</td>\n",
       "      <td>4757.0</td>\n",
       "      <td>3968.0</td>\n",
       "      <td>11247.0</td>\n",
       "      <td>52.0</td>\n",
       "      <td>Manga</td>\n",
       "      <td>Sep 30, 2004 to Sep 29, 2005</td>\n",
       "    </tr>\n",
       "  </tbody>\n",
       "</table>\n",
       "</div>"
      ],
      "text/plain": [
       "                             Title  \\\n",
       "0                     Cowboy Bebop   \n",
       "1  Cowboy Bebop: Tengoku no Tobira   \n",
       "2                           Trigun   \n",
       "3               Witch Hunter Robin   \n",
       "4                   Bouken Ou Beet   \n",
       "\n",
       "                                               Genre  \\\n",
       "0  ['Action', 'Adventure', 'Comedy', 'Drama', 'Sc...   \n",
       "1  ['Action', 'Space', 'Drama', 'Mystery', 'Sci-Fi']   \n",
       "2  ['Action', 'Sci-Fi', 'Adventure', 'Comedy', 'D...   \n",
       "3  ['Action', 'Magic', 'Police', 'Supernatural', ...   \n",
       "4  ['Adventure', 'Fantasy', 'Shounen', 'Supernatu...   \n",
       "\n",
       "                                            Synopsis   Type  \\\n",
       "0  In the year 2071, humanity has colonized sever...     TV   \n",
       "1  Another day, another bounty—such is the life o...  Movie   \n",
       "2  Vash the Stampede is the man with a $$60,000,0...     TV   \n",
       "3  Witches are individuals with special powers li...     TV   \n",
       "4  It is the dark century and the people are suff...     TV   \n",
       "\n",
       "                       Producer              Studio  Rating  ScoredBy  \\\n",
       "0             ['Bandai Visual']         ['Sunrise']    8.81  363889.0   \n",
       "1  ['Sunrise', 'Bandai Visual']           ['Bones']    8.41  111187.0   \n",
       "2      ['Victor Entertainment']        ['Madhouse']    8.31  197451.0   \n",
       "3             ['Bandai Visual']         ['Sunrise']    7.34   31875.0   \n",
       "4                           NaN  ['Toei Animation']    7.04    4757.0   \n",
       "\n",
       "   Popularity   Members  Episodes    Source                         Aired  \n",
       "0        39.0  704490.0      26.0  Original   Apr 3, 1998 to Apr 24, 1999  \n",
       "1       475.0  179899.0       1.0  Original                   Sep 1, 2001  \n",
       "2       158.0  372709.0      26.0     Manga   Apr 1, 1998 to Sep 30, 1998  \n",
       "3      1278.0   74889.0      26.0  Original   Jul 2, 2002 to Dec 24, 2002  \n",
       "4      3968.0   11247.0      52.0     Manga  Sep 30, 2004 to Sep 29, 2005  "
      ]
     },
     "execution_count": 8,
     "metadata": {},
     "output_type": "execute_result"
    }
   ],
   "source": [
    "df.head()"
   ]
  },
  {
   "cell_type": "code",
   "execution_count": 9,
   "id": "077734a5",
   "metadata": {
    "execution": {
     "iopub.execute_input": "2022-02-11T19:17:42.486170Z",
     "iopub.status.busy": "2022-02-11T19:17:42.485526Z",
     "iopub.status.idle": "2022-02-11T19:17:42.493882Z",
     "shell.execute_reply": "2022-02-11T19:17:42.493234Z",
     "shell.execute_reply.started": "2022-02-11T18:56:35.606711Z"
    },
    "papermill": {
     "duration": 0.069946,
     "end_time": "2022-02-11T19:17:42.494035",
     "exception": false,
     "start_time": "2022-02-11T19:17:42.424089",
     "status": "completed"
    },
    "tags": []
   },
   "outputs": [
    {
     "data": {
      "text/plain": [
       "Title            0\n",
       "Genre         1961\n",
       "Synopsis      1304\n",
       "Type           591\n",
       "Producer      9161\n",
       "Studio        8885\n",
       "Rating        2396\n",
       "ScoredBy      3591\n",
       "Popularity     542\n",
       "Members          0\n",
       "Episodes      2809\n",
       "Source        1876\n",
       "Aired          542\n",
       "dtype: int64"
      ]
     },
     "execution_count": 9,
     "metadata": {},
     "output_type": "execute_result"
    }
   ],
   "source": [
    "df.isnull().sum()"
   ]
  },
  {
   "cell_type": "code",
   "execution_count": 10,
   "id": "a9323a4c",
   "metadata": {
    "execution": {
     "iopub.execute_input": "2022-02-11T19:17:42.601961Z",
     "iopub.status.busy": "2022-02-11T19:17:42.600931Z",
     "iopub.status.idle": "2022-02-11T19:17:42.608470Z",
     "shell.execute_reply": "2022-02-11T19:17:42.607902Z",
     "shell.execute_reply.started": "2022-02-11T18:56:38.581788Z"
    },
    "papermill": {
     "duration": 0.070269,
     "end_time": "2022-02-11T19:17:42.608622",
     "exception": false,
     "start_time": "2022-02-11T19:17:42.538353",
     "status": "completed"
    },
    "tags": []
   },
   "outputs": [
    {
     "data": {
      "text/plain": [
       "array([0.        , 0.11716556, 0.07791121, 0.03531099, 0.54735018,\n",
       "       0.53085977, 0.14315588, 0.21455458, 0.03238334, 0.        ,\n",
       "       0.16783175, 0.11208699, 0.03238334])"
      ]
     },
     "execution_count": 10,
     "metadata": {},
     "output_type": "execute_result"
    }
   ],
   "source": [
    "df.isnull().sum().values / df.shape[0]"
   ]
  },
  {
   "cell_type": "code",
   "execution_count": 11,
   "id": "ece62103",
   "metadata": {
    "execution": {
     "iopub.execute_input": "2022-02-11T19:17:42.704848Z",
     "iopub.status.busy": "2022-02-11T19:17:42.703110Z",
     "iopub.status.idle": "2022-02-11T19:17:42.707497Z",
     "shell.execute_reply": "2022-02-11T19:17:42.706913Z",
     "shell.execute_reply.started": "2022-02-11T18:56:38.871088Z"
    },
    "papermill": {
     "duration": 0.054194,
     "end_time": "2022-02-11T19:17:42.707637",
     "exception": false,
     "start_time": "2022-02-11T19:17:42.653443",
     "status": "completed"
    },
    "tags": []
   },
   "outputs": [],
   "source": [
    "df.drop(['Producer','Studio'],axis=1,inplace=True)"
   ]
  },
  {
   "cell_type": "code",
   "execution_count": 12,
   "id": "19e2bd8a",
   "metadata": {
    "execution": {
     "iopub.execute_input": "2022-02-11T19:17:42.803257Z",
     "iopub.status.busy": "2022-02-11T19:17:42.802599Z",
     "iopub.status.idle": "2022-02-11T19:17:42.808164Z",
     "shell.execute_reply": "2022-02-11T19:17:42.807605Z",
     "shell.execute_reply.started": "2022-02-11T18:56:39.147581Z"
    },
    "papermill": {
     "duration": 0.055474,
     "end_time": "2022-02-11T19:17:42.808316",
     "exception": false,
     "start_time": "2022-02-11T19:17:42.752842",
     "status": "completed"
    },
    "tags": []
   },
   "outputs": [],
   "source": [
    "df.drop(['Aired'],axis=1,inplace=True)"
   ]
  },
  {
   "cell_type": "code",
   "execution_count": 13,
   "id": "a21fa36c",
   "metadata": {
    "execution": {
     "iopub.execute_input": "2022-02-11T19:17:42.916791Z",
     "iopub.status.busy": "2022-02-11T19:17:42.915844Z",
     "iopub.status.idle": "2022-02-11T19:17:42.920125Z",
     "shell.execute_reply": "2022-02-11T19:17:42.919494Z",
     "shell.execute_reply.started": "2022-02-11T18:56:39.514003Z"
    },
    "papermill": {
     "duration": 0.066566,
     "end_time": "2022-02-11T19:17:42.920266",
     "exception": false,
     "start_time": "2022-02-11T19:17:42.853700",
     "status": "completed"
    },
    "tags": []
   },
   "outputs": [
    {
     "data": {
      "text/html": [
       "<div>\n",
       "<style scoped>\n",
       "    .dataframe tbody tr th:only-of-type {\n",
       "        vertical-align: middle;\n",
       "    }\n",
       "\n",
       "    .dataframe tbody tr th {\n",
       "        vertical-align: top;\n",
       "    }\n",
       "\n",
       "    .dataframe thead th {\n",
       "        text-align: right;\n",
       "    }\n",
       "</style>\n",
       "<table border=\"1\" class=\"dataframe\">\n",
       "  <thead>\n",
       "    <tr style=\"text-align: right;\">\n",
       "      <th></th>\n",
       "      <th>Title</th>\n",
       "      <th>Genre</th>\n",
       "      <th>Synopsis</th>\n",
       "      <th>Type</th>\n",
       "      <th>Rating</th>\n",
       "      <th>ScoredBy</th>\n",
       "      <th>Popularity</th>\n",
       "      <th>Members</th>\n",
       "      <th>Episodes</th>\n",
       "      <th>Source</th>\n",
       "    </tr>\n",
       "  </thead>\n",
       "  <tbody>\n",
       "    <tr>\n",
       "      <th>0</th>\n",
       "      <td>Cowboy Bebop</td>\n",
       "      <td>['Action', 'Adventure', 'Comedy', 'Drama', 'Sc...</td>\n",
       "      <td>In the year 2071, humanity has colonized sever...</td>\n",
       "      <td>TV</td>\n",
       "      <td>8.81</td>\n",
       "      <td>363889.0</td>\n",
       "      <td>39.0</td>\n",
       "      <td>704490.0</td>\n",
       "      <td>26.0</td>\n",
       "      <td>Original</td>\n",
       "    </tr>\n",
       "    <tr>\n",
       "      <th>1</th>\n",
       "      <td>Cowboy Bebop: Tengoku no Tobira</td>\n",
       "      <td>['Action', 'Space', 'Drama', 'Mystery', 'Sci-Fi']</td>\n",
       "      <td>Another day, another bounty—such is the life o...</td>\n",
       "      <td>Movie</td>\n",
       "      <td>8.41</td>\n",
       "      <td>111187.0</td>\n",
       "      <td>475.0</td>\n",
       "      <td>179899.0</td>\n",
       "      <td>1.0</td>\n",
       "      <td>Original</td>\n",
       "    </tr>\n",
       "    <tr>\n",
       "      <th>2</th>\n",
       "      <td>Trigun</td>\n",
       "      <td>['Action', 'Sci-Fi', 'Adventure', 'Comedy', 'D...</td>\n",
       "      <td>Vash the Stampede is the man with a $$60,000,0...</td>\n",
       "      <td>TV</td>\n",
       "      <td>8.31</td>\n",
       "      <td>197451.0</td>\n",
       "      <td>158.0</td>\n",
       "      <td>372709.0</td>\n",
       "      <td>26.0</td>\n",
       "      <td>Manga</td>\n",
       "    </tr>\n",
       "    <tr>\n",
       "      <th>3</th>\n",
       "      <td>Witch Hunter Robin</td>\n",
       "      <td>['Action', 'Magic', 'Police', 'Supernatural', ...</td>\n",
       "      <td>Witches are individuals with special powers li...</td>\n",
       "      <td>TV</td>\n",
       "      <td>7.34</td>\n",
       "      <td>31875.0</td>\n",
       "      <td>1278.0</td>\n",
       "      <td>74889.0</td>\n",
       "      <td>26.0</td>\n",
       "      <td>Original</td>\n",
       "    </tr>\n",
       "    <tr>\n",
       "      <th>4</th>\n",
       "      <td>Bouken Ou Beet</td>\n",
       "      <td>['Adventure', 'Fantasy', 'Shounen', 'Supernatu...</td>\n",
       "      <td>It is the dark century and the people are suff...</td>\n",
       "      <td>TV</td>\n",
       "      <td>7.04</td>\n",
       "      <td>4757.0</td>\n",
       "      <td>3968.0</td>\n",
       "      <td>11247.0</td>\n",
       "      <td>52.0</td>\n",
       "      <td>Manga</td>\n",
       "    </tr>\n",
       "  </tbody>\n",
       "</table>\n",
       "</div>"
      ],
      "text/plain": [
       "                             Title  \\\n",
       "0                     Cowboy Bebop   \n",
       "1  Cowboy Bebop: Tengoku no Tobira   \n",
       "2                           Trigun   \n",
       "3               Witch Hunter Robin   \n",
       "4                   Bouken Ou Beet   \n",
       "\n",
       "                                               Genre  \\\n",
       "0  ['Action', 'Adventure', 'Comedy', 'Drama', 'Sc...   \n",
       "1  ['Action', 'Space', 'Drama', 'Mystery', 'Sci-Fi']   \n",
       "2  ['Action', 'Sci-Fi', 'Adventure', 'Comedy', 'D...   \n",
       "3  ['Action', 'Magic', 'Police', 'Supernatural', ...   \n",
       "4  ['Adventure', 'Fantasy', 'Shounen', 'Supernatu...   \n",
       "\n",
       "                                            Synopsis   Type  Rating  ScoredBy  \\\n",
       "0  In the year 2071, humanity has colonized sever...     TV    8.81  363889.0   \n",
       "1  Another day, another bounty—such is the life o...  Movie    8.41  111187.0   \n",
       "2  Vash the Stampede is the man with a $$60,000,0...     TV    8.31  197451.0   \n",
       "3  Witches are individuals with special powers li...     TV    7.34   31875.0   \n",
       "4  It is the dark century and the people are suff...     TV    7.04    4757.0   \n",
       "\n",
       "   Popularity   Members  Episodes    Source  \n",
       "0        39.0  704490.0      26.0  Original  \n",
       "1       475.0  179899.0       1.0  Original  \n",
       "2       158.0  372709.0      26.0     Manga  \n",
       "3      1278.0   74889.0      26.0  Original  \n",
       "4      3968.0   11247.0      52.0     Manga  "
      ]
     },
     "execution_count": 13,
     "metadata": {},
     "output_type": "execute_result"
    }
   ],
   "source": [
    "df.head()"
   ]
  },
  {
   "cell_type": "code",
   "execution_count": 14,
   "id": "df2e2396",
   "metadata": {
    "execution": {
     "iopub.execute_input": "2022-02-11T19:17:43.020632Z",
     "iopub.status.busy": "2022-02-11T19:17:43.019680Z",
     "iopub.status.idle": "2022-02-11T19:17:43.037684Z",
     "shell.execute_reply": "2022-02-11T19:17:43.038178Z",
     "shell.execute_reply.started": "2022-02-11T18:56:40.677030Z"
    },
    "papermill": {
     "duration": 0.071584,
     "end_time": "2022-02-11T19:17:43.038373",
     "exception": false,
     "start_time": "2022-02-11T19:17:42.966789",
     "status": "completed"
    },
    "tags": []
   },
   "outputs": [],
   "source": [
    "df = df.join(pd.get_dummies(df['Source'],prefix='src',drop_first=True))\n",
    "df.drop('Source',axis=1,inplace=True)"
   ]
  },
  {
   "cell_type": "code",
   "execution_count": 15,
   "id": "0eb38ddd",
   "metadata": {
    "execution": {
     "iopub.execute_input": "2022-02-11T19:17:43.139668Z",
     "iopub.status.busy": "2022-02-11T19:17:43.133966Z",
     "iopub.status.idle": "2022-02-11T19:17:43.148086Z",
     "shell.execute_reply": "2022-02-11T19:17:43.148631Z",
     "shell.execute_reply.started": "2022-02-11T18:56:41.944053Z"
    },
    "papermill": {
     "duration": 0.06312,
     "end_time": "2022-02-11T19:17:43.148819",
     "exception": false,
     "start_time": "2022-02-11T19:17:43.085699",
     "status": "completed"
    },
    "tags": []
   },
   "outputs": [],
   "source": [
    "df = df.join(pd.get_dummies(df['Type'],prefix='type',drop_first=True))\n",
    "df.drop('Type',axis=1,inplace=True)"
   ]
  },
  {
   "cell_type": "code",
   "execution_count": 16,
   "id": "e10c81e3",
   "metadata": {
    "execution": {
     "iopub.execute_input": "2022-02-11T19:17:43.244361Z",
     "iopub.status.busy": "2022-02-11T19:17:43.243447Z",
     "iopub.status.idle": "2022-02-11T19:17:43.266256Z",
     "shell.execute_reply": "2022-02-11T19:17:43.266841Z",
     "shell.execute_reply.started": "2022-02-11T18:56:42.468503Z"
    },
    "papermill": {
     "duration": 0.071592,
     "end_time": "2022-02-11T19:17:43.267022",
     "exception": false,
     "start_time": "2022-02-11T19:17:43.195430",
     "status": "completed"
    },
    "tags": []
   },
   "outputs": [
    {
     "data": {
      "text/html": [
       "<div>\n",
       "<style scoped>\n",
       "    .dataframe tbody tr th:only-of-type {\n",
       "        vertical-align: middle;\n",
       "    }\n",
       "\n",
       "    .dataframe tbody tr th {\n",
       "        vertical-align: top;\n",
       "    }\n",
       "\n",
       "    .dataframe thead th {\n",
       "        text-align: right;\n",
       "    }\n",
       "</style>\n",
       "<table border=\"1\" class=\"dataframe\">\n",
       "  <thead>\n",
       "    <tr style=\"text-align: right;\">\n",
       "      <th></th>\n",
       "      <th>Title</th>\n",
       "      <th>Genre</th>\n",
       "      <th>Synopsis</th>\n",
       "      <th>Rating</th>\n",
       "      <th>ScoredBy</th>\n",
       "      <th>Popularity</th>\n",
       "      <th>Members</th>\n",
       "      <th>Episodes</th>\n",
       "      <th>src_Book</th>\n",
       "      <th>src_Card game</th>\n",
       "      <th>...</th>\n",
       "      <th>src_Radio</th>\n",
       "      <th>src_Unknown</th>\n",
       "      <th>src_Visual novel</th>\n",
       "      <th>src_Web manga</th>\n",
       "      <th>type_Music</th>\n",
       "      <th>type_ONA</th>\n",
       "      <th>type_OVA</th>\n",
       "      <th>type_Special</th>\n",
       "      <th>type_TV</th>\n",
       "      <th>type_Unknown</th>\n",
       "    </tr>\n",
       "  </thead>\n",
       "  <tbody>\n",
       "    <tr>\n",
       "      <th>0</th>\n",
       "      <td>Cowboy Bebop</td>\n",
       "      <td>['Action', 'Adventure', 'Comedy', 'Drama', 'Sc...</td>\n",
       "      <td>In the year 2071, humanity has colonized sever...</td>\n",
       "      <td>8.81</td>\n",
       "      <td>363889.0</td>\n",
       "      <td>39.0</td>\n",
       "      <td>704490.0</td>\n",
       "      <td>26.0</td>\n",
       "      <td>0</td>\n",
       "      <td>0</td>\n",
       "      <td>...</td>\n",
       "      <td>0</td>\n",
       "      <td>0</td>\n",
       "      <td>0</td>\n",
       "      <td>0</td>\n",
       "      <td>0</td>\n",
       "      <td>0</td>\n",
       "      <td>0</td>\n",
       "      <td>0</td>\n",
       "      <td>1</td>\n",
       "      <td>0</td>\n",
       "    </tr>\n",
       "    <tr>\n",
       "      <th>1</th>\n",
       "      <td>Cowboy Bebop: Tengoku no Tobira</td>\n",
       "      <td>['Action', 'Space', 'Drama', 'Mystery', 'Sci-Fi']</td>\n",
       "      <td>Another day, another bounty—such is the life o...</td>\n",
       "      <td>8.41</td>\n",
       "      <td>111187.0</td>\n",
       "      <td>475.0</td>\n",
       "      <td>179899.0</td>\n",
       "      <td>1.0</td>\n",
       "      <td>0</td>\n",
       "      <td>0</td>\n",
       "      <td>...</td>\n",
       "      <td>0</td>\n",
       "      <td>0</td>\n",
       "      <td>0</td>\n",
       "      <td>0</td>\n",
       "      <td>0</td>\n",
       "      <td>0</td>\n",
       "      <td>0</td>\n",
       "      <td>0</td>\n",
       "      <td>0</td>\n",
       "      <td>0</td>\n",
       "    </tr>\n",
       "    <tr>\n",
       "      <th>2</th>\n",
       "      <td>Trigun</td>\n",
       "      <td>['Action', 'Sci-Fi', 'Adventure', 'Comedy', 'D...</td>\n",
       "      <td>Vash the Stampede is the man with a $$60,000,0...</td>\n",
       "      <td>8.31</td>\n",
       "      <td>197451.0</td>\n",
       "      <td>158.0</td>\n",
       "      <td>372709.0</td>\n",
       "      <td>26.0</td>\n",
       "      <td>0</td>\n",
       "      <td>0</td>\n",
       "      <td>...</td>\n",
       "      <td>0</td>\n",
       "      <td>0</td>\n",
       "      <td>0</td>\n",
       "      <td>0</td>\n",
       "      <td>0</td>\n",
       "      <td>0</td>\n",
       "      <td>0</td>\n",
       "      <td>0</td>\n",
       "      <td>1</td>\n",
       "      <td>0</td>\n",
       "    </tr>\n",
       "    <tr>\n",
       "      <th>3</th>\n",
       "      <td>Witch Hunter Robin</td>\n",
       "      <td>['Action', 'Magic', 'Police', 'Supernatural', ...</td>\n",
       "      <td>Witches are individuals with special powers li...</td>\n",
       "      <td>7.34</td>\n",
       "      <td>31875.0</td>\n",
       "      <td>1278.0</td>\n",
       "      <td>74889.0</td>\n",
       "      <td>26.0</td>\n",
       "      <td>0</td>\n",
       "      <td>0</td>\n",
       "      <td>...</td>\n",
       "      <td>0</td>\n",
       "      <td>0</td>\n",
       "      <td>0</td>\n",
       "      <td>0</td>\n",
       "      <td>0</td>\n",
       "      <td>0</td>\n",
       "      <td>0</td>\n",
       "      <td>0</td>\n",
       "      <td>1</td>\n",
       "      <td>0</td>\n",
       "    </tr>\n",
       "    <tr>\n",
       "      <th>4</th>\n",
       "      <td>Bouken Ou Beet</td>\n",
       "      <td>['Adventure', 'Fantasy', 'Shounen', 'Supernatu...</td>\n",
       "      <td>It is the dark century and the people are suff...</td>\n",
       "      <td>7.04</td>\n",
       "      <td>4757.0</td>\n",
       "      <td>3968.0</td>\n",
       "      <td>11247.0</td>\n",
       "      <td>52.0</td>\n",
       "      <td>0</td>\n",
       "      <td>0</td>\n",
       "      <td>...</td>\n",
       "      <td>0</td>\n",
       "      <td>0</td>\n",
       "      <td>0</td>\n",
       "      <td>0</td>\n",
       "      <td>0</td>\n",
       "      <td>0</td>\n",
       "      <td>0</td>\n",
       "      <td>0</td>\n",
       "      <td>1</td>\n",
       "      <td>0</td>\n",
       "    </tr>\n",
       "  </tbody>\n",
       "</table>\n",
       "<p>5 rows × 29 columns</p>\n",
       "</div>"
      ],
      "text/plain": [
       "                             Title  \\\n",
       "0                     Cowboy Bebop   \n",
       "1  Cowboy Bebop: Tengoku no Tobira   \n",
       "2                           Trigun   \n",
       "3               Witch Hunter Robin   \n",
       "4                   Bouken Ou Beet   \n",
       "\n",
       "                                               Genre  \\\n",
       "0  ['Action', 'Adventure', 'Comedy', 'Drama', 'Sc...   \n",
       "1  ['Action', 'Space', 'Drama', 'Mystery', 'Sci-Fi']   \n",
       "2  ['Action', 'Sci-Fi', 'Adventure', 'Comedy', 'D...   \n",
       "3  ['Action', 'Magic', 'Police', 'Supernatural', ...   \n",
       "4  ['Adventure', 'Fantasy', 'Shounen', 'Supernatu...   \n",
       "\n",
       "                                            Synopsis  Rating  ScoredBy  \\\n",
       "0  In the year 2071, humanity has colonized sever...    8.81  363889.0   \n",
       "1  Another day, another bounty—such is the life o...    8.41  111187.0   \n",
       "2  Vash the Stampede is the man with a $$60,000,0...    8.31  197451.0   \n",
       "3  Witches are individuals with special powers li...    7.34   31875.0   \n",
       "4  It is the dark century and the people are suff...    7.04    4757.0   \n",
       "\n",
       "   Popularity   Members  Episodes  src_Book  src_Card game  ...  src_Radio  \\\n",
       "0        39.0  704490.0      26.0         0              0  ...          0   \n",
       "1       475.0  179899.0       1.0         0              0  ...          0   \n",
       "2       158.0  372709.0      26.0         0              0  ...          0   \n",
       "3      1278.0   74889.0      26.0         0              0  ...          0   \n",
       "4      3968.0   11247.0      52.0         0              0  ...          0   \n",
       "\n",
       "   src_Unknown  src_Visual novel  src_Web manga  type_Music  type_ONA  \\\n",
       "0            0                 0              0           0         0   \n",
       "1            0                 0              0           0         0   \n",
       "2            0                 0              0           0         0   \n",
       "3            0                 0              0           0         0   \n",
       "4            0                 0              0           0         0   \n",
       "\n",
       "   type_OVA  type_Special  type_TV  type_Unknown  \n",
       "0         0             0        1             0  \n",
       "1         0             0        0             0  \n",
       "2         0             0        1             0  \n",
       "3         0             0        1             0  \n",
       "4         0             0        1             0  \n",
       "\n",
       "[5 rows x 29 columns]"
      ]
     },
     "execution_count": 16,
     "metadata": {},
     "output_type": "execute_result"
    }
   ],
   "source": [
    "df.head()"
   ]
  },
  {
   "cell_type": "code",
   "execution_count": 17,
   "id": "b67c44ac",
   "metadata": {
    "execution": {
     "iopub.execute_input": "2022-02-11T19:17:43.362225Z",
     "iopub.status.busy": "2022-02-11T19:17:43.361272Z",
     "iopub.status.idle": "2022-02-11T19:17:43.368544Z",
     "shell.execute_reply": "2022-02-11T19:17:43.368991Z",
     "shell.execute_reply.started": "2022-02-11T18:56:44.242903Z"
    },
    "papermill": {
     "duration": 0.056378,
     "end_time": "2022-02-11T19:17:43.369163",
     "exception": false,
     "start_time": "2022-02-11T19:17:43.312785",
     "status": "completed"
    },
    "tags": []
   },
   "outputs": [
    {
     "data": {
      "text/plain": [
       "0        ['Action', 'Adventure', 'Comedy', 'Drama', 'Sc...\n",
       "1        ['Action', 'Space', 'Drama', 'Mystery', 'Sci-Fi']\n",
       "2        ['Action', 'Sci-Fi', 'Adventure', 'Comedy', 'D...\n",
       "3        ['Action', 'Magic', 'Police', 'Supernatural', ...\n",
       "4        ['Adventure', 'Fantasy', 'Shounen', 'Supernatu...\n",
       "                               ...                        \n",
       "16997                                                  NaN\n",
       "16998                                                  NaN\n",
       "16999                                                  NaN\n",
       "17000                                                  NaN\n",
       "17001                                                  NaN\n",
       "Name: Genre, Length: 16737, dtype: object"
      ]
     },
     "execution_count": 17,
     "metadata": {},
     "output_type": "execute_result"
    }
   ],
   "source": [
    "df['Genre']"
   ]
  },
  {
   "cell_type": "code",
   "execution_count": 18,
   "id": "1cd76c5c",
   "metadata": {
    "execution": {
     "iopub.execute_input": "2022-02-11T19:17:43.464901Z",
     "iopub.status.busy": "2022-02-11T19:17:43.463877Z",
     "iopub.status.idle": "2022-02-11T19:17:43.484485Z",
     "shell.execute_reply": "2022-02-11T19:17:43.483871Z",
     "shell.execute_reply.started": "2022-02-11T18:56:45.488632Z"
    },
    "papermill": {
     "duration": 0.069523,
     "end_time": "2022-02-11T19:17:43.484625",
     "exception": false,
     "start_time": "2022-02-11T19:17:43.415102",
     "status": "completed"
    },
    "tags": []
   },
   "outputs": [
    {
     "data": {
      "text/plain": [
       "0.27233076417518076"
      ]
     },
     "execution_count": 18,
     "metadata": {},
     "output_type": "execute_result"
    }
   ],
   "source": [
    "(df.shape[0] - df.dropna().shape[0]) / df.shape[0]"
   ]
  },
  {
   "cell_type": "code",
   "execution_count": 19,
   "id": "66781956",
   "metadata": {
    "execution": {
     "iopub.execute_input": "2022-02-11T19:17:43.588805Z",
     "iopub.status.busy": "2022-02-11T19:17:43.588077Z",
     "iopub.status.idle": "2022-02-11T19:17:43.597377Z",
     "shell.execute_reply": "2022-02-11T19:17:43.596790Z",
     "shell.execute_reply.started": "2022-02-11T18:56:45.771641Z"
    },
    "papermill": {
     "duration": 0.066404,
     "end_time": "2022-02-11T19:17:43.597562",
     "exception": false,
     "start_time": "2022-02-11T19:17:43.531158",
     "status": "completed"
    },
    "tags": []
   },
   "outputs": [],
   "source": [
    "df.dropna(inplace=True)"
   ]
  },
  {
   "cell_type": "code",
   "execution_count": 20,
   "id": "71f5a5c0",
   "metadata": {
    "execution": {
     "iopub.execute_input": "2022-02-11T19:17:43.698265Z",
     "iopub.status.busy": "2022-02-11T19:17:43.697630Z",
     "iopub.status.idle": "2022-02-11T19:17:43.700348Z",
     "shell.execute_reply": "2022-02-11T19:17:43.700867Z",
     "shell.execute_reply.started": "2022-02-11T18:56:47.199778Z"
    },
    "papermill": {
     "duration": 0.057091,
     "end_time": "2022-02-11T19:17:43.701041",
     "exception": false,
     "start_time": "2022-02-11T19:17:43.643950",
     "status": "completed"
    },
    "tags": []
   },
   "outputs": [
    {
     "data": {
      "text/plain": [
       "Title                 object\n",
       "Genre                 object\n",
       "Synopsis              object\n",
       "Rating               float64\n",
       "ScoredBy             float64\n",
       "Popularity           float64\n",
       "Members              float64\n",
       "Episodes             float64\n",
       "src_Book               uint8\n",
       "src_Card game          uint8\n",
       "src_Digital manga      uint8\n",
       "src_Game               uint8\n",
       "src_Light novel        uint8\n",
       "src_Manga              uint8\n",
       "src_Music              uint8\n",
       "src_Novel              uint8\n",
       "src_Original           uint8\n",
       "src_Other              uint8\n",
       "src_Picture book       uint8\n",
       "src_Radio              uint8\n",
       "src_Unknown            uint8\n",
       "src_Visual novel       uint8\n",
       "src_Web manga          uint8\n",
       "type_Music             uint8\n",
       "type_ONA               uint8\n",
       "type_OVA               uint8\n",
       "type_Special           uint8\n",
       "type_TV                uint8\n",
       "type_Unknown           uint8\n",
       "dtype: object"
      ]
     },
     "execution_count": 20,
     "metadata": {},
     "output_type": "execute_result"
    }
   ],
   "source": [
    "df.dtypes"
   ]
  },
  {
   "cell_type": "code",
   "execution_count": 21,
   "id": "77d2593b",
   "metadata": {
    "execution": {
     "iopub.execute_input": "2022-02-11T19:17:43.800178Z",
     "iopub.status.busy": "2022-02-11T19:17:43.799540Z",
     "iopub.status.idle": "2022-02-11T19:17:43.801242Z",
     "shell.execute_reply": "2022-02-11T19:17:43.801700Z",
     "shell.execute_reply.started": "2022-02-11T18:56:49.444254Z"
    },
    "papermill": {
     "duration": 0.054221,
     "end_time": "2022-02-11T19:17:43.801872",
     "exception": false,
     "start_time": "2022-02-11T19:17:43.747651",
     "status": "completed"
    },
    "tags": []
   },
   "outputs": [],
   "source": [
    "import ast\n",
    "\n",
    "def parse_list(x):\n",
    "    x = ast.literal_eval(x)\n",
    "    x = [n.strip() for n in x]\n",
    "    return(x)"
   ]
  },
  {
   "cell_type": "code",
   "execution_count": 22,
   "id": "f355f030",
   "metadata": {
    "execution": {
     "iopub.execute_input": "2022-02-11T19:17:43.899196Z",
     "iopub.status.busy": "2022-02-11T19:17:43.898554Z",
     "iopub.status.idle": "2022-02-11T19:17:44.160240Z",
     "shell.execute_reply": "2022-02-11T19:17:44.159680Z",
     "shell.execute_reply.started": "2022-02-11T18:56:49.841637Z"
    },
    "papermill": {
     "duration": 0.311042,
     "end_time": "2022-02-11T19:17:44.160420",
     "exception": false,
     "start_time": "2022-02-11T19:17:43.849378",
     "status": "completed"
    },
    "tags": []
   },
   "outputs": [],
   "source": [
    "df['Genre'] = df['Genre'].apply(parse_list)"
   ]
  },
  {
   "cell_type": "code",
   "execution_count": 23,
   "id": "0a2d3fc1",
   "metadata": {
    "execution": {
     "iopub.execute_input": "2022-02-11T19:17:44.266469Z",
     "iopub.status.busy": "2022-02-11T19:17:44.265474Z",
     "iopub.status.idle": "2022-02-11T19:17:44.344306Z",
     "shell.execute_reply": "2022-02-11T19:17:44.344780Z",
     "shell.execute_reply.started": "2022-02-11T18:56:50.303205Z"
    },
    "papermill": {
     "duration": 0.137752,
     "end_time": "2022-02-11T19:17:44.344970",
     "exception": false,
     "start_time": "2022-02-11T19:17:44.207218",
     "status": "completed"
    },
    "tags": []
   },
   "outputs": [
    {
     "name": "stderr",
     "output_type": "stream",
     "text": [
      "/opt/conda/lib/python3.7/site-packages/ipykernel_launcher.py:1: FutureWarning: Using the level keyword in DataFrame and Series aggregations is deprecated and will be removed in a future version. Use groupby instead. df.sum(level=1) should use df.groupby(level=1).sum().\n",
      "  \"\"\"Entry point for launching an IPython kernel.\n"
     ]
    }
   ],
   "source": [
    "df = df.join(pd.get_dummies(df['Genre'].explode(),prefix='genre',drop_first=True).sum(level=0))\n",
    "df.drop('Genre',axis=1,inplace=True)"
   ]
  },
  {
   "cell_type": "code",
   "execution_count": 24,
   "id": "94444c58",
   "metadata": {
    "execution": {
     "iopub.execute_input": "2022-02-11T19:17:44.462299Z",
     "iopub.status.busy": "2022-02-11T19:17:44.461483Z",
     "iopub.status.idle": "2022-02-11T19:17:44.464955Z",
     "shell.execute_reply": "2022-02-11T19:17:44.465455Z",
     "shell.execute_reply.started": "2022-02-11T18:56:52.765551Z"
    },
    "papermill": {
     "duration": 0.073705,
     "end_time": "2022-02-11T19:17:44.465629",
     "exception": false,
     "start_time": "2022-02-11T19:17:44.391924",
     "status": "completed"
    },
    "tags": []
   },
   "outputs": [
    {
     "data": {
      "text/html": [
       "<div>\n",
       "<style scoped>\n",
       "    .dataframe tbody tr th:only-of-type {\n",
       "        vertical-align: middle;\n",
       "    }\n",
       "\n",
       "    .dataframe tbody tr th {\n",
       "        vertical-align: top;\n",
       "    }\n",
       "\n",
       "    .dataframe thead th {\n",
       "        text-align: right;\n",
       "    }\n",
       "</style>\n",
       "<table border=\"1\" class=\"dataframe\">\n",
       "  <thead>\n",
       "    <tr style=\"text-align: right;\">\n",
       "      <th></th>\n",
       "      <th>Title</th>\n",
       "      <th>Synopsis</th>\n",
       "      <th>Rating</th>\n",
       "      <th>ScoredBy</th>\n",
       "      <th>Popularity</th>\n",
       "      <th>Members</th>\n",
       "      <th>Episodes</th>\n",
       "      <th>src_Book</th>\n",
       "      <th>src_Card game</th>\n",
       "      <th>src_Digital manga</th>\n",
       "      <th>...</th>\n",
       "      <th>genre_Shounen Ai</th>\n",
       "      <th>genre_Slice of Life</th>\n",
       "      <th>genre_Space</th>\n",
       "      <th>genre_Sports</th>\n",
       "      <th>genre_Super Power</th>\n",
       "      <th>genre_Supernatural</th>\n",
       "      <th>genre_Thriller</th>\n",
       "      <th>genre_Vampire</th>\n",
       "      <th>genre_Yaoi</th>\n",
       "      <th>genre_Yuri</th>\n",
       "    </tr>\n",
       "  </thead>\n",
       "  <tbody>\n",
       "    <tr>\n",
       "      <th>0</th>\n",
       "      <td>Cowboy Bebop</td>\n",
       "      <td>In the year 2071, humanity has colonized sever...</td>\n",
       "      <td>8.81</td>\n",
       "      <td>363889.0</td>\n",
       "      <td>39.0</td>\n",
       "      <td>704490.0</td>\n",
       "      <td>26.0</td>\n",
       "      <td>0</td>\n",
       "      <td>0</td>\n",
       "      <td>0</td>\n",
       "      <td>...</td>\n",
       "      <td>0</td>\n",
       "      <td>0</td>\n",
       "      <td>1</td>\n",
       "      <td>0</td>\n",
       "      <td>0</td>\n",
       "      <td>0</td>\n",
       "      <td>0</td>\n",
       "      <td>0</td>\n",
       "      <td>0</td>\n",
       "      <td>0</td>\n",
       "    </tr>\n",
       "    <tr>\n",
       "      <th>1</th>\n",
       "      <td>Cowboy Bebop: Tengoku no Tobira</td>\n",
       "      <td>Another day, another bounty—such is the life o...</td>\n",
       "      <td>8.41</td>\n",
       "      <td>111187.0</td>\n",
       "      <td>475.0</td>\n",
       "      <td>179899.0</td>\n",
       "      <td>1.0</td>\n",
       "      <td>0</td>\n",
       "      <td>0</td>\n",
       "      <td>0</td>\n",
       "      <td>...</td>\n",
       "      <td>0</td>\n",
       "      <td>0</td>\n",
       "      <td>1</td>\n",
       "      <td>0</td>\n",
       "      <td>0</td>\n",
       "      <td>0</td>\n",
       "      <td>0</td>\n",
       "      <td>0</td>\n",
       "      <td>0</td>\n",
       "      <td>0</td>\n",
       "    </tr>\n",
       "    <tr>\n",
       "      <th>2</th>\n",
       "      <td>Trigun</td>\n",
       "      <td>Vash the Stampede is the man with a $$60,000,0...</td>\n",
       "      <td>8.31</td>\n",
       "      <td>197451.0</td>\n",
       "      <td>158.0</td>\n",
       "      <td>372709.0</td>\n",
       "      <td>26.0</td>\n",
       "      <td>0</td>\n",
       "      <td>0</td>\n",
       "      <td>0</td>\n",
       "      <td>...</td>\n",
       "      <td>0</td>\n",
       "      <td>0</td>\n",
       "      <td>0</td>\n",
       "      <td>0</td>\n",
       "      <td>0</td>\n",
       "      <td>0</td>\n",
       "      <td>0</td>\n",
       "      <td>0</td>\n",
       "      <td>0</td>\n",
       "      <td>0</td>\n",
       "    </tr>\n",
       "    <tr>\n",
       "      <th>3</th>\n",
       "      <td>Witch Hunter Robin</td>\n",
       "      <td>Witches are individuals with special powers li...</td>\n",
       "      <td>7.34</td>\n",
       "      <td>31875.0</td>\n",
       "      <td>1278.0</td>\n",
       "      <td>74889.0</td>\n",
       "      <td>26.0</td>\n",
       "      <td>0</td>\n",
       "      <td>0</td>\n",
       "      <td>0</td>\n",
       "      <td>...</td>\n",
       "      <td>0</td>\n",
       "      <td>0</td>\n",
       "      <td>0</td>\n",
       "      <td>0</td>\n",
       "      <td>0</td>\n",
       "      <td>1</td>\n",
       "      <td>0</td>\n",
       "      <td>0</td>\n",
       "      <td>0</td>\n",
       "      <td>0</td>\n",
       "    </tr>\n",
       "    <tr>\n",
       "      <th>4</th>\n",
       "      <td>Bouken Ou Beet</td>\n",
       "      <td>It is the dark century and the people are suff...</td>\n",
       "      <td>7.04</td>\n",
       "      <td>4757.0</td>\n",
       "      <td>3968.0</td>\n",
       "      <td>11247.0</td>\n",
       "      <td>52.0</td>\n",
       "      <td>0</td>\n",
       "      <td>0</td>\n",
       "      <td>0</td>\n",
       "      <td>...</td>\n",
       "      <td>0</td>\n",
       "      <td>0</td>\n",
       "      <td>0</td>\n",
       "      <td>0</td>\n",
       "      <td>0</td>\n",
       "      <td>1</td>\n",
       "      <td>0</td>\n",
       "      <td>0</td>\n",
       "      <td>0</td>\n",
       "      <td>0</td>\n",
       "    </tr>\n",
       "  </tbody>\n",
       "</table>\n",
       "<p>5 rows × 70 columns</p>\n",
       "</div>"
      ],
      "text/plain": [
       "                             Title  \\\n",
       "0                     Cowboy Bebop   \n",
       "1  Cowboy Bebop: Tengoku no Tobira   \n",
       "2                           Trigun   \n",
       "3               Witch Hunter Robin   \n",
       "4                   Bouken Ou Beet   \n",
       "\n",
       "                                            Synopsis  Rating  ScoredBy  \\\n",
       "0  In the year 2071, humanity has colonized sever...    8.81  363889.0   \n",
       "1  Another day, another bounty—such is the life o...    8.41  111187.0   \n",
       "2  Vash the Stampede is the man with a $$60,000,0...    8.31  197451.0   \n",
       "3  Witches are individuals with special powers li...    7.34   31875.0   \n",
       "4  It is the dark century and the people are suff...    7.04    4757.0   \n",
       "\n",
       "   Popularity   Members  Episodes  src_Book  src_Card game  src_Digital manga  \\\n",
       "0        39.0  704490.0      26.0         0              0                  0   \n",
       "1       475.0  179899.0       1.0         0              0                  0   \n",
       "2       158.0  372709.0      26.0         0              0                  0   \n",
       "3      1278.0   74889.0      26.0         0              0                  0   \n",
       "4      3968.0   11247.0      52.0         0              0                  0   \n",
       "\n",
       "   ...  genre_Shounen Ai  genre_Slice of Life  genre_Space  genre_Sports  \\\n",
       "0  ...                 0                    0            1             0   \n",
       "1  ...                 0                    0            1             0   \n",
       "2  ...                 0                    0            0             0   \n",
       "3  ...                 0                    0            0             0   \n",
       "4  ...                 0                    0            0             0   \n",
       "\n",
       "   genre_Super Power  genre_Supernatural  genre_Thriller  genre_Vampire  \\\n",
       "0                  0                   0               0              0   \n",
       "1                  0                   0               0              0   \n",
       "2                  0                   0               0              0   \n",
       "3                  0                   1               0              0   \n",
       "4                  0                   1               0              0   \n",
       "\n",
       "   genre_Yaoi  genre_Yuri  \n",
       "0           0           0  \n",
       "1           0           0  \n",
       "2           0           0  \n",
       "3           0           0  \n",
       "4           0           0  \n",
       "\n",
       "[5 rows x 70 columns]"
      ]
     },
     "execution_count": 24,
     "metadata": {},
     "output_type": "execute_result"
    }
   ],
   "source": [
    "df.head()"
   ]
  },
  {
   "cell_type": "markdown",
   "id": "999bc0b9",
   "metadata": {
    "papermill": {
     "duration": 0.04794,
     "end_time": "2022-02-11T19:17:44.561243",
     "exception": false,
     "start_time": "2022-02-11T19:17:44.513303",
     "status": "completed"
    },
    "tags": []
   },
   "source": []
  },
  {
   "cell_type": "code",
   "execution_count": 25,
   "id": "53109c5d",
   "metadata": {
    "execution": {
     "iopub.execute_input": "2022-02-11T19:17:44.660970Z",
     "iopub.status.busy": "2022-02-11T19:17:44.660002Z",
     "iopub.status.idle": "2022-02-11T19:17:44.666370Z",
     "shell.execute_reply": "2022-02-11T19:17:44.666852Z",
     "shell.execute_reply.started": "2022-02-11T18:59:05.378265Z"
    },
    "papermill": {
     "duration": 0.057591,
     "end_time": "2022-02-11T19:17:44.667030",
     "exception": false,
     "start_time": "2022-02-11T19:17:44.609439",
     "status": "completed"
    },
    "tags": []
   },
   "outputs": [],
   "source": [
    "X = df.drop(['Title','Rating'],axis=1)\n",
    "y = df['Rating']"
   ]
  },
  {
   "cell_type": "code",
   "execution_count": 26,
   "id": "d8b4b0ee",
   "metadata": {
    "execution": {
     "iopub.execute_input": "2022-02-11T19:17:44.766129Z",
     "iopub.status.busy": "2022-02-11T19:17:44.765141Z",
     "iopub.status.idle": "2022-02-11T19:17:45.700934Z",
     "shell.execute_reply": "2022-02-11T19:17:45.700347Z",
     "shell.execute_reply.started": "2022-02-11T19:00:19.205458Z"
    },
    "papermill": {
     "duration": 0.986498,
     "end_time": "2022-02-11T19:17:45.701106",
     "exception": false,
     "start_time": "2022-02-11T19:17:44.714608",
     "status": "completed"
    },
    "tags": []
   },
   "outputs": [],
   "source": [
    "from sklearn.model_selection import train_test_split\n",
    "\n",
    "X_train,X_test,y_train,y_test = train_test_split(X,y,test_size=.25,random_state=123)"
   ]
  },
  {
   "cell_type": "markdown",
   "id": "cedc226d",
   "metadata": {
    "papermill": {
     "duration": 0.047393,
     "end_time": "2022-02-11T19:17:45.796568",
     "exception": false,
     "start_time": "2022-02-11T19:17:45.749175",
     "status": "completed"
    },
    "tags": []
   },
   "source": [
    "# PART 2 - predict rating from non-word features"
   ]
  },
  {
   "cell_type": "code",
   "execution_count": 27,
   "id": "a7b3f9fa",
   "metadata": {
    "execution": {
     "iopub.execute_input": "2022-02-11T19:17:45.896688Z",
     "iopub.status.busy": "2022-02-11T19:17:45.895668Z",
     "iopub.status.idle": "2022-02-11T19:17:45.902346Z",
     "shell.execute_reply": "2022-02-11T19:17:45.902987Z",
     "shell.execute_reply.started": "2022-02-11T19:01:38.246046Z"
    },
    "papermill": {
     "duration": 0.058883,
     "end_time": "2022-02-11T19:17:45.903180",
     "exception": false,
     "start_time": "2022-02-11T19:17:45.844297",
     "status": "completed"
    },
    "tags": []
   },
   "outputs": [],
   "source": [
    "X1_train = X_train.drop('Synopsis',axis=1)\n",
    "X1_test = X_test.drop('Synopsis',axis=1)"
   ]
  },
  {
   "cell_type": "code",
   "execution_count": 28,
   "id": "95a2b541",
   "metadata": {
    "execution": {
     "iopub.execute_input": "2022-02-11T19:17:46.002589Z",
     "iopub.status.busy": "2022-02-11T19:17:46.001924Z",
     "iopub.status.idle": "2022-02-11T19:17:46.008594Z",
     "shell.execute_reply": "2022-02-11T19:17:46.009237Z",
     "shell.execute_reply.started": "2022-02-11T19:07:43.162503Z"
    },
    "papermill": {
     "duration": 0.057866,
     "end_time": "2022-02-11T19:17:46.009436",
     "exception": false,
     "start_time": "2022-02-11T19:17:45.951570",
     "status": "completed"
    },
    "tags": []
   },
   "outputs": [
    {
     "data": {
      "text/plain": [
       "ScoredBy              float64\n",
       "Popularity            float64\n",
       "Members               float64\n",
       "Episodes              float64\n",
       "src_Book                uint8\n",
       "                       ...   \n",
       "genre_Supernatural      uint8\n",
       "genre_Thriller          uint8\n",
       "genre_Vampire           uint8\n",
       "genre_Yaoi              uint8\n",
       "genre_Yuri              uint8\n",
       "Length: 67, dtype: object"
      ]
     },
     "execution_count": 28,
     "metadata": {},
     "output_type": "execute_result"
    }
   ],
   "source": [
    "X1_train.dtypes"
   ]
  },
  {
   "cell_type": "code",
   "execution_count": 29,
   "id": "2f36d84e",
   "metadata": {
    "execution": {
     "iopub.execute_input": "2022-02-11T19:17:46.111450Z",
     "iopub.status.busy": "2022-02-11T19:17:46.110791Z",
     "iopub.status.idle": "2022-02-11T19:17:46.195577Z",
     "shell.execute_reply": "2022-02-11T19:17:46.194937Z",
     "shell.execute_reply.started": "2022-02-11T19:10:11.391036Z"
    },
    "papermill": {
     "duration": 0.137804,
     "end_time": "2022-02-11T19:17:46.195732",
     "exception": false,
     "start_time": "2022-02-11T19:17:46.057928",
     "status": "completed"
    },
    "tags": []
   },
   "outputs": [],
   "source": [
    "import xgboost as xgb\n",
    "\n",
    "boost = xgb.XGBRegressor(n_estimators=10,seed=123)"
   ]
  },
  {
   "cell_type": "code",
   "execution_count": 30,
   "id": "6043e7d2",
   "metadata": {
    "execution": {
     "iopub.execute_input": "2022-02-11T19:17:46.297824Z",
     "iopub.status.busy": "2022-02-11T19:17:46.297103Z",
     "iopub.status.idle": "2022-02-11T19:17:46.541993Z",
     "shell.execute_reply": "2022-02-11T19:17:46.542589Z",
     "shell.execute_reply.started": "2022-02-11T19:10:26.652437Z"
    },
    "papermill": {
     "duration": 0.297285,
     "end_time": "2022-02-11T19:17:46.542800",
     "exception": false,
     "start_time": "2022-02-11T19:17:46.245515",
     "status": "completed"
    },
    "tags": []
   },
   "outputs": [],
   "source": [
    "boost.fit(X1_train,y_train)\n",
    "\n",
    "preds = boost.predict(X1_test)"
   ]
  },
  {
   "cell_type": "code",
   "execution_count": 31,
   "id": "ed7ce079",
   "metadata": {
    "execution": {
     "iopub.execute_input": "2022-02-11T19:17:46.647180Z",
     "iopub.status.busy": "2022-02-11T19:17:46.643954Z",
     "iopub.status.idle": "2022-02-11T19:17:46.650112Z",
     "shell.execute_reply": "2022-02-11T19:17:46.650634Z",
     "shell.execute_reply.started": "2022-02-11T19:13:53.798859Z"
    },
    "papermill": {
     "duration": 0.057537,
     "end_time": "2022-02-11T19:17:46.650805",
     "exception": false,
     "start_time": "2022-02-11T19:17:46.593268",
     "status": "completed"
    },
    "tags": []
   },
   "outputs": [
    {
     "name": "stdout",
     "output_type": "stream",
     "text": [
      "RMSE: 0.6836235997139871\n"
     ]
    }
   ],
   "source": [
    "from sklearn.metrics import mean_squared_error\n",
    "\n",
    "print('RMSE: {}'.format(mean_squared_error(y_test,preds)**(1/2)))"
   ]
  },
  {
   "cell_type": "code",
   "execution_count": null,
   "id": "bb9d9b3a",
   "metadata": {
    "papermill": {
     "duration": 0.047955,
     "end_time": "2022-02-11T19:17:46.747195",
     "exception": false,
     "start_time": "2022-02-11T19:17:46.699240",
     "status": "completed"
    },
    "tags": []
   },
   "outputs": [],
   "source": []
  },
  {
   "cell_type": "code",
   "execution_count": null,
   "id": "e6054d2e",
   "metadata": {
    "papermill": {
     "duration": 0.054034,
     "end_time": "2022-02-11T19:17:46.849378",
     "exception": false,
     "start_time": "2022-02-11T19:17:46.795344",
     "status": "completed"
    },
    "tags": []
   },
   "outputs": [],
   "source": []
  },
  {
   "cell_type": "code",
   "execution_count": null,
   "id": "55767f17",
   "metadata": {
    "papermill": {
     "duration": 0.049099,
     "end_time": "2022-02-11T19:17:46.946902",
     "exception": false,
     "start_time": "2022-02-11T19:17:46.897803",
     "status": "completed"
    },
    "tags": []
   },
   "outputs": [],
   "source": []
  },
  {
   "cell_type": "code",
   "execution_count": null,
   "id": "4e845420",
   "metadata": {
    "papermill": {
     "duration": 0.049022,
     "end_time": "2022-02-11T19:17:47.045542",
     "exception": false,
     "start_time": "2022-02-11T19:17:46.996520",
     "status": "completed"
    },
    "tags": []
   },
   "outputs": [],
   "source": []
  },
  {
   "cell_type": "code",
   "execution_count": null,
   "id": "97793685",
   "metadata": {
    "papermill": {
     "duration": 0.047949,
     "end_time": "2022-02-11T19:17:47.142013",
     "exception": false,
     "start_time": "2022-02-11T19:17:47.094064",
     "status": "completed"
    },
    "tags": []
   },
   "outputs": [],
   "source": []
  },
  {
   "cell_type": "code",
   "execution_count": null,
   "id": "99fd502e",
   "metadata": {
    "papermill": {
     "duration": 0.047883,
     "end_time": "2022-02-11T19:17:47.238363",
     "exception": false,
     "start_time": "2022-02-11T19:17:47.190480",
     "status": "completed"
    },
    "tags": []
   },
   "outputs": [],
   "source": []
  },
  {
   "cell_type": "markdown",
   "id": "5e4a4332",
   "metadata": {
    "papermill": {
     "duration": 0.048268,
     "end_time": "2022-02-11T19:17:47.335006",
     "exception": false,
     "start_time": "2022-02-11T19:17:47.286738",
     "status": "completed"
    },
    "tags": []
   },
   "source": [
    "# PART 3 - predict rating from tfidf_vect"
   ]
  },
  {
   "cell_type": "code",
   "execution_count": 32,
   "id": "f94f18e8",
   "metadata": {
    "execution": {
     "iopub.execute_input": "2022-02-11T19:17:47.437741Z",
     "iopub.status.busy": "2022-02-11T19:17:47.436672Z",
     "iopub.status.idle": "2022-02-11T19:17:47.439371Z",
     "shell.execute_reply": "2022-02-11T19:17:47.438742Z",
     "shell.execute_reply.started": "2022-02-11T18:51:35.292827Z"
    },
    "papermill": {
     "duration": 0.056157,
     "end_time": "2022-02-11T19:17:47.439530",
     "exception": false,
     "start_time": "2022-02-11T19:17:47.383373",
     "status": "completed"
    },
    "tags": []
   },
   "outputs": [],
   "source": [
    "import re\n",
    "\n",
    "def clean_text(x):\n",
    "    expr = '[^a-zA-Z]'\n",
    "    x = re.sub(expr,' ',x)\n",
    "    return(x)"
   ]
  },
  {
   "cell_type": "code",
   "execution_count": 33,
   "id": "3ae57826",
   "metadata": {
    "execution": {
     "iopub.execute_input": "2022-02-11T19:17:47.540561Z",
     "iopub.status.busy": "2022-02-11T19:17:47.539878Z",
     "iopub.status.idle": "2022-02-11T19:17:48.048703Z",
     "shell.execute_reply": "2022-02-11T19:17:48.048019Z",
     "shell.execute_reply.started": "2022-02-11T18:51:35.300783Z"
    },
    "papermill": {
     "duration": 0.560147,
     "end_time": "2022-02-11T19:17:48.048850",
     "exception": false,
     "start_time": "2022-02-11T19:17:47.488703",
     "status": "completed"
    },
    "tags": []
   },
   "outputs": [],
   "source": [
    "df['Synopsis'] = df['Synopsis'].apply(clean_text)"
   ]
  },
  {
   "cell_type": "code",
   "execution_count": 34,
   "id": "d26af4b8",
   "metadata": {
    "execution": {
     "iopub.execute_input": "2022-02-11T19:17:48.153864Z",
     "iopub.status.busy": "2022-02-11T19:17:48.153094Z",
     "iopub.status.idle": "2022-02-11T19:17:48.157663Z",
     "shell.execute_reply": "2022-02-11T19:17:48.158124Z",
     "shell.execute_reply.started": "2022-02-11T18:51:35.834578Z"
    },
    "papermill": {
     "duration": 0.059943,
     "end_time": "2022-02-11T19:17:48.158302",
     "exception": false,
     "start_time": "2022-02-11T19:17:48.098359",
     "status": "completed"
    },
    "tags": []
   },
   "outputs": [
    {
     "data": {
      "text/plain": [
       "0        In the year       humanity has colonized sever...\n",
       "1        Another day  another bounty such is the life o...\n",
       "2        Vash the Stampede is the man with a           ...\n",
       "3        Witches are individuals with special powers li...\n",
       "4        It is the dark century and the people are suff...\n",
       "                               ...                        \n",
       "15012    Relay PV with original animation that was not ...\n",
       "15013    Short anime celebrating the    th anniversary ...\n",
       "15015    Music video directed by Kouhei Yoshino for the...\n",
       "15016    Music video directed by Kouhei Yoshino for the...\n",
       "15031    Space Shower TV Station ID directed by Densuke...\n",
       "Name: Synopsis, Length: 12179, dtype: object"
      ]
     },
     "execution_count": 34,
     "metadata": {},
     "output_type": "execute_result"
    }
   ],
   "source": [
    "df['Synopsis']"
   ]
  },
  {
   "cell_type": "code",
   "execution_count": 35,
   "id": "307cfcf2",
   "metadata": {
    "execution": {
     "iopub.execute_input": "2022-02-11T19:17:48.261526Z",
     "iopub.status.busy": "2022-02-11T19:17:48.260819Z",
     "iopub.status.idle": "2022-02-11T19:17:49.178180Z",
     "shell.execute_reply": "2022-02-11T19:17:49.177229Z",
     "shell.execute_reply.started": "2022-02-11T18:51:35.847831Z"
    },
    "papermill": {
     "duration": 0.971267,
     "end_time": "2022-02-11T19:17:49.178450",
     "exception": false,
     "start_time": "2022-02-11T19:17:48.207183",
     "status": "completed"
    },
    "tags": []
   },
   "outputs": [],
   "source": [
    "from sklearn.feature_extraction.text import TfidfVectorizer\n",
    "\n",
    "vect = TfidfVectorizer(min_df=2,max_df=10,stop_words='english')\n",
    "\n",
    "tfidf_matrix = vect.fit_transform(df['Synopsis'])"
   ]
  },
  {
   "cell_type": "code",
   "execution_count": 36,
   "id": "d3616d1f",
   "metadata": {
    "execution": {
     "iopub.execute_input": "2022-02-11T19:17:49.291373Z",
     "iopub.status.busy": "2022-02-11T19:17:49.290444Z",
     "iopub.status.idle": "2022-02-11T19:17:49.568727Z",
     "shell.execute_reply": "2022-02-11T19:17:49.569332Z",
     "shell.execute_reply.started": "2022-02-11T18:51:37.911828Z"
    },
    "papermill": {
     "duration": 0.330501,
     "end_time": "2022-02-11T19:17:49.569521",
     "exception": false,
     "start_time": "2022-02-11T19:17:49.239020",
     "status": "completed"
    },
    "tags": []
   },
   "outputs": [
    {
     "data": {
      "text/plain": [
       "array([[0., 0., 0., ..., 0., 0., 0.],\n",
       "       [0., 0., 0., ..., 0., 0., 0.],\n",
       "       [0., 0., 0., ..., 0., 0., 0.],\n",
       "       ...,\n",
       "       [0., 0., 0., ..., 0., 0., 0.],\n",
       "       [0., 0., 0., ..., 0., 0., 0.],\n",
       "       [0., 0., 0., ..., 0., 0., 0.]])"
      ]
     },
     "execution_count": 36,
     "metadata": {},
     "output_type": "execute_result"
    }
   ],
   "source": [
    "tfidf_matrix.toarray()"
   ]
  },
  {
   "cell_type": "code",
   "execution_count": 37,
   "id": "0d9615d8",
   "metadata": {
    "execution": {
     "iopub.execute_input": "2022-02-11T19:17:49.671267Z",
     "iopub.status.busy": "2022-02-11T19:17:49.670308Z",
     "iopub.status.idle": "2022-02-11T19:17:49.959809Z",
     "shell.execute_reply": "2022-02-11T19:17:49.959072Z",
     "shell.execute_reply.started": "2022-02-11T18:51:38.256480Z"
    },
    "papermill": {
     "duration": 0.341585,
     "end_time": "2022-02-11T19:17:49.959953",
     "exception": false,
     "start_time": "2022-02-11T19:17:49.618368",
     "status": "completed"
    },
    "tags": []
   },
   "outputs": [],
   "source": [
    "tfidf_df = pd.DataFrame(tfidf_matrix.toarray(), columns = vect.get_feature_names())\n",
    "tfidf_df.index = df['Title']"
   ]
  },
  {
   "cell_type": "code",
   "execution_count": 38,
   "id": "82bbf5a1",
   "metadata": {
    "execution": {
     "iopub.execute_input": "2022-02-11T19:17:50.062996Z",
     "iopub.status.busy": "2022-02-11T19:17:50.062016Z",
     "iopub.status.idle": "2022-02-11T19:17:50.134296Z",
     "shell.execute_reply": "2022-02-11T19:17:50.134948Z",
     "shell.execute_reply.started": "2022-02-11T18:51:38.564461Z"
    },
    "papermill": {
     "duration": 0.126006,
     "end_time": "2022-02-11T19:17:50.135125",
     "exception": false,
     "start_time": "2022-02-11T19:17:50.009119",
     "status": "completed"
    },
    "tags": []
   },
   "outputs": [
    {
     "data": {
      "text/html": [
       "<div>\n",
       "<style scoped>\n",
       "    .dataframe tbody tr th:only-of-type {\n",
       "        vertical-align: middle;\n",
       "    }\n",
       "\n",
       "    .dataframe tbody tr th {\n",
       "        vertical-align: top;\n",
       "    }\n",
       "\n",
       "    .dataframe thead th {\n",
       "        text-align: right;\n",
       "    }\n",
       "</style>\n",
       "<table border=\"1\" class=\"dataframe\">\n",
       "  <thead>\n",
       "    <tr style=\"text-align: right;\">\n",
       "      <th></th>\n",
       "      <th>aa</th>\n",
       "      <th>aaron</th>\n",
       "      <th>aback</th>\n",
       "      <th>abandons</th>\n",
       "      <th>abarenbou</th>\n",
       "      <th>abashiri</th>\n",
       "      <th>abbreviated</th>\n",
       "      <th>abc</th>\n",
       "      <th>abduct</th>\n",
       "      <th>abducting</th>\n",
       "      <th>...</th>\n",
       "      <th>zora</th>\n",
       "      <th>zorbados</th>\n",
       "      <th>zoro</th>\n",
       "      <th>zorori</th>\n",
       "      <th>zukan</th>\n",
       "      <th>zukkoke</th>\n",
       "      <th>zure</th>\n",
       "      <th>zvezda</th>\n",
       "      <th>zwei</th>\n",
       "      <th>zz</th>\n",
       "    </tr>\n",
       "    <tr>\n",
       "      <th>Title</th>\n",
       "      <th></th>\n",
       "      <th></th>\n",
       "      <th></th>\n",
       "      <th></th>\n",
       "      <th></th>\n",
       "      <th></th>\n",
       "      <th></th>\n",
       "      <th></th>\n",
       "      <th></th>\n",
       "      <th></th>\n",
       "      <th></th>\n",
       "      <th></th>\n",
       "      <th></th>\n",
       "      <th></th>\n",
       "      <th></th>\n",
       "      <th></th>\n",
       "      <th></th>\n",
       "      <th></th>\n",
       "      <th></th>\n",
       "      <th></th>\n",
       "      <th></th>\n",
       "    </tr>\n",
       "  </thead>\n",
       "  <tbody>\n",
       "    <tr>\n",
       "      <th>Cowboy Bebop</th>\n",
       "      <td>0.0</td>\n",
       "      <td>0.0</td>\n",
       "      <td>0.0</td>\n",
       "      <td>0.0</td>\n",
       "      <td>0.0</td>\n",
       "      <td>0.0</td>\n",
       "      <td>0.0</td>\n",
       "      <td>0.0</td>\n",
       "      <td>0.0</td>\n",
       "      <td>0.0</td>\n",
       "      <td>...</td>\n",
       "      <td>0.0</td>\n",
       "      <td>0.0</td>\n",
       "      <td>0.0</td>\n",
       "      <td>0.0</td>\n",
       "      <td>0.0</td>\n",
       "      <td>0.0</td>\n",
       "      <td>0.0</td>\n",
       "      <td>0.0</td>\n",
       "      <td>0.0</td>\n",
       "      <td>0.0</td>\n",
       "    </tr>\n",
       "    <tr>\n",
       "      <th>Cowboy Bebop: Tengoku no Tobira</th>\n",
       "      <td>0.0</td>\n",
       "      <td>0.0</td>\n",
       "      <td>0.0</td>\n",
       "      <td>0.0</td>\n",
       "      <td>0.0</td>\n",
       "      <td>0.0</td>\n",
       "      <td>0.0</td>\n",
       "      <td>0.0</td>\n",
       "      <td>0.0</td>\n",
       "      <td>0.0</td>\n",
       "      <td>...</td>\n",
       "      <td>0.0</td>\n",
       "      <td>0.0</td>\n",
       "      <td>0.0</td>\n",
       "      <td>0.0</td>\n",
       "      <td>0.0</td>\n",
       "      <td>0.0</td>\n",
       "      <td>0.0</td>\n",
       "      <td>0.0</td>\n",
       "      <td>0.0</td>\n",
       "      <td>0.0</td>\n",
       "    </tr>\n",
       "    <tr>\n",
       "      <th>Trigun</th>\n",
       "      <td>0.0</td>\n",
       "      <td>0.0</td>\n",
       "      <td>0.0</td>\n",
       "      <td>0.0</td>\n",
       "      <td>0.0</td>\n",
       "      <td>0.0</td>\n",
       "      <td>0.0</td>\n",
       "      <td>0.0</td>\n",
       "      <td>0.0</td>\n",
       "      <td>0.0</td>\n",
       "      <td>...</td>\n",
       "      <td>0.0</td>\n",
       "      <td>0.0</td>\n",
       "      <td>0.0</td>\n",
       "      <td>0.0</td>\n",
       "      <td>0.0</td>\n",
       "      <td>0.0</td>\n",
       "      <td>0.0</td>\n",
       "      <td>0.0</td>\n",
       "      <td>0.0</td>\n",
       "      <td>0.0</td>\n",
       "    </tr>\n",
       "    <tr>\n",
       "      <th>Witch Hunter Robin</th>\n",
       "      <td>0.0</td>\n",
       "      <td>0.0</td>\n",
       "      <td>0.0</td>\n",
       "      <td>0.0</td>\n",
       "      <td>0.0</td>\n",
       "      <td>0.0</td>\n",
       "      <td>0.0</td>\n",
       "      <td>0.0</td>\n",
       "      <td>0.0</td>\n",
       "      <td>0.0</td>\n",
       "      <td>...</td>\n",
       "      <td>0.0</td>\n",
       "      <td>0.0</td>\n",
       "      <td>0.0</td>\n",
       "      <td>0.0</td>\n",
       "      <td>0.0</td>\n",
       "      <td>0.0</td>\n",
       "      <td>0.0</td>\n",
       "      <td>0.0</td>\n",
       "      <td>0.0</td>\n",
       "      <td>0.0</td>\n",
       "    </tr>\n",
       "    <tr>\n",
       "      <th>Bouken Ou Beet</th>\n",
       "      <td>0.0</td>\n",
       "      <td>0.0</td>\n",
       "      <td>0.0</td>\n",
       "      <td>0.0</td>\n",
       "      <td>0.0</td>\n",
       "      <td>0.0</td>\n",
       "      <td>0.0</td>\n",
       "      <td>0.0</td>\n",
       "      <td>0.0</td>\n",
       "      <td>0.0</td>\n",
       "      <td>...</td>\n",
       "      <td>0.0</td>\n",
       "      <td>0.0</td>\n",
       "      <td>0.0</td>\n",
       "      <td>0.0</td>\n",
       "      <td>0.0</td>\n",
       "      <td>0.0</td>\n",
       "      <td>0.0</td>\n",
       "      <td>0.0</td>\n",
       "      <td>0.0</td>\n",
       "      <td>0.0</td>\n",
       "    </tr>\n",
       "    <tr>\n",
       "      <th>...</th>\n",
       "      <td>...</td>\n",
       "      <td>...</td>\n",
       "      <td>...</td>\n",
       "      <td>...</td>\n",
       "      <td>...</td>\n",
       "      <td>...</td>\n",
       "      <td>...</td>\n",
       "      <td>...</td>\n",
       "      <td>...</td>\n",
       "      <td>...</td>\n",
       "      <td>...</td>\n",
       "      <td>...</td>\n",
       "      <td>...</td>\n",
       "      <td>...</td>\n",
       "      <td>...</td>\n",
       "      <td>...</td>\n",
       "      <td>...</td>\n",
       "      <td>...</td>\n",
       "      <td>...</td>\n",
       "      <td>...</td>\n",
       "      <td>...</td>\n",
       "    </tr>\n",
       "    <tr>\n",
       "      <th>Isekai Quartet Relay PV</th>\n",
       "      <td>0.0</td>\n",
       "      <td>0.0</td>\n",
       "      <td>0.0</td>\n",
       "      <td>0.0</td>\n",
       "      <td>0.0</td>\n",
       "      <td>0.0</td>\n",
       "      <td>0.0</td>\n",
       "      <td>0.0</td>\n",
       "      <td>0.0</td>\n",
       "      <td>0.0</td>\n",
       "      <td>...</td>\n",
       "      <td>0.0</td>\n",
       "      <td>0.0</td>\n",
       "      <td>0.0</td>\n",
       "      <td>0.0</td>\n",
       "      <td>0.0</td>\n",
       "      <td>0.0</td>\n",
       "      <td>0.0</td>\n",
       "      <td>0.0</td>\n",
       "      <td>0.0</td>\n",
       "      <td>0.0</td>\n",
       "    </tr>\n",
       "    <tr>\n",
       "      <th>Tanabata no Oto</th>\n",
       "      <td>0.0</td>\n",
       "      <td>0.0</td>\n",
       "      <td>0.0</td>\n",
       "      <td>0.0</td>\n",
       "      <td>0.0</td>\n",
       "      <td>0.0</td>\n",
       "      <td>0.0</td>\n",
       "      <td>0.0</td>\n",
       "      <td>0.0</td>\n",
       "      <td>0.0</td>\n",
       "      <td>...</td>\n",
       "      <td>0.0</td>\n",
       "      <td>0.0</td>\n",
       "      <td>0.0</td>\n",
       "      <td>0.0</td>\n",
       "      <td>0.0</td>\n",
       "      <td>0.0</td>\n",
       "      <td>0.0</td>\n",
       "      <td>0.0</td>\n",
       "      <td>0.0</td>\n",
       "      <td>0.0</td>\n",
       "    </tr>\n",
       "    <tr>\n",
       "      <th>Ake-Vono</th>\n",
       "      <td>0.0</td>\n",
       "      <td>0.0</td>\n",
       "      <td>0.0</td>\n",
       "      <td>0.0</td>\n",
       "      <td>0.0</td>\n",
       "      <td>0.0</td>\n",
       "      <td>0.0</td>\n",
       "      <td>0.0</td>\n",
       "      <td>0.0</td>\n",
       "      <td>0.0</td>\n",
       "      <td>...</td>\n",
       "      <td>0.0</td>\n",
       "      <td>0.0</td>\n",
       "      <td>0.0</td>\n",
       "      <td>0.0</td>\n",
       "      <td>0.0</td>\n",
       "      <td>0.0</td>\n",
       "      <td>0.0</td>\n",
       "      <td>0.0</td>\n",
       "      <td>0.0</td>\n",
       "      <td>0.0</td>\n",
       "    </tr>\n",
       "    <tr>\n",
       "      <th>Ab-rah</th>\n",
       "      <td>0.0</td>\n",
       "      <td>0.0</td>\n",
       "      <td>0.0</td>\n",
       "      <td>0.0</td>\n",
       "      <td>0.0</td>\n",
       "      <td>0.0</td>\n",
       "      <td>0.0</td>\n",
       "      <td>0.0</td>\n",
       "      <td>0.0</td>\n",
       "      <td>0.0</td>\n",
       "      <td>...</td>\n",
       "      <td>0.0</td>\n",
       "      <td>0.0</td>\n",
       "      <td>0.0</td>\n",
       "      <td>0.0</td>\n",
       "      <td>0.0</td>\n",
       "      <td>0.0</td>\n",
       "      <td>0.0</td>\n",
       "      <td>0.0</td>\n",
       "      <td>0.0</td>\n",
       "      <td>0.0</td>\n",
       "    </tr>\n",
       "    <tr>\n",
       "      <th>Space Shower Man: Legacy for the Future</th>\n",
       "      <td>0.0</td>\n",
       "      <td>0.0</td>\n",
       "      <td>0.0</td>\n",
       "      <td>0.0</td>\n",
       "      <td>0.0</td>\n",
       "      <td>0.0</td>\n",
       "      <td>0.0</td>\n",
       "      <td>0.0</td>\n",
       "      <td>0.0</td>\n",
       "      <td>0.0</td>\n",
       "      <td>...</td>\n",
       "      <td>0.0</td>\n",
       "      <td>0.0</td>\n",
       "      <td>0.0</td>\n",
       "      <td>0.0</td>\n",
       "      <td>0.0</td>\n",
       "      <td>0.0</td>\n",
       "      <td>0.0</td>\n",
       "      <td>0.0</td>\n",
       "      <td>0.0</td>\n",
       "      <td>0.0</td>\n",
       "    </tr>\n",
       "  </tbody>\n",
       "</table>\n",
       "<p>12179 rows × 14608 columns</p>\n",
       "</div>"
      ],
      "text/plain": [
       "                                          aa  aaron  aback  abandons  \\\n",
       "Title                                                                  \n",
       "Cowboy Bebop                             0.0    0.0    0.0       0.0   \n",
       "Cowboy Bebop: Tengoku no Tobira          0.0    0.0    0.0       0.0   \n",
       "Trigun                                   0.0    0.0    0.0       0.0   \n",
       "Witch Hunter Robin                       0.0    0.0    0.0       0.0   \n",
       "Bouken Ou Beet                           0.0    0.0    0.0       0.0   \n",
       "...                                      ...    ...    ...       ...   \n",
       "Isekai Quartet Relay PV                  0.0    0.0    0.0       0.0   \n",
       "Tanabata no Oto                          0.0    0.0    0.0       0.0   \n",
       "Ake-Vono                                 0.0    0.0    0.0       0.0   \n",
       "Ab-rah                                   0.0    0.0    0.0       0.0   \n",
       "Space Shower Man: Legacy for the Future  0.0    0.0    0.0       0.0   \n",
       "\n",
       "                                         abarenbou  abashiri  abbreviated  \\\n",
       "Title                                                                       \n",
       "Cowboy Bebop                                   0.0       0.0          0.0   \n",
       "Cowboy Bebop: Tengoku no Tobira                0.0       0.0          0.0   \n",
       "Trigun                                         0.0       0.0          0.0   \n",
       "Witch Hunter Robin                             0.0       0.0          0.0   \n",
       "Bouken Ou Beet                                 0.0       0.0          0.0   \n",
       "...                                            ...       ...          ...   \n",
       "Isekai Quartet Relay PV                        0.0       0.0          0.0   \n",
       "Tanabata no Oto                                0.0       0.0          0.0   \n",
       "Ake-Vono                                       0.0       0.0          0.0   \n",
       "Ab-rah                                         0.0       0.0          0.0   \n",
       "Space Shower Man: Legacy for the Future        0.0       0.0          0.0   \n",
       "\n",
       "                                         abc  abduct  abducting  ...  zora  \\\n",
       "Title                                                            ...         \n",
       "Cowboy Bebop                             0.0     0.0        0.0  ...   0.0   \n",
       "Cowboy Bebop: Tengoku no Tobira          0.0     0.0        0.0  ...   0.0   \n",
       "Trigun                                   0.0     0.0        0.0  ...   0.0   \n",
       "Witch Hunter Robin                       0.0     0.0        0.0  ...   0.0   \n",
       "Bouken Ou Beet                           0.0     0.0        0.0  ...   0.0   \n",
       "...                                      ...     ...        ...  ...   ...   \n",
       "Isekai Quartet Relay PV                  0.0     0.0        0.0  ...   0.0   \n",
       "Tanabata no Oto                          0.0     0.0        0.0  ...   0.0   \n",
       "Ake-Vono                                 0.0     0.0        0.0  ...   0.0   \n",
       "Ab-rah                                   0.0     0.0        0.0  ...   0.0   \n",
       "Space Shower Man: Legacy for the Future  0.0     0.0        0.0  ...   0.0   \n",
       "\n",
       "                                         zorbados  zoro  zorori  zukan  \\\n",
       "Title                                                                    \n",
       "Cowboy Bebop                                  0.0   0.0     0.0    0.0   \n",
       "Cowboy Bebop: Tengoku no Tobira               0.0   0.0     0.0    0.0   \n",
       "Trigun                                        0.0   0.0     0.0    0.0   \n",
       "Witch Hunter Robin                            0.0   0.0     0.0    0.0   \n",
       "Bouken Ou Beet                                0.0   0.0     0.0    0.0   \n",
       "...                                           ...   ...     ...    ...   \n",
       "Isekai Quartet Relay PV                       0.0   0.0     0.0    0.0   \n",
       "Tanabata no Oto                               0.0   0.0     0.0    0.0   \n",
       "Ake-Vono                                      0.0   0.0     0.0    0.0   \n",
       "Ab-rah                                        0.0   0.0     0.0    0.0   \n",
       "Space Shower Man: Legacy for the Future       0.0   0.0     0.0    0.0   \n",
       "\n",
       "                                         zukkoke  zure  zvezda  zwei   zz  \n",
       "Title                                                                      \n",
       "Cowboy Bebop                                 0.0   0.0     0.0   0.0  0.0  \n",
       "Cowboy Bebop: Tengoku no Tobira              0.0   0.0     0.0   0.0  0.0  \n",
       "Trigun                                       0.0   0.0     0.0   0.0  0.0  \n",
       "Witch Hunter Robin                           0.0   0.0     0.0   0.0  0.0  \n",
       "Bouken Ou Beet                               0.0   0.0     0.0   0.0  0.0  \n",
       "...                                          ...   ...     ...   ...  ...  \n",
       "Isekai Quartet Relay PV                      0.0   0.0     0.0   0.0  0.0  \n",
       "Tanabata no Oto                              0.0   0.0     0.0   0.0  0.0  \n",
       "Ake-Vono                                     0.0   0.0     0.0   0.0  0.0  \n",
       "Ab-rah                                       0.0   0.0     0.0   0.0  0.0  \n",
       "Space Shower Man: Legacy for the Future      0.0   0.0     0.0   0.0  0.0  \n",
       "\n",
       "[12179 rows x 14608 columns]"
      ]
     },
     "execution_count": 38,
     "metadata": {},
     "output_type": "execute_result"
    }
   ],
   "source": [
    "tfidf_df"
   ]
  },
  {
   "cell_type": "code",
   "execution_count": null,
   "id": "23e19429",
   "metadata": {
    "papermill": {
     "duration": 0.049735,
     "end_time": "2022-02-11T19:17:50.234855",
     "exception": false,
     "start_time": "2022-02-11T19:17:50.185120",
     "status": "completed"
    },
    "tags": []
   },
   "outputs": [],
   "source": []
  },
  {
   "cell_type": "code",
   "execution_count": null,
   "id": "6c306a50",
   "metadata": {
    "papermill": {
     "duration": 0.049833,
     "end_time": "2022-02-11T19:17:50.334706",
     "exception": false,
     "start_time": "2022-02-11T19:17:50.284873",
     "status": "completed"
    },
    "tags": []
   },
   "outputs": [],
   "source": []
  },
  {
   "cell_type": "code",
   "execution_count": null,
   "id": "17fe9e8e",
   "metadata": {
    "papermill": {
     "duration": 0.049788,
     "end_time": "2022-02-11T19:17:50.434681",
     "exception": false,
     "start_time": "2022-02-11T19:17:50.384893",
     "status": "completed"
    },
    "tags": []
   },
   "outputs": [],
   "source": []
  },
  {
   "cell_type": "code",
   "execution_count": null,
   "id": "9415e9d0",
   "metadata": {
    "execution": {
     "iopub.execute_input": "2022-02-11T19:16:13.734060Z",
     "iopub.status.busy": "2022-02-11T19:16:13.733719Z",
     "iopub.status.idle": "2022-02-11T19:16:13.738441Z",
     "shell.execute_reply": "2022-02-11T19:16:13.737708Z",
     "shell.execute_reply.started": "2022-02-11T19:16:13.734027Z"
    },
    "papermill": {
     "duration": 0.049809,
     "end_time": "2022-02-11T19:17:50.534552",
     "exception": false,
     "start_time": "2022-02-11T19:17:50.484743",
     "status": "completed"
    },
    "tags": []
   },
   "outputs": [],
   "source": []
  },
  {
   "cell_type": "markdown",
   "id": "07571feb",
   "metadata": {
    "papermill": {
     "duration": 0.049911,
     "end_time": "2022-02-11T19:17:50.634428",
     "exception": false,
     "start_time": "2022-02-11T19:17:50.584517",
     "status": "completed"
    },
    "tags": []
   },
   "source": [
    "# PART 4 - calculating show similarity from synopsis"
   ]
  },
  {
   "cell_type": "code",
   "execution_count": null,
   "id": "e6b917f5",
   "metadata": {
    "papermill": {
     "duration": 0.049659,
     "end_time": "2022-02-11T19:17:50.733911",
     "exception": false,
     "start_time": "2022-02-11T19:17:50.684252",
     "status": "completed"
    },
    "tags": []
   },
   "outputs": [],
   "source": []
  },
  {
   "cell_type": "code",
   "execution_count": null,
   "id": "db0bb154",
   "metadata": {
    "papermill": {
     "duration": 0.049527,
     "end_time": "2022-02-11T19:17:50.833407",
     "exception": false,
     "start_time": "2022-02-11T19:17:50.783880",
     "status": "completed"
    },
    "tags": []
   },
   "outputs": [],
   "source": []
  },
  {
   "cell_type": "code",
   "execution_count": null,
   "id": "b219b5d9",
   "metadata": {
    "papermill": {
     "duration": 0.050005,
     "end_time": "2022-02-11T19:17:50.933248",
     "exception": false,
     "start_time": "2022-02-11T19:17:50.883243",
     "status": "completed"
    },
    "tags": []
   },
   "outputs": [],
   "source": []
  },
  {
   "cell_type": "code",
   "execution_count": null,
   "id": "c22d4862",
   "metadata": {
    "papermill": {
     "duration": 0.050003,
     "end_time": "2022-02-11T19:17:51.033607",
     "exception": false,
     "start_time": "2022-02-11T19:17:50.983604",
     "status": "completed"
    },
    "tags": []
   },
   "outputs": [],
   "source": []
  }
 ],
 "metadata": {
  "kernelspec": {
   "display_name": "Python 3",
   "language": "python",
   "name": "python3"
  },
  "language_info": {
   "codemirror_mode": {
    "name": "ipython",
    "version": 3
   },
   "file_extension": ".py",
   "mimetype": "text/x-python",
   "name": "python",
   "nbconvert_exporter": "python",
   "pygments_lexer": "ipython3",
   "version": "3.7.12"
  },
  "papermill": {
   "default_parameters": {},
   "duration": 20.591706,
   "end_time": "2022-02-11T19:17:51.794728",
   "environment_variables": {},
   "exception": null,
   "input_path": "__notebook__.ipynb",
   "output_path": "__notebook__.ipynb",
   "parameters": {},
   "start_time": "2022-02-11T19:17:31.203022",
   "version": "2.3.3"
  }
 },
 "nbformat": 4,
 "nbformat_minor": 5
}
