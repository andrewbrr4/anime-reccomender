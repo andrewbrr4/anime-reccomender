{
 "cells": [
  {
   "cell_type": "code",
   "execution_count": 1,
   "id": "64acc648",
   "metadata": {
    "_cell_guid": "b1076dfc-b9ad-4769-8c92-a6c4dae69d19",
    "_uuid": "8f2839f25d086af736a60e9eeb907d3b93b6e0e5",
    "execution": {
     "iopub.execute_input": "2022-02-11T22:40:02.118732Z",
     "iopub.status.busy": "2022-02-11T22:40:02.118096Z",
     "iopub.status.idle": "2022-02-11T22:40:02.127500Z",
     "shell.execute_reply": "2022-02-11T22:40:02.128023Z",
     "shell.execute_reply.started": "2022-02-11T22:36:18.055741Z"
    },
    "papermill": {
     "duration": 0.05347,
     "end_time": "2022-02-11T22:40:02.128280",
     "exception": false,
     "start_time": "2022-02-11T22:40:02.074810",
     "status": "completed"
    },
    "tags": []
   },
   "outputs": [
    {
     "name": "stdout",
     "output_type": "stream",
     "text": [
      "/kaggle/input/anime-recommendations-database/Anime_data.csv\n"
     ]
    }
   ],
   "source": [
    "# This Python 3 environment comes with many helpful analytics libraries installed\n",
    "# It is defined by the kaggle/python Docker image: https://github.com/kaggle/docker-python\n",
    "# For example, here's several helpful packages to load\n",
    "\n",
    "import numpy as np # linear algebra\n",
    "import pandas as pd # data processing, CSV file I/O (e.g. pd.read_csv)\n",
    "\n",
    "# Input data files are available in the read-only \"../input/\" directory\n",
    "# For example, running this (by clicking run or pressing Shift+Enter) will list all files under the input directory\n",
    "\n",
    "import os\n",
    "for dirname, _, filenames in os.walk('/kaggle/input'):\n",
    "    for filename in filenames:\n",
    "        print(os.path.join(dirname, filename))\n",
    "\n",
    "# You can write up to 20GB to the current directory (/kaggle/working/) that gets preserved as output when you create a version using \"Save & Run All\" \n",
    "# You can also write temporary files to /kaggle/temp/, but they won't be saved outside of the current session"
   ]
  },
  {
   "cell_type": "code",
   "execution_count": 2,
   "id": "b92cf80f",
   "metadata": {
    "execution": {
     "iopub.execute_input": "2022-02-11T22:40:02.195152Z",
     "iopub.status.busy": "2022-02-11T22:40:02.194506Z",
     "iopub.status.idle": "2022-02-11T22:40:02.465575Z",
     "shell.execute_reply": "2022-02-11T22:40:02.466075Z",
     "shell.execute_reply.started": "2022-02-11T22:36:18.095305Z"
    },
    "papermill": {
     "duration": 0.305395,
     "end_time": "2022-02-11T22:40:02.466281",
     "exception": false,
     "start_time": "2022-02-11T22:40:02.160886",
     "status": "completed"
    },
    "tags": []
   },
   "outputs": [],
   "source": [
    "df = pd.read_csv('/kaggle/input/anime-recommendations-database/Anime_data.csv')"
   ]
  },
  {
   "cell_type": "code",
   "execution_count": 3,
   "id": "dfbffbdf",
   "metadata": {
    "execution": {
     "iopub.execute_input": "2022-02-11T22:40:02.533900Z",
     "iopub.status.busy": "2022-02-11T22:40:02.533246Z",
     "iopub.status.idle": "2022-02-11T22:40:02.559139Z",
     "shell.execute_reply": "2022-02-11T22:40:02.558537Z",
     "shell.execute_reply.started": "2022-02-11T22:36:18.385673Z"
    },
    "papermill": {
     "duration": 0.059795,
     "end_time": "2022-02-11T22:40:02.559258",
     "exception": false,
     "start_time": "2022-02-11T22:40:02.499463",
     "status": "completed"
    },
    "tags": []
   },
   "outputs": [
    {
     "data": {
      "text/html": [
       "<div>\n",
       "<style scoped>\n",
       "    .dataframe tbody tr th:only-of-type {\n",
       "        vertical-align: middle;\n",
       "    }\n",
       "\n",
       "    .dataframe tbody tr th {\n",
       "        vertical-align: top;\n",
       "    }\n",
       "\n",
       "    .dataframe thead th {\n",
       "        text-align: right;\n",
       "    }\n",
       "</style>\n",
       "<table border=\"1\" class=\"dataframe\">\n",
       "  <thead>\n",
       "    <tr style=\"text-align: right;\">\n",
       "      <th></th>\n",
       "      <th>Anime_id</th>\n",
       "      <th>Title</th>\n",
       "      <th>Genre</th>\n",
       "      <th>Synopsis</th>\n",
       "      <th>Type</th>\n",
       "      <th>Producer</th>\n",
       "      <th>Studio</th>\n",
       "      <th>Rating</th>\n",
       "      <th>ScoredBy</th>\n",
       "      <th>Popularity</th>\n",
       "      <th>Members</th>\n",
       "      <th>Episodes</th>\n",
       "      <th>Source</th>\n",
       "      <th>Aired</th>\n",
       "      <th>Link</th>\n",
       "    </tr>\n",
       "  </thead>\n",
       "  <tbody>\n",
       "    <tr>\n",
       "      <th>0</th>\n",
       "      <td>1</td>\n",
       "      <td>Cowboy Bebop</td>\n",
       "      <td>['Action', 'Adventure', 'Comedy', 'Drama', 'Sc...</td>\n",
       "      <td>In the year 2071, humanity has colonized sever...</td>\n",
       "      <td>TV</td>\n",
       "      <td>['Bandai Visual']</td>\n",
       "      <td>['Sunrise']</td>\n",
       "      <td>8.81</td>\n",
       "      <td>363889.0</td>\n",
       "      <td>39.0</td>\n",
       "      <td>704490.0</td>\n",
       "      <td>26.0</td>\n",
       "      <td>Original</td>\n",
       "      <td>Apr 3, 1998 to Apr 24, 1999</td>\n",
       "      <td>https://myanimelist.net/anime/1/Cowboy_Bebop</td>\n",
       "    </tr>\n",
       "    <tr>\n",
       "      <th>1</th>\n",
       "      <td>5</td>\n",
       "      <td>Cowboy Bebop: Tengoku no Tobira</td>\n",
       "      <td>['Action', 'Space', 'Drama', 'Mystery', 'Sci-Fi']</td>\n",
       "      <td>Another day, another bounty—such is the life o...</td>\n",
       "      <td>Movie</td>\n",
       "      <td>['Sunrise', 'Bandai Visual']</td>\n",
       "      <td>['Bones']</td>\n",
       "      <td>8.41</td>\n",
       "      <td>111187.0</td>\n",
       "      <td>475.0</td>\n",
       "      <td>179899.0</td>\n",
       "      <td>1.0</td>\n",
       "      <td>Original</td>\n",
       "      <td>Sep 1, 2001</td>\n",
       "      <td>https://myanimelist.net/anime/5/Cowboy_Bebop__...</td>\n",
       "    </tr>\n",
       "    <tr>\n",
       "      <th>2</th>\n",
       "      <td>6</td>\n",
       "      <td>Trigun</td>\n",
       "      <td>['Action', 'Sci-Fi', 'Adventure', 'Comedy', 'D...</td>\n",
       "      <td>Vash the Stampede is the man with a $$60,000,0...</td>\n",
       "      <td>TV</td>\n",
       "      <td>['Victor Entertainment']</td>\n",
       "      <td>['Madhouse']</td>\n",
       "      <td>8.31</td>\n",
       "      <td>197451.0</td>\n",
       "      <td>158.0</td>\n",
       "      <td>372709.0</td>\n",
       "      <td>26.0</td>\n",
       "      <td>Manga</td>\n",
       "      <td>Apr 1, 1998 to Sep 30, 1998</td>\n",
       "      <td>https://myanimelist.net/anime/6/Trigun</td>\n",
       "    </tr>\n",
       "    <tr>\n",
       "      <th>3</th>\n",
       "      <td>7</td>\n",
       "      <td>Witch Hunter Robin</td>\n",
       "      <td>['Action', 'Magic', 'Police', 'Supernatural', ...</td>\n",
       "      <td>Witches are individuals with special powers li...</td>\n",
       "      <td>TV</td>\n",
       "      <td>['Bandai Visual']</td>\n",
       "      <td>['Sunrise']</td>\n",
       "      <td>7.34</td>\n",
       "      <td>31875.0</td>\n",
       "      <td>1278.0</td>\n",
       "      <td>74889.0</td>\n",
       "      <td>26.0</td>\n",
       "      <td>Original</td>\n",
       "      <td>Jul 2, 2002 to Dec 24, 2002</td>\n",
       "      <td>https://myanimelist.net/anime/7/Witch_Hunter_R...</td>\n",
       "    </tr>\n",
       "    <tr>\n",
       "      <th>4</th>\n",
       "      <td>8</td>\n",
       "      <td>Bouken Ou Beet</td>\n",
       "      <td>['Adventure', 'Fantasy', 'Shounen', 'Supernatu...</td>\n",
       "      <td>It is the dark century and the people are suff...</td>\n",
       "      <td>TV</td>\n",
       "      <td>NaN</td>\n",
       "      <td>['Toei Animation']</td>\n",
       "      <td>7.04</td>\n",
       "      <td>4757.0</td>\n",
       "      <td>3968.0</td>\n",
       "      <td>11247.0</td>\n",
       "      <td>52.0</td>\n",
       "      <td>Manga</td>\n",
       "      <td>Sep 30, 2004 to Sep 29, 2005</td>\n",
       "      <td>https://myanimelist.net/anime/8/Bouken_Ou_Beet</td>\n",
       "    </tr>\n",
       "  </tbody>\n",
       "</table>\n",
       "</div>"
      ],
      "text/plain": [
       "   Anime_id                            Title  \\\n",
       "0         1                     Cowboy Bebop   \n",
       "1         5  Cowboy Bebop: Tengoku no Tobira   \n",
       "2         6                           Trigun   \n",
       "3         7               Witch Hunter Robin   \n",
       "4         8                   Bouken Ou Beet   \n",
       "\n",
       "                                               Genre  \\\n",
       "0  ['Action', 'Adventure', 'Comedy', 'Drama', 'Sc...   \n",
       "1  ['Action', 'Space', 'Drama', 'Mystery', 'Sci-Fi']   \n",
       "2  ['Action', 'Sci-Fi', 'Adventure', 'Comedy', 'D...   \n",
       "3  ['Action', 'Magic', 'Police', 'Supernatural', ...   \n",
       "4  ['Adventure', 'Fantasy', 'Shounen', 'Supernatu...   \n",
       "\n",
       "                                            Synopsis   Type  \\\n",
       "0  In the year 2071, humanity has colonized sever...     TV   \n",
       "1  Another day, another bounty—such is the life o...  Movie   \n",
       "2  Vash the Stampede is the man with a $$60,000,0...     TV   \n",
       "3  Witches are individuals with special powers li...     TV   \n",
       "4  It is the dark century and the people are suff...     TV   \n",
       "\n",
       "                       Producer              Studio  Rating  ScoredBy  \\\n",
       "0             ['Bandai Visual']         ['Sunrise']    8.81  363889.0   \n",
       "1  ['Sunrise', 'Bandai Visual']           ['Bones']    8.41  111187.0   \n",
       "2      ['Victor Entertainment']        ['Madhouse']    8.31  197451.0   \n",
       "3             ['Bandai Visual']         ['Sunrise']    7.34   31875.0   \n",
       "4                           NaN  ['Toei Animation']    7.04    4757.0   \n",
       "\n",
       "   Popularity   Members  Episodes    Source                         Aired  \\\n",
       "0        39.0  704490.0      26.0  Original   Apr 3, 1998 to Apr 24, 1999   \n",
       "1       475.0  179899.0       1.0  Original                   Sep 1, 2001   \n",
       "2       158.0  372709.0      26.0     Manga   Apr 1, 1998 to Sep 30, 1998   \n",
       "3      1278.0   74889.0      26.0  Original   Jul 2, 2002 to Dec 24, 2002   \n",
       "4      3968.0   11247.0      52.0     Manga  Sep 30, 2004 to Sep 29, 2005   \n",
       "\n",
       "                                                Link  \n",
       "0       https://myanimelist.net/anime/1/Cowboy_Bebop  \n",
       "1  https://myanimelist.net/anime/5/Cowboy_Bebop__...  \n",
       "2             https://myanimelist.net/anime/6/Trigun  \n",
       "3  https://myanimelist.net/anime/7/Witch_Hunter_R...  \n",
       "4     https://myanimelist.net/anime/8/Bouken_Ou_Beet  "
      ]
     },
     "execution_count": 3,
     "metadata": {},
     "output_type": "execute_result"
    }
   ],
   "source": [
    "df.head()"
   ]
  },
  {
   "cell_type": "markdown",
   "id": "56f25e2e",
   "metadata": {
    "papermill": {
     "duration": 0.032404,
     "end_time": "2022-02-11T22:40:02.624620",
     "exception": false,
     "start_time": "2022-02-11T22:40:02.592216",
     "status": "completed"
    },
    "tags": []
   },
   "source": [
    "# PART 1 - clean and process data"
   ]
  },
  {
   "cell_type": "code",
   "execution_count": 4,
   "id": "bf14a1c5",
   "metadata": {
    "execution": {
     "iopub.execute_input": "2022-02-11T22:40:02.694272Z",
     "iopub.status.busy": "2022-02-11T22:40:02.693661Z",
     "iopub.status.idle": "2022-02-11T22:40:02.696006Z",
     "shell.execute_reply": "2022-02-11T22:40:02.696435Z",
     "shell.execute_reply.started": "2022-02-11T22:36:18.422876Z"
    },
    "papermill": {
     "duration": 0.039358,
     "end_time": "2022-02-11T22:40:02.696588",
     "exception": false,
     "start_time": "2022-02-11T22:40:02.657230",
     "status": "completed"
    },
    "tags": []
   },
   "outputs": [
    {
     "data": {
      "text/plain": [
       "(17002, 15)"
      ]
     },
     "execution_count": 4,
     "metadata": {},
     "output_type": "execute_result"
    }
   ],
   "source": [
    "df.shape"
   ]
  },
  {
   "cell_type": "code",
   "execution_count": 5,
   "id": "fe9c9fb4",
   "metadata": {
    "execution": {
     "iopub.execute_input": "2022-02-11T22:40:02.766338Z",
     "iopub.status.busy": "2022-02-11T22:40:02.765759Z",
     "iopub.status.idle": "2022-02-11T22:40:02.792120Z",
     "shell.execute_reply": "2022-02-11T22:40:02.792636Z",
     "shell.execute_reply.started": "2022-02-11T22:36:18.430860Z"
    },
    "papermill": {
     "duration": 0.061968,
     "end_time": "2022-02-11T22:40:02.792808",
     "exception": false,
     "start_time": "2022-02-11T22:40:02.730840",
     "status": "completed"
    },
    "tags": []
   },
   "outputs": [],
   "source": [
    "df.drop_duplicates(['Anime_id'],inplace=True)\n",
    "df.drop_duplicates(['Title'],inplace=True)"
   ]
  },
  {
   "cell_type": "code",
   "execution_count": 6,
   "id": "ce640beb",
   "metadata": {
    "execution": {
     "iopub.execute_input": "2022-02-11T22:40:02.872348Z",
     "iopub.status.busy": "2022-02-11T22:40:02.871461Z",
     "iopub.status.idle": "2022-02-11T22:40:02.875886Z",
     "shell.execute_reply": "2022-02-11T22:40:02.876438Z",
     "shell.execute_reply.started": "2022-02-11T22:36:18.464846Z"
    },
    "papermill": {
     "duration": 0.051414,
     "end_time": "2022-02-11T22:40:02.876607",
     "exception": false,
     "start_time": "2022-02-11T22:40:02.825193",
     "status": "completed"
    },
    "tags": []
   },
   "outputs": [
    {
     "data": {
      "text/plain": [
       "(16737, 15)"
      ]
     },
     "execution_count": 6,
     "metadata": {},
     "output_type": "execute_result"
    }
   ],
   "source": [
    "df.shape"
   ]
  },
  {
   "cell_type": "code",
   "execution_count": 7,
   "id": "8a2781eb",
   "metadata": {
    "execution": {
     "iopub.execute_input": "2022-02-11T22:40:02.950048Z",
     "iopub.status.busy": "2022-02-11T22:40:02.949093Z",
     "iopub.status.idle": "2022-02-11T22:40:02.956340Z",
     "shell.execute_reply": "2022-02-11T22:40:02.956897Z",
     "shell.execute_reply.started": "2022-02-11T22:36:18.472238Z"
    },
    "papermill": {
     "duration": 0.046138,
     "end_time": "2022-02-11T22:40:02.957039",
     "exception": false,
     "start_time": "2022-02-11T22:40:02.910901",
     "status": "completed"
    },
    "tags": []
   },
   "outputs": [],
   "source": [
    "df.drop(['Anime_id','Link'],axis=1,inplace=True)"
   ]
  },
  {
   "cell_type": "code",
   "execution_count": 8,
   "id": "02464246",
   "metadata": {
    "execution": {
     "iopub.execute_input": "2022-02-11T22:40:03.025741Z",
     "iopub.status.busy": "2022-02-11T22:40:03.024920Z",
     "iopub.status.idle": "2022-02-11T22:40:03.042195Z",
     "shell.execute_reply": "2022-02-11T22:40:03.042767Z",
     "shell.execute_reply.started": "2022-02-11T22:36:18.484890Z"
    },
    "papermill": {
     "duration": 0.052704,
     "end_time": "2022-02-11T22:40:03.042923",
     "exception": false,
     "start_time": "2022-02-11T22:40:02.990219",
     "status": "completed"
    },
    "tags": []
   },
   "outputs": [
    {
     "data": {
      "text/html": [
       "<div>\n",
       "<style scoped>\n",
       "    .dataframe tbody tr th:only-of-type {\n",
       "        vertical-align: middle;\n",
       "    }\n",
       "\n",
       "    .dataframe tbody tr th {\n",
       "        vertical-align: top;\n",
       "    }\n",
       "\n",
       "    .dataframe thead th {\n",
       "        text-align: right;\n",
       "    }\n",
       "</style>\n",
       "<table border=\"1\" class=\"dataframe\">\n",
       "  <thead>\n",
       "    <tr style=\"text-align: right;\">\n",
       "      <th></th>\n",
       "      <th>Title</th>\n",
       "      <th>Genre</th>\n",
       "      <th>Synopsis</th>\n",
       "      <th>Type</th>\n",
       "      <th>Producer</th>\n",
       "      <th>Studio</th>\n",
       "      <th>Rating</th>\n",
       "      <th>ScoredBy</th>\n",
       "      <th>Popularity</th>\n",
       "      <th>Members</th>\n",
       "      <th>Episodes</th>\n",
       "      <th>Source</th>\n",
       "      <th>Aired</th>\n",
       "    </tr>\n",
       "  </thead>\n",
       "  <tbody>\n",
       "    <tr>\n",
       "      <th>0</th>\n",
       "      <td>Cowboy Bebop</td>\n",
       "      <td>['Action', 'Adventure', 'Comedy', 'Drama', 'Sc...</td>\n",
       "      <td>In the year 2071, humanity has colonized sever...</td>\n",
       "      <td>TV</td>\n",
       "      <td>['Bandai Visual']</td>\n",
       "      <td>['Sunrise']</td>\n",
       "      <td>8.81</td>\n",
       "      <td>363889.0</td>\n",
       "      <td>39.0</td>\n",
       "      <td>704490.0</td>\n",
       "      <td>26.0</td>\n",
       "      <td>Original</td>\n",
       "      <td>Apr 3, 1998 to Apr 24, 1999</td>\n",
       "    </tr>\n",
       "    <tr>\n",
       "      <th>1</th>\n",
       "      <td>Cowboy Bebop: Tengoku no Tobira</td>\n",
       "      <td>['Action', 'Space', 'Drama', 'Mystery', 'Sci-Fi']</td>\n",
       "      <td>Another day, another bounty—such is the life o...</td>\n",
       "      <td>Movie</td>\n",
       "      <td>['Sunrise', 'Bandai Visual']</td>\n",
       "      <td>['Bones']</td>\n",
       "      <td>8.41</td>\n",
       "      <td>111187.0</td>\n",
       "      <td>475.0</td>\n",
       "      <td>179899.0</td>\n",
       "      <td>1.0</td>\n",
       "      <td>Original</td>\n",
       "      <td>Sep 1, 2001</td>\n",
       "    </tr>\n",
       "    <tr>\n",
       "      <th>2</th>\n",
       "      <td>Trigun</td>\n",
       "      <td>['Action', 'Sci-Fi', 'Adventure', 'Comedy', 'D...</td>\n",
       "      <td>Vash the Stampede is the man with a $$60,000,0...</td>\n",
       "      <td>TV</td>\n",
       "      <td>['Victor Entertainment']</td>\n",
       "      <td>['Madhouse']</td>\n",
       "      <td>8.31</td>\n",
       "      <td>197451.0</td>\n",
       "      <td>158.0</td>\n",
       "      <td>372709.0</td>\n",
       "      <td>26.0</td>\n",
       "      <td>Manga</td>\n",
       "      <td>Apr 1, 1998 to Sep 30, 1998</td>\n",
       "    </tr>\n",
       "    <tr>\n",
       "      <th>3</th>\n",
       "      <td>Witch Hunter Robin</td>\n",
       "      <td>['Action', 'Magic', 'Police', 'Supernatural', ...</td>\n",
       "      <td>Witches are individuals with special powers li...</td>\n",
       "      <td>TV</td>\n",
       "      <td>['Bandai Visual']</td>\n",
       "      <td>['Sunrise']</td>\n",
       "      <td>7.34</td>\n",
       "      <td>31875.0</td>\n",
       "      <td>1278.0</td>\n",
       "      <td>74889.0</td>\n",
       "      <td>26.0</td>\n",
       "      <td>Original</td>\n",
       "      <td>Jul 2, 2002 to Dec 24, 2002</td>\n",
       "    </tr>\n",
       "    <tr>\n",
       "      <th>4</th>\n",
       "      <td>Bouken Ou Beet</td>\n",
       "      <td>['Adventure', 'Fantasy', 'Shounen', 'Supernatu...</td>\n",
       "      <td>It is the dark century and the people are suff...</td>\n",
       "      <td>TV</td>\n",
       "      <td>NaN</td>\n",
       "      <td>['Toei Animation']</td>\n",
       "      <td>7.04</td>\n",
       "      <td>4757.0</td>\n",
       "      <td>3968.0</td>\n",
       "      <td>11247.0</td>\n",
       "      <td>52.0</td>\n",
       "      <td>Manga</td>\n",
       "      <td>Sep 30, 2004 to Sep 29, 2005</td>\n",
       "    </tr>\n",
       "  </tbody>\n",
       "</table>\n",
       "</div>"
      ],
      "text/plain": [
       "                             Title  \\\n",
       "0                     Cowboy Bebop   \n",
       "1  Cowboy Bebop: Tengoku no Tobira   \n",
       "2                           Trigun   \n",
       "3               Witch Hunter Robin   \n",
       "4                   Bouken Ou Beet   \n",
       "\n",
       "                                               Genre  \\\n",
       "0  ['Action', 'Adventure', 'Comedy', 'Drama', 'Sc...   \n",
       "1  ['Action', 'Space', 'Drama', 'Mystery', 'Sci-Fi']   \n",
       "2  ['Action', 'Sci-Fi', 'Adventure', 'Comedy', 'D...   \n",
       "3  ['Action', 'Magic', 'Police', 'Supernatural', ...   \n",
       "4  ['Adventure', 'Fantasy', 'Shounen', 'Supernatu...   \n",
       "\n",
       "                                            Synopsis   Type  \\\n",
       "0  In the year 2071, humanity has colonized sever...     TV   \n",
       "1  Another day, another bounty—such is the life o...  Movie   \n",
       "2  Vash the Stampede is the man with a $$60,000,0...     TV   \n",
       "3  Witches are individuals with special powers li...     TV   \n",
       "4  It is the dark century and the people are suff...     TV   \n",
       "\n",
       "                       Producer              Studio  Rating  ScoredBy  \\\n",
       "0             ['Bandai Visual']         ['Sunrise']    8.81  363889.0   \n",
       "1  ['Sunrise', 'Bandai Visual']           ['Bones']    8.41  111187.0   \n",
       "2      ['Victor Entertainment']        ['Madhouse']    8.31  197451.0   \n",
       "3             ['Bandai Visual']         ['Sunrise']    7.34   31875.0   \n",
       "4                           NaN  ['Toei Animation']    7.04    4757.0   \n",
       "\n",
       "   Popularity   Members  Episodes    Source                         Aired  \n",
       "0        39.0  704490.0      26.0  Original   Apr 3, 1998 to Apr 24, 1999  \n",
       "1       475.0  179899.0       1.0  Original                   Sep 1, 2001  \n",
       "2       158.0  372709.0      26.0     Manga   Apr 1, 1998 to Sep 30, 1998  \n",
       "3      1278.0   74889.0      26.0  Original   Jul 2, 2002 to Dec 24, 2002  \n",
       "4      3968.0   11247.0      52.0     Manga  Sep 30, 2004 to Sep 29, 2005  "
      ]
     },
     "execution_count": 8,
     "metadata": {},
     "output_type": "execute_result"
    }
   ],
   "source": [
    "df.head()"
   ]
  },
  {
   "cell_type": "code",
   "execution_count": 9,
   "id": "49dd68f9",
   "metadata": {
    "execution": {
     "iopub.execute_input": "2022-02-11T22:40:03.114794Z",
     "iopub.status.busy": "2022-02-11T22:40:03.113979Z",
     "iopub.status.idle": "2022-02-11T22:40:03.134025Z",
     "shell.execute_reply": "2022-02-11T22:40:03.134619Z",
     "shell.execute_reply.started": "2022-02-11T22:36:18.512526Z"
    },
    "papermill": {
     "duration": 0.057422,
     "end_time": "2022-02-11T22:40:03.134798",
     "exception": false,
     "start_time": "2022-02-11T22:40:03.077376",
     "status": "completed"
    },
    "tags": []
   },
   "outputs": [
    {
     "data": {
      "text/plain": [
       "Title            0\n",
       "Genre         1961\n",
       "Synopsis      1304\n",
       "Type           591\n",
       "Producer      9161\n",
       "Studio        8885\n",
       "Rating        2396\n",
       "ScoredBy      3591\n",
       "Popularity     542\n",
       "Members          0\n",
       "Episodes      2809\n",
       "Source        1876\n",
       "Aired          542\n",
       "dtype: int64"
      ]
     },
     "execution_count": 9,
     "metadata": {},
     "output_type": "execute_result"
    }
   ],
   "source": [
    "df.isnull().sum()"
   ]
  },
  {
   "cell_type": "code",
   "execution_count": 10,
   "id": "3ca3b5d1",
   "metadata": {
    "execution": {
     "iopub.execute_input": "2022-02-11T22:40:03.205104Z",
     "iopub.status.busy": "2022-02-11T22:40:03.204179Z",
     "iopub.status.idle": "2022-02-11T22:40:03.224047Z",
     "shell.execute_reply": "2022-02-11T22:40:03.224623Z",
     "shell.execute_reply.started": "2022-02-11T22:36:18.541460Z"
    },
    "papermill": {
     "duration": 0.056271,
     "end_time": "2022-02-11T22:40:03.224795",
     "exception": false,
     "start_time": "2022-02-11T22:40:03.168524",
     "status": "completed"
    },
    "tags": []
   },
   "outputs": [
    {
     "data": {
      "text/plain": [
       "array([0.        , 0.11716556, 0.07791121, 0.03531099, 0.54735018,\n",
       "       0.53085977, 0.14315588, 0.21455458, 0.03238334, 0.        ,\n",
       "       0.16783175, 0.11208699, 0.03238334])"
      ]
     },
     "execution_count": 10,
     "metadata": {},
     "output_type": "execute_result"
    }
   ],
   "source": [
    "df.isnull().sum().values / df.shape[0]"
   ]
  },
  {
   "cell_type": "code",
   "execution_count": 11,
   "id": "b020db22",
   "metadata": {
    "execution": {
     "iopub.execute_input": "2022-02-11T22:40:03.297983Z",
     "iopub.status.busy": "2022-02-11T22:40:03.297025Z",
     "iopub.status.idle": "2022-02-11T22:40:03.302728Z",
     "shell.execute_reply": "2022-02-11T22:40:03.303306Z",
     "shell.execute_reply.started": "2022-02-11T22:36:18.567918Z"
    },
    "papermill": {
     "duration": 0.044166,
     "end_time": "2022-02-11T22:40:03.303476",
     "exception": false,
     "start_time": "2022-02-11T22:40:03.259310",
     "status": "completed"
    },
    "tags": []
   },
   "outputs": [],
   "source": [
    "df.drop(['Producer','Studio'],axis=1,inplace=True)"
   ]
  },
  {
   "cell_type": "code",
   "execution_count": 12,
   "id": "87c04d4e",
   "metadata": {
    "execution": {
     "iopub.execute_input": "2022-02-11T22:40:03.376826Z",
     "iopub.status.busy": "2022-02-11T22:40:03.375925Z",
     "iopub.status.idle": "2022-02-11T22:40:03.382407Z",
     "shell.execute_reply": "2022-02-11T22:40:03.383000Z",
     "shell.execute_reply.started": "2022-02-11T22:36:18.578047Z"
    },
    "papermill": {
     "duration": 0.044655,
     "end_time": "2022-02-11T22:40:03.383148",
     "exception": false,
     "start_time": "2022-02-11T22:40:03.338493",
     "status": "completed"
    },
    "tags": []
   },
   "outputs": [],
   "source": [
    "df.drop(['Aired'],axis=1,inplace=True)"
   ]
  },
  {
   "cell_type": "code",
   "execution_count": 13,
   "id": "f9f40164",
   "metadata": {
    "execution": {
     "iopub.execute_input": "2022-02-11T22:40:03.456911Z",
     "iopub.status.busy": "2022-02-11T22:40:03.455995Z",
     "iopub.status.idle": "2022-02-11T22:40:03.472548Z",
     "shell.execute_reply": "2022-02-11T22:40:03.473148Z",
     "shell.execute_reply.started": "2022-02-11T22:36:18.590021Z"
    },
    "papermill": {
     "duration": 0.054644,
     "end_time": "2022-02-11T22:40:03.473306",
     "exception": false,
     "start_time": "2022-02-11T22:40:03.418662",
     "status": "completed"
    },
    "tags": []
   },
   "outputs": [
    {
     "data": {
      "text/html": [
       "<div>\n",
       "<style scoped>\n",
       "    .dataframe tbody tr th:only-of-type {\n",
       "        vertical-align: middle;\n",
       "    }\n",
       "\n",
       "    .dataframe tbody tr th {\n",
       "        vertical-align: top;\n",
       "    }\n",
       "\n",
       "    .dataframe thead th {\n",
       "        text-align: right;\n",
       "    }\n",
       "</style>\n",
       "<table border=\"1\" class=\"dataframe\">\n",
       "  <thead>\n",
       "    <tr style=\"text-align: right;\">\n",
       "      <th></th>\n",
       "      <th>Title</th>\n",
       "      <th>Genre</th>\n",
       "      <th>Synopsis</th>\n",
       "      <th>Type</th>\n",
       "      <th>Rating</th>\n",
       "      <th>ScoredBy</th>\n",
       "      <th>Popularity</th>\n",
       "      <th>Members</th>\n",
       "      <th>Episodes</th>\n",
       "      <th>Source</th>\n",
       "    </tr>\n",
       "  </thead>\n",
       "  <tbody>\n",
       "    <tr>\n",
       "      <th>0</th>\n",
       "      <td>Cowboy Bebop</td>\n",
       "      <td>['Action', 'Adventure', 'Comedy', 'Drama', 'Sc...</td>\n",
       "      <td>In the year 2071, humanity has colonized sever...</td>\n",
       "      <td>TV</td>\n",
       "      <td>8.81</td>\n",
       "      <td>363889.0</td>\n",
       "      <td>39.0</td>\n",
       "      <td>704490.0</td>\n",
       "      <td>26.0</td>\n",
       "      <td>Original</td>\n",
       "    </tr>\n",
       "    <tr>\n",
       "      <th>1</th>\n",
       "      <td>Cowboy Bebop: Tengoku no Tobira</td>\n",
       "      <td>['Action', 'Space', 'Drama', 'Mystery', 'Sci-Fi']</td>\n",
       "      <td>Another day, another bounty—such is the life o...</td>\n",
       "      <td>Movie</td>\n",
       "      <td>8.41</td>\n",
       "      <td>111187.0</td>\n",
       "      <td>475.0</td>\n",
       "      <td>179899.0</td>\n",
       "      <td>1.0</td>\n",
       "      <td>Original</td>\n",
       "    </tr>\n",
       "    <tr>\n",
       "      <th>2</th>\n",
       "      <td>Trigun</td>\n",
       "      <td>['Action', 'Sci-Fi', 'Adventure', 'Comedy', 'D...</td>\n",
       "      <td>Vash the Stampede is the man with a $$60,000,0...</td>\n",
       "      <td>TV</td>\n",
       "      <td>8.31</td>\n",
       "      <td>197451.0</td>\n",
       "      <td>158.0</td>\n",
       "      <td>372709.0</td>\n",
       "      <td>26.0</td>\n",
       "      <td>Manga</td>\n",
       "    </tr>\n",
       "    <tr>\n",
       "      <th>3</th>\n",
       "      <td>Witch Hunter Robin</td>\n",
       "      <td>['Action', 'Magic', 'Police', 'Supernatural', ...</td>\n",
       "      <td>Witches are individuals with special powers li...</td>\n",
       "      <td>TV</td>\n",
       "      <td>7.34</td>\n",
       "      <td>31875.0</td>\n",
       "      <td>1278.0</td>\n",
       "      <td>74889.0</td>\n",
       "      <td>26.0</td>\n",
       "      <td>Original</td>\n",
       "    </tr>\n",
       "    <tr>\n",
       "      <th>4</th>\n",
       "      <td>Bouken Ou Beet</td>\n",
       "      <td>['Adventure', 'Fantasy', 'Shounen', 'Supernatu...</td>\n",
       "      <td>It is the dark century and the people are suff...</td>\n",
       "      <td>TV</td>\n",
       "      <td>7.04</td>\n",
       "      <td>4757.0</td>\n",
       "      <td>3968.0</td>\n",
       "      <td>11247.0</td>\n",
       "      <td>52.0</td>\n",
       "      <td>Manga</td>\n",
       "    </tr>\n",
       "  </tbody>\n",
       "</table>\n",
       "</div>"
      ],
      "text/plain": [
       "                             Title  \\\n",
       "0                     Cowboy Bebop   \n",
       "1  Cowboy Bebop: Tengoku no Tobira   \n",
       "2                           Trigun   \n",
       "3               Witch Hunter Robin   \n",
       "4                   Bouken Ou Beet   \n",
       "\n",
       "                                               Genre  \\\n",
       "0  ['Action', 'Adventure', 'Comedy', 'Drama', 'Sc...   \n",
       "1  ['Action', 'Space', 'Drama', 'Mystery', 'Sci-Fi']   \n",
       "2  ['Action', 'Sci-Fi', 'Adventure', 'Comedy', 'D...   \n",
       "3  ['Action', 'Magic', 'Police', 'Supernatural', ...   \n",
       "4  ['Adventure', 'Fantasy', 'Shounen', 'Supernatu...   \n",
       "\n",
       "                                            Synopsis   Type  Rating  ScoredBy  \\\n",
       "0  In the year 2071, humanity has colonized sever...     TV    8.81  363889.0   \n",
       "1  Another day, another bounty—such is the life o...  Movie    8.41  111187.0   \n",
       "2  Vash the Stampede is the man with a $$60,000,0...     TV    8.31  197451.0   \n",
       "3  Witches are individuals with special powers li...     TV    7.34   31875.0   \n",
       "4  It is the dark century and the people are suff...     TV    7.04    4757.0   \n",
       "\n",
       "   Popularity   Members  Episodes    Source  \n",
       "0        39.0  704490.0      26.0  Original  \n",
       "1       475.0  179899.0       1.0  Original  \n",
       "2       158.0  372709.0      26.0     Manga  \n",
       "3      1278.0   74889.0      26.0  Original  \n",
       "4      3968.0   11247.0      52.0     Manga  "
      ]
     },
     "execution_count": 13,
     "metadata": {},
     "output_type": "execute_result"
    }
   ],
   "source": [
    "df.head()"
   ]
  },
  {
   "cell_type": "code",
   "execution_count": 14,
   "id": "26586043",
   "metadata": {
    "execution": {
     "iopub.execute_input": "2022-02-11T22:40:03.545798Z",
     "iopub.status.busy": "2022-02-11T22:40:03.544928Z",
     "iopub.status.idle": "2022-02-11T22:40:03.565471Z",
     "shell.execute_reply": "2022-02-11T22:40:03.564891Z",
     "shell.execute_reply.started": "2022-02-11T22:36:18.617072Z"
    },
    "papermill": {
     "duration": 0.057593,
     "end_time": "2022-02-11T22:40:03.565609",
     "exception": false,
     "start_time": "2022-02-11T22:40:03.508016",
     "status": "completed"
    },
    "tags": []
   },
   "outputs": [],
   "source": [
    "df = df.join(pd.get_dummies(df['Source'],prefix='src',drop_first=True))\n",
    "df.drop('Source',axis=1,inplace=True)"
   ]
  },
  {
   "cell_type": "code",
   "execution_count": 15,
   "id": "3cf5a75f",
   "metadata": {
    "execution": {
     "iopub.execute_input": "2022-02-11T22:40:03.640708Z",
     "iopub.status.busy": "2022-02-11T22:40:03.640084Z",
     "iopub.status.idle": "2022-02-11T22:40:03.651578Z",
     "shell.execute_reply": "2022-02-11T22:40:03.652082Z",
     "shell.execute_reply.started": "2022-02-11T22:36:18.642068Z"
    },
    "papermill": {
     "duration": 0.050835,
     "end_time": "2022-02-11T22:40:03.652239",
     "exception": false,
     "start_time": "2022-02-11T22:40:03.601404",
     "status": "completed"
    },
    "tags": []
   },
   "outputs": [],
   "source": [
    "df = df.join(pd.get_dummies(df['Type'],prefix='type',drop_first=True))\n",
    "df.drop('Type',axis=1,inplace=True)"
   ]
  },
  {
   "cell_type": "code",
   "execution_count": 16,
   "id": "0e519247",
   "metadata": {
    "execution": {
     "iopub.execute_input": "2022-02-11T22:40:03.728795Z",
     "iopub.status.busy": "2022-02-11T22:40:03.728192Z",
     "iopub.status.idle": "2022-02-11T22:40:03.748530Z",
     "shell.execute_reply": "2022-02-11T22:40:03.749113Z",
     "shell.execute_reply.started": "2022-02-11T22:36:18.657599Z"
    },
    "papermill": {
     "duration": 0.059958,
     "end_time": "2022-02-11T22:40:03.749268",
     "exception": false,
     "start_time": "2022-02-11T22:40:03.689310",
     "status": "completed"
    },
    "tags": []
   },
   "outputs": [
    {
     "data": {
      "text/html": [
       "<div>\n",
       "<style scoped>\n",
       "    .dataframe tbody tr th:only-of-type {\n",
       "        vertical-align: middle;\n",
       "    }\n",
       "\n",
       "    .dataframe tbody tr th {\n",
       "        vertical-align: top;\n",
       "    }\n",
       "\n",
       "    .dataframe thead th {\n",
       "        text-align: right;\n",
       "    }\n",
       "</style>\n",
       "<table border=\"1\" class=\"dataframe\">\n",
       "  <thead>\n",
       "    <tr style=\"text-align: right;\">\n",
       "      <th></th>\n",
       "      <th>Title</th>\n",
       "      <th>Genre</th>\n",
       "      <th>Synopsis</th>\n",
       "      <th>Rating</th>\n",
       "      <th>ScoredBy</th>\n",
       "      <th>Popularity</th>\n",
       "      <th>Members</th>\n",
       "      <th>Episodes</th>\n",
       "      <th>src_Book</th>\n",
       "      <th>src_Card game</th>\n",
       "      <th>...</th>\n",
       "      <th>src_Radio</th>\n",
       "      <th>src_Unknown</th>\n",
       "      <th>src_Visual novel</th>\n",
       "      <th>src_Web manga</th>\n",
       "      <th>type_Music</th>\n",
       "      <th>type_ONA</th>\n",
       "      <th>type_OVA</th>\n",
       "      <th>type_Special</th>\n",
       "      <th>type_TV</th>\n",
       "      <th>type_Unknown</th>\n",
       "    </tr>\n",
       "  </thead>\n",
       "  <tbody>\n",
       "    <tr>\n",
       "      <th>0</th>\n",
       "      <td>Cowboy Bebop</td>\n",
       "      <td>['Action', 'Adventure', 'Comedy', 'Drama', 'Sc...</td>\n",
       "      <td>In the year 2071, humanity has colonized sever...</td>\n",
       "      <td>8.81</td>\n",
       "      <td>363889.0</td>\n",
       "      <td>39.0</td>\n",
       "      <td>704490.0</td>\n",
       "      <td>26.0</td>\n",
       "      <td>0</td>\n",
       "      <td>0</td>\n",
       "      <td>...</td>\n",
       "      <td>0</td>\n",
       "      <td>0</td>\n",
       "      <td>0</td>\n",
       "      <td>0</td>\n",
       "      <td>0</td>\n",
       "      <td>0</td>\n",
       "      <td>0</td>\n",
       "      <td>0</td>\n",
       "      <td>1</td>\n",
       "      <td>0</td>\n",
       "    </tr>\n",
       "    <tr>\n",
       "      <th>1</th>\n",
       "      <td>Cowboy Bebop: Tengoku no Tobira</td>\n",
       "      <td>['Action', 'Space', 'Drama', 'Mystery', 'Sci-Fi']</td>\n",
       "      <td>Another day, another bounty—such is the life o...</td>\n",
       "      <td>8.41</td>\n",
       "      <td>111187.0</td>\n",
       "      <td>475.0</td>\n",
       "      <td>179899.0</td>\n",
       "      <td>1.0</td>\n",
       "      <td>0</td>\n",
       "      <td>0</td>\n",
       "      <td>...</td>\n",
       "      <td>0</td>\n",
       "      <td>0</td>\n",
       "      <td>0</td>\n",
       "      <td>0</td>\n",
       "      <td>0</td>\n",
       "      <td>0</td>\n",
       "      <td>0</td>\n",
       "      <td>0</td>\n",
       "      <td>0</td>\n",
       "      <td>0</td>\n",
       "    </tr>\n",
       "    <tr>\n",
       "      <th>2</th>\n",
       "      <td>Trigun</td>\n",
       "      <td>['Action', 'Sci-Fi', 'Adventure', 'Comedy', 'D...</td>\n",
       "      <td>Vash the Stampede is the man with a $$60,000,0...</td>\n",
       "      <td>8.31</td>\n",
       "      <td>197451.0</td>\n",
       "      <td>158.0</td>\n",
       "      <td>372709.0</td>\n",
       "      <td>26.0</td>\n",
       "      <td>0</td>\n",
       "      <td>0</td>\n",
       "      <td>...</td>\n",
       "      <td>0</td>\n",
       "      <td>0</td>\n",
       "      <td>0</td>\n",
       "      <td>0</td>\n",
       "      <td>0</td>\n",
       "      <td>0</td>\n",
       "      <td>0</td>\n",
       "      <td>0</td>\n",
       "      <td>1</td>\n",
       "      <td>0</td>\n",
       "    </tr>\n",
       "    <tr>\n",
       "      <th>3</th>\n",
       "      <td>Witch Hunter Robin</td>\n",
       "      <td>['Action', 'Magic', 'Police', 'Supernatural', ...</td>\n",
       "      <td>Witches are individuals with special powers li...</td>\n",
       "      <td>7.34</td>\n",
       "      <td>31875.0</td>\n",
       "      <td>1278.0</td>\n",
       "      <td>74889.0</td>\n",
       "      <td>26.0</td>\n",
       "      <td>0</td>\n",
       "      <td>0</td>\n",
       "      <td>...</td>\n",
       "      <td>0</td>\n",
       "      <td>0</td>\n",
       "      <td>0</td>\n",
       "      <td>0</td>\n",
       "      <td>0</td>\n",
       "      <td>0</td>\n",
       "      <td>0</td>\n",
       "      <td>0</td>\n",
       "      <td>1</td>\n",
       "      <td>0</td>\n",
       "    </tr>\n",
       "    <tr>\n",
       "      <th>4</th>\n",
       "      <td>Bouken Ou Beet</td>\n",
       "      <td>['Adventure', 'Fantasy', 'Shounen', 'Supernatu...</td>\n",
       "      <td>It is the dark century and the people are suff...</td>\n",
       "      <td>7.04</td>\n",
       "      <td>4757.0</td>\n",
       "      <td>3968.0</td>\n",
       "      <td>11247.0</td>\n",
       "      <td>52.0</td>\n",
       "      <td>0</td>\n",
       "      <td>0</td>\n",
       "      <td>...</td>\n",
       "      <td>0</td>\n",
       "      <td>0</td>\n",
       "      <td>0</td>\n",
       "      <td>0</td>\n",
       "      <td>0</td>\n",
       "      <td>0</td>\n",
       "      <td>0</td>\n",
       "      <td>0</td>\n",
       "      <td>1</td>\n",
       "      <td>0</td>\n",
       "    </tr>\n",
       "  </tbody>\n",
       "</table>\n",
       "<p>5 rows × 29 columns</p>\n",
       "</div>"
      ],
      "text/plain": [
       "                             Title  \\\n",
       "0                     Cowboy Bebop   \n",
       "1  Cowboy Bebop: Tengoku no Tobira   \n",
       "2                           Trigun   \n",
       "3               Witch Hunter Robin   \n",
       "4                   Bouken Ou Beet   \n",
       "\n",
       "                                               Genre  \\\n",
       "0  ['Action', 'Adventure', 'Comedy', 'Drama', 'Sc...   \n",
       "1  ['Action', 'Space', 'Drama', 'Mystery', 'Sci-Fi']   \n",
       "2  ['Action', 'Sci-Fi', 'Adventure', 'Comedy', 'D...   \n",
       "3  ['Action', 'Magic', 'Police', 'Supernatural', ...   \n",
       "4  ['Adventure', 'Fantasy', 'Shounen', 'Supernatu...   \n",
       "\n",
       "                                            Synopsis  Rating  ScoredBy  \\\n",
       "0  In the year 2071, humanity has colonized sever...    8.81  363889.0   \n",
       "1  Another day, another bounty—such is the life o...    8.41  111187.0   \n",
       "2  Vash the Stampede is the man with a $$60,000,0...    8.31  197451.0   \n",
       "3  Witches are individuals with special powers li...    7.34   31875.0   \n",
       "4  It is the dark century and the people are suff...    7.04    4757.0   \n",
       "\n",
       "   Popularity   Members  Episodes  src_Book  src_Card game  ...  src_Radio  \\\n",
       "0        39.0  704490.0      26.0         0              0  ...          0   \n",
       "1       475.0  179899.0       1.0         0              0  ...          0   \n",
       "2       158.0  372709.0      26.0         0              0  ...          0   \n",
       "3      1278.0   74889.0      26.0         0              0  ...          0   \n",
       "4      3968.0   11247.0      52.0         0              0  ...          0   \n",
       "\n",
       "   src_Unknown  src_Visual novel  src_Web manga  type_Music  type_ONA  \\\n",
       "0            0                 0              0           0         0   \n",
       "1            0                 0              0           0         0   \n",
       "2            0                 0              0           0         0   \n",
       "3            0                 0              0           0         0   \n",
       "4            0                 0              0           0         0   \n",
       "\n",
       "   type_OVA  type_Special  type_TV  type_Unknown  \n",
       "0         0             0        1             0  \n",
       "1         0             0        0             0  \n",
       "2         0             0        1             0  \n",
       "3         0             0        1             0  \n",
       "4         0             0        1             0  \n",
       "\n",
       "[5 rows x 29 columns]"
      ]
     },
     "execution_count": 16,
     "metadata": {},
     "output_type": "execute_result"
    }
   ],
   "source": [
    "df.head()"
   ]
  },
  {
   "cell_type": "code",
   "execution_count": 17,
   "id": "779af7f9",
   "metadata": {
    "execution": {
     "iopub.execute_input": "2022-02-11T22:40:03.823598Z",
     "iopub.status.busy": "2022-02-11T22:40:03.823015Z",
     "iopub.status.idle": "2022-02-11T22:40:03.828839Z",
     "shell.execute_reply": "2022-02-11T22:40:03.829533Z",
     "shell.execute_reply.started": "2022-02-11T22:36:18.681304Z"
    },
    "papermill": {
     "duration": 0.044273,
     "end_time": "2022-02-11T22:40:03.829711",
     "exception": false,
     "start_time": "2022-02-11T22:40:03.785438",
     "status": "completed"
    },
    "tags": []
   },
   "outputs": [
    {
     "data": {
      "text/plain": [
       "0        ['Action', 'Adventure', 'Comedy', 'Drama', 'Sc...\n",
       "1        ['Action', 'Space', 'Drama', 'Mystery', 'Sci-Fi']\n",
       "2        ['Action', 'Sci-Fi', 'Adventure', 'Comedy', 'D...\n",
       "3        ['Action', 'Magic', 'Police', 'Supernatural', ...\n",
       "4        ['Adventure', 'Fantasy', 'Shounen', 'Supernatu...\n",
       "                               ...                        \n",
       "16997                                                  NaN\n",
       "16998                                                  NaN\n",
       "16999                                                  NaN\n",
       "17000                                                  NaN\n",
       "17001                                                  NaN\n",
       "Name: Genre, Length: 16737, dtype: object"
      ]
     },
     "execution_count": 17,
     "metadata": {},
     "output_type": "execute_result"
    }
   ],
   "source": [
    "df['Genre']"
   ]
  },
  {
   "cell_type": "code",
   "execution_count": 18,
   "id": "9542ef99",
   "metadata": {
    "execution": {
     "iopub.execute_input": "2022-02-11T22:40:03.906521Z",
     "iopub.status.busy": "2022-02-11T22:40:03.905951Z",
     "iopub.status.idle": "2022-02-11T22:40:03.922583Z",
     "shell.execute_reply": "2022-02-11T22:40:03.923152Z",
     "shell.execute_reply.started": "2022-02-11T22:36:18.689754Z"
    },
    "papermill": {
     "duration": 0.055891,
     "end_time": "2022-02-11T22:40:03.923303",
     "exception": false,
     "start_time": "2022-02-11T22:40:03.867412",
     "status": "completed"
    },
    "tags": []
   },
   "outputs": [
    {
     "data": {
      "text/plain": [
       "0.27233076417518076"
      ]
     },
     "execution_count": 18,
     "metadata": {},
     "output_type": "execute_result"
    }
   ],
   "source": [
    "(df.shape[0] - df.dropna().shape[0]) / df.shape[0]"
   ]
  },
  {
   "cell_type": "code",
   "execution_count": 19,
   "id": "65d91b45",
   "metadata": {
    "execution": {
     "iopub.execute_input": "2022-02-11T22:40:04.013365Z",
     "iopub.status.busy": "2022-02-11T22:40:04.012298Z",
     "iopub.status.idle": "2022-02-11T22:40:04.019770Z",
     "shell.execute_reply": "2022-02-11T22:40:04.020293Z",
     "shell.execute_reply.started": "2022-02-11T22:36:18.713708Z"
    },
    "papermill": {
     "duration": 0.060066,
     "end_time": "2022-02-11T22:40:04.020444",
     "exception": false,
     "start_time": "2022-02-11T22:40:03.960378",
     "status": "completed"
    },
    "tags": []
   },
   "outputs": [],
   "source": [
    "df.dropna(inplace=True)"
   ]
  },
  {
   "cell_type": "code",
   "execution_count": 20,
   "id": "ca5a3076",
   "metadata": {
    "execution": {
     "iopub.execute_input": "2022-02-11T22:40:04.099324Z",
     "iopub.status.busy": "2022-02-11T22:40:04.098401Z",
     "iopub.status.idle": "2022-02-11T22:40:04.105310Z",
     "shell.execute_reply": "2022-02-11T22:40:04.105877Z",
     "shell.execute_reply.started": "2022-02-11T22:36:18.731505Z"
    },
    "papermill": {
     "duration": 0.046959,
     "end_time": "2022-02-11T22:40:04.106023",
     "exception": false,
     "start_time": "2022-02-11T22:40:04.059064",
     "status": "completed"
    },
    "tags": []
   },
   "outputs": [
    {
     "data": {
      "text/plain": [
       "Title                 object\n",
       "Genre                 object\n",
       "Synopsis              object\n",
       "Rating               float64\n",
       "ScoredBy             float64\n",
       "Popularity           float64\n",
       "Members              float64\n",
       "Episodes             float64\n",
       "src_Book               uint8\n",
       "src_Card game          uint8\n",
       "src_Digital manga      uint8\n",
       "src_Game               uint8\n",
       "src_Light novel        uint8\n",
       "src_Manga              uint8\n",
       "src_Music              uint8\n",
       "src_Novel              uint8\n",
       "src_Original           uint8\n",
       "src_Other              uint8\n",
       "src_Picture book       uint8\n",
       "src_Radio              uint8\n",
       "src_Unknown            uint8\n",
       "src_Visual novel       uint8\n",
       "src_Web manga          uint8\n",
       "type_Music             uint8\n",
       "type_ONA               uint8\n",
       "type_OVA               uint8\n",
       "type_Special           uint8\n",
       "type_TV                uint8\n",
       "type_Unknown           uint8\n",
       "dtype: object"
      ]
     },
     "execution_count": 20,
     "metadata": {},
     "output_type": "execute_result"
    }
   ],
   "source": [
    "df.dtypes"
   ]
  },
  {
   "cell_type": "code",
   "execution_count": 21,
   "id": "072fe37a",
   "metadata": {
    "execution": {
     "iopub.execute_input": "2022-02-11T22:40:04.185099Z",
     "iopub.status.busy": "2022-02-11T22:40:04.184193Z",
     "iopub.status.idle": "2022-02-11T22:40:04.188541Z",
     "shell.execute_reply": "2022-02-11T22:40:04.189221Z",
     "shell.execute_reply.started": "2022-02-11T22:36:18.740445Z"
    },
    "papermill": {
     "duration": 0.046629,
     "end_time": "2022-02-11T22:40:04.189367",
     "exception": false,
     "start_time": "2022-02-11T22:40:04.142738",
     "status": "completed"
    },
    "tags": []
   },
   "outputs": [],
   "source": [
    "import ast\n",
    "\n",
    "def parse_list(x):\n",
    "    x = ast.literal_eval(x)\n",
    "    x = [n.strip() for n in x]\n",
    "    return(x)"
   ]
  },
  {
   "cell_type": "code",
   "execution_count": 22,
   "id": "da9075db",
   "metadata": {
    "execution": {
     "iopub.execute_input": "2022-02-11T22:40:04.275720Z",
     "iopub.status.busy": "2022-02-11T22:40:04.274841Z",
     "iopub.status.idle": "2022-02-11T22:40:04.515548Z",
     "shell.execute_reply": "2022-02-11T22:40:04.516043Z",
     "shell.execute_reply.started": "2022-02-11T22:36:18.751434Z"
    },
    "papermill": {
     "duration": 0.282444,
     "end_time": "2022-02-11T22:40:04.516190",
     "exception": false,
     "start_time": "2022-02-11T22:40:04.233746",
     "status": "completed"
    },
    "tags": []
   },
   "outputs": [],
   "source": [
    "df['Genre'] = df['Genre'].apply(parse_list)"
   ]
  },
  {
   "cell_type": "code",
   "execution_count": 23,
   "id": "10d9280c",
   "metadata": {
    "execution": {
     "iopub.execute_input": "2022-02-11T22:40:04.593021Z",
     "iopub.status.busy": "2022-02-11T22:40:04.592057Z",
     "iopub.status.idle": "2022-02-11T22:40:04.669804Z",
     "shell.execute_reply": "2022-02-11T22:40:04.669172Z",
     "shell.execute_reply.started": "2022-02-11T22:36:19.051400Z"
    },
    "papermill": {
     "duration": 0.117319,
     "end_time": "2022-02-11T22:40:04.669949",
     "exception": false,
     "start_time": "2022-02-11T22:40:04.552630",
     "status": "completed"
    },
    "tags": []
   },
   "outputs": [
    {
     "name": "stderr",
     "output_type": "stream",
     "text": [
      "/opt/conda/lib/python3.7/site-packages/ipykernel_launcher.py:1: FutureWarning: Using the level keyword in DataFrame and Series aggregations is deprecated and will be removed in a future version. Use groupby instead. df.sum(level=1) should use df.groupby(level=1).sum().\n",
      "  \"\"\"Entry point for launching an IPython kernel.\n"
     ]
    }
   ],
   "source": [
    "df = df.join(pd.get_dummies(df['Genre'].explode(),prefix='genre',drop_first=True).sum(level=0))\n",
    "df.drop('Genre',axis=1,inplace=True)"
   ]
  },
  {
   "cell_type": "code",
   "execution_count": 24,
   "id": "218252a2",
   "metadata": {
    "execution": {
     "iopub.execute_input": "2022-02-11T22:40:04.746867Z",
     "iopub.status.busy": "2022-02-11T22:40:04.746261Z",
     "iopub.status.idle": "2022-02-11T22:40:04.765718Z",
     "shell.execute_reply": "2022-02-11T22:40:04.766251Z",
     "shell.execute_reply.started": "2022-02-11T22:36:19.163604Z"
    },
    "papermill": {
     "duration": 0.058902,
     "end_time": "2022-02-11T22:40:04.766389",
     "exception": false,
     "start_time": "2022-02-11T22:40:04.707487",
     "status": "completed"
    },
    "tags": []
   },
   "outputs": [
    {
     "data": {
      "text/html": [
       "<div>\n",
       "<style scoped>\n",
       "    .dataframe tbody tr th:only-of-type {\n",
       "        vertical-align: middle;\n",
       "    }\n",
       "\n",
       "    .dataframe tbody tr th {\n",
       "        vertical-align: top;\n",
       "    }\n",
       "\n",
       "    .dataframe thead th {\n",
       "        text-align: right;\n",
       "    }\n",
       "</style>\n",
       "<table border=\"1\" class=\"dataframe\">\n",
       "  <thead>\n",
       "    <tr style=\"text-align: right;\">\n",
       "      <th></th>\n",
       "      <th>Title</th>\n",
       "      <th>Synopsis</th>\n",
       "      <th>Rating</th>\n",
       "      <th>ScoredBy</th>\n",
       "      <th>Popularity</th>\n",
       "      <th>Members</th>\n",
       "      <th>Episodes</th>\n",
       "      <th>src_Book</th>\n",
       "      <th>src_Card game</th>\n",
       "      <th>src_Digital manga</th>\n",
       "      <th>...</th>\n",
       "      <th>genre_Shounen Ai</th>\n",
       "      <th>genre_Slice of Life</th>\n",
       "      <th>genre_Space</th>\n",
       "      <th>genre_Sports</th>\n",
       "      <th>genre_Super Power</th>\n",
       "      <th>genre_Supernatural</th>\n",
       "      <th>genre_Thriller</th>\n",
       "      <th>genre_Vampire</th>\n",
       "      <th>genre_Yaoi</th>\n",
       "      <th>genre_Yuri</th>\n",
       "    </tr>\n",
       "  </thead>\n",
       "  <tbody>\n",
       "    <tr>\n",
       "      <th>0</th>\n",
       "      <td>Cowboy Bebop</td>\n",
       "      <td>In the year 2071, humanity has colonized sever...</td>\n",
       "      <td>8.81</td>\n",
       "      <td>363889.0</td>\n",
       "      <td>39.0</td>\n",
       "      <td>704490.0</td>\n",
       "      <td>26.0</td>\n",
       "      <td>0</td>\n",
       "      <td>0</td>\n",
       "      <td>0</td>\n",
       "      <td>...</td>\n",
       "      <td>0</td>\n",
       "      <td>0</td>\n",
       "      <td>1</td>\n",
       "      <td>0</td>\n",
       "      <td>0</td>\n",
       "      <td>0</td>\n",
       "      <td>0</td>\n",
       "      <td>0</td>\n",
       "      <td>0</td>\n",
       "      <td>0</td>\n",
       "    </tr>\n",
       "    <tr>\n",
       "      <th>1</th>\n",
       "      <td>Cowboy Bebop: Tengoku no Tobira</td>\n",
       "      <td>Another day, another bounty—such is the life o...</td>\n",
       "      <td>8.41</td>\n",
       "      <td>111187.0</td>\n",
       "      <td>475.0</td>\n",
       "      <td>179899.0</td>\n",
       "      <td>1.0</td>\n",
       "      <td>0</td>\n",
       "      <td>0</td>\n",
       "      <td>0</td>\n",
       "      <td>...</td>\n",
       "      <td>0</td>\n",
       "      <td>0</td>\n",
       "      <td>1</td>\n",
       "      <td>0</td>\n",
       "      <td>0</td>\n",
       "      <td>0</td>\n",
       "      <td>0</td>\n",
       "      <td>0</td>\n",
       "      <td>0</td>\n",
       "      <td>0</td>\n",
       "    </tr>\n",
       "    <tr>\n",
       "      <th>2</th>\n",
       "      <td>Trigun</td>\n",
       "      <td>Vash the Stampede is the man with a $$60,000,0...</td>\n",
       "      <td>8.31</td>\n",
       "      <td>197451.0</td>\n",
       "      <td>158.0</td>\n",
       "      <td>372709.0</td>\n",
       "      <td>26.0</td>\n",
       "      <td>0</td>\n",
       "      <td>0</td>\n",
       "      <td>0</td>\n",
       "      <td>...</td>\n",
       "      <td>0</td>\n",
       "      <td>0</td>\n",
       "      <td>0</td>\n",
       "      <td>0</td>\n",
       "      <td>0</td>\n",
       "      <td>0</td>\n",
       "      <td>0</td>\n",
       "      <td>0</td>\n",
       "      <td>0</td>\n",
       "      <td>0</td>\n",
       "    </tr>\n",
       "    <tr>\n",
       "      <th>3</th>\n",
       "      <td>Witch Hunter Robin</td>\n",
       "      <td>Witches are individuals with special powers li...</td>\n",
       "      <td>7.34</td>\n",
       "      <td>31875.0</td>\n",
       "      <td>1278.0</td>\n",
       "      <td>74889.0</td>\n",
       "      <td>26.0</td>\n",
       "      <td>0</td>\n",
       "      <td>0</td>\n",
       "      <td>0</td>\n",
       "      <td>...</td>\n",
       "      <td>0</td>\n",
       "      <td>0</td>\n",
       "      <td>0</td>\n",
       "      <td>0</td>\n",
       "      <td>0</td>\n",
       "      <td>1</td>\n",
       "      <td>0</td>\n",
       "      <td>0</td>\n",
       "      <td>0</td>\n",
       "      <td>0</td>\n",
       "    </tr>\n",
       "    <tr>\n",
       "      <th>4</th>\n",
       "      <td>Bouken Ou Beet</td>\n",
       "      <td>It is the dark century and the people are suff...</td>\n",
       "      <td>7.04</td>\n",
       "      <td>4757.0</td>\n",
       "      <td>3968.0</td>\n",
       "      <td>11247.0</td>\n",
       "      <td>52.0</td>\n",
       "      <td>0</td>\n",
       "      <td>0</td>\n",
       "      <td>0</td>\n",
       "      <td>...</td>\n",
       "      <td>0</td>\n",
       "      <td>0</td>\n",
       "      <td>0</td>\n",
       "      <td>0</td>\n",
       "      <td>0</td>\n",
       "      <td>1</td>\n",
       "      <td>0</td>\n",
       "      <td>0</td>\n",
       "      <td>0</td>\n",
       "      <td>0</td>\n",
       "    </tr>\n",
       "  </tbody>\n",
       "</table>\n",
       "<p>5 rows × 70 columns</p>\n",
       "</div>"
      ],
      "text/plain": [
       "                             Title  \\\n",
       "0                     Cowboy Bebop   \n",
       "1  Cowboy Bebop: Tengoku no Tobira   \n",
       "2                           Trigun   \n",
       "3               Witch Hunter Robin   \n",
       "4                   Bouken Ou Beet   \n",
       "\n",
       "                                            Synopsis  Rating  ScoredBy  \\\n",
       "0  In the year 2071, humanity has colonized sever...    8.81  363889.0   \n",
       "1  Another day, another bounty—such is the life o...    8.41  111187.0   \n",
       "2  Vash the Stampede is the man with a $$60,000,0...    8.31  197451.0   \n",
       "3  Witches are individuals with special powers li...    7.34   31875.0   \n",
       "4  It is the dark century and the people are suff...    7.04    4757.0   \n",
       "\n",
       "   Popularity   Members  Episodes  src_Book  src_Card game  src_Digital manga  \\\n",
       "0        39.0  704490.0      26.0         0              0                  0   \n",
       "1       475.0  179899.0       1.0         0              0                  0   \n",
       "2       158.0  372709.0      26.0         0              0                  0   \n",
       "3      1278.0   74889.0      26.0         0              0                  0   \n",
       "4      3968.0   11247.0      52.0         0              0                  0   \n",
       "\n",
       "   ...  genre_Shounen Ai  genre_Slice of Life  genre_Space  genre_Sports  \\\n",
       "0  ...                 0                    0            1             0   \n",
       "1  ...                 0                    0            1             0   \n",
       "2  ...                 0                    0            0             0   \n",
       "3  ...                 0                    0            0             0   \n",
       "4  ...                 0                    0            0             0   \n",
       "\n",
       "   genre_Super Power  genre_Supernatural  genre_Thriller  genre_Vampire  \\\n",
       "0                  0                   0               0              0   \n",
       "1                  0                   0               0              0   \n",
       "2                  0                   0               0              0   \n",
       "3                  0                   1               0              0   \n",
       "4                  0                   1               0              0   \n",
       "\n",
       "   genre_Yaoi  genre_Yuri  \n",
       "0           0           0  \n",
       "1           0           0  \n",
       "2           0           0  \n",
       "3           0           0  \n",
       "4           0           0  \n",
       "\n",
       "[5 rows x 70 columns]"
      ]
     },
     "execution_count": 24,
     "metadata": {},
     "output_type": "execute_result"
    }
   ],
   "source": [
    "df.head()"
   ]
  },
  {
   "cell_type": "code",
   "execution_count": 25,
   "id": "0ec852bc",
   "metadata": {
    "execution": {
     "iopub.execute_input": "2022-02-11T22:40:04.843932Z",
     "iopub.status.busy": "2022-02-11T22:40:04.843341Z",
     "iopub.status.idle": "2022-02-11T22:40:04.848406Z",
     "shell.execute_reply": "2022-02-11T22:40:04.848987Z",
     "shell.execute_reply.started": "2022-02-11T22:36:19.192886Z"
    },
    "papermill": {
     "duration": 0.044996,
     "end_time": "2022-02-11T22:40:04.849132",
     "exception": false,
     "start_time": "2022-02-11T22:40:04.804136",
     "status": "completed"
    },
    "tags": []
   },
   "outputs": [],
   "source": [
    "X = df.drop(['Title','Rating'],axis=1)\n",
    "y = df['Rating']"
   ]
  },
  {
   "cell_type": "code",
   "execution_count": 26,
   "id": "dc4ebe71",
   "metadata": {
    "execution": {
     "iopub.execute_input": "2022-02-11T22:40:04.927177Z",
     "iopub.status.busy": "2022-02-11T22:40:04.926581Z",
     "iopub.status.idle": "2022-02-11T22:40:05.761639Z",
     "shell.execute_reply": "2022-02-11T22:40:05.762150Z",
     "shell.execute_reply.started": "2022-02-11T22:36:19.202679Z"
    },
    "papermill": {
     "duration": 0.875171,
     "end_time": "2022-02-11T22:40:05.762334",
     "exception": false,
     "start_time": "2022-02-11T22:40:04.887163",
     "status": "completed"
    },
    "tags": []
   },
   "outputs": [],
   "source": [
    "from sklearn.model_selection import train_test_split\n",
    "\n",
    "X_train,X_test,y_train,y_test = train_test_split(X,y,test_size=.2,random_state=123)"
   ]
  },
  {
   "cell_type": "markdown",
   "id": "a07b6280",
   "metadata": {
    "papermill": {
     "duration": 0.03698,
     "end_time": "2022-02-11T22:40:05.837945",
     "exception": false,
     "start_time": "2022-02-11T22:40:05.800965",
     "status": "completed"
    },
    "tags": []
   },
   "source": [
    "# PART 2 - predict rating from non-word features"
   ]
  },
  {
   "cell_type": "code",
   "execution_count": 27,
   "id": "e701c460",
   "metadata": {
    "execution": {
     "iopub.execute_input": "2022-02-11T22:40:05.916657Z",
     "iopub.status.busy": "2022-02-11T22:40:05.916095Z",
     "iopub.status.idle": "2022-02-11T22:40:05.922031Z",
     "shell.execute_reply": "2022-02-11T22:40:05.922508Z",
     "shell.execute_reply.started": "2022-02-11T22:36:20.214885Z"
    },
    "papermill": {
     "duration": 0.046996,
     "end_time": "2022-02-11T22:40:05.922673",
     "exception": false,
     "start_time": "2022-02-11T22:40:05.875677",
     "status": "completed"
    },
    "tags": []
   },
   "outputs": [],
   "source": [
    "X1_train = X_train.drop('Synopsis',axis=1)\n",
    "X1_test = X_test.drop('Synopsis',axis=1)"
   ]
  },
  {
   "cell_type": "code",
   "execution_count": 28,
   "id": "2716688e",
   "metadata": {
    "execution": {
     "iopub.execute_input": "2022-02-11T22:40:05.999298Z",
     "iopub.status.busy": "2022-02-11T22:40:05.998727Z",
     "iopub.status.idle": "2022-02-11T22:40:06.004819Z",
     "shell.execute_reply": "2022-02-11T22:40:06.005357Z",
     "shell.execute_reply.started": "2022-02-11T22:36:20.222977Z"
    },
    "papermill": {
     "duration": 0.045742,
     "end_time": "2022-02-11T22:40:06.005496",
     "exception": false,
     "start_time": "2022-02-11T22:40:05.959754",
     "status": "completed"
    },
    "tags": []
   },
   "outputs": [
    {
     "data": {
      "text/plain": [
       "ScoredBy              float64\n",
       "Popularity            float64\n",
       "Members               float64\n",
       "Episodes              float64\n",
       "src_Book                uint8\n",
       "                       ...   \n",
       "genre_Supernatural      uint8\n",
       "genre_Thriller          uint8\n",
       "genre_Vampire           uint8\n",
       "genre_Yaoi              uint8\n",
       "genre_Yuri              uint8\n",
       "Length: 67, dtype: object"
      ]
     },
     "execution_count": 28,
     "metadata": {},
     "output_type": "execute_result"
    }
   ],
   "source": [
    "X1_train.dtypes"
   ]
  },
  {
   "cell_type": "code",
   "execution_count": 29,
   "id": "a3cd49c8",
   "metadata": {
    "execution": {
     "iopub.execute_input": "2022-02-11T22:40:06.082554Z",
     "iopub.status.busy": "2022-02-11T22:40:06.082021Z",
     "iopub.status.idle": "2022-02-11T22:40:06.170651Z",
     "shell.execute_reply": "2022-02-11T22:40:06.170112Z",
     "shell.execute_reply.started": "2022-02-11T22:36:20.239812Z"
    },
    "papermill": {
     "duration": 0.12801,
     "end_time": "2022-02-11T22:40:06.170794",
     "exception": false,
     "start_time": "2022-02-11T22:40:06.042784",
     "status": "completed"
    },
    "tags": []
   },
   "outputs": [],
   "source": [
    "import xgboost as xgb\n",
    "\n",
    "boost = xgb.XGBRegressor(n_estimators=10,seed=123)"
   ]
  },
  {
   "cell_type": "code",
   "execution_count": 30,
   "id": "5a6dfef1",
   "metadata": {
    "execution": {
     "iopub.execute_input": "2022-02-11T22:40:06.249221Z",
     "iopub.status.busy": "2022-02-11T22:40:06.248649Z",
     "iopub.status.idle": "2022-02-11T22:40:06.485294Z",
     "shell.execute_reply": "2022-02-11T22:40:06.485870Z",
     "shell.execute_reply.started": "2022-02-11T22:36:20.338070Z"
    },
    "papermill": {
     "duration": 0.277572,
     "end_time": "2022-02-11T22:40:06.486096",
     "exception": false,
     "start_time": "2022-02-11T22:40:06.208524",
     "status": "completed"
    },
    "tags": []
   },
   "outputs": [],
   "source": [
    "boost.fit(X1_train,y_train)\n",
    "\n",
    "preds = boost.predict(X1_test)"
   ]
  },
  {
   "cell_type": "code",
   "execution_count": 31,
   "id": "aa49e20b",
   "metadata": {
    "execution": {
     "iopub.execute_input": "2022-02-11T22:40:06.569120Z",
     "iopub.status.busy": "2022-02-11T22:40:06.568489Z",
     "iopub.status.idle": "2022-02-11T22:40:06.571280Z",
     "shell.execute_reply": "2022-02-11T22:40:06.571708Z",
     "shell.execute_reply.started": "2022-02-11T22:36:20.603727Z"
    },
    "papermill": {
     "duration": 0.045747,
     "end_time": "2022-02-11T22:40:06.571860",
     "exception": false,
     "start_time": "2022-02-11T22:40:06.526113",
     "status": "completed"
    },
    "tags": []
   },
   "outputs": [
    {
     "name": "stdout",
     "output_type": "stream",
     "text": [
      "MSE: 0.4654566782692339\n"
     ]
    }
   ],
   "source": [
    "from sklearn.metrics import mean_squared_error\n",
    "\n",
    "print('MSE: {}'.format(mean_squared_error(y_test,preds)))"
   ]
  },
  {
   "cell_type": "code",
   "execution_count": 32,
   "id": "1bca4ed7",
   "metadata": {
    "execution": {
     "iopub.execute_input": "2022-02-11T22:40:06.654664Z",
     "iopub.status.busy": "2022-02-11T22:40:06.654038Z",
     "iopub.status.idle": "2022-02-11T22:40:06.658164Z",
     "shell.execute_reply": "2022-02-11T22:40:06.658638Z",
     "shell.execute_reply.started": "2022-02-11T22:36:20.614069Z"
    },
    "papermill": {
     "duration": 0.048241,
     "end_time": "2022-02-11T22:40:06.658796",
     "exception": false,
     "start_time": "2022-02-11T22:40:06.610555",
     "status": "completed"
    },
    "tags": []
   },
   "outputs": [],
   "source": [
    "from sklearn.pipeline import Pipeline\n",
    "from sklearn.preprocessing import StandardScaler\n",
    "from sklearn.model_selection import GridSearchCV\n",
    "import numpy as np\n",
    "\n",
    "pipe = Pipeline([('scaler',StandardScaler()),('xgb',xgb.XGBRegressor())])\n",
    "\n",
    "param_grid = {\n",
    "    'xgb__learning_rate': [0.01,0.1,0.5,0.9],\n",
    "    'xgb__n_estimators': [200],\n",
    "    'xgb__subsample': [0.3, 0.5, 0.9]\n",
    "}\n",
    "\n",
    "grid = GridSearchCV(estimator=pipe,param_grid=param_grid,\n",
    "                    scoring='neg_mean_squared_error', cv=4)"
   ]
  },
  {
   "cell_type": "code",
   "execution_count": 33,
   "id": "78d23940",
   "metadata": {
    "execution": {
     "iopub.execute_input": "2022-02-11T22:40:06.740815Z",
     "iopub.status.busy": "2022-02-11T22:40:06.740260Z",
     "iopub.status.idle": "2022-02-11T22:42:37.299385Z",
     "shell.execute_reply": "2022-02-11T22:42:37.299836Z"
    },
    "papermill": {
     "duration": 150.602988,
     "end_time": "2022-02-11T22:42:37.299998",
     "exception": false,
     "start_time": "2022-02-11T22:40:06.697010",
     "status": "completed"
    },
    "tags": []
   },
   "outputs": [
    {
     "name": "stdout",
     "output_type": "stream",
     "text": [
      "0.3846891441356819\n"
     ]
    }
   ],
   "source": [
    "grid.fit(X1_train,y_train)\n",
    "\n",
    "print(np.abs(grid.best_score_))"
   ]
  },
  {
   "cell_type": "markdown",
   "id": "5f7936f1",
   "metadata": {
    "papermill": {
     "duration": 0.03666,
     "end_time": "2022-02-11T22:42:37.374810",
     "exception": false,
     "start_time": "2022-02-11T22:42:37.338150",
     "status": "completed"
    },
    "tags": []
   },
   "source": [
    "# PART 3 - calculat similarity from tfidf_vect"
   ]
  },
  {
   "cell_type": "code",
   "execution_count": 34,
   "id": "568f7738",
   "metadata": {
    "execution": {
     "iopub.execute_input": "2022-02-11T22:42:37.457819Z",
     "iopub.status.busy": "2022-02-11T22:42:37.455637Z",
     "iopub.status.idle": "2022-02-11T22:42:37.459459Z",
     "shell.execute_reply": "2022-02-11T22:42:37.459996Z"
    },
    "papermill": {
     "duration": 0.046431,
     "end_time": "2022-02-11T22:42:37.460134",
     "exception": false,
     "start_time": "2022-02-11T22:42:37.413703",
     "status": "completed"
    },
    "tags": []
   },
   "outputs": [],
   "source": [
    "import re\n",
    "\n",
    "def clean_text(x):\n",
    "    expr = '[^a-zA-Z]'\n",
    "    x = re.sub(expr,' ',x)\n",
    "    return(x)"
   ]
  },
  {
   "cell_type": "code",
   "execution_count": 35,
   "id": "3ed46240",
   "metadata": {
    "execution": {
     "iopub.execute_input": "2022-02-11T22:42:37.581623Z",
     "iopub.status.busy": "2022-02-11T22:42:37.542960Z",
     "iopub.status.idle": "2022-02-11T22:42:38.051196Z",
     "shell.execute_reply": "2022-02-11T22:42:38.050650Z"
    },
    "papermill": {
     "duration": 0.551236,
     "end_time": "2022-02-11T22:42:38.051330",
     "exception": false,
     "start_time": "2022-02-11T22:42:37.500094",
     "status": "completed"
    },
    "tags": []
   },
   "outputs": [],
   "source": [
    "df['Synopsis'] = df['Synopsis'].apply(clean_text)"
   ]
  },
  {
   "cell_type": "code",
   "execution_count": 36,
   "id": "c0875fe9",
   "metadata": {
    "execution": {
     "iopub.execute_input": "2022-02-11T22:42:38.139486Z",
     "iopub.status.busy": "2022-02-11T22:42:38.138928Z",
     "iopub.status.idle": "2022-02-11T22:42:38.142347Z",
     "shell.execute_reply": "2022-02-11T22:42:38.141868Z"
    },
    "papermill": {
     "duration": 0.050743,
     "end_time": "2022-02-11T22:42:38.142475",
     "exception": false,
     "start_time": "2022-02-11T22:42:38.091732",
     "status": "completed"
    },
    "tags": []
   },
   "outputs": [
    {
     "data": {
      "text/plain": [
       "0        In the year       humanity has colonized sever...\n",
       "1        Another day  another bounty such is the life o...\n",
       "2        Vash the Stampede is the man with a           ...\n",
       "3        Witches are individuals with special powers li...\n",
       "4        It is the dark century and the people are suff...\n",
       "                               ...                        \n",
       "15012    Relay PV with original animation that was not ...\n",
       "15013    Short anime celebrating the    th anniversary ...\n",
       "15015    Music video directed by Kouhei Yoshino for the...\n",
       "15016    Music video directed by Kouhei Yoshino for the...\n",
       "15031    Space Shower TV Station ID directed by Densuke...\n",
       "Name: Synopsis, Length: 12179, dtype: object"
      ]
     },
     "execution_count": 36,
     "metadata": {},
     "output_type": "execute_result"
    }
   ],
   "source": [
    "df['Synopsis']"
   ]
  },
  {
   "cell_type": "code",
   "execution_count": 37,
   "id": "c1cb6e3e",
   "metadata": {
    "execution": {
     "iopub.execute_input": "2022-02-11T22:42:38.223728Z",
     "iopub.status.busy": "2022-02-11T22:42:38.222908Z",
     "iopub.status.idle": "2022-02-11T22:42:39.082003Z",
     "shell.execute_reply": "2022-02-11T22:42:39.080843Z"
    },
    "papermill": {
     "duration": 0.900452,
     "end_time": "2022-02-11T22:42:39.082153",
     "exception": false,
     "start_time": "2022-02-11T22:42:38.181701",
     "status": "completed"
    },
    "tags": []
   },
   "outputs": [],
   "source": [
    "from sklearn.feature_extraction.text import TfidfVectorizer\n",
    "\n",
    "vect = TfidfVectorizer(min_df=2,max_df=10,stop_words='english')\n",
    "\n",
    "tfidf_matrix = vect.fit_transform(df['Synopsis'])"
   ]
  },
  {
   "cell_type": "code",
   "execution_count": 38,
   "id": "bf2a392a",
   "metadata": {
    "execution": {
     "iopub.execute_input": "2022-02-11T22:42:39.168229Z",
     "iopub.status.busy": "2022-02-11T22:42:39.167348Z",
     "iopub.status.idle": "2022-02-11T22:42:39.421092Z",
     "shell.execute_reply": "2022-02-11T22:42:39.420418Z"
    },
    "papermill": {
     "duration": 0.298389,
     "end_time": "2022-02-11T22:42:39.421258",
     "exception": false,
     "start_time": "2022-02-11T22:42:39.122869",
     "status": "completed"
    },
    "tags": []
   },
   "outputs": [
    {
     "data": {
      "text/plain": [
       "array([[0., 0., 0., ..., 0., 0., 0.],\n",
       "       [0., 0., 0., ..., 0., 0., 0.],\n",
       "       [0., 0., 0., ..., 0., 0., 0.],\n",
       "       ...,\n",
       "       [0., 0., 0., ..., 0., 0., 0.],\n",
       "       [0., 0., 0., ..., 0., 0., 0.],\n",
       "       [0., 0., 0., ..., 0., 0., 0.]])"
      ]
     },
     "execution_count": 38,
     "metadata": {},
     "output_type": "execute_result"
    }
   ],
   "source": [
    "tfidf_matrix.toarray()"
   ]
  },
  {
   "cell_type": "code",
   "execution_count": 39,
   "id": "b52d2bc6",
   "metadata": {
    "execution": {
     "iopub.execute_input": "2022-02-11T22:42:39.507028Z",
     "iopub.status.busy": "2022-02-11T22:42:39.506066Z",
     "iopub.status.idle": "2022-02-11T22:42:39.770076Z",
     "shell.execute_reply": "2022-02-11T22:42:39.770528Z"
    },
    "papermill": {
     "duration": 0.308141,
     "end_time": "2022-02-11T22:42:39.770708",
     "exception": false,
     "start_time": "2022-02-11T22:42:39.462567",
     "status": "completed"
    },
    "tags": []
   },
   "outputs": [],
   "source": [
    "tfidf_df = pd.DataFrame(tfidf_matrix.toarray(), columns = vect.get_feature_names())\n",
    "tfidf_df.index = df['Title']"
   ]
  },
  {
   "cell_type": "code",
   "execution_count": 40,
   "id": "171fb578",
   "metadata": {
    "execution": {
     "iopub.execute_input": "2022-02-11T22:42:39.853762Z",
     "iopub.status.busy": "2022-02-11T22:42:39.853177Z",
     "iopub.status.idle": "2022-02-11T22:42:39.917651Z",
     "shell.execute_reply": "2022-02-11T22:42:39.918081Z"
    },
    "papermill": {
     "duration": 0.107405,
     "end_time": "2022-02-11T22:42:39.918232",
     "exception": false,
     "start_time": "2022-02-11T22:42:39.810827",
     "status": "completed"
    },
    "tags": []
   },
   "outputs": [
    {
     "data": {
      "text/html": [
       "<div>\n",
       "<style scoped>\n",
       "    .dataframe tbody tr th:only-of-type {\n",
       "        vertical-align: middle;\n",
       "    }\n",
       "\n",
       "    .dataframe tbody tr th {\n",
       "        vertical-align: top;\n",
       "    }\n",
       "\n",
       "    .dataframe thead th {\n",
       "        text-align: right;\n",
       "    }\n",
       "</style>\n",
       "<table border=\"1\" class=\"dataframe\">\n",
       "  <thead>\n",
       "    <tr style=\"text-align: right;\">\n",
       "      <th></th>\n",
       "      <th>aa</th>\n",
       "      <th>aaron</th>\n",
       "      <th>aback</th>\n",
       "      <th>abandons</th>\n",
       "      <th>abarenbou</th>\n",
       "      <th>abashiri</th>\n",
       "      <th>abbreviated</th>\n",
       "      <th>abc</th>\n",
       "      <th>abduct</th>\n",
       "      <th>abducting</th>\n",
       "      <th>...</th>\n",
       "      <th>zora</th>\n",
       "      <th>zorbados</th>\n",
       "      <th>zoro</th>\n",
       "      <th>zorori</th>\n",
       "      <th>zukan</th>\n",
       "      <th>zukkoke</th>\n",
       "      <th>zure</th>\n",
       "      <th>zvezda</th>\n",
       "      <th>zwei</th>\n",
       "      <th>zz</th>\n",
       "    </tr>\n",
       "    <tr>\n",
       "      <th>Title</th>\n",
       "      <th></th>\n",
       "      <th></th>\n",
       "      <th></th>\n",
       "      <th></th>\n",
       "      <th></th>\n",
       "      <th></th>\n",
       "      <th></th>\n",
       "      <th></th>\n",
       "      <th></th>\n",
       "      <th></th>\n",
       "      <th></th>\n",
       "      <th></th>\n",
       "      <th></th>\n",
       "      <th></th>\n",
       "      <th></th>\n",
       "      <th></th>\n",
       "      <th></th>\n",
       "      <th></th>\n",
       "      <th></th>\n",
       "      <th></th>\n",
       "      <th></th>\n",
       "    </tr>\n",
       "  </thead>\n",
       "  <tbody>\n",
       "    <tr>\n",
       "      <th>Cowboy Bebop</th>\n",
       "      <td>0.0</td>\n",
       "      <td>0.0</td>\n",
       "      <td>0.0</td>\n",
       "      <td>0.0</td>\n",
       "      <td>0.0</td>\n",
       "      <td>0.0</td>\n",
       "      <td>0.0</td>\n",
       "      <td>0.0</td>\n",
       "      <td>0.0</td>\n",
       "      <td>0.0</td>\n",
       "      <td>...</td>\n",
       "      <td>0.0</td>\n",
       "      <td>0.0</td>\n",
       "      <td>0.0</td>\n",
       "      <td>0.0</td>\n",
       "      <td>0.0</td>\n",
       "      <td>0.0</td>\n",
       "      <td>0.0</td>\n",
       "      <td>0.0</td>\n",
       "      <td>0.0</td>\n",
       "      <td>0.0</td>\n",
       "    </tr>\n",
       "    <tr>\n",
       "      <th>Cowboy Bebop: Tengoku no Tobira</th>\n",
       "      <td>0.0</td>\n",
       "      <td>0.0</td>\n",
       "      <td>0.0</td>\n",
       "      <td>0.0</td>\n",
       "      <td>0.0</td>\n",
       "      <td>0.0</td>\n",
       "      <td>0.0</td>\n",
       "      <td>0.0</td>\n",
       "      <td>0.0</td>\n",
       "      <td>0.0</td>\n",
       "      <td>...</td>\n",
       "      <td>0.0</td>\n",
       "      <td>0.0</td>\n",
       "      <td>0.0</td>\n",
       "      <td>0.0</td>\n",
       "      <td>0.0</td>\n",
       "      <td>0.0</td>\n",
       "      <td>0.0</td>\n",
       "      <td>0.0</td>\n",
       "      <td>0.0</td>\n",
       "      <td>0.0</td>\n",
       "    </tr>\n",
       "    <tr>\n",
       "      <th>Trigun</th>\n",
       "      <td>0.0</td>\n",
       "      <td>0.0</td>\n",
       "      <td>0.0</td>\n",
       "      <td>0.0</td>\n",
       "      <td>0.0</td>\n",
       "      <td>0.0</td>\n",
       "      <td>0.0</td>\n",
       "      <td>0.0</td>\n",
       "      <td>0.0</td>\n",
       "      <td>0.0</td>\n",
       "      <td>...</td>\n",
       "      <td>0.0</td>\n",
       "      <td>0.0</td>\n",
       "      <td>0.0</td>\n",
       "      <td>0.0</td>\n",
       "      <td>0.0</td>\n",
       "      <td>0.0</td>\n",
       "      <td>0.0</td>\n",
       "      <td>0.0</td>\n",
       "      <td>0.0</td>\n",
       "      <td>0.0</td>\n",
       "    </tr>\n",
       "    <tr>\n",
       "      <th>Witch Hunter Robin</th>\n",
       "      <td>0.0</td>\n",
       "      <td>0.0</td>\n",
       "      <td>0.0</td>\n",
       "      <td>0.0</td>\n",
       "      <td>0.0</td>\n",
       "      <td>0.0</td>\n",
       "      <td>0.0</td>\n",
       "      <td>0.0</td>\n",
       "      <td>0.0</td>\n",
       "      <td>0.0</td>\n",
       "      <td>...</td>\n",
       "      <td>0.0</td>\n",
       "      <td>0.0</td>\n",
       "      <td>0.0</td>\n",
       "      <td>0.0</td>\n",
       "      <td>0.0</td>\n",
       "      <td>0.0</td>\n",
       "      <td>0.0</td>\n",
       "      <td>0.0</td>\n",
       "      <td>0.0</td>\n",
       "      <td>0.0</td>\n",
       "    </tr>\n",
       "    <tr>\n",
       "      <th>Bouken Ou Beet</th>\n",
       "      <td>0.0</td>\n",
       "      <td>0.0</td>\n",
       "      <td>0.0</td>\n",
       "      <td>0.0</td>\n",
       "      <td>0.0</td>\n",
       "      <td>0.0</td>\n",
       "      <td>0.0</td>\n",
       "      <td>0.0</td>\n",
       "      <td>0.0</td>\n",
       "      <td>0.0</td>\n",
       "      <td>...</td>\n",
       "      <td>0.0</td>\n",
       "      <td>0.0</td>\n",
       "      <td>0.0</td>\n",
       "      <td>0.0</td>\n",
       "      <td>0.0</td>\n",
       "      <td>0.0</td>\n",
       "      <td>0.0</td>\n",
       "      <td>0.0</td>\n",
       "      <td>0.0</td>\n",
       "      <td>0.0</td>\n",
       "    </tr>\n",
       "    <tr>\n",
       "      <th>...</th>\n",
       "      <td>...</td>\n",
       "      <td>...</td>\n",
       "      <td>...</td>\n",
       "      <td>...</td>\n",
       "      <td>...</td>\n",
       "      <td>...</td>\n",
       "      <td>...</td>\n",
       "      <td>...</td>\n",
       "      <td>...</td>\n",
       "      <td>...</td>\n",
       "      <td>...</td>\n",
       "      <td>...</td>\n",
       "      <td>...</td>\n",
       "      <td>...</td>\n",
       "      <td>...</td>\n",
       "      <td>...</td>\n",
       "      <td>...</td>\n",
       "      <td>...</td>\n",
       "      <td>...</td>\n",
       "      <td>...</td>\n",
       "      <td>...</td>\n",
       "    </tr>\n",
       "    <tr>\n",
       "      <th>Isekai Quartet Relay PV</th>\n",
       "      <td>0.0</td>\n",
       "      <td>0.0</td>\n",
       "      <td>0.0</td>\n",
       "      <td>0.0</td>\n",
       "      <td>0.0</td>\n",
       "      <td>0.0</td>\n",
       "      <td>0.0</td>\n",
       "      <td>0.0</td>\n",
       "      <td>0.0</td>\n",
       "      <td>0.0</td>\n",
       "      <td>...</td>\n",
       "      <td>0.0</td>\n",
       "      <td>0.0</td>\n",
       "      <td>0.0</td>\n",
       "      <td>0.0</td>\n",
       "      <td>0.0</td>\n",
       "      <td>0.0</td>\n",
       "      <td>0.0</td>\n",
       "      <td>0.0</td>\n",
       "      <td>0.0</td>\n",
       "      <td>0.0</td>\n",
       "    </tr>\n",
       "    <tr>\n",
       "      <th>Tanabata no Oto</th>\n",
       "      <td>0.0</td>\n",
       "      <td>0.0</td>\n",
       "      <td>0.0</td>\n",
       "      <td>0.0</td>\n",
       "      <td>0.0</td>\n",
       "      <td>0.0</td>\n",
       "      <td>0.0</td>\n",
       "      <td>0.0</td>\n",
       "      <td>0.0</td>\n",
       "      <td>0.0</td>\n",
       "      <td>...</td>\n",
       "      <td>0.0</td>\n",
       "      <td>0.0</td>\n",
       "      <td>0.0</td>\n",
       "      <td>0.0</td>\n",
       "      <td>0.0</td>\n",
       "      <td>0.0</td>\n",
       "      <td>0.0</td>\n",
       "      <td>0.0</td>\n",
       "      <td>0.0</td>\n",
       "      <td>0.0</td>\n",
       "    </tr>\n",
       "    <tr>\n",
       "      <th>Ake-Vono</th>\n",
       "      <td>0.0</td>\n",
       "      <td>0.0</td>\n",
       "      <td>0.0</td>\n",
       "      <td>0.0</td>\n",
       "      <td>0.0</td>\n",
       "      <td>0.0</td>\n",
       "      <td>0.0</td>\n",
       "      <td>0.0</td>\n",
       "      <td>0.0</td>\n",
       "      <td>0.0</td>\n",
       "      <td>...</td>\n",
       "      <td>0.0</td>\n",
       "      <td>0.0</td>\n",
       "      <td>0.0</td>\n",
       "      <td>0.0</td>\n",
       "      <td>0.0</td>\n",
       "      <td>0.0</td>\n",
       "      <td>0.0</td>\n",
       "      <td>0.0</td>\n",
       "      <td>0.0</td>\n",
       "      <td>0.0</td>\n",
       "    </tr>\n",
       "    <tr>\n",
       "      <th>Ab-rah</th>\n",
       "      <td>0.0</td>\n",
       "      <td>0.0</td>\n",
       "      <td>0.0</td>\n",
       "      <td>0.0</td>\n",
       "      <td>0.0</td>\n",
       "      <td>0.0</td>\n",
       "      <td>0.0</td>\n",
       "      <td>0.0</td>\n",
       "      <td>0.0</td>\n",
       "      <td>0.0</td>\n",
       "      <td>...</td>\n",
       "      <td>0.0</td>\n",
       "      <td>0.0</td>\n",
       "      <td>0.0</td>\n",
       "      <td>0.0</td>\n",
       "      <td>0.0</td>\n",
       "      <td>0.0</td>\n",
       "      <td>0.0</td>\n",
       "      <td>0.0</td>\n",
       "      <td>0.0</td>\n",
       "      <td>0.0</td>\n",
       "    </tr>\n",
       "    <tr>\n",
       "      <th>Space Shower Man: Legacy for the Future</th>\n",
       "      <td>0.0</td>\n",
       "      <td>0.0</td>\n",
       "      <td>0.0</td>\n",
       "      <td>0.0</td>\n",
       "      <td>0.0</td>\n",
       "      <td>0.0</td>\n",
       "      <td>0.0</td>\n",
       "      <td>0.0</td>\n",
       "      <td>0.0</td>\n",
       "      <td>0.0</td>\n",
       "      <td>...</td>\n",
       "      <td>0.0</td>\n",
       "      <td>0.0</td>\n",
       "      <td>0.0</td>\n",
       "      <td>0.0</td>\n",
       "      <td>0.0</td>\n",
       "      <td>0.0</td>\n",
       "      <td>0.0</td>\n",
       "      <td>0.0</td>\n",
       "      <td>0.0</td>\n",
       "      <td>0.0</td>\n",
       "    </tr>\n",
       "  </tbody>\n",
       "</table>\n",
       "<p>12179 rows × 14608 columns</p>\n",
       "</div>"
      ],
      "text/plain": [
       "                                          aa  aaron  aback  abandons  \\\n",
       "Title                                                                  \n",
       "Cowboy Bebop                             0.0    0.0    0.0       0.0   \n",
       "Cowboy Bebop: Tengoku no Tobira          0.0    0.0    0.0       0.0   \n",
       "Trigun                                   0.0    0.0    0.0       0.0   \n",
       "Witch Hunter Robin                       0.0    0.0    0.0       0.0   \n",
       "Bouken Ou Beet                           0.0    0.0    0.0       0.0   \n",
       "...                                      ...    ...    ...       ...   \n",
       "Isekai Quartet Relay PV                  0.0    0.0    0.0       0.0   \n",
       "Tanabata no Oto                          0.0    0.0    0.0       0.0   \n",
       "Ake-Vono                                 0.0    0.0    0.0       0.0   \n",
       "Ab-rah                                   0.0    0.0    0.0       0.0   \n",
       "Space Shower Man: Legacy for the Future  0.0    0.0    0.0       0.0   \n",
       "\n",
       "                                         abarenbou  abashiri  abbreviated  \\\n",
       "Title                                                                       \n",
       "Cowboy Bebop                                   0.0       0.0          0.0   \n",
       "Cowboy Bebop: Tengoku no Tobira                0.0       0.0          0.0   \n",
       "Trigun                                         0.0       0.0          0.0   \n",
       "Witch Hunter Robin                             0.0       0.0          0.0   \n",
       "Bouken Ou Beet                                 0.0       0.0          0.0   \n",
       "...                                            ...       ...          ...   \n",
       "Isekai Quartet Relay PV                        0.0       0.0          0.0   \n",
       "Tanabata no Oto                                0.0       0.0          0.0   \n",
       "Ake-Vono                                       0.0       0.0          0.0   \n",
       "Ab-rah                                         0.0       0.0          0.0   \n",
       "Space Shower Man: Legacy for the Future        0.0       0.0          0.0   \n",
       "\n",
       "                                         abc  abduct  abducting  ...  zora  \\\n",
       "Title                                                            ...         \n",
       "Cowboy Bebop                             0.0     0.0        0.0  ...   0.0   \n",
       "Cowboy Bebop: Tengoku no Tobira          0.0     0.0        0.0  ...   0.0   \n",
       "Trigun                                   0.0     0.0        0.0  ...   0.0   \n",
       "Witch Hunter Robin                       0.0     0.0        0.0  ...   0.0   \n",
       "Bouken Ou Beet                           0.0     0.0        0.0  ...   0.0   \n",
       "...                                      ...     ...        ...  ...   ...   \n",
       "Isekai Quartet Relay PV                  0.0     0.0        0.0  ...   0.0   \n",
       "Tanabata no Oto                          0.0     0.0        0.0  ...   0.0   \n",
       "Ake-Vono                                 0.0     0.0        0.0  ...   0.0   \n",
       "Ab-rah                                   0.0     0.0        0.0  ...   0.0   \n",
       "Space Shower Man: Legacy for the Future  0.0     0.0        0.0  ...   0.0   \n",
       "\n",
       "                                         zorbados  zoro  zorori  zukan  \\\n",
       "Title                                                                    \n",
       "Cowboy Bebop                                  0.0   0.0     0.0    0.0   \n",
       "Cowboy Bebop: Tengoku no Tobira               0.0   0.0     0.0    0.0   \n",
       "Trigun                                        0.0   0.0     0.0    0.0   \n",
       "Witch Hunter Robin                            0.0   0.0     0.0    0.0   \n",
       "Bouken Ou Beet                                0.0   0.0     0.0    0.0   \n",
       "...                                           ...   ...     ...    ...   \n",
       "Isekai Quartet Relay PV                       0.0   0.0     0.0    0.0   \n",
       "Tanabata no Oto                               0.0   0.0     0.0    0.0   \n",
       "Ake-Vono                                      0.0   0.0     0.0    0.0   \n",
       "Ab-rah                                        0.0   0.0     0.0    0.0   \n",
       "Space Shower Man: Legacy for the Future       0.0   0.0     0.0    0.0   \n",
       "\n",
       "                                         zukkoke  zure  zvezda  zwei   zz  \n",
       "Title                                                                      \n",
       "Cowboy Bebop                                 0.0   0.0     0.0   0.0  0.0  \n",
       "Cowboy Bebop: Tengoku no Tobira              0.0   0.0     0.0   0.0  0.0  \n",
       "Trigun                                       0.0   0.0     0.0   0.0  0.0  \n",
       "Witch Hunter Robin                           0.0   0.0     0.0   0.0  0.0  \n",
       "Bouken Ou Beet                               0.0   0.0     0.0   0.0  0.0  \n",
       "...                                          ...   ...     ...   ...  ...  \n",
       "Isekai Quartet Relay PV                      0.0   0.0     0.0   0.0  0.0  \n",
       "Tanabata no Oto                              0.0   0.0     0.0   0.0  0.0  \n",
       "Ake-Vono                                     0.0   0.0     0.0   0.0  0.0  \n",
       "Ab-rah                                       0.0   0.0     0.0   0.0  0.0  \n",
       "Space Shower Man: Legacy for the Future      0.0   0.0     0.0   0.0  0.0  \n",
       "\n",
       "[12179 rows x 14608 columns]"
      ]
     },
     "execution_count": 40,
     "metadata": {},
     "output_type": "execute_result"
    }
   ],
   "source": [
    "tfidf_df"
   ]
  },
  {
   "cell_type": "code",
   "execution_count": 41,
   "id": "8e353c33",
   "metadata": {
    "execution": {
     "iopub.execute_input": "2022-02-11T22:42:40.001862Z",
     "iopub.status.busy": "2022-02-11T22:42:40.001265Z",
     "iopub.status.idle": "2022-02-11T22:56:27.245299Z",
     "shell.execute_reply": "2022-02-11T22:56:27.245883Z"
    },
    "papermill": {
     "duration": 827.286891,
     "end_time": "2022-02-11T22:56:27.246230",
     "exception": false,
     "start_time": "2022-02-11T22:42:39.959339",
     "status": "completed"
    },
    "tags": []
   },
   "outputs": [
    {
     "data": {
      "text/plain": [
       "array([[0.        , 0.63110795, 1.        , ..., 1.        , 1.        ,\n",
       "        1.        ],\n",
       "       [0.63110795, 0.        , 1.        , ..., 1.        , 1.        ,\n",
       "        1.        ],\n",
       "       [1.        , 1.        , 0.        , ..., 1.        , 1.        ,\n",
       "        1.        ],\n",
       "       ...,\n",
       "       [1.        , 1.        , 1.        , ..., 0.        , 0.37609477,\n",
       "        1.        ],\n",
       "       [1.        , 1.        , 1.        , ..., 0.37609477, 0.        ,\n",
       "        1.        ],\n",
       "       [1.        , 1.        , 1.        , ..., 1.        , 1.        ,\n",
       "        0.        ]])"
      ]
     },
     "execution_count": 41,
     "metadata": {},
     "output_type": "execute_result"
    }
   ],
   "source": [
    "from scipy.spatial.distance import pdist,squareform\n",
    "\n",
    "similarities = pdist(tfidf_df.values,metric='cosine')\n",
    "square_sim = squareform(similarities)\n",
    "\n",
    "square_sim"
   ]
  },
  {
   "cell_type": "code",
   "execution_count": null,
   "id": "cd610266",
   "metadata": {
    "papermill": {
     "duration": 0.04269,
     "end_time": "2022-02-11T22:56:27.333147",
     "exception": false,
     "start_time": "2022-02-11T22:56:27.290457",
     "status": "completed"
    },
    "tags": []
   },
   "outputs": [],
   "source": []
  }
 ],
 "metadata": {
  "kernelspec": {
   "display_name": "Python 3",
   "language": "python",
   "name": "python3"
  },
  "language_info": {
   "codemirror_mode": {
    "name": "ipython",
    "version": 3
   },
   "file_extension": ".py",
   "mimetype": "text/x-python",
   "name": "python",
   "nbconvert_exporter": "python",
   "pygments_lexer": "ipython3",
   "version": "3.7.12"
  },
  "papermill": {
   "default_parameters": {},
   "duration": 995.181214,
   "end_time": "2022-02-11T22:56:28.290706",
   "environment_variables": {},
   "exception": null,
   "input_path": "__notebook__.ipynb",
   "output_path": "__notebook__.ipynb",
   "parameters": {},
   "start_time": "2022-02-11T22:39:53.109492",
   "version": "2.3.3"
  }
 },
 "nbformat": 4,
 "nbformat_minor": 5
}
