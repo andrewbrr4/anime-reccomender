{
 "cells": [
  {
   "cell_type": "code",
   "execution_count": 1,
   "id": "c75a66c4",
   "metadata": {
    "_cell_guid": "b1076dfc-b9ad-4769-8c92-a6c4dae69d19",
    "_uuid": "8f2839f25d086af736a60e9eeb907d3b93b6e0e5",
    "execution": {
     "iopub.execute_input": "2022-02-14T18:21:03.016464Z",
     "iopub.status.busy": "2022-02-14T18:21:03.006933Z",
     "iopub.status.idle": "2022-02-14T18:21:03.034885Z",
     "shell.execute_reply": "2022-02-14T18:21:03.035696Z",
     "shell.execute_reply.started": "2022-02-14T18:08:19.665760Z"
    },
    "papermill": {
     "duration": 0.075925,
     "end_time": "2022-02-14T18:21:03.036069",
     "exception": false,
     "start_time": "2022-02-14T18:21:02.960144",
     "status": "completed"
    },
    "tags": []
   },
   "outputs": [
    {
     "name": "stdout",
     "output_type": "stream",
     "text": [
      "/kaggle/input/anime-recommendations-database/Anime_data.csv\n"
     ]
    }
   ],
   "source": [
    "# This Python 3 environment comes with many helpful analytics libraries installed\n",
    "# It is defined by the kaggle/python Docker image: https://github.com/kaggle/docker-python\n",
    "# For example, here's several helpful packages to load\n",
    "\n",
    "import numpy as np # linear algebra\n",
    "import pandas as pd # data processing, CSV file I/O (e.g. pd.read_csv)\n",
    "\n",
    "# Input data files are available in the read-only \"../input/\" directory\n",
    "# For example, running this (by clicking run or pressing Shift+Enter) will list all files under the input directory\n",
    "\n",
    "import os\n",
    "for dirname, _, filenames in os.walk('/kaggle/input'):\n",
    "    for filename in filenames:\n",
    "        print(os.path.join(dirname, filename))\n",
    "\n",
    "# You can write up to 20GB to the current directory (/kaggle/working/) that gets preserved as output when you create a version using \"Save & Run All\" \n",
    "# You can also write temporary files to /kaggle/temp/, but they won't be saved outside of the current session"
   ]
  },
  {
   "cell_type": "code",
   "execution_count": 2,
   "id": "599a903f",
   "metadata": {
    "execution": {
     "iopub.execute_input": "2022-02-14T18:21:03.128830Z",
     "iopub.status.busy": "2022-02-14T18:21:03.127901Z",
     "iopub.status.idle": "2022-02-14T18:21:03.431830Z",
     "shell.execute_reply": "2022-02-14T18:21:03.431176Z",
     "shell.execute_reply.started": "2022-02-14T18:08:19.705986Z"
    },
    "papermill": {
     "duration": 0.349951,
     "end_time": "2022-02-14T18:21:03.431995",
     "exception": false,
     "start_time": "2022-02-14T18:21:03.082044",
     "status": "completed"
    },
    "tags": []
   },
   "outputs": [],
   "source": [
    "df = pd.read_csv('/kaggle/input/anime-recommendations-database/Anime_data.csv')"
   ]
  },
  {
   "cell_type": "code",
   "execution_count": 3,
   "id": "6e7f6a8c",
   "metadata": {
    "execution": {
     "iopub.execute_input": "2022-02-14T18:21:03.511866Z",
     "iopub.status.busy": "2022-02-14T18:21:03.510840Z",
     "iopub.status.idle": "2022-02-14T18:21:03.540112Z",
     "shell.execute_reply": "2022-02-14T18:21:03.540619Z",
     "shell.execute_reply.started": "2022-02-14T18:08:20.068893Z"
    },
    "papermill": {
     "duration": 0.071756,
     "end_time": "2022-02-14T18:21:03.540799",
     "exception": false,
     "start_time": "2022-02-14T18:21:03.469043",
     "status": "completed"
    },
    "tags": []
   },
   "outputs": [
    {
     "data": {
      "text/html": [
       "<div>\n",
       "<style scoped>\n",
       "    .dataframe tbody tr th:only-of-type {\n",
       "        vertical-align: middle;\n",
       "    }\n",
       "\n",
       "    .dataframe tbody tr th {\n",
       "        vertical-align: top;\n",
       "    }\n",
       "\n",
       "    .dataframe thead th {\n",
       "        text-align: right;\n",
       "    }\n",
       "</style>\n",
       "<table border=\"1\" class=\"dataframe\">\n",
       "  <thead>\n",
       "    <tr style=\"text-align: right;\">\n",
       "      <th></th>\n",
       "      <th>Anime_id</th>\n",
       "      <th>Title</th>\n",
       "      <th>Genre</th>\n",
       "      <th>Synopsis</th>\n",
       "      <th>Type</th>\n",
       "      <th>Producer</th>\n",
       "      <th>Studio</th>\n",
       "      <th>Rating</th>\n",
       "      <th>ScoredBy</th>\n",
       "      <th>Popularity</th>\n",
       "      <th>Members</th>\n",
       "      <th>Episodes</th>\n",
       "      <th>Source</th>\n",
       "      <th>Aired</th>\n",
       "      <th>Link</th>\n",
       "    </tr>\n",
       "  </thead>\n",
       "  <tbody>\n",
       "    <tr>\n",
       "      <th>0</th>\n",
       "      <td>1</td>\n",
       "      <td>Cowboy Bebop</td>\n",
       "      <td>['Action', 'Adventure', 'Comedy', 'Drama', 'Sc...</td>\n",
       "      <td>In the year 2071, humanity has colonized sever...</td>\n",
       "      <td>TV</td>\n",
       "      <td>['Bandai Visual']</td>\n",
       "      <td>['Sunrise']</td>\n",
       "      <td>8.81</td>\n",
       "      <td>363889.0</td>\n",
       "      <td>39.0</td>\n",
       "      <td>704490.0</td>\n",
       "      <td>26.0</td>\n",
       "      <td>Original</td>\n",
       "      <td>Apr 3, 1998 to Apr 24, 1999</td>\n",
       "      <td>https://myanimelist.net/anime/1/Cowboy_Bebop</td>\n",
       "    </tr>\n",
       "    <tr>\n",
       "      <th>1</th>\n",
       "      <td>5</td>\n",
       "      <td>Cowboy Bebop: Tengoku no Tobira</td>\n",
       "      <td>['Action', 'Space', 'Drama', 'Mystery', 'Sci-Fi']</td>\n",
       "      <td>Another day, another bounty—such is the life o...</td>\n",
       "      <td>Movie</td>\n",
       "      <td>['Sunrise', 'Bandai Visual']</td>\n",
       "      <td>['Bones']</td>\n",
       "      <td>8.41</td>\n",
       "      <td>111187.0</td>\n",
       "      <td>475.0</td>\n",
       "      <td>179899.0</td>\n",
       "      <td>1.0</td>\n",
       "      <td>Original</td>\n",
       "      <td>Sep 1, 2001</td>\n",
       "      <td>https://myanimelist.net/anime/5/Cowboy_Bebop__...</td>\n",
       "    </tr>\n",
       "    <tr>\n",
       "      <th>2</th>\n",
       "      <td>6</td>\n",
       "      <td>Trigun</td>\n",
       "      <td>['Action', 'Sci-Fi', 'Adventure', 'Comedy', 'D...</td>\n",
       "      <td>Vash the Stampede is the man with a $$60,000,0...</td>\n",
       "      <td>TV</td>\n",
       "      <td>['Victor Entertainment']</td>\n",
       "      <td>['Madhouse']</td>\n",
       "      <td>8.31</td>\n",
       "      <td>197451.0</td>\n",
       "      <td>158.0</td>\n",
       "      <td>372709.0</td>\n",
       "      <td>26.0</td>\n",
       "      <td>Manga</td>\n",
       "      <td>Apr 1, 1998 to Sep 30, 1998</td>\n",
       "      <td>https://myanimelist.net/anime/6/Trigun</td>\n",
       "    </tr>\n",
       "    <tr>\n",
       "      <th>3</th>\n",
       "      <td>7</td>\n",
       "      <td>Witch Hunter Robin</td>\n",
       "      <td>['Action', 'Magic', 'Police', 'Supernatural', ...</td>\n",
       "      <td>Witches are individuals with special powers li...</td>\n",
       "      <td>TV</td>\n",
       "      <td>['Bandai Visual']</td>\n",
       "      <td>['Sunrise']</td>\n",
       "      <td>7.34</td>\n",
       "      <td>31875.0</td>\n",
       "      <td>1278.0</td>\n",
       "      <td>74889.0</td>\n",
       "      <td>26.0</td>\n",
       "      <td>Original</td>\n",
       "      <td>Jul 2, 2002 to Dec 24, 2002</td>\n",
       "      <td>https://myanimelist.net/anime/7/Witch_Hunter_R...</td>\n",
       "    </tr>\n",
       "    <tr>\n",
       "      <th>4</th>\n",
       "      <td>8</td>\n",
       "      <td>Bouken Ou Beet</td>\n",
       "      <td>['Adventure', 'Fantasy', 'Shounen', 'Supernatu...</td>\n",
       "      <td>It is the dark century and the people are suff...</td>\n",
       "      <td>TV</td>\n",
       "      <td>NaN</td>\n",
       "      <td>['Toei Animation']</td>\n",
       "      <td>7.04</td>\n",
       "      <td>4757.0</td>\n",
       "      <td>3968.0</td>\n",
       "      <td>11247.0</td>\n",
       "      <td>52.0</td>\n",
       "      <td>Manga</td>\n",
       "      <td>Sep 30, 2004 to Sep 29, 2005</td>\n",
       "      <td>https://myanimelist.net/anime/8/Bouken_Ou_Beet</td>\n",
       "    </tr>\n",
       "  </tbody>\n",
       "</table>\n",
       "</div>"
      ],
      "text/plain": [
       "   Anime_id                            Title  \\\n",
       "0         1                     Cowboy Bebop   \n",
       "1         5  Cowboy Bebop: Tengoku no Tobira   \n",
       "2         6                           Trigun   \n",
       "3         7               Witch Hunter Robin   \n",
       "4         8                   Bouken Ou Beet   \n",
       "\n",
       "                                               Genre  \\\n",
       "0  ['Action', 'Adventure', 'Comedy', 'Drama', 'Sc...   \n",
       "1  ['Action', 'Space', 'Drama', 'Mystery', 'Sci-Fi']   \n",
       "2  ['Action', 'Sci-Fi', 'Adventure', 'Comedy', 'D...   \n",
       "3  ['Action', 'Magic', 'Police', 'Supernatural', ...   \n",
       "4  ['Adventure', 'Fantasy', 'Shounen', 'Supernatu...   \n",
       "\n",
       "                                            Synopsis   Type  \\\n",
       "0  In the year 2071, humanity has colonized sever...     TV   \n",
       "1  Another day, another bounty—such is the life o...  Movie   \n",
       "2  Vash the Stampede is the man with a $$60,000,0...     TV   \n",
       "3  Witches are individuals with special powers li...     TV   \n",
       "4  It is the dark century and the people are suff...     TV   \n",
       "\n",
       "                       Producer              Studio  Rating  ScoredBy  \\\n",
       "0             ['Bandai Visual']         ['Sunrise']    8.81  363889.0   \n",
       "1  ['Sunrise', 'Bandai Visual']           ['Bones']    8.41  111187.0   \n",
       "2      ['Victor Entertainment']        ['Madhouse']    8.31  197451.0   \n",
       "3             ['Bandai Visual']         ['Sunrise']    7.34   31875.0   \n",
       "4                           NaN  ['Toei Animation']    7.04    4757.0   \n",
       "\n",
       "   Popularity   Members  Episodes    Source                         Aired  \\\n",
       "0        39.0  704490.0      26.0  Original   Apr 3, 1998 to Apr 24, 1999   \n",
       "1       475.0  179899.0       1.0  Original                   Sep 1, 2001   \n",
       "2       158.0  372709.0      26.0     Manga   Apr 1, 1998 to Sep 30, 1998   \n",
       "3      1278.0   74889.0      26.0  Original   Jul 2, 2002 to Dec 24, 2002   \n",
       "4      3968.0   11247.0      52.0     Manga  Sep 30, 2004 to Sep 29, 2005   \n",
       "\n",
       "                                                Link  \n",
       "0       https://myanimelist.net/anime/1/Cowboy_Bebop  \n",
       "1  https://myanimelist.net/anime/5/Cowboy_Bebop__...  \n",
       "2             https://myanimelist.net/anime/6/Trigun  \n",
       "3  https://myanimelist.net/anime/7/Witch_Hunter_R...  \n",
       "4     https://myanimelist.net/anime/8/Bouken_Ou_Beet  "
      ]
     },
     "execution_count": 3,
     "metadata": {},
     "output_type": "execute_result"
    }
   ],
   "source": [
    "df.head()"
   ]
  },
  {
   "cell_type": "markdown",
   "id": "2ed53d46",
   "metadata": {
    "papermill": {
     "duration": 0.037625,
     "end_time": "2022-02-14T18:21:03.615856",
     "exception": false,
     "start_time": "2022-02-14T18:21:03.578231",
     "status": "completed"
    },
    "tags": []
   },
   "source": [
    "# PART 1 - clean and process data"
   ]
  },
  {
   "cell_type": "code",
   "execution_count": 4,
   "id": "38c34794",
   "metadata": {
    "execution": {
     "iopub.execute_input": "2022-02-14T18:21:03.696822Z",
     "iopub.status.busy": "2022-02-14T18:21:03.695802Z",
     "iopub.status.idle": "2022-02-14T18:21:03.701171Z",
     "shell.execute_reply": "2022-02-14T18:21:03.701725Z",
     "shell.execute_reply.started": "2022-02-14T18:08:20.102057Z"
    },
    "papermill": {
     "duration": 0.047134,
     "end_time": "2022-02-14T18:21:03.701899",
     "exception": false,
     "start_time": "2022-02-14T18:21:03.654765",
     "status": "completed"
    },
    "tags": []
   },
   "outputs": [
    {
     "data": {
      "text/plain": [
       "(17002, 15)"
      ]
     },
     "execution_count": 4,
     "metadata": {},
     "output_type": "execute_result"
    }
   ],
   "source": [
    "df.shape"
   ]
  },
  {
   "cell_type": "code",
   "execution_count": 5,
   "id": "84cb945d",
   "metadata": {
    "execution": {
     "iopub.execute_input": "2022-02-14T18:21:03.782308Z",
     "iopub.status.busy": "2022-02-14T18:21:03.781221Z",
     "iopub.status.idle": "2022-02-14T18:21:03.815040Z",
     "shell.execute_reply": "2022-02-14T18:21:03.815672Z",
     "shell.execute_reply.started": "2022-02-14T18:08:20.109790Z"
    },
    "papermill": {
     "duration": 0.076217,
     "end_time": "2022-02-14T18:21:03.815912",
     "exception": false,
     "start_time": "2022-02-14T18:21:03.739695",
     "status": "completed"
    },
    "tags": []
   },
   "outputs": [],
   "source": [
    "df.drop_duplicates(['Anime_id'],inplace=True)\n",
    "df.drop_duplicates(['Title'],inplace=True)"
   ]
  },
  {
   "cell_type": "code",
   "execution_count": 6,
   "id": "8fb93d66",
   "metadata": {
    "execution": {
     "iopub.execute_input": "2022-02-14T18:21:03.897205Z",
     "iopub.status.busy": "2022-02-14T18:21:03.896022Z",
     "iopub.status.idle": "2022-02-14T18:21:03.901333Z",
     "shell.execute_reply": "2022-02-14T18:21:03.901867Z",
     "shell.execute_reply.started": "2022-02-14T18:08:20.144890Z"
    },
    "papermill": {
     "duration": 0.047142,
     "end_time": "2022-02-14T18:21:03.902040",
     "exception": false,
     "start_time": "2022-02-14T18:21:03.854898",
     "status": "completed"
    },
    "tags": []
   },
   "outputs": [
    {
     "data": {
      "text/plain": [
       "(16737, 15)"
      ]
     },
     "execution_count": 6,
     "metadata": {},
     "output_type": "execute_result"
    }
   ],
   "source": [
    "df.shape"
   ]
  },
  {
   "cell_type": "code",
   "execution_count": 7,
   "id": "c2e14363",
   "metadata": {
    "execution": {
     "iopub.execute_input": "2022-02-14T18:21:03.983021Z",
     "iopub.status.busy": "2022-02-14T18:21:03.982026Z",
     "iopub.status.idle": "2022-02-14T18:21:03.990354Z",
     "shell.execute_reply": "2022-02-14T18:21:03.989830Z",
     "shell.execute_reply.started": "2022-02-14T18:08:20.153317Z"
    },
    "papermill": {
     "duration": 0.050301,
     "end_time": "2022-02-14T18:21:03.990550",
     "exception": false,
     "start_time": "2022-02-14T18:21:03.940249",
     "status": "completed"
    },
    "tags": []
   },
   "outputs": [],
   "source": [
    "df.drop(['Anime_id','Link'],axis=1,inplace=True)"
   ]
  },
  {
   "cell_type": "code",
   "execution_count": 8,
   "id": "58cea0d4",
   "metadata": {
    "execution": {
     "iopub.execute_input": "2022-02-14T18:21:04.074492Z",
     "iopub.status.busy": "2022-02-14T18:21:04.073416Z",
     "iopub.status.idle": "2022-02-14T18:21:04.090598Z",
     "shell.execute_reply": "2022-02-14T18:21:04.091118Z",
     "shell.execute_reply.started": "2022-02-14T18:08:20.165709Z"
    },
    "papermill": {
     "duration": 0.062462,
     "end_time": "2022-02-14T18:21:04.091291",
     "exception": false,
     "start_time": "2022-02-14T18:21:04.028829",
     "status": "completed"
    },
    "tags": []
   },
   "outputs": [
    {
     "data": {
      "text/html": [
       "<div>\n",
       "<style scoped>\n",
       "    .dataframe tbody tr th:only-of-type {\n",
       "        vertical-align: middle;\n",
       "    }\n",
       "\n",
       "    .dataframe tbody tr th {\n",
       "        vertical-align: top;\n",
       "    }\n",
       "\n",
       "    .dataframe thead th {\n",
       "        text-align: right;\n",
       "    }\n",
       "</style>\n",
       "<table border=\"1\" class=\"dataframe\">\n",
       "  <thead>\n",
       "    <tr style=\"text-align: right;\">\n",
       "      <th></th>\n",
       "      <th>Title</th>\n",
       "      <th>Genre</th>\n",
       "      <th>Synopsis</th>\n",
       "      <th>Type</th>\n",
       "      <th>Producer</th>\n",
       "      <th>Studio</th>\n",
       "      <th>Rating</th>\n",
       "      <th>ScoredBy</th>\n",
       "      <th>Popularity</th>\n",
       "      <th>Members</th>\n",
       "      <th>Episodes</th>\n",
       "      <th>Source</th>\n",
       "      <th>Aired</th>\n",
       "    </tr>\n",
       "  </thead>\n",
       "  <tbody>\n",
       "    <tr>\n",
       "      <th>0</th>\n",
       "      <td>Cowboy Bebop</td>\n",
       "      <td>['Action', 'Adventure', 'Comedy', 'Drama', 'Sc...</td>\n",
       "      <td>In the year 2071, humanity has colonized sever...</td>\n",
       "      <td>TV</td>\n",
       "      <td>['Bandai Visual']</td>\n",
       "      <td>['Sunrise']</td>\n",
       "      <td>8.81</td>\n",
       "      <td>363889.0</td>\n",
       "      <td>39.0</td>\n",
       "      <td>704490.0</td>\n",
       "      <td>26.0</td>\n",
       "      <td>Original</td>\n",
       "      <td>Apr 3, 1998 to Apr 24, 1999</td>\n",
       "    </tr>\n",
       "    <tr>\n",
       "      <th>1</th>\n",
       "      <td>Cowboy Bebop: Tengoku no Tobira</td>\n",
       "      <td>['Action', 'Space', 'Drama', 'Mystery', 'Sci-Fi']</td>\n",
       "      <td>Another day, another bounty—such is the life o...</td>\n",
       "      <td>Movie</td>\n",
       "      <td>['Sunrise', 'Bandai Visual']</td>\n",
       "      <td>['Bones']</td>\n",
       "      <td>8.41</td>\n",
       "      <td>111187.0</td>\n",
       "      <td>475.0</td>\n",
       "      <td>179899.0</td>\n",
       "      <td>1.0</td>\n",
       "      <td>Original</td>\n",
       "      <td>Sep 1, 2001</td>\n",
       "    </tr>\n",
       "    <tr>\n",
       "      <th>2</th>\n",
       "      <td>Trigun</td>\n",
       "      <td>['Action', 'Sci-Fi', 'Adventure', 'Comedy', 'D...</td>\n",
       "      <td>Vash the Stampede is the man with a $$60,000,0...</td>\n",
       "      <td>TV</td>\n",
       "      <td>['Victor Entertainment']</td>\n",
       "      <td>['Madhouse']</td>\n",
       "      <td>8.31</td>\n",
       "      <td>197451.0</td>\n",
       "      <td>158.0</td>\n",
       "      <td>372709.0</td>\n",
       "      <td>26.0</td>\n",
       "      <td>Manga</td>\n",
       "      <td>Apr 1, 1998 to Sep 30, 1998</td>\n",
       "    </tr>\n",
       "    <tr>\n",
       "      <th>3</th>\n",
       "      <td>Witch Hunter Robin</td>\n",
       "      <td>['Action', 'Magic', 'Police', 'Supernatural', ...</td>\n",
       "      <td>Witches are individuals with special powers li...</td>\n",
       "      <td>TV</td>\n",
       "      <td>['Bandai Visual']</td>\n",
       "      <td>['Sunrise']</td>\n",
       "      <td>7.34</td>\n",
       "      <td>31875.0</td>\n",
       "      <td>1278.0</td>\n",
       "      <td>74889.0</td>\n",
       "      <td>26.0</td>\n",
       "      <td>Original</td>\n",
       "      <td>Jul 2, 2002 to Dec 24, 2002</td>\n",
       "    </tr>\n",
       "    <tr>\n",
       "      <th>4</th>\n",
       "      <td>Bouken Ou Beet</td>\n",
       "      <td>['Adventure', 'Fantasy', 'Shounen', 'Supernatu...</td>\n",
       "      <td>It is the dark century and the people are suff...</td>\n",
       "      <td>TV</td>\n",
       "      <td>NaN</td>\n",
       "      <td>['Toei Animation']</td>\n",
       "      <td>7.04</td>\n",
       "      <td>4757.0</td>\n",
       "      <td>3968.0</td>\n",
       "      <td>11247.0</td>\n",
       "      <td>52.0</td>\n",
       "      <td>Manga</td>\n",
       "      <td>Sep 30, 2004 to Sep 29, 2005</td>\n",
       "    </tr>\n",
       "  </tbody>\n",
       "</table>\n",
       "</div>"
      ],
      "text/plain": [
       "                             Title  \\\n",
       "0                     Cowboy Bebop   \n",
       "1  Cowboy Bebop: Tengoku no Tobira   \n",
       "2                           Trigun   \n",
       "3               Witch Hunter Robin   \n",
       "4                   Bouken Ou Beet   \n",
       "\n",
       "                                               Genre  \\\n",
       "0  ['Action', 'Adventure', 'Comedy', 'Drama', 'Sc...   \n",
       "1  ['Action', 'Space', 'Drama', 'Mystery', 'Sci-Fi']   \n",
       "2  ['Action', 'Sci-Fi', 'Adventure', 'Comedy', 'D...   \n",
       "3  ['Action', 'Magic', 'Police', 'Supernatural', ...   \n",
       "4  ['Adventure', 'Fantasy', 'Shounen', 'Supernatu...   \n",
       "\n",
       "                                            Synopsis   Type  \\\n",
       "0  In the year 2071, humanity has colonized sever...     TV   \n",
       "1  Another day, another bounty—such is the life o...  Movie   \n",
       "2  Vash the Stampede is the man with a $$60,000,0...     TV   \n",
       "3  Witches are individuals with special powers li...     TV   \n",
       "4  It is the dark century and the people are suff...     TV   \n",
       "\n",
       "                       Producer              Studio  Rating  ScoredBy  \\\n",
       "0             ['Bandai Visual']         ['Sunrise']    8.81  363889.0   \n",
       "1  ['Sunrise', 'Bandai Visual']           ['Bones']    8.41  111187.0   \n",
       "2      ['Victor Entertainment']        ['Madhouse']    8.31  197451.0   \n",
       "3             ['Bandai Visual']         ['Sunrise']    7.34   31875.0   \n",
       "4                           NaN  ['Toei Animation']    7.04    4757.0   \n",
       "\n",
       "   Popularity   Members  Episodes    Source                         Aired  \n",
       "0        39.0  704490.0      26.0  Original   Apr 3, 1998 to Apr 24, 1999  \n",
       "1       475.0  179899.0       1.0  Original                   Sep 1, 2001  \n",
       "2       158.0  372709.0      26.0     Manga   Apr 1, 1998 to Sep 30, 1998  \n",
       "3      1278.0   74889.0      26.0  Original   Jul 2, 2002 to Dec 24, 2002  \n",
       "4      3968.0   11247.0      52.0     Manga  Sep 30, 2004 to Sep 29, 2005  "
      ]
     },
     "execution_count": 8,
     "metadata": {},
     "output_type": "execute_result"
    }
   ],
   "source": [
    "df.head()"
   ]
  },
  {
   "cell_type": "code",
   "execution_count": 9,
   "id": "a01ec084",
   "metadata": {
    "execution": {
     "iopub.execute_input": "2022-02-14T18:21:04.172777Z",
     "iopub.status.busy": "2022-02-14T18:21:04.171769Z",
     "iopub.status.idle": "2022-02-14T18:21:04.193753Z",
     "shell.execute_reply": "2022-02-14T18:21:04.194227Z",
     "shell.execute_reply.started": "2022-02-14T18:08:20.189398Z"
    },
    "papermill": {
     "duration": 0.064637,
     "end_time": "2022-02-14T18:21:04.194423",
     "exception": false,
     "start_time": "2022-02-14T18:21:04.129786",
     "status": "completed"
    },
    "tags": []
   },
   "outputs": [
    {
     "data": {
      "text/plain": [
       "Title            0\n",
       "Genre         1961\n",
       "Synopsis      1304\n",
       "Type           591\n",
       "Producer      9161\n",
       "Studio        8885\n",
       "Rating        2396\n",
       "ScoredBy      3591\n",
       "Popularity     542\n",
       "Members          0\n",
       "Episodes      2809\n",
       "Source        1876\n",
       "Aired          542\n",
       "dtype: int64"
      ]
     },
     "execution_count": 9,
     "metadata": {},
     "output_type": "execute_result"
    }
   ],
   "source": [
    "df.isnull().sum()"
   ]
  },
  {
   "cell_type": "code",
   "execution_count": 10,
   "id": "5e95e044",
   "metadata": {
    "execution": {
     "iopub.execute_input": "2022-02-14T18:21:04.276539Z",
     "iopub.status.busy": "2022-02-14T18:21:04.275551Z",
     "iopub.status.idle": "2022-02-14T18:21:04.297708Z",
     "shell.execute_reply": "2022-02-14T18:21:04.297019Z",
     "shell.execute_reply.started": "2022-02-14T18:08:20.216252Z"
    },
    "papermill": {
     "duration": 0.064281,
     "end_time": "2022-02-14T18:21:04.297849",
     "exception": false,
     "start_time": "2022-02-14T18:21:04.233568",
     "status": "completed"
    },
    "tags": []
   },
   "outputs": [
    {
     "data": {
      "text/plain": [
       "array([0.        , 0.11716556, 0.07791121, 0.03531099, 0.54735018,\n",
       "       0.53085977, 0.14315588, 0.21455458, 0.03238334, 0.        ,\n",
       "       0.16783175, 0.11208699, 0.03238334])"
      ]
     },
     "execution_count": 10,
     "metadata": {},
     "output_type": "execute_result"
    }
   ],
   "source": [
    "df.isnull().sum().values / df.shape[0]"
   ]
  },
  {
   "cell_type": "code",
   "execution_count": 11,
   "id": "209164da",
   "metadata": {
    "execution": {
     "iopub.execute_input": "2022-02-14T18:21:04.382927Z",
     "iopub.status.busy": "2022-02-14T18:21:04.382222Z",
     "iopub.status.idle": "2022-02-14T18:21:04.385739Z",
     "shell.execute_reply": "2022-02-14T18:21:04.386264Z",
     "shell.execute_reply.started": "2022-02-14T18:08:20.240837Z"
    },
    "papermill": {
     "duration": 0.048675,
     "end_time": "2022-02-14T18:21:04.386450",
     "exception": false,
     "start_time": "2022-02-14T18:21:04.337775",
     "status": "completed"
    },
    "tags": []
   },
   "outputs": [],
   "source": [
    "df.drop(['Producer','Studio'],axis=1,inplace=True)"
   ]
  },
  {
   "cell_type": "code",
   "execution_count": 12,
   "id": "382abda4",
   "metadata": {
    "execution": {
     "iopub.execute_input": "2022-02-14T18:21:04.469462Z",
     "iopub.status.busy": "2022-02-14T18:21:04.468799Z",
     "iopub.status.idle": "2022-02-14T18:21:04.475343Z",
     "shell.execute_reply": "2022-02-14T18:21:04.475906Z",
     "shell.execute_reply.started": "2022-02-14T18:08:20.250324Z"
    },
    "papermill": {
     "duration": 0.049887,
     "end_time": "2022-02-14T18:21:04.476072",
     "exception": false,
     "start_time": "2022-02-14T18:21:04.426185",
     "status": "completed"
    },
    "tags": []
   },
   "outputs": [],
   "source": [
    "df.drop(['Aired'],axis=1,inplace=True)"
   ]
  },
  {
   "cell_type": "code",
   "execution_count": 13,
   "id": "1310d562",
   "metadata": {
    "execution": {
     "iopub.execute_input": "2022-02-14T18:21:04.558494Z",
     "iopub.status.busy": "2022-02-14T18:21:04.557870Z",
     "iopub.status.idle": "2022-02-14T18:21:04.574567Z",
     "shell.execute_reply": "2022-02-14T18:21:04.573992Z",
     "shell.execute_reply.started": "2022-02-14T18:08:20.262016Z"
    },
    "papermill": {
     "duration": 0.059033,
     "end_time": "2022-02-14T18:21:04.574715",
     "exception": false,
     "start_time": "2022-02-14T18:21:04.515682",
     "status": "completed"
    },
    "tags": []
   },
   "outputs": [
    {
     "data": {
      "text/html": [
       "<div>\n",
       "<style scoped>\n",
       "    .dataframe tbody tr th:only-of-type {\n",
       "        vertical-align: middle;\n",
       "    }\n",
       "\n",
       "    .dataframe tbody tr th {\n",
       "        vertical-align: top;\n",
       "    }\n",
       "\n",
       "    .dataframe thead th {\n",
       "        text-align: right;\n",
       "    }\n",
       "</style>\n",
       "<table border=\"1\" class=\"dataframe\">\n",
       "  <thead>\n",
       "    <tr style=\"text-align: right;\">\n",
       "      <th></th>\n",
       "      <th>Title</th>\n",
       "      <th>Genre</th>\n",
       "      <th>Synopsis</th>\n",
       "      <th>Type</th>\n",
       "      <th>Rating</th>\n",
       "      <th>ScoredBy</th>\n",
       "      <th>Popularity</th>\n",
       "      <th>Members</th>\n",
       "      <th>Episodes</th>\n",
       "      <th>Source</th>\n",
       "    </tr>\n",
       "  </thead>\n",
       "  <tbody>\n",
       "    <tr>\n",
       "      <th>0</th>\n",
       "      <td>Cowboy Bebop</td>\n",
       "      <td>['Action', 'Adventure', 'Comedy', 'Drama', 'Sc...</td>\n",
       "      <td>In the year 2071, humanity has colonized sever...</td>\n",
       "      <td>TV</td>\n",
       "      <td>8.81</td>\n",
       "      <td>363889.0</td>\n",
       "      <td>39.0</td>\n",
       "      <td>704490.0</td>\n",
       "      <td>26.0</td>\n",
       "      <td>Original</td>\n",
       "    </tr>\n",
       "    <tr>\n",
       "      <th>1</th>\n",
       "      <td>Cowboy Bebop: Tengoku no Tobira</td>\n",
       "      <td>['Action', 'Space', 'Drama', 'Mystery', 'Sci-Fi']</td>\n",
       "      <td>Another day, another bounty—such is the life o...</td>\n",
       "      <td>Movie</td>\n",
       "      <td>8.41</td>\n",
       "      <td>111187.0</td>\n",
       "      <td>475.0</td>\n",
       "      <td>179899.0</td>\n",
       "      <td>1.0</td>\n",
       "      <td>Original</td>\n",
       "    </tr>\n",
       "    <tr>\n",
       "      <th>2</th>\n",
       "      <td>Trigun</td>\n",
       "      <td>['Action', 'Sci-Fi', 'Adventure', 'Comedy', 'D...</td>\n",
       "      <td>Vash the Stampede is the man with a $$60,000,0...</td>\n",
       "      <td>TV</td>\n",
       "      <td>8.31</td>\n",
       "      <td>197451.0</td>\n",
       "      <td>158.0</td>\n",
       "      <td>372709.0</td>\n",
       "      <td>26.0</td>\n",
       "      <td>Manga</td>\n",
       "    </tr>\n",
       "    <tr>\n",
       "      <th>3</th>\n",
       "      <td>Witch Hunter Robin</td>\n",
       "      <td>['Action', 'Magic', 'Police', 'Supernatural', ...</td>\n",
       "      <td>Witches are individuals with special powers li...</td>\n",
       "      <td>TV</td>\n",
       "      <td>7.34</td>\n",
       "      <td>31875.0</td>\n",
       "      <td>1278.0</td>\n",
       "      <td>74889.0</td>\n",
       "      <td>26.0</td>\n",
       "      <td>Original</td>\n",
       "    </tr>\n",
       "    <tr>\n",
       "      <th>4</th>\n",
       "      <td>Bouken Ou Beet</td>\n",
       "      <td>['Adventure', 'Fantasy', 'Shounen', 'Supernatu...</td>\n",
       "      <td>It is the dark century and the people are suff...</td>\n",
       "      <td>TV</td>\n",
       "      <td>7.04</td>\n",
       "      <td>4757.0</td>\n",
       "      <td>3968.0</td>\n",
       "      <td>11247.0</td>\n",
       "      <td>52.0</td>\n",
       "      <td>Manga</td>\n",
       "    </tr>\n",
       "  </tbody>\n",
       "</table>\n",
       "</div>"
      ],
      "text/plain": [
       "                             Title  \\\n",
       "0                     Cowboy Bebop   \n",
       "1  Cowboy Bebop: Tengoku no Tobira   \n",
       "2                           Trigun   \n",
       "3               Witch Hunter Robin   \n",
       "4                   Bouken Ou Beet   \n",
       "\n",
       "                                               Genre  \\\n",
       "0  ['Action', 'Adventure', 'Comedy', 'Drama', 'Sc...   \n",
       "1  ['Action', 'Space', 'Drama', 'Mystery', 'Sci-Fi']   \n",
       "2  ['Action', 'Sci-Fi', 'Adventure', 'Comedy', 'D...   \n",
       "3  ['Action', 'Magic', 'Police', 'Supernatural', ...   \n",
       "4  ['Adventure', 'Fantasy', 'Shounen', 'Supernatu...   \n",
       "\n",
       "                                            Synopsis   Type  Rating  ScoredBy  \\\n",
       "0  In the year 2071, humanity has colonized sever...     TV    8.81  363889.0   \n",
       "1  Another day, another bounty—such is the life o...  Movie    8.41  111187.0   \n",
       "2  Vash the Stampede is the man with a $$60,000,0...     TV    8.31  197451.0   \n",
       "3  Witches are individuals with special powers li...     TV    7.34   31875.0   \n",
       "4  It is the dark century and the people are suff...     TV    7.04    4757.0   \n",
       "\n",
       "   Popularity   Members  Episodes    Source  \n",
       "0        39.0  704490.0      26.0  Original  \n",
       "1       475.0  179899.0       1.0  Original  \n",
       "2       158.0  372709.0      26.0     Manga  \n",
       "3      1278.0   74889.0      26.0  Original  \n",
       "4      3968.0   11247.0      52.0     Manga  "
      ]
     },
     "execution_count": 13,
     "metadata": {},
     "output_type": "execute_result"
    }
   ],
   "source": [
    "df.head()"
   ]
  },
  {
   "cell_type": "code",
   "execution_count": 14,
   "id": "6af0f0c0",
   "metadata": {
    "execution": {
     "iopub.execute_input": "2022-02-14T18:21:04.658135Z",
     "iopub.status.busy": "2022-02-14T18:21:04.657511Z",
     "iopub.status.idle": "2022-02-14T18:21:04.679132Z",
     "shell.execute_reply": "2022-02-14T18:21:04.679677Z",
     "shell.execute_reply.started": "2022-02-14T18:08:20.282716Z"
    },
    "papermill": {
     "duration": 0.065001,
     "end_time": "2022-02-14T18:21:04.679850",
     "exception": false,
     "start_time": "2022-02-14T18:21:04.614849",
     "status": "completed"
    },
    "tags": []
   },
   "outputs": [],
   "source": [
    "df = df.join(pd.get_dummies(df['Source'],prefix='src',drop_first=True))\n",
    "df.drop('Source',axis=1,inplace=True)"
   ]
  },
  {
   "cell_type": "code",
   "execution_count": 15,
   "id": "9004c6e5",
   "metadata": {
    "execution": {
     "iopub.execute_input": "2022-02-14T18:21:04.763547Z",
     "iopub.status.busy": "2022-02-14T18:21:04.762914Z",
     "iopub.status.idle": "2022-02-14T18:21:04.776222Z",
     "shell.execute_reply": "2022-02-14T18:21:04.776763Z",
     "shell.execute_reply.started": "2022-02-14T18:08:20.309399Z"
    },
    "papermill": {
     "duration": 0.056869,
     "end_time": "2022-02-14T18:21:04.776940",
     "exception": false,
     "start_time": "2022-02-14T18:21:04.720071",
     "status": "completed"
    },
    "tags": []
   },
   "outputs": [],
   "source": [
    "df = df.join(pd.get_dummies(df['Type'],prefix='type',drop_first=True))\n",
    "df.drop('Type',axis=1,inplace=True)"
   ]
  },
  {
   "cell_type": "code",
   "execution_count": 16,
   "id": "87749dd5",
   "metadata": {
    "execution": {
     "iopub.execute_input": "2022-02-14T18:21:04.865606Z",
     "iopub.status.busy": "2022-02-14T18:21:04.864874Z",
     "iopub.status.idle": "2022-02-14T18:21:04.886123Z",
     "shell.execute_reply": "2022-02-14T18:21:04.885580Z",
     "shell.execute_reply.started": "2022-02-14T18:08:20.323641Z"
    },
    "papermill": {
     "duration": 0.066725,
     "end_time": "2022-02-14T18:21:04.886273",
     "exception": false,
     "start_time": "2022-02-14T18:21:04.819548",
     "status": "completed"
    },
    "tags": []
   },
   "outputs": [
    {
     "data": {
      "text/html": [
       "<div>\n",
       "<style scoped>\n",
       "    .dataframe tbody tr th:only-of-type {\n",
       "        vertical-align: middle;\n",
       "    }\n",
       "\n",
       "    .dataframe tbody tr th {\n",
       "        vertical-align: top;\n",
       "    }\n",
       "\n",
       "    .dataframe thead th {\n",
       "        text-align: right;\n",
       "    }\n",
       "</style>\n",
       "<table border=\"1\" class=\"dataframe\">\n",
       "  <thead>\n",
       "    <tr style=\"text-align: right;\">\n",
       "      <th></th>\n",
       "      <th>Title</th>\n",
       "      <th>Genre</th>\n",
       "      <th>Synopsis</th>\n",
       "      <th>Rating</th>\n",
       "      <th>ScoredBy</th>\n",
       "      <th>Popularity</th>\n",
       "      <th>Members</th>\n",
       "      <th>Episodes</th>\n",
       "      <th>src_Book</th>\n",
       "      <th>src_Card game</th>\n",
       "      <th>...</th>\n",
       "      <th>src_Radio</th>\n",
       "      <th>src_Unknown</th>\n",
       "      <th>src_Visual novel</th>\n",
       "      <th>src_Web manga</th>\n",
       "      <th>type_Music</th>\n",
       "      <th>type_ONA</th>\n",
       "      <th>type_OVA</th>\n",
       "      <th>type_Special</th>\n",
       "      <th>type_TV</th>\n",
       "      <th>type_Unknown</th>\n",
       "    </tr>\n",
       "  </thead>\n",
       "  <tbody>\n",
       "    <tr>\n",
       "      <th>0</th>\n",
       "      <td>Cowboy Bebop</td>\n",
       "      <td>['Action', 'Adventure', 'Comedy', 'Drama', 'Sc...</td>\n",
       "      <td>In the year 2071, humanity has colonized sever...</td>\n",
       "      <td>8.81</td>\n",
       "      <td>363889.0</td>\n",
       "      <td>39.0</td>\n",
       "      <td>704490.0</td>\n",
       "      <td>26.0</td>\n",
       "      <td>0</td>\n",
       "      <td>0</td>\n",
       "      <td>...</td>\n",
       "      <td>0</td>\n",
       "      <td>0</td>\n",
       "      <td>0</td>\n",
       "      <td>0</td>\n",
       "      <td>0</td>\n",
       "      <td>0</td>\n",
       "      <td>0</td>\n",
       "      <td>0</td>\n",
       "      <td>1</td>\n",
       "      <td>0</td>\n",
       "    </tr>\n",
       "    <tr>\n",
       "      <th>1</th>\n",
       "      <td>Cowboy Bebop: Tengoku no Tobira</td>\n",
       "      <td>['Action', 'Space', 'Drama', 'Mystery', 'Sci-Fi']</td>\n",
       "      <td>Another day, another bounty—such is the life o...</td>\n",
       "      <td>8.41</td>\n",
       "      <td>111187.0</td>\n",
       "      <td>475.0</td>\n",
       "      <td>179899.0</td>\n",
       "      <td>1.0</td>\n",
       "      <td>0</td>\n",
       "      <td>0</td>\n",
       "      <td>...</td>\n",
       "      <td>0</td>\n",
       "      <td>0</td>\n",
       "      <td>0</td>\n",
       "      <td>0</td>\n",
       "      <td>0</td>\n",
       "      <td>0</td>\n",
       "      <td>0</td>\n",
       "      <td>0</td>\n",
       "      <td>0</td>\n",
       "      <td>0</td>\n",
       "    </tr>\n",
       "    <tr>\n",
       "      <th>2</th>\n",
       "      <td>Trigun</td>\n",
       "      <td>['Action', 'Sci-Fi', 'Adventure', 'Comedy', 'D...</td>\n",
       "      <td>Vash the Stampede is the man with a $$60,000,0...</td>\n",
       "      <td>8.31</td>\n",
       "      <td>197451.0</td>\n",
       "      <td>158.0</td>\n",
       "      <td>372709.0</td>\n",
       "      <td>26.0</td>\n",
       "      <td>0</td>\n",
       "      <td>0</td>\n",
       "      <td>...</td>\n",
       "      <td>0</td>\n",
       "      <td>0</td>\n",
       "      <td>0</td>\n",
       "      <td>0</td>\n",
       "      <td>0</td>\n",
       "      <td>0</td>\n",
       "      <td>0</td>\n",
       "      <td>0</td>\n",
       "      <td>1</td>\n",
       "      <td>0</td>\n",
       "    </tr>\n",
       "    <tr>\n",
       "      <th>3</th>\n",
       "      <td>Witch Hunter Robin</td>\n",
       "      <td>['Action', 'Magic', 'Police', 'Supernatural', ...</td>\n",
       "      <td>Witches are individuals with special powers li...</td>\n",
       "      <td>7.34</td>\n",
       "      <td>31875.0</td>\n",
       "      <td>1278.0</td>\n",
       "      <td>74889.0</td>\n",
       "      <td>26.0</td>\n",
       "      <td>0</td>\n",
       "      <td>0</td>\n",
       "      <td>...</td>\n",
       "      <td>0</td>\n",
       "      <td>0</td>\n",
       "      <td>0</td>\n",
       "      <td>0</td>\n",
       "      <td>0</td>\n",
       "      <td>0</td>\n",
       "      <td>0</td>\n",
       "      <td>0</td>\n",
       "      <td>1</td>\n",
       "      <td>0</td>\n",
       "    </tr>\n",
       "    <tr>\n",
       "      <th>4</th>\n",
       "      <td>Bouken Ou Beet</td>\n",
       "      <td>['Adventure', 'Fantasy', 'Shounen', 'Supernatu...</td>\n",
       "      <td>It is the dark century and the people are suff...</td>\n",
       "      <td>7.04</td>\n",
       "      <td>4757.0</td>\n",
       "      <td>3968.0</td>\n",
       "      <td>11247.0</td>\n",
       "      <td>52.0</td>\n",
       "      <td>0</td>\n",
       "      <td>0</td>\n",
       "      <td>...</td>\n",
       "      <td>0</td>\n",
       "      <td>0</td>\n",
       "      <td>0</td>\n",
       "      <td>0</td>\n",
       "      <td>0</td>\n",
       "      <td>0</td>\n",
       "      <td>0</td>\n",
       "      <td>0</td>\n",
       "      <td>1</td>\n",
       "      <td>0</td>\n",
       "    </tr>\n",
       "  </tbody>\n",
       "</table>\n",
       "<p>5 rows × 29 columns</p>\n",
       "</div>"
      ],
      "text/plain": [
       "                             Title  \\\n",
       "0                     Cowboy Bebop   \n",
       "1  Cowboy Bebop: Tengoku no Tobira   \n",
       "2                           Trigun   \n",
       "3               Witch Hunter Robin   \n",
       "4                   Bouken Ou Beet   \n",
       "\n",
       "                                               Genre  \\\n",
       "0  ['Action', 'Adventure', 'Comedy', 'Drama', 'Sc...   \n",
       "1  ['Action', 'Space', 'Drama', 'Mystery', 'Sci-Fi']   \n",
       "2  ['Action', 'Sci-Fi', 'Adventure', 'Comedy', 'D...   \n",
       "3  ['Action', 'Magic', 'Police', 'Supernatural', ...   \n",
       "4  ['Adventure', 'Fantasy', 'Shounen', 'Supernatu...   \n",
       "\n",
       "                                            Synopsis  Rating  ScoredBy  \\\n",
       "0  In the year 2071, humanity has colonized sever...    8.81  363889.0   \n",
       "1  Another day, another bounty—such is the life o...    8.41  111187.0   \n",
       "2  Vash the Stampede is the man with a $$60,000,0...    8.31  197451.0   \n",
       "3  Witches are individuals with special powers li...    7.34   31875.0   \n",
       "4  It is the dark century and the people are suff...    7.04    4757.0   \n",
       "\n",
       "   Popularity   Members  Episodes  src_Book  src_Card game  ...  src_Radio  \\\n",
       "0        39.0  704490.0      26.0         0              0  ...          0   \n",
       "1       475.0  179899.0       1.0         0              0  ...          0   \n",
       "2       158.0  372709.0      26.0         0              0  ...          0   \n",
       "3      1278.0   74889.0      26.0         0              0  ...          0   \n",
       "4      3968.0   11247.0      52.0         0              0  ...          0   \n",
       "\n",
       "   src_Unknown  src_Visual novel  src_Web manga  type_Music  type_ONA  \\\n",
       "0            0                 0              0           0         0   \n",
       "1            0                 0              0           0         0   \n",
       "2            0                 0              0           0         0   \n",
       "3            0                 0              0           0         0   \n",
       "4            0                 0              0           0         0   \n",
       "\n",
       "   type_OVA  type_Special  type_TV  type_Unknown  \n",
       "0         0             0        1             0  \n",
       "1         0             0        0             0  \n",
       "2         0             0        1             0  \n",
       "3         0             0        1             0  \n",
       "4         0             0        1             0  \n",
       "\n",
       "[5 rows x 29 columns]"
      ]
     },
     "execution_count": 16,
     "metadata": {},
     "output_type": "execute_result"
    }
   ],
   "source": [
    "df.head()"
   ]
  },
  {
   "cell_type": "code",
   "execution_count": 17,
   "id": "7099d5cb",
   "metadata": {
    "execution": {
     "iopub.execute_input": "2022-02-14T18:21:04.977038Z",
     "iopub.status.busy": "2022-02-14T18:21:04.976248Z",
     "iopub.status.idle": "2022-02-14T18:21:04.979478Z",
     "shell.execute_reply": "2022-02-14T18:21:04.979979Z",
     "shell.execute_reply.started": "2022-02-14T18:08:20.349617Z"
    },
    "papermill": {
     "duration": 0.052671,
     "end_time": "2022-02-14T18:21:04.980161",
     "exception": false,
     "start_time": "2022-02-14T18:21:04.927490",
     "status": "completed"
    },
    "tags": []
   },
   "outputs": [
    {
     "data": {
      "text/plain": [
       "0        ['Action', 'Adventure', 'Comedy', 'Drama', 'Sc...\n",
       "1        ['Action', 'Space', 'Drama', 'Mystery', 'Sci-Fi']\n",
       "2        ['Action', 'Sci-Fi', 'Adventure', 'Comedy', 'D...\n",
       "3        ['Action', 'Magic', 'Police', 'Supernatural', ...\n",
       "4        ['Adventure', 'Fantasy', 'Shounen', 'Supernatu...\n",
       "                               ...                        \n",
       "16997                                                  NaN\n",
       "16998                                                  NaN\n",
       "16999                                                  NaN\n",
       "17000                                                  NaN\n",
       "17001                                                  NaN\n",
       "Name: Genre, Length: 16737, dtype: object"
      ]
     },
     "execution_count": 17,
     "metadata": {},
     "output_type": "execute_result"
    }
   ],
   "source": [
    "df['Genre']"
   ]
  },
  {
   "cell_type": "code",
   "execution_count": 18,
   "id": "86959f57",
   "metadata": {
    "execution": {
     "iopub.execute_input": "2022-02-14T18:21:05.066807Z",
     "iopub.status.busy": "2022-02-14T18:21:05.065821Z",
     "iopub.status.idle": "2022-02-14T18:21:05.085311Z",
     "shell.execute_reply": "2022-02-14T18:21:05.085932Z",
     "shell.execute_reply.started": "2022-02-14T18:08:20.358114Z"
    },
    "papermill": {
     "duration": 0.064527,
     "end_time": "2022-02-14T18:21:05.086102",
     "exception": false,
     "start_time": "2022-02-14T18:21:05.021575",
     "status": "completed"
    },
    "tags": []
   },
   "outputs": [
    {
     "data": {
      "text/plain": [
       "0.27233076417518076"
      ]
     },
     "execution_count": 18,
     "metadata": {},
     "output_type": "execute_result"
    }
   ],
   "source": [
    "(df.shape[0] - df.dropna().shape[0]) / df.shape[0]"
   ]
  },
  {
   "cell_type": "code",
   "execution_count": 19,
   "id": "6ea96536",
   "metadata": {
    "execution": {
     "iopub.execute_input": "2022-02-14T18:21:05.172407Z",
     "iopub.status.busy": "2022-02-14T18:21:05.171750Z",
     "iopub.status.idle": "2022-02-14T18:21:05.187125Z",
     "shell.execute_reply": "2022-02-14T18:21:05.187683Z",
     "shell.execute_reply.started": "2022-02-14T18:08:20.382962Z"
    },
    "papermill": {
     "duration": 0.060237,
     "end_time": "2022-02-14T18:21:05.187864",
     "exception": false,
     "start_time": "2022-02-14T18:21:05.127627",
     "status": "completed"
    },
    "tags": []
   },
   "outputs": [],
   "source": [
    "df.dropna(inplace=True)"
   ]
  },
  {
   "cell_type": "code",
   "execution_count": 20,
   "id": "d59ea7fb",
   "metadata": {
    "execution": {
     "iopub.execute_input": "2022-02-14T18:21:05.274593Z",
     "iopub.status.busy": "2022-02-14T18:21:05.273798Z",
     "iopub.status.idle": "2022-02-14T18:21:05.281579Z",
     "shell.execute_reply": "2022-02-14T18:21:05.281001Z",
     "shell.execute_reply.started": "2022-02-14T18:08:20.401591Z"
    },
    "papermill": {
     "duration": 0.052223,
     "end_time": "2022-02-14T18:21:05.281739",
     "exception": false,
     "start_time": "2022-02-14T18:21:05.229516",
     "status": "completed"
    },
    "tags": []
   },
   "outputs": [
    {
     "data": {
      "text/plain": [
       "Title                 object\n",
       "Genre                 object\n",
       "Synopsis              object\n",
       "Rating               float64\n",
       "ScoredBy             float64\n",
       "Popularity           float64\n",
       "Members              float64\n",
       "Episodes             float64\n",
       "src_Book               uint8\n",
       "src_Card game          uint8\n",
       "src_Digital manga      uint8\n",
       "src_Game               uint8\n",
       "src_Light novel        uint8\n",
       "src_Manga              uint8\n",
       "src_Music              uint8\n",
       "src_Novel              uint8\n",
       "src_Original           uint8\n",
       "src_Other              uint8\n",
       "src_Picture book       uint8\n",
       "src_Radio              uint8\n",
       "src_Unknown            uint8\n",
       "src_Visual novel       uint8\n",
       "src_Web manga          uint8\n",
       "type_Music             uint8\n",
       "type_ONA               uint8\n",
       "type_OVA               uint8\n",
       "type_Special           uint8\n",
       "type_TV                uint8\n",
       "type_Unknown           uint8\n",
       "dtype: object"
      ]
     },
     "execution_count": 20,
     "metadata": {},
     "output_type": "execute_result"
    }
   ],
   "source": [
    "df.dtypes"
   ]
  },
  {
   "cell_type": "code",
   "execution_count": 21,
   "id": "72836e59",
   "metadata": {
    "execution": {
     "iopub.execute_input": "2022-02-14T18:21:05.372784Z",
     "iopub.status.busy": "2022-02-14T18:21:05.372106Z",
     "iopub.status.idle": "2022-02-14T18:21:05.375164Z",
     "shell.execute_reply": "2022-02-14T18:21:05.374626Z",
     "shell.execute_reply.started": "2022-02-14T18:08:20.410839Z"
    },
    "papermill": {
     "duration": 0.050519,
     "end_time": "2022-02-14T18:21:05.375301",
     "exception": false,
     "start_time": "2022-02-14T18:21:05.324782",
     "status": "completed"
    },
    "tags": []
   },
   "outputs": [],
   "source": [
    "import ast\n",
    "\n",
    "def parse_list(x):\n",
    "    x = ast.literal_eval(x)\n",
    "    x = [n.strip() for n in x]\n",
    "    return(x)"
   ]
  },
  {
   "cell_type": "code",
   "execution_count": 22,
   "id": "ec8bbe89",
   "metadata": {
    "execution": {
     "iopub.execute_input": "2022-02-14T18:21:05.506705Z",
     "iopub.status.busy": "2022-02-14T18:21:05.490908Z",
     "iopub.status.idle": "2022-02-14T18:21:05.727199Z",
     "shell.execute_reply": "2022-02-14T18:21:05.726608Z",
     "shell.execute_reply.started": "2022-02-14T18:08:20.420357Z"
    },
    "papermill": {
     "duration": 0.309931,
     "end_time": "2022-02-14T18:21:05.727338",
     "exception": false,
     "start_time": "2022-02-14T18:21:05.417407",
     "status": "completed"
    },
    "tags": []
   },
   "outputs": [],
   "source": [
    "df['Genre'] = df['Genre'].apply(parse_list)"
   ]
  },
  {
   "cell_type": "code",
   "execution_count": 23,
   "id": "9c5a6a1b",
   "metadata": {
    "execution": {
     "iopub.execute_input": "2022-02-14T18:21:05.824661Z",
     "iopub.status.busy": "2022-02-14T18:21:05.817895Z",
     "iopub.status.idle": "2022-02-14T18:21:05.897119Z",
     "shell.execute_reply": "2022-02-14T18:21:05.897722Z",
     "shell.execute_reply.started": "2022-02-14T18:08:20.681158Z"
    },
    "papermill": {
     "duration": 0.128351,
     "end_time": "2022-02-14T18:21:05.897894",
     "exception": false,
     "start_time": "2022-02-14T18:21:05.769543",
     "status": "completed"
    },
    "tags": []
   },
   "outputs": [
    {
     "name": "stderr",
     "output_type": "stream",
     "text": [
      "/opt/conda/lib/python3.7/site-packages/ipykernel_launcher.py:1: FutureWarning: Using the level keyword in DataFrame and Series aggregations is deprecated and will be removed in a future version. Use groupby instead. df.sum(level=1) should use df.groupby(level=1).sum().\n",
      "  \"\"\"Entry point for launching an IPython kernel.\n"
     ]
    }
   ],
   "source": [
    "df = df.join(pd.get_dummies(df['Genre'].explode(),prefix='genre',drop_first=True).sum(level=0))\n",
    "df.drop('Genre',axis=1,inplace=True)"
   ]
  },
  {
   "cell_type": "code",
   "execution_count": 24,
   "id": "ec72298e",
   "metadata": {
    "execution": {
     "iopub.execute_input": "2022-02-14T18:21:06.004579Z",
     "iopub.status.busy": "2022-02-14T18:21:05.994752Z",
     "iopub.status.idle": "2022-02-14T18:21:06.006891Z",
     "shell.execute_reply": "2022-02-14T18:21:06.007361Z",
     "shell.execute_reply.started": "2022-02-14T18:08:20.770470Z"
    },
    "papermill": {
     "duration": 0.067531,
     "end_time": "2022-02-14T18:21:06.007560",
     "exception": false,
     "start_time": "2022-02-14T18:21:05.940029",
     "status": "completed"
    },
    "tags": []
   },
   "outputs": [
    {
     "data": {
      "text/html": [
       "<div>\n",
       "<style scoped>\n",
       "    .dataframe tbody tr th:only-of-type {\n",
       "        vertical-align: middle;\n",
       "    }\n",
       "\n",
       "    .dataframe tbody tr th {\n",
       "        vertical-align: top;\n",
       "    }\n",
       "\n",
       "    .dataframe thead th {\n",
       "        text-align: right;\n",
       "    }\n",
       "</style>\n",
       "<table border=\"1\" class=\"dataframe\">\n",
       "  <thead>\n",
       "    <tr style=\"text-align: right;\">\n",
       "      <th></th>\n",
       "      <th>Title</th>\n",
       "      <th>Synopsis</th>\n",
       "      <th>Rating</th>\n",
       "      <th>ScoredBy</th>\n",
       "      <th>Popularity</th>\n",
       "      <th>Members</th>\n",
       "      <th>Episodes</th>\n",
       "      <th>src_Book</th>\n",
       "      <th>src_Card game</th>\n",
       "      <th>src_Digital manga</th>\n",
       "      <th>...</th>\n",
       "      <th>genre_Shounen Ai</th>\n",
       "      <th>genre_Slice of Life</th>\n",
       "      <th>genre_Space</th>\n",
       "      <th>genre_Sports</th>\n",
       "      <th>genre_Super Power</th>\n",
       "      <th>genre_Supernatural</th>\n",
       "      <th>genre_Thriller</th>\n",
       "      <th>genre_Vampire</th>\n",
       "      <th>genre_Yaoi</th>\n",
       "      <th>genre_Yuri</th>\n",
       "    </tr>\n",
       "  </thead>\n",
       "  <tbody>\n",
       "    <tr>\n",
       "      <th>0</th>\n",
       "      <td>Cowboy Bebop</td>\n",
       "      <td>In the year 2071, humanity has colonized sever...</td>\n",
       "      <td>8.81</td>\n",
       "      <td>363889.0</td>\n",
       "      <td>39.0</td>\n",
       "      <td>704490.0</td>\n",
       "      <td>26.0</td>\n",
       "      <td>0</td>\n",
       "      <td>0</td>\n",
       "      <td>0</td>\n",
       "      <td>...</td>\n",
       "      <td>0</td>\n",
       "      <td>0</td>\n",
       "      <td>1</td>\n",
       "      <td>0</td>\n",
       "      <td>0</td>\n",
       "      <td>0</td>\n",
       "      <td>0</td>\n",
       "      <td>0</td>\n",
       "      <td>0</td>\n",
       "      <td>0</td>\n",
       "    </tr>\n",
       "    <tr>\n",
       "      <th>1</th>\n",
       "      <td>Cowboy Bebop: Tengoku no Tobira</td>\n",
       "      <td>Another day, another bounty—such is the life o...</td>\n",
       "      <td>8.41</td>\n",
       "      <td>111187.0</td>\n",
       "      <td>475.0</td>\n",
       "      <td>179899.0</td>\n",
       "      <td>1.0</td>\n",
       "      <td>0</td>\n",
       "      <td>0</td>\n",
       "      <td>0</td>\n",
       "      <td>...</td>\n",
       "      <td>0</td>\n",
       "      <td>0</td>\n",
       "      <td>1</td>\n",
       "      <td>0</td>\n",
       "      <td>0</td>\n",
       "      <td>0</td>\n",
       "      <td>0</td>\n",
       "      <td>0</td>\n",
       "      <td>0</td>\n",
       "      <td>0</td>\n",
       "    </tr>\n",
       "    <tr>\n",
       "      <th>2</th>\n",
       "      <td>Trigun</td>\n",
       "      <td>Vash the Stampede is the man with a $$60,000,0...</td>\n",
       "      <td>8.31</td>\n",
       "      <td>197451.0</td>\n",
       "      <td>158.0</td>\n",
       "      <td>372709.0</td>\n",
       "      <td>26.0</td>\n",
       "      <td>0</td>\n",
       "      <td>0</td>\n",
       "      <td>0</td>\n",
       "      <td>...</td>\n",
       "      <td>0</td>\n",
       "      <td>0</td>\n",
       "      <td>0</td>\n",
       "      <td>0</td>\n",
       "      <td>0</td>\n",
       "      <td>0</td>\n",
       "      <td>0</td>\n",
       "      <td>0</td>\n",
       "      <td>0</td>\n",
       "      <td>0</td>\n",
       "    </tr>\n",
       "    <tr>\n",
       "      <th>3</th>\n",
       "      <td>Witch Hunter Robin</td>\n",
       "      <td>Witches are individuals with special powers li...</td>\n",
       "      <td>7.34</td>\n",
       "      <td>31875.0</td>\n",
       "      <td>1278.0</td>\n",
       "      <td>74889.0</td>\n",
       "      <td>26.0</td>\n",
       "      <td>0</td>\n",
       "      <td>0</td>\n",
       "      <td>0</td>\n",
       "      <td>...</td>\n",
       "      <td>0</td>\n",
       "      <td>0</td>\n",
       "      <td>0</td>\n",
       "      <td>0</td>\n",
       "      <td>0</td>\n",
       "      <td>1</td>\n",
       "      <td>0</td>\n",
       "      <td>0</td>\n",
       "      <td>0</td>\n",
       "      <td>0</td>\n",
       "    </tr>\n",
       "    <tr>\n",
       "      <th>4</th>\n",
       "      <td>Bouken Ou Beet</td>\n",
       "      <td>It is the dark century and the people are suff...</td>\n",
       "      <td>7.04</td>\n",
       "      <td>4757.0</td>\n",
       "      <td>3968.0</td>\n",
       "      <td>11247.0</td>\n",
       "      <td>52.0</td>\n",
       "      <td>0</td>\n",
       "      <td>0</td>\n",
       "      <td>0</td>\n",
       "      <td>...</td>\n",
       "      <td>0</td>\n",
       "      <td>0</td>\n",
       "      <td>0</td>\n",
       "      <td>0</td>\n",
       "      <td>0</td>\n",
       "      <td>1</td>\n",
       "      <td>0</td>\n",
       "      <td>0</td>\n",
       "      <td>0</td>\n",
       "      <td>0</td>\n",
       "    </tr>\n",
       "  </tbody>\n",
       "</table>\n",
       "<p>5 rows × 70 columns</p>\n",
       "</div>"
      ],
      "text/plain": [
       "                             Title  \\\n",
       "0                     Cowboy Bebop   \n",
       "1  Cowboy Bebop: Tengoku no Tobira   \n",
       "2                           Trigun   \n",
       "3               Witch Hunter Robin   \n",
       "4                   Bouken Ou Beet   \n",
       "\n",
       "                                            Synopsis  Rating  ScoredBy  \\\n",
       "0  In the year 2071, humanity has colonized sever...    8.81  363889.0   \n",
       "1  Another day, another bounty—such is the life o...    8.41  111187.0   \n",
       "2  Vash the Stampede is the man with a $$60,000,0...    8.31  197451.0   \n",
       "3  Witches are individuals with special powers li...    7.34   31875.0   \n",
       "4  It is the dark century and the people are suff...    7.04    4757.0   \n",
       "\n",
       "   Popularity   Members  Episodes  src_Book  src_Card game  src_Digital manga  \\\n",
       "0        39.0  704490.0      26.0         0              0                  0   \n",
       "1       475.0  179899.0       1.0         0              0                  0   \n",
       "2       158.0  372709.0      26.0         0              0                  0   \n",
       "3      1278.0   74889.0      26.0         0              0                  0   \n",
       "4      3968.0   11247.0      52.0         0              0                  0   \n",
       "\n",
       "   ...  genre_Shounen Ai  genre_Slice of Life  genre_Space  genre_Sports  \\\n",
       "0  ...                 0                    0            1             0   \n",
       "1  ...                 0                    0            1             0   \n",
       "2  ...                 0                    0            0             0   \n",
       "3  ...                 0                    0            0             0   \n",
       "4  ...                 0                    0            0             0   \n",
       "\n",
       "   genre_Super Power  genre_Supernatural  genre_Thriller  genre_Vampire  \\\n",
       "0                  0                   0               0              0   \n",
       "1                  0                   0               0              0   \n",
       "2                  0                   0               0              0   \n",
       "3                  0                   1               0              0   \n",
       "4                  0                   1               0              0   \n",
       "\n",
       "   genre_Yaoi  genre_Yuri  \n",
       "0           0           0  \n",
       "1           0           0  \n",
       "2           0           0  \n",
       "3           0           0  \n",
       "4           0           0  \n",
       "\n",
       "[5 rows x 70 columns]"
      ]
     },
     "execution_count": 24,
     "metadata": {},
     "output_type": "execute_result"
    }
   ],
   "source": [
    "df.head()"
   ]
  },
  {
   "cell_type": "code",
   "execution_count": 25,
   "id": "c2dbbc7c",
   "metadata": {
    "execution": {
     "iopub.execute_input": "2022-02-14T18:21:06.098348Z",
     "iopub.status.busy": "2022-02-14T18:21:06.097257Z",
     "iopub.status.idle": "2022-02-14T18:21:06.103178Z",
     "shell.execute_reply": "2022-02-14T18:21:06.103752Z",
     "shell.execute_reply.started": "2022-02-14T18:08:20.794676Z"
    },
    "papermill": {
     "duration": 0.052812,
     "end_time": "2022-02-14T18:21:06.103930",
     "exception": false,
     "start_time": "2022-02-14T18:21:06.051118",
     "status": "completed"
    },
    "tags": []
   },
   "outputs": [],
   "source": [
    "X = df.drop(['Title','Rating'],axis=1)\n",
    "y = df['Rating']"
   ]
  },
  {
   "cell_type": "code",
   "execution_count": 26,
   "id": "b5e64358",
   "metadata": {
    "execution": {
     "iopub.execute_input": "2022-02-14T18:21:06.195262Z",
     "iopub.status.busy": "2022-02-14T18:21:06.193202Z",
     "iopub.status.idle": "2022-02-14T18:21:07.169505Z",
     "shell.execute_reply": "2022-02-14T18:21:07.168872Z",
     "shell.execute_reply.started": "2022-02-14T18:08:20.802735Z"
    },
    "papermill": {
     "duration": 1.022727,
     "end_time": "2022-02-14T18:21:07.169660",
     "exception": false,
     "start_time": "2022-02-14T18:21:06.146933",
     "status": "completed"
    },
    "tags": []
   },
   "outputs": [],
   "source": [
    "from sklearn.model_selection import train_test_split\n",
    "\n",
    "X_train,X_test,y_train,y_test = train_test_split(X,y,test_size=.2,random_state=123)"
   ]
  },
  {
   "cell_type": "markdown",
   "id": "74353f93",
   "metadata": {
    "papermill": {
     "duration": 0.042596,
     "end_time": "2022-02-14T18:21:07.255216",
     "exception": false,
     "start_time": "2022-02-14T18:21:07.212620",
     "status": "completed"
    },
    "tags": []
   },
   "source": [
    "# PART 2 - predict rating from non-word features"
   ]
  },
  {
   "cell_type": "code",
   "execution_count": 27,
   "id": "9914e330",
   "metadata": {
    "execution": {
     "iopub.execute_input": "2022-02-14T18:21:07.347182Z",
     "iopub.status.busy": "2022-02-14T18:21:07.346443Z",
     "iopub.status.idle": "2022-02-14T18:21:07.349997Z",
     "shell.execute_reply": "2022-02-14T18:21:07.350598Z",
     "shell.execute_reply.started": "2022-02-14T18:08:21.737702Z"
    },
    "papermill": {
     "duration": 0.052652,
     "end_time": "2022-02-14T18:21:07.350784",
     "exception": false,
     "start_time": "2022-02-14T18:21:07.298132",
     "status": "completed"
    },
    "tags": []
   },
   "outputs": [],
   "source": [
    "X1_train = X_train.drop('Synopsis',axis=1)\n",
    "X1_test = X_test.drop('Synopsis',axis=1)"
   ]
  },
  {
   "cell_type": "code",
   "execution_count": 28,
   "id": "6b11ffc2",
   "metadata": {
    "execution": {
     "iopub.execute_input": "2022-02-14T18:21:07.440086Z",
     "iopub.status.busy": "2022-02-14T18:21:07.439425Z",
     "iopub.status.idle": "2022-02-14T18:21:07.446250Z",
     "shell.execute_reply": "2022-02-14T18:21:07.446806Z",
     "shell.execute_reply.started": "2022-02-14T18:08:21.749978Z"
    },
    "papermill": {
     "duration": 0.053113,
     "end_time": "2022-02-14T18:21:07.446977",
     "exception": false,
     "start_time": "2022-02-14T18:21:07.393864",
     "status": "completed"
    },
    "tags": []
   },
   "outputs": [
    {
     "data": {
      "text/plain": [
       "ScoredBy              float64\n",
       "Popularity            float64\n",
       "Members               float64\n",
       "Episodes              float64\n",
       "src_Book                uint8\n",
       "                       ...   \n",
       "genre_Supernatural      uint8\n",
       "genre_Thriller          uint8\n",
       "genre_Vampire           uint8\n",
       "genre_Yaoi              uint8\n",
       "genre_Yuri              uint8\n",
       "Length: 67, dtype: object"
      ]
     },
     "execution_count": 28,
     "metadata": {},
     "output_type": "execute_result"
    }
   ],
   "source": [
    "X1_train.dtypes"
   ]
  },
  {
   "cell_type": "code",
   "execution_count": 29,
   "id": "e33b9423",
   "metadata": {
    "execution": {
     "iopub.execute_input": "2022-02-14T18:21:07.536797Z",
     "iopub.status.busy": "2022-02-14T18:21:07.536117Z",
     "iopub.status.idle": "2022-02-14T18:21:07.634439Z",
     "shell.execute_reply": "2022-02-14T18:21:07.635108Z",
     "shell.execute_reply.started": "2022-02-14T18:08:21.762011Z"
    },
    "papermill": {
     "duration": 0.144927,
     "end_time": "2022-02-14T18:21:07.635287",
     "exception": false,
     "start_time": "2022-02-14T18:21:07.490360",
     "status": "completed"
    },
    "tags": []
   },
   "outputs": [],
   "source": [
    "import xgboost as xgb\n",
    "\n",
    "boost = xgb.XGBRegressor(n_estimators=10,seed=123)"
   ]
  },
  {
   "cell_type": "code",
   "execution_count": 30,
   "id": "36d53246",
   "metadata": {
    "execution": {
     "iopub.execute_input": "2022-02-14T18:21:07.726598Z",
     "iopub.status.busy": "2022-02-14T18:21:07.725952Z",
     "iopub.status.idle": "2022-02-14T18:21:07.980903Z",
     "shell.execute_reply": "2022-02-14T18:21:07.981529Z",
     "shell.execute_reply.started": "2022-02-14T18:08:21.856357Z"
    },
    "papermill": {
     "duration": 0.301578,
     "end_time": "2022-02-14T18:21:07.981748",
     "exception": false,
     "start_time": "2022-02-14T18:21:07.680170",
     "status": "completed"
    },
    "tags": []
   },
   "outputs": [],
   "source": [
    "boost.fit(X1_train,y_train)\n",
    "\n",
    "preds = boost.predict(X1_test)"
   ]
  },
  {
   "cell_type": "code",
   "execution_count": 31,
   "id": "fba13fdc",
   "metadata": {
    "execution": {
     "iopub.execute_input": "2022-02-14T18:21:08.076237Z",
     "iopub.status.busy": "2022-02-14T18:21:08.073373Z",
     "iopub.status.idle": "2022-02-14T18:21:08.079962Z",
     "shell.execute_reply": "2022-02-14T18:21:08.079450Z",
     "shell.execute_reply.started": "2022-02-14T18:08:22.142585Z"
    },
    "papermill": {
     "duration": 0.052798,
     "end_time": "2022-02-14T18:21:08.080106",
     "exception": false,
     "start_time": "2022-02-14T18:21:08.027308",
     "status": "completed"
    },
    "tags": []
   },
   "outputs": [
    {
     "name": "stdout",
     "output_type": "stream",
     "text": [
      "MSE: 0.4654566782692339\n"
     ]
    }
   ],
   "source": [
    "from sklearn.metrics import mean_squared_error\n",
    "\n",
    "print('MSE: {}'.format(mean_squared_error(y_test,preds)))"
   ]
  },
  {
   "cell_type": "code",
   "execution_count": 32,
   "id": "4a25e310",
   "metadata": {
    "execution": {
     "iopub.execute_input": "2022-02-14T18:21:08.176764Z",
     "iopub.status.busy": "2022-02-14T18:21:08.175792Z",
     "iopub.status.idle": "2022-02-14T18:21:08.181078Z",
     "shell.execute_reply": "2022-02-14T18:21:08.181689Z",
     "shell.execute_reply.started": "2022-02-14T18:08:22.150116Z"
    },
    "papermill": {
     "duration": 0.057319,
     "end_time": "2022-02-14T18:21:08.181876",
     "exception": false,
     "start_time": "2022-02-14T18:21:08.124557",
     "status": "completed"
    },
    "tags": []
   },
   "outputs": [],
   "source": [
    "from sklearn.pipeline import Pipeline\n",
    "from sklearn.preprocessing import StandardScaler\n",
    "from sklearn.model_selection import GridSearchCV\n",
    "import numpy as np\n",
    "\n",
    "pipe = Pipeline([('scaler',StandardScaler()),('xgb',xgb.XGBRegressor())])\n",
    "\n",
    "param_grid = {\n",
    "    'xgb__learning_rate': [0.01,0.1,0.5,0.9],\n",
    "    'xgb__n_estimators': [200],\n",
    "    'xgb__subsample': [0.3, 0.5, 0.9]\n",
    "}\n",
    "\n",
    "grid = GridSearchCV(estimator=pipe,param_grid=param_grid,\n",
    "                    scoring='neg_mean_squared_error', cv=4)"
   ]
  },
  {
   "cell_type": "code",
   "execution_count": 33,
   "id": "79aa1ec3",
   "metadata": {
    "execution": {
     "iopub.execute_input": "2022-02-14T18:21:08.272873Z",
     "iopub.status.busy": "2022-02-14T18:21:08.272237Z",
     "iopub.status.idle": "2022-02-14T18:23:49.658899Z",
     "shell.execute_reply": "2022-02-14T18:23:49.659470Z",
     "shell.execute_reply.started": "2022-02-14T18:08:22.162089Z"
    },
    "papermill": {
     "duration": 161.433697,
     "end_time": "2022-02-14T18:23:49.659677",
     "exception": false,
     "start_time": "2022-02-14T18:21:08.225980",
     "status": "completed"
    },
    "tags": []
   },
   "outputs": [
    {
     "name": "stdout",
     "output_type": "stream",
     "text": [
      "0.3846891441356819\n"
     ]
    }
   ],
   "source": [
    "grid.fit(X1_train,y_train)\n",
    "\n",
    "print(np.abs(grid.best_score_))"
   ]
  },
  {
   "cell_type": "markdown",
   "id": "0e657c21",
   "metadata": {
    "papermill": {
     "duration": 0.044816,
     "end_time": "2022-02-14T18:23:49.748536",
     "exception": false,
     "start_time": "2022-02-14T18:23:49.703720",
     "status": "completed"
    },
    "tags": []
   },
   "source": [
    "# PART 3 - calculat similarity from tfidf_vect"
   ]
  },
  {
   "cell_type": "code",
   "execution_count": 34,
   "id": "0f66e433",
   "metadata": {
    "execution": {
     "iopub.execute_input": "2022-02-14T18:23:49.841429Z",
     "iopub.status.busy": "2022-02-14T18:23:49.840753Z",
     "iopub.status.idle": "2022-02-14T18:23:49.844151Z",
     "shell.execute_reply": "2022-02-14T18:23:49.844685Z",
     "shell.execute_reply.started": "2022-02-14T18:11:02.219531Z"
    },
    "papermill": {
     "duration": 0.051839,
     "end_time": "2022-02-14T18:23:49.844858",
     "exception": false,
     "start_time": "2022-02-14T18:23:49.793019",
     "status": "completed"
    },
    "tags": []
   },
   "outputs": [],
   "source": [
    "import re\n",
    "\n",
    "def clean_text(x):\n",
    "    expr = '[^a-zA-Z]'\n",
    "    x = re.sub(expr,' ',x)\n",
    "    return(x)"
   ]
  },
  {
   "cell_type": "code",
   "execution_count": 35,
   "id": "a1872e4a",
   "metadata": {
    "execution": {
     "iopub.execute_input": "2022-02-14T18:23:49.937037Z",
     "iopub.status.busy": "2022-02-14T18:23:49.936357Z",
     "iopub.status.idle": "2022-02-14T18:23:50.436405Z",
     "shell.execute_reply": "2022-02-14T18:23:50.435803Z",
     "shell.execute_reply.started": "2022-02-14T18:11:02.224963Z"
    },
    "papermill": {
     "duration": 0.546807,
     "end_time": "2022-02-14T18:23:50.436571",
     "exception": false,
     "start_time": "2022-02-14T18:23:49.889764",
     "status": "completed"
    },
    "tags": []
   },
   "outputs": [],
   "source": [
    "df['Synopsis'] = df['Synopsis'].apply(clean_text)"
   ]
  },
  {
   "cell_type": "code",
   "execution_count": 36,
   "id": "57bddd03",
   "metadata": {
    "execution": {
     "iopub.execute_input": "2022-02-14T18:23:50.528007Z",
     "iopub.status.busy": "2022-02-14T18:23:50.527336Z",
     "iopub.status.idle": "2022-02-14T18:23:50.533872Z",
     "shell.execute_reply": "2022-02-14T18:23:50.534344Z",
     "shell.execute_reply.started": "2022-02-14T18:11:02.737515Z"
    },
    "papermill": {
     "duration": 0.053996,
     "end_time": "2022-02-14T18:23:50.534534",
     "exception": false,
     "start_time": "2022-02-14T18:23:50.480538",
     "status": "completed"
    },
    "tags": []
   },
   "outputs": [
    {
     "data": {
      "text/plain": [
       "0        In the year       humanity has colonized sever...\n",
       "1        Another day  another bounty such is the life o...\n",
       "2        Vash the Stampede is the man with a           ...\n",
       "3        Witches are individuals with special powers li...\n",
       "4        It is the dark century and the people are suff...\n",
       "                               ...                        \n",
       "15012    Relay PV with original animation that was not ...\n",
       "15013    Short anime celebrating the    th anniversary ...\n",
       "15015    Music video directed by Kouhei Yoshino for the...\n",
       "15016    Music video directed by Kouhei Yoshino for the...\n",
       "15031    Space Shower TV Station ID directed by Densuke...\n",
       "Name: Synopsis, Length: 12179, dtype: object"
      ]
     },
     "execution_count": 36,
     "metadata": {},
     "output_type": "execute_result"
    }
   ],
   "source": [
    "df['Synopsis']"
   ]
  },
  {
   "cell_type": "code",
   "execution_count": 37,
   "id": "970961da",
   "metadata": {
    "execution": {
     "iopub.execute_input": "2022-02-14T18:23:50.626736Z",
     "iopub.status.busy": "2022-02-14T18:23:50.626066Z",
     "iopub.status.idle": "2022-02-14T18:23:51.569350Z",
     "shell.execute_reply": "2022-02-14T18:23:51.569930Z",
     "shell.execute_reply.started": "2022-02-14T18:11:02.746859Z"
    },
    "papermill": {
     "duration": 0.99122,
     "end_time": "2022-02-14T18:23:51.570113",
     "exception": false,
     "start_time": "2022-02-14T18:23:50.578893",
     "status": "completed"
    },
    "tags": []
   },
   "outputs": [],
   "source": [
    "from sklearn.feature_extraction.text import TfidfVectorizer\n",
    "\n",
    "vect = TfidfVectorizer(min_df=2,max_df=10,stop_words='english')\n",
    "\n",
    "tfidf_matrix = vect.fit_transform(df['Synopsis'])"
   ]
  },
  {
   "cell_type": "code",
   "execution_count": 38,
   "id": "feb2ba4d",
   "metadata": {
    "execution": {
     "iopub.execute_input": "2022-02-14T18:23:51.663906Z",
     "iopub.status.busy": "2022-02-14T18:23:51.662935Z",
     "iopub.status.idle": "2022-02-14T18:27:15.370335Z",
     "shell.execute_reply": "2022-02-14T18:27:15.371199Z",
     "shell.execute_reply.started": "2022-02-14T18:16:03.951599Z"
    },
    "papermill": {
     "duration": 203.756064,
     "end_time": "2022-02-14T18:27:15.371543",
     "exception": false,
     "start_time": "2022-02-14T18:23:51.615479",
     "status": "completed"
    },
    "tags": []
   },
   "outputs": [
    {
     "name": "stderr",
     "output_type": "stream",
     "text": [
      "/opt/conda/lib/python3.7/site-packages/sklearn/decomposition/_nmf.py:1077: ConvergenceWarning: Maximum number of iterations 200 reached. Increase it to improve convergence.\n",
      "  \" improve convergence.\" % max_iter, ConvergenceWarning)\n"
     ]
    }
   ],
   "source": [
    "from sklearn.decomposition import NMF\n",
    "\n",
    "nmf = NMF(n_components=10)\n",
    "nmf_features = nmf.fit_transform(tfidf_matrix.toarray())"
   ]
  },
  {
   "cell_type": "code",
   "execution_count": null,
   "id": "a6c01fc5",
   "metadata": {
    "papermill": {
     "duration": 0.044748,
     "end_time": "2022-02-14T18:27:15.499759",
     "exception": false,
     "start_time": "2022-02-14T18:27:15.455011",
     "status": "completed"
    },
    "tags": []
   },
   "outputs": [],
   "source": []
  },
  {
   "cell_type": "code",
   "execution_count": 39,
   "id": "c8c09468",
   "metadata": {
    "execution": {
     "iopub.execute_input": "2022-02-14T18:27:15.597671Z",
     "iopub.status.busy": "2022-02-14T18:27:15.596672Z",
     "iopub.status.idle": "2022-02-14T18:27:15.861641Z",
     "shell.execute_reply": "2022-02-14T18:27:15.861027Z",
     "shell.execute_reply.started": "2022-02-14T18:20:05.050982Z"
    },
    "papermill": {
     "duration": 0.315144,
     "end_time": "2022-02-14T18:27:15.861789",
     "exception": false,
     "start_time": "2022-02-14T18:27:15.546645",
     "status": "completed"
    },
    "tags": []
   },
   "outputs": [],
   "source": [
    "tfidf_df = pd.DataFrame(tfidf_matrix.toarray(), columns = vect.get_feature_names())\n",
    "tfidf_df.index = df['Title']"
   ]
  },
  {
   "cell_type": "code",
   "execution_count": 40,
   "id": "abb82258",
   "metadata": {
    "execution": {
     "iopub.execute_input": "2022-02-14T18:27:15.955354Z",
     "iopub.status.busy": "2022-02-14T18:27:15.954333Z",
     "iopub.status.idle": "2022-02-14T18:27:16.028256Z",
     "shell.execute_reply": "2022-02-14T18:27:16.028818Z",
     "shell.execute_reply.started": "2022-02-14T18:20:05.344746Z"
    },
    "papermill": {
     "duration": 0.122439,
     "end_time": "2022-02-14T18:27:16.028998",
     "exception": false,
     "start_time": "2022-02-14T18:27:15.906559",
     "status": "completed"
    },
    "tags": []
   },
   "outputs": [
    {
     "data": {
      "text/html": [
       "<div>\n",
       "<style scoped>\n",
       "    .dataframe tbody tr th:only-of-type {\n",
       "        vertical-align: middle;\n",
       "    }\n",
       "\n",
       "    .dataframe tbody tr th {\n",
       "        vertical-align: top;\n",
       "    }\n",
       "\n",
       "    .dataframe thead th {\n",
       "        text-align: right;\n",
       "    }\n",
       "</style>\n",
       "<table border=\"1\" class=\"dataframe\">\n",
       "  <thead>\n",
       "    <tr style=\"text-align: right;\">\n",
       "      <th></th>\n",
       "      <th>aa</th>\n",
       "      <th>aaron</th>\n",
       "      <th>aback</th>\n",
       "      <th>abandons</th>\n",
       "      <th>abarenbou</th>\n",
       "      <th>abashiri</th>\n",
       "      <th>abbreviated</th>\n",
       "      <th>abc</th>\n",
       "      <th>abduct</th>\n",
       "      <th>abducting</th>\n",
       "      <th>...</th>\n",
       "      <th>zora</th>\n",
       "      <th>zorbados</th>\n",
       "      <th>zoro</th>\n",
       "      <th>zorori</th>\n",
       "      <th>zukan</th>\n",
       "      <th>zukkoke</th>\n",
       "      <th>zure</th>\n",
       "      <th>zvezda</th>\n",
       "      <th>zwei</th>\n",
       "      <th>zz</th>\n",
       "    </tr>\n",
       "    <tr>\n",
       "      <th>Title</th>\n",
       "      <th></th>\n",
       "      <th></th>\n",
       "      <th></th>\n",
       "      <th></th>\n",
       "      <th></th>\n",
       "      <th></th>\n",
       "      <th></th>\n",
       "      <th></th>\n",
       "      <th></th>\n",
       "      <th></th>\n",
       "      <th></th>\n",
       "      <th></th>\n",
       "      <th></th>\n",
       "      <th></th>\n",
       "      <th></th>\n",
       "      <th></th>\n",
       "      <th></th>\n",
       "      <th></th>\n",
       "      <th></th>\n",
       "      <th></th>\n",
       "      <th></th>\n",
       "    </tr>\n",
       "  </thead>\n",
       "  <tbody>\n",
       "    <tr>\n",
       "      <th>Cowboy Bebop</th>\n",
       "      <td>0.0</td>\n",
       "      <td>0.0</td>\n",
       "      <td>0.0</td>\n",
       "      <td>0.0</td>\n",
       "      <td>0.0</td>\n",
       "      <td>0.0</td>\n",
       "      <td>0.0</td>\n",
       "      <td>0.0</td>\n",
       "      <td>0.0</td>\n",
       "      <td>0.0</td>\n",
       "      <td>...</td>\n",
       "      <td>0.0</td>\n",
       "      <td>0.0</td>\n",
       "      <td>0.0</td>\n",
       "      <td>0.0</td>\n",
       "      <td>0.0</td>\n",
       "      <td>0.0</td>\n",
       "      <td>0.0</td>\n",
       "      <td>0.0</td>\n",
       "      <td>0.0</td>\n",
       "      <td>0.0</td>\n",
       "    </tr>\n",
       "    <tr>\n",
       "      <th>Cowboy Bebop: Tengoku no Tobira</th>\n",
       "      <td>0.0</td>\n",
       "      <td>0.0</td>\n",
       "      <td>0.0</td>\n",
       "      <td>0.0</td>\n",
       "      <td>0.0</td>\n",
       "      <td>0.0</td>\n",
       "      <td>0.0</td>\n",
       "      <td>0.0</td>\n",
       "      <td>0.0</td>\n",
       "      <td>0.0</td>\n",
       "      <td>...</td>\n",
       "      <td>0.0</td>\n",
       "      <td>0.0</td>\n",
       "      <td>0.0</td>\n",
       "      <td>0.0</td>\n",
       "      <td>0.0</td>\n",
       "      <td>0.0</td>\n",
       "      <td>0.0</td>\n",
       "      <td>0.0</td>\n",
       "      <td>0.0</td>\n",
       "      <td>0.0</td>\n",
       "    </tr>\n",
       "    <tr>\n",
       "      <th>Trigun</th>\n",
       "      <td>0.0</td>\n",
       "      <td>0.0</td>\n",
       "      <td>0.0</td>\n",
       "      <td>0.0</td>\n",
       "      <td>0.0</td>\n",
       "      <td>0.0</td>\n",
       "      <td>0.0</td>\n",
       "      <td>0.0</td>\n",
       "      <td>0.0</td>\n",
       "      <td>0.0</td>\n",
       "      <td>...</td>\n",
       "      <td>0.0</td>\n",
       "      <td>0.0</td>\n",
       "      <td>0.0</td>\n",
       "      <td>0.0</td>\n",
       "      <td>0.0</td>\n",
       "      <td>0.0</td>\n",
       "      <td>0.0</td>\n",
       "      <td>0.0</td>\n",
       "      <td>0.0</td>\n",
       "      <td>0.0</td>\n",
       "    </tr>\n",
       "    <tr>\n",
       "      <th>Witch Hunter Robin</th>\n",
       "      <td>0.0</td>\n",
       "      <td>0.0</td>\n",
       "      <td>0.0</td>\n",
       "      <td>0.0</td>\n",
       "      <td>0.0</td>\n",
       "      <td>0.0</td>\n",
       "      <td>0.0</td>\n",
       "      <td>0.0</td>\n",
       "      <td>0.0</td>\n",
       "      <td>0.0</td>\n",
       "      <td>...</td>\n",
       "      <td>0.0</td>\n",
       "      <td>0.0</td>\n",
       "      <td>0.0</td>\n",
       "      <td>0.0</td>\n",
       "      <td>0.0</td>\n",
       "      <td>0.0</td>\n",
       "      <td>0.0</td>\n",
       "      <td>0.0</td>\n",
       "      <td>0.0</td>\n",
       "      <td>0.0</td>\n",
       "    </tr>\n",
       "    <tr>\n",
       "      <th>Bouken Ou Beet</th>\n",
       "      <td>0.0</td>\n",
       "      <td>0.0</td>\n",
       "      <td>0.0</td>\n",
       "      <td>0.0</td>\n",
       "      <td>0.0</td>\n",
       "      <td>0.0</td>\n",
       "      <td>0.0</td>\n",
       "      <td>0.0</td>\n",
       "      <td>0.0</td>\n",
       "      <td>0.0</td>\n",
       "      <td>...</td>\n",
       "      <td>0.0</td>\n",
       "      <td>0.0</td>\n",
       "      <td>0.0</td>\n",
       "      <td>0.0</td>\n",
       "      <td>0.0</td>\n",
       "      <td>0.0</td>\n",
       "      <td>0.0</td>\n",
       "      <td>0.0</td>\n",
       "      <td>0.0</td>\n",
       "      <td>0.0</td>\n",
       "    </tr>\n",
       "    <tr>\n",
       "      <th>...</th>\n",
       "      <td>...</td>\n",
       "      <td>...</td>\n",
       "      <td>...</td>\n",
       "      <td>...</td>\n",
       "      <td>...</td>\n",
       "      <td>...</td>\n",
       "      <td>...</td>\n",
       "      <td>...</td>\n",
       "      <td>...</td>\n",
       "      <td>...</td>\n",
       "      <td>...</td>\n",
       "      <td>...</td>\n",
       "      <td>...</td>\n",
       "      <td>...</td>\n",
       "      <td>...</td>\n",
       "      <td>...</td>\n",
       "      <td>...</td>\n",
       "      <td>...</td>\n",
       "      <td>...</td>\n",
       "      <td>...</td>\n",
       "      <td>...</td>\n",
       "    </tr>\n",
       "    <tr>\n",
       "      <th>Isekai Quartet Relay PV</th>\n",
       "      <td>0.0</td>\n",
       "      <td>0.0</td>\n",
       "      <td>0.0</td>\n",
       "      <td>0.0</td>\n",
       "      <td>0.0</td>\n",
       "      <td>0.0</td>\n",
       "      <td>0.0</td>\n",
       "      <td>0.0</td>\n",
       "      <td>0.0</td>\n",
       "      <td>0.0</td>\n",
       "      <td>...</td>\n",
       "      <td>0.0</td>\n",
       "      <td>0.0</td>\n",
       "      <td>0.0</td>\n",
       "      <td>0.0</td>\n",
       "      <td>0.0</td>\n",
       "      <td>0.0</td>\n",
       "      <td>0.0</td>\n",
       "      <td>0.0</td>\n",
       "      <td>0.0</td>\n",
       "      <td>0.0</td>\n",
       "    </tr>\n",
       "    <tr>\n",
       "      <th>Tanabata no Oto</th>\n",
       "      <td>0.0</td>\n",
       "      <td>0.0</td>\n",
       "      <td>0.0</td>\n",
       "      <td>0.0</td>\n",
       "      <td>0.0</td>\n",
       "      <td>0.0</td>\n",
       "      <td>0.0</td>\n",
       "      <td>0.0</td>\n",
       "      <td>0.0</td>\n",
       "      <td>0.0</td>\n",
       "      <td>...</td>\n",
       "      <td>0.0</td>\n",
       "      <td>0.0</td>\n",
       "      <td>0.0</td>\n",
       "      <td>0.0</td>\n",
       "      <td>0.0</td>\n",
       "      <td>0.0</td>\n",
       "      <td>0.0</td>\n",
       "      <td>0.0</td>\n",
       "      <td>0.0</td>\n",
       "      <td>0.0</td>\n",
       "    </tr>\n",
       "    <tr>\n",
       "      <th>Ake-Vono</th>\n",
       "      <td>0.0</td>\n",
       "      <td>0.0</td>\n",
       "      <td>0.0</td>\n",
       "      <td>0.0</td>\n",
       "      <td>0.0</td>\n",
       "      <td>0.0</td>\n",
       "      <td>0.0</td>\n",
       "      <td>0.0</td>\n",
       "      <td>0.0</td>\n",
       "      <td>0.0</td>\n",
       "      <td>...</td>\n",
       "      <td>0.0</td>\n",
       "      <td>0.0</td>\n",
       "      <td>0.0</td>\n",
       "      <td>0.0</td>\n",
       "      <td>0.0</td>\n",
       "      <td>0.0</td>\n",
       "      <td>0.0</td>\n",
       "      <td>0.0</td>\n",
       "      <td>0.0</td>\n",
       "      <td>0.0</td>\n",
       "    </tr>\n",
       "    <tr>\n",
       "      <th>Ab-rah</th>\n",
       "      <td>0.0</td>\n",
       "      <td>0.0</td>\n",
       "      <td>0.0</td>\n",
       "      <td>0.0</td>\n",
       "      <td>0.0</td>\n",
       "      <td>0.0</td>\n",
       "      <td>0.0</td>\n",
       "      <td>0.0</td>\n",
       "      <td>0.0</td>\n",
       "      <td>0.0</td>\n",
       "      <td>...</td>\n",
       "      <td>0.0</td>\n",
       "      <td>0.0</td>\n",
       "      <td>0.0</td>\n",
       "      <td>0.0</td>\n",
       "      <td>0.0</td>\n",
       "      <td>0.0</td>\n",
       "      <td>0.0</td>\n",
       "      <td>0.0</td>\n",
       "      <td>0.0</td>\n",
       "      <td>0.0</td>\n",
       "    </tr>\n",
       "    <tr>\n",
       "      <th>Space Shower Man: Legacy for the Future</th>\n",
       "      <td>0.0</td>\n",
       "      <td>0.0</td>\n",
       "      <td>0.0</td>\n",
       "      <td>0.0</td>\n",
       "      <td>0.0</td>\n",
       "      <td>0.0</td>\n",
       "      <td>0.0</td>\n",
       "      <td>0.0</td>\n",
       "      <td>0.0</td>\n",
       "      <td>0.0</td>\n",
       "      <td>...</td>\n",
       "      <td>0.0</td>\n",
       "      <td>0.0</td>\n",
       "      <td>0.0</td>\n",
       "      <td>0.0</td>\n",
       "      <td>0.0</td>\n",
       "      <td>0.0</td>\n",
       "      <td>0.0</td>\n",
       "      <td>0.0</td>\n",
       "      <td>0.0</td>\n",
       "      <td>0.0</td>\n",
       "    </tr>\n",
       "  </tbody>\n",
       "</table>\n",
       "<p>12179 rows × 14608 columns</p>\n",
       "</div>"
      ],
      "text/plain": [
       "                                          aa  aaron  aback  abandons  \\\n",
       "Title                                                                  \n",
       "Cowboy Bebop                             0.0    0.0    0.0       0.0   \n",
       "Cowboy Bebop: Tengoku no Tobira          0.0    0.0    0.0       0.0   \n",
       "Trigun                                   0.0    0.0    0.0       0.0   \n",
       "Witch Hunter Robin                       0.0    0.0    0.0       0.0   \n",
       "Bouken Ou Beet                           0.0    0.0    0.0       0.0   \n",
       "...                                      ...    ...    ...       ...   \n",
       "Isekai Quartet Relay PV                  0.0    0.0    0.0       0.0   \n",
       "Tanabata no Oto                          0.0    0.0    0.0       0.0   \n",
       "Ake-Vono                                 0.0    0.0    0.0       0.0   \n",
       "Ab-rah                                   0.0    0.0    0.0       0.0   \n",
       "Space Shower Man: Legacy for the Future  0.0    0.0    0.0       0.0   \n",
       "\n",
       "                                         abarenbou  abashiri  abbreviated  \\\n",
       "Title                                                                       \n",
       "Cowboy Bebop                                   0.0       0.0          0.0   \n",
       "Cowboy Bebop: Tengoku no Tobira                0.0       0.0          0.0   \n",
       "Trigun                                         0.0       0.0          0.0   \n",
       "Witch Hunter Robin                             0.0       0.0          0.0   \n",
       "Bouken Ou Beet                                 0.0       0.0          0.0   \n",
       "...                                            ...       ...          ...   \n",
       "Isekai Quartet Relay PV                        0.0       0.0          0.0   \n",
       "Tanabata no Oto                                0.0       0.0          0.0   \n",
       "Ake-Vono                                       0.0       0.0          0.0   \n",
       "Ab-rah                                         0.0       0.0          0.0   \n",
       "Space Shower Man: Legacy for the Future        0.0       0.0          0.0   \n",
       "\n",
       "                                         abc  abduct  abducting  ...  zora  \\\n",
       "Title                                                            ...         \n",
       "Cowboy Bebop                             0.0     0.0        0.0  ...   0.0   \n",
       "Cowboy Bebop: Tengoku no Tobira          0.0     0.0        0.0  ...   0.0   \n",
       "Trigun                                   0.0     0.0        0.0  ...   0.0   \n",
       "Witch Hunter Robin                       0.0     0.0        0.0  ...   0.0   \n",
       "Bouken Ou Beet                           0.0     0.0        0.0  ...   0.0   \n",
       "...                                      ...     ...        ...  ...   ...   \n",
       "Isekai Quartet Relay PV                  0.0     0.0        0.0  ...   0.0   \n",
       "Tanabata no Oto                          0.0     0.0        0.0  ...   0.0   \n",
       "Ake-Vono                                 0.0     0.0        0.0  ...   0.0   \n",
       "Ab-rah                                   0.0     0.0        0.0  ...   0.0   \n",
       "Space Shower Man: Legacy for the Future  0.0     0.0        0.0  ...   0.0   \n",
       "\n",
       "                                         zorbados  zoro  zorori  zukan  \\\n",
       "Title                                                                    \n",
       "Cowboy Bebop                                  0.0   0.0     0.0    0.0   \n",
       "Cowboy Bebop: Tengoku no Tobira               0.0   0.0     0.0    0.0   \n",
       "Trigun                                        0.0   0.0     0.0    0.0   \n",
       "Witch Hunter Robin                            0.0   0.0     0.0    0.0   \n",
       "Bouken Ou Beet                                0.0   0.0     0.0    0.0   \n",
       "...                                           ...   ...     ...    ...   \n",
       "Isekai Quartet Relay PV                       0.0   0.0     0.0    0.0   \n",
       "Tanabata no Oto                               0.0   0.0     0.0    0.0   \n",
       "Ake-Vono                                      0.0   0.0     0.0    0.0   \n",
       "Ab-rah                                        0.0   0.0     0.0    0.0   \n",
       "Space Shower Man: Legacy for the Future       0.0   0.0     0.0    0.0   \n",
       "\n",
       "                                         zukkoke  zure  zvezda  zwei   zz  \n",
       "Title                                                                      \n",
       "Cowboy Bebop                                 0.0   0.0     0.0   0.0  0.0  \n",
       "Cowboy Bebop: Tengoku no Tobira              0.0   0.0     0.0   0.0  0.0  \n",
       "Trigun                                       0.0   0.0     0.0   0.0  0.0  \n",
       "Witch Hunter Robin                           0.0   0.0     0.0   0.0  0.0  \n",
       "Bouken Ou Beet                               0.0   0.0     0.0   0.0  0.0  \n",
       "...                                          ...   ...     ...   ...  ...  \n",
       "Isekai Quartet Relay PV                      0.0   0.0     0.0   0.0  0.0  \n",
       "Tanabata no Oto                              0.0   0.0     0.0   0.0  0.0  \n",
       "Ake-Vono                                     0.0   0.0     0.0   0.0  0.0  \n",
       "Ab-rah                                       0.0   0.0     0.0   0.0  0.0  \n",
       "Space Shower Man: Legacy for the Future      0.0   0.0     0.0   0.0  0.0  \n",
       "\n",
       "[12179 rows x 14608 columns]"
      ]
     },
     "execution_count": 40,
     "metadata": {},
     "output_type": "execute_result"
    }
   ],
   "source": [
    "tfidf_df"
   ]
  },
  {
   "cell_type": "code",
   "execution_count": null,
   "id": "de1173d2",
   "metadata": {
    "papermill": {
     "duration": 0.050905,
     "end_time": "2022-02-14T18:27:16.130327",
     "exception": false,
     "start_time": "2022-02-14T18:27:16.079422",
     "status": "completed"
    },
    "tags": []
   },
   "outputs": [],
   "source": []
  },
  {
   "cell_type": "code",
   "execution_count": 41,
   "id": "3c9ec08e",
   "metadata": {
    "execution": {
     "iopub.execute_input": "2022-02-14T18:27:16.258958Z",
     "iopub.status.busy": "2022-02-14T18:27:16.258000Z",
     "iopub.status.idle": "2022-02-14T18:27:16.260944Z",
     "shell.execute_reply": "2022-02-14T18:27:16.261825Z",
     "shell.execute_reply.started": "2022-02-14T18:20:27.526076Z"
    },
    "papermill": {
     "duration": 0.078491,
     "end_time": "2022-02-14T18:27:16.262057",
     "exception": false,
     "start_time": "2022-02-14T18:27:16.183566",
     "status": "completed"
    },
    "tags": []
   },
   "outputs": [],
   "source": [
    "# from scipy.spatial.distance import pdist,squareform\n",
    "\n",
    "# similarities = pdist(tfidf_df.values,metric='cosine')\n",
    "# square_sim = squareform(similarities)\n",
    "\n",
    "# square_sim"
   ]
  },
  {
   "cell_type": "code",
   "execution_count": 42,
   "id": "de913a2b",
   "metadata": {
    "execution": {
     "iopub.execute_input": "2022-02-14T18:27:16.382756Z",
     "iopub.status.busy": "2022-02-14T18:27:16.382103Z",
     "iopub.status.idle": "2022-02-14T18:27:16.385639Z",
     "shell.execute_reply": "2022-02-14T18:27:16.386137Z",
     "shell.execute_reply.started": "2022-02-14T18:20:27.716576Z"
    },
    "papermill": {
     "duration": 0.06334,
     "end_time": "2022-02-14T18:27:16.386296",
     "exception": false,
     "start_time": "2022-02-14T18:27:16.322956",
     "status": "completed"
    },
    "tags": []
   },
   "outputs": [],
   "source": [
    "# distance_df = pd.DataFrame(square_sim,index=df['Title'],columns=df['Title'])\n",
    "# distance_df"
   ]
  },
  {
   "cell_type": "code",
   "execution_count": null,
   "id": "a7fc6f14",
   "metadata": {
    "papermill": {
     "duration": 0.047874,
     "end_time": "2022-02-14T18:27:16.487220",
     "exception": false,
     "start_time": "2022-02-14T18:27:16.439346",
     "status": "completed"
    },
    "tags": []
   },
   "outputs": [],
   "source": []
  }
 ],
 "metadata": {
  "kernelspec": {
   "display_name": "Python 3",
   "language": "python",
   "name": "python3"
  },
  "language_info": {
   "codemirror_mode": {
    "name": "ipython",
    "version": 3
   },
   "file_extension": ".py",
   "mimetype": "text/x-python",
   "name": "python",
   "nbconvert_exporter": "python",
   "pygments_lexer": "ipython3",
   "version": "3.7.12"
  },
  "papermill": {
   "default_parameters": {},
   "duration": 384.384598,
   "end_time": "2022-02-14T18:27:17.345178",
   "environment_variables": {},
   "exception": null,
   "input_path": "__notebook__.ipynb",
   "output_path": "__notebook__.ipynb",
   "parameters": {},
   "start_time": "2022-02-14T18:20:52.960580",
   "version": "2.3.3"
  }
 },
 "nbformat": 4,
 "nbformat_minor": 5
}
