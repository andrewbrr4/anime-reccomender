{
 "cells": [
  {
   "cell_type": "code",
   "execution_count": 1,
   "id": "eda6bb98",
   "metadata": {
    "_cell_guid": "b1076dfc-b9ad-4769-8c92-a6c4dae69d19",
    "_uuid": "8f2839f25d086af736a60e9eeb907d3b93b6e0e5",
    "execution": {
     "iopub.execute_input": "2022-02-12T00:33:45.971142Z",
     "iopub.status.busy": "2022-02-12T00:33:45.969860Z",
     "iopub.status.idle": "2022-02-12T00:33:45.990786Z",
     "shell.execute_reply": "2022-02-12T00:33:45.990050Z",
     "shell.execute_reply.started": "2022-02-12T00:14:24.408294Z"
    },
    "papermill": {
     "duration": 0.066051,
     "end_time": "2022-02-12T00:33:45.990974",
     "exception": false,
     "start_time": "2022-02-12T00:33:45.924923",
     "status": "completed"
    },
    "tags": []
   },
   "outputs": [
    {
     "name": "stdout",
     "output_type": "stream",
     "text": [
      "/kaggle/input/anime-recommendations-database/Anime_data.csv\n"
     ]
    }
   ],
   "source": [
    "# This Python 3 environment comes with many helpful analytics libraries installed\n",
    "# It is defined by the kaggle/python Docker image: https://github.com/kaggle/docker-python\n",
    "# For example, here's several helpful packages to load\n",
    "\n",
    "import numpy as np # linear algebra\n",
    "import pandas as pd # data processing, CSV file I/O (e.g. pd.read_csv)\n",
    "\n",
    "# Input data files are available in the read-only \"../input/\" directory\n",
    "# For example, running this (by clicking run or pressing Shift+Enter) will list all files under the input directory\n",
    "\n",
    "import os\n",
    "for dirname, _, filenames in os.walk('/kaggle/input'):\n",
    "    for filename in filenames:\n",
    "        print(os.path.join(dirname, filename))\n",
    "\n",
    "# You can write up to 20GB to the current directory (/kaggle/working/) that gets preserved as output when you create a version using \"Save & Run All\" \n",
    "# You can also write temporary files to /kaggle/temp/, but they won't be saved outside of the current session"
   ]
  },
  {
   "cell_type": "code",
   "execution_count": 2,
   "id": "bf1c685e",
   "metadata": {
    "execution": {
     "iopub.execute_input": "2022-02-12T00:33:46.070962Z",
     "iopub.status.busy": "2022-02-12T00:33:46.070233Z",
     "iopub.status.idle": "2022-02-12T00:33:46.458960Z",
     "shell.execute_reply": "2022-02-12T00:33:46.459533Z",
     "shell.execute_reply.started": "2022-02-12T00:14:24.443816Z"
    },
    "papermill": {
     "duration": 0.429636,
     "end_time": "2022-02-12T00:33:46.459779",
     "exception": false,
     "start_time": "2022-02-12T00:33:46.030143",
     "status": "completed"
    },
    "tags": []
   },
   "outputs": [],
   "source": [
    "df = pd.read_csv('/kaggle/input/anime-recommendations-database/Anime_data.csv')"
   ]
  },
  {
   "cell_type": "code",
   "execution_count": 3,
   "id": "1b493c7f",
   "metadata": {
    "execution": {
     "iopub.execute_input": "2022-02-12T00:33:46.546374Z",
     "iopub.status.busy": "2022-02-12T00:33:46.545614Z",
     "iopub.status.idle": "2022-02-12T00:33:46.579143Z",
     "shell.execute_reply": "2022-02-12T00:33:46.578517Z",
     "shell.execute_reply.started": "2022-02-12T00:14:24.709658Z"
    },
    "papermill": {
     "duration": 0.077168,
     "end_time": "2022-02-12T00:33:46.579322",
     "exception": false,
     "start_time": "2022-02-12T00:33:46.502154",
     "status": "completed"
    },
    "tags": []
   },
   "outputs": [
    {
     "data": {
      "text/html": [
       "<div>\n",
       "<style scoped>\n",
       "    .dataframe tbody tr th:only-of-type {\n",
       "        vertical-align: middle;\n",
       "    }\n",
       "\n",
       "    .dataframe tbody tr th {\n",
       "        vertical-align: top;\n",
       "    }\n",
       "\n",
       "    .dataframe thead th {\n",
       "        text-align: right;\n",
       "    }\n",
       "</style>\n",
       "<table border=\"1\" class=\"dataframe\">\n",
       "  <thead>\n",
       "    <tr style=\"text-align: right;\">\n",
       "      <th></th>\n",
       "      <th>Anime_id</th>\n",
       "      <th>Title</th>\n",
       "      <th>Genre</th>\n",
       "      <th>Synopsis</th>\n",
       "      <th>Type</th>\n",
       "      <th>Producer</th>\n",
       "      <th>Studio</th>\n",
       "      <th>Rating</th>\n",
       "      <th>ScoredBy</th>\n",
       "      <th>Popularity</th>\n",
       "      <th>Members</th>\n",
       "      <th>Episodes</th>\n",
       "      <th>Source</th>\n",
       "      <th>Aired</th>\n",
       "      <th>Link</th>\n",
       "    </tr>\n",
       "  </thead>\n",
       "  <tbody>\n",
       "    <tr>\n",
       "      <th>0</th>\n",
       "      <td>1</td>\n",
       "      <td>Cowboy Bebop</td>\n",
       "      <td>['Action', 'Adventure', 'Comedy', 'Drama', 'Sc...</td>\n",
       "      <td>In the year 2071, humanity has colonized sever...</td>\n",
       "      <td>TV</td>\n",
       "      <td>['Bandai Visual']</td>\n",
       "      <td>['Sunrise']</td>\n",
       "      <td>8.81</td>\n",
       "      <td>363889.0</td>\n",
       "      <td>39.0</td>\n",
       "      <td>704490.0</td>\n",
       "      <td>26.0</td>\n",
       "      <td>Original</td>\n",
       "      <td>Apr 3, 1998 to Apr 24, 1999</td>\n",
       "      <td>https://myanimelist.net/anime/1/Cowboy_Bebop</td>\n",
       "    </tr>\n",
       "    <tr>\n",
       "      <th>1</th>\n",
       "      <td>5</td>\n",
       "      <td>Cowboy Bebop: Tengoku no Tobira</td>\n",
       "      <td>['Action', 'Space', 'Drama', 'Mystery', 'Sci-Fi']</td>\n",
       "      <td>Another day, another bounty—such is the life o...</td>\n",
       "      <td>Movie</td>\n",
       "      <td>['Sunrise', 'Bandai Visual']</td>\n",
       "      <td>['Bones']</td>\n",
       "      <td>8.41</td>\n",
       "      <td>111187.0</td>\n",
       "      <td>475.0</td>\n",
       "      <td>179899.0</td>\n",
       "      <td>1.0</td>\n",
       "      <td>Original</td>\n",
       "      <td>Sep 1, 2001</td>\n",
       "      <td>https://myanimelist.net/anime/5/Cowboy_Bebop__...</td>\n",
       "    </tr>\n",
       "    <tr>\n",
       "      <th>2</th>\n",
       "      <td>6</td>\n",
       "      <td>Trigun</td>\n",
       "      <td>['Action', 'Sci-Fi', 'Adventure', 'Comedy', 'D...</td>\n",
       "      <td>Vash the Stampede is the man with a $$60,000,0...</td>\n",
       "      <td>TV</td>\n",
       "      <td>['Victor Entertainment']</td>\n",
       "      <td>['Madhouse']</td>\n",
       "      <td>8.31</td>\n",
       "      <td>197451.0</td>\n",
       "      <td>158.0</td>\n",
       "      <td>372709.0</td>\n",
       "      <td>26.0</td>\n",
       "      <td>Manga</td>\n",
       "      <td>Apr 1, 1998 to Sep 30, 1998</td>\n",
       "      <td>https://myanimelist.net/anime/6/Trigun</td>\n",
       "    </tr>\n",
       "    <tr>\n",
       "      <th>3</th>\n",
       "      <td>7</td>\n",
       "      <td>Witch Hunter Robin</td>\n",
       "      <td>['Action', 'Magic', 'Police', 'Supernatural', ...</td>\n",
       "      <td>Witches are individuals with special powers li...</td>\n",
       "      <td>TV</td>\n",
       "      <td>['Bandai Visual']</td>\n",
       "      <td>['Sunrise']</td>\n",
       "      <td>7.34</td>\n",
       "      <td>31875.0</td>\n",
       "      <td>1278.0</td>\n",
       "      <td>74889.0</td>\n",
       "      <td>26.0</td>\n",
       "      <td>Original</td>\n",
       "      <td>Jul 2, 2002 to Dec 24, 2002</td>\n",
       "      <td>https://myanimelist.net/anime/7/Witch_Hunter_R...</td>\n",
       "    </tr>\n",
       "    <tr>\n",
       "      <th>4</th>\n",
       "      <td>8</td>\n",
       "      <td>Bouken Ou Beet</td>\n",
       "      <td>['Adventure', 'Fantasy', 'Shounen', 'Supernatu...</td>\n",
       "      <td>It is the dark century and the people are suff...</td>\n",
       "      <td>TV</td>\n",
       "      <td>NaN</td>\n",
       "      <td>['Toei Animation']</td>\n",
       "      <td>7.04</td>\n",
       "      <td>4757.0</td>\n",
       "      <td>3968.0</td>\n",
       "      <td>11247.0</td>\n",
       "      <td>52.0</td>\n",
       "      <td>Manga</td>\n",
       "      <td>Sep 30, 2004 to Sep 29, 2005</td>\n",
       "      <td>https://myanimelist.net/anime/8/Bouken_Ou_Beet</td>\n",
       "    </tr>\n",
       "  </tbody>\n",
       "</table>\n",
       "</div>"
      ],
      "text/plain": [
       "   Anime_id                            Title  \\\n",
       "0         1                     Cowboy Bebop   \n",
       "1         5  Cowboy Bebop: Tengoku no Tobira   \n",
       "2         6                           Trigun   \n",
       "3         7               Witch Hunter Robin   \n",
       "4         8                   Bouken Ou Beet   \n",
       "\n",
       "                                               Genre  \\\n",
       "0  ['Action', 'Adventure', 'Comedy', 'Drama', 'Sc...   \n",
       "1  ['Action', 'Space', 'Drama', 'Mystery', 'Sci-Fi']   \n",
       "2  ['Action', 'Sci-Fi', 'Adventure', 'Comedy', 'D...   \n",
       "3  ['Action', 'Magic', 'Police', 'Supernatural', ...   \n",
       "4  ['Adventure', 'Fantasy', 'Shounen', 'Supernatu...   \n",
       "\n",
       "                                            Synopsis   Type  \\\n",
       "0  In the year 2071, humanity has colonized sever...     TV   \n",
       "1  Another day, another bounty—such is the life o...  Movie   \n",
       "2  Vash the Stampede is the man with a $$60,000,0...     TV   \n",
       "3  Witches are individuals with special powers li...     TV   \n",
       "4  It is the dark century and the people are suff...     TV   \n",
       "\n",
       "                       Producer              Studio  Rating  ScoredBy  \\\n",
       "0             ['Bandai Visual']         ['Sunrise']    8.81  363889.0   \n",
       "1  ['Sunrise', 'Bandai Visual']           ['Bones']    8.41  111187.0   \n",
       "2      ['Victor Entertainment']        ['Madhouse']    8.31  197451.0   \n",
       "3             ['Bandai Visual']         ['Sunrise']    7.34   31875.0   \n",
       "4                           NaN  ['Toei Animation']    7.04    4757.0   \n",
       "\n",
       "   Popularity   Members  Episodes    Source                         Aired  \\\n",
       "0        39.0  704490.0      26.0  Original   Apr 3, 1998 to Apr 24, 1999   \n",
       "1       475.0  179899.0       1.0  Original                   Sep 1, 2001   \n",
       "2       158.0  372709.0      26.0     Manga   Apr 1, 1998 to Sep 30, 1998   \n",
       "3      1278.0   74889.0      26.0  Original   Jul 2, 2002 to Dec 24, 2002   \n",
       "4      3968.0   11247.0      52.0     Manga  Sep 30, 2004 to Sep 29, 2005   \n",
       "\n",
       "                                                Link  \n",
       "0       https://myanimelist.net/anime/1/Cowboy_Bebop  \n",
       "1  https://myanimelist.net/anime/5/Cowboy_Bebop__...  \n",
       "2             https://myanimelist.net/anime/6/Trigun  \n",
       "3  https://myanimelist.net/anime/7/Witch_Hunter_R...  \n",
       "4     https://myanimelist.net/anime/8/Bouken_Ou_Beet  "
      ]
     },
     "execution_count": 3,
     "metadata": {},
     "output_type": "execute_result"
    }
   ],
   "source": [
    "df.head()"
   ]
  },
  {
   "cell_type": "markdown",
   "id": "57d31519",
   "metadata": {
    "papermill": {
     "duration": 0.037379,
     "end_time": "2022-02-12T00:33:46.655817",
     "exception": false,
     "start_time": "2022-02-12T00:33:46.618438",
     "status": "completed"
    },
    "tags": []
   },
   "source": [
    "# PART 1 - clean and process data"
   ]
  },
  {
   "cell_type": "code",
   "execution_count": 4,
   "id": "9f371b58",
   "metadata": {
    "execution": {
     "iopub.execute_input": "2022-02-12T00:33:46.739619Z",
     "iopub.status.busy": "2022-02-12T00:33:46.736466Z",
     "iopub.status.idle": "2022-02-12T00:33:46.743587Z",
     "shell.execute_reply": "2022-02-12T00:33:46.742901Z",
     "shell.execute_reply.started": "2022-02-12T00:14:24.743996Z"
    },
    "papermill": {
     "duration": 0.049359,
     "end_time": "2022-02-12T00:33:46.743744",
     "exception": false,
     "start_time": "2022-02-12T00:33:46.694385",
     "status": "completed"
    },
    "tags": []
   },
   "outputs": [
    {
     "data": {
      "text/plain": [
       "(17002, 15)"
      ]
     },
     "execution_count": 4,
     "metadata": {},
     "output_type": "execute_result"
    }
   ],
   "source": [
    "df.shape"
   ]
  },
  {
   "cell_type": "code",
   "execution_count": 5,
   "id": "b1891bf1",
   "metadata": {
    "execution": {
     "iopub.execute_input": "2022-02-12T00:33:46.837699Z",
     "iopub.status.busy": "2022-02-12T00:33:46.836338Z",
     "iopub.status.idle": "2022-02-12T00:33:46.862641Z",
     "shell.execute_reply": "2022-02-12T00:33:46.861988Z",
     "shell.execute_reply.started": "2022-02-12T00:14:24.752650Z"
    },
    "papermill": {
     "duration": 0.079962,
     "end_time": "2022-02-12T00:33:46.862807",
     "exception": false,
     "start_time": "2022-02-12T00:33:46.782845",
     "status": "completed"
    },
    "tags": []
   },
   "outputs": [],
   "source": [
    "df.drop_duplicates(['Anime_id'],inplace=True)\n",
    "df.drop_duplicates(['Title'],inplace=True)"
   ]
  },
  {
   "cell_type": "code",
   "execution_count": 6,
   "id": "f23077e9",
   "metadata": {
    "execution": {
     "iopub.execute_input": "2022-02-12T00:33:46.945871Z",
     "iopub.status.busy": "2022-02-12T00:33:46.945087Z",
     "iopub.status.idle": "2022-02-12T00:33:46.947939Z",
     "shell.execute_reply": "2022-02-12T00:33:46.948467Z",
     "shell.execute_reply.started": "2022-02-12T00:14:24.785507Z"
    },
    "papermill": {
     "duration": 0.047196,
     "end_time": "2022-02-12T00:33:46.948672",
     "exception": false,
     "start_time": "2022-02-12T00:33:46.901476",
     "status": "completed"
    },
    "tags": []
   },
   "outputs": [
    {
     "data": {
      "text/plain": [
       "(16737, 15)"
      ]
     },
     "execution_count": 6,
     "metadata": {},
     "output_type": "execute_result"
    }
   ],
   "source": [
    "df.shape"
   ]
  },
  {
   "cell_type": "code",
   "execution_count": 7,
   "id": "12b4cacd",
   "metadata": {
    "execution": {
     "iopub.execute_input": "2022-02-12T00:33:47.032154Z",
     "iopub.status.busy": "2022-02-12T00:33:47.031282Z",
     "iopub.status.idle": "2022-02-12T00:33:47.041141Z",
     "shell.execute_reply": "2022-02-12T00:33:47.041819Z",
     "shell.execute_reply.started": "2022-02-12T00:14:24.792985Z"
    },
    "papermill": {
     "duration": 0.052479,
     "end_time": "2022-02-12T00:33:47.042046",
     "exception": false,
     "start_time": "2022-02-12T00:33:46.989567",
     "status": "completed"
    },
    "tags": []
   },
   "outputs": [],
   "source": [
    "df.drop(['Anime_id','Link'],axis=1,inplace=True)"
   ]
  },
  {
   "cell_type": "code",
   "execution_count": 8,
   "id": "9a874c1f",
   "metadata": {
    "execution": {
     "iopub.execute_input": "2022-02-12T00:33:47.124192Z",
     "iopub.status.busy": "2022-02-12T00:33:47.123419Z",
     "iopub.status.idle": "2022-02-12T00:33:47.145023Z",
     "shell.execute_reply": "2022-02-12T00:33:47.145642Z",
     "shell.execute_reply.started": "2022-02-12T00:14:24.807891Z"
    },
    "papermill": {
     "duration": 0.065218,
     "end_time": "2022-02-12T00:33:47.145868",
     "exception": false,
     "start_time": "2022-02-12T00:33:47.080650",
     "status": "completed"
    },
    "tags": []
   },
   "outputs": [
    {
     "data": {
      "text/html": [
       "<div>\n",
       "<style scoped>\n",
       "    .dataframe tbody tr th:only-of-type {\n",
       "        vertical-align: middle;\n",
       "    }\n",
       "\n",
       "    .dataframe tbody tr th {\n",
       "        vertical-align: top;\n",
       "    }\n",
       "\n",
       "    .dataframe thead th {\n",
       "        text-align: right;\n",
       "    }\n",
       "</style>\n",
       "<table border=\"1\" class=\"dataframe\">\n",
       "  <thead>\n",
       "    <tr style=\"text-align: right;\">\n",
       "      <th></th>\n",
       "      <th>Title</th>\n",
       "      <th>Genre</th>\n",
       "      <th>Synopsis</th>\n",
       "      <th>Type</th>\n",
       "      <th>Producer</th>\n",
       "      <th>Studio</th>\n",
       "      <th>Rating</th>\n",
       "      <th>ScoredBy</th>\n",
       "      <th>Popularity</th>\n",
       "      <th>Members</th>\n",
       "      <th>Episodes</th>\n",
       "      <th>Source</th>\n",
       "      <th>Aired</th>\n",
       "    </tr>\n",
       "  </thead>\n",
       "  <tbody>\n",
       "    <tr>\n",
       "      <th>0</th>\n",
       "      <td>Cowboy Bebop</td>\n",
       "      <td>['Action', 'Adventure', 'Comedy', 'Drama', 'Sc...</td>\n",
       "      <td>In the year 2071, humanity has colonized sever...</td>\n",
       "      <td>TV</td>\n",
       "      <td>['Bandai Visual']</td>\n",
       "      <td>['Sunrise']</td>\n",
       "      <td>8.81</td>\n",
       "      <td>363889.0</td>\n",
       "      <td>39.0</td>\n",
       "      <td>704490.0</td>\n",
       "      <td>26.0</td>\n",
       "      <td>Original</td>\n",
       "      <td>Apr 3, 1998 to Apr 24, 1999</td>\n",
       "    </tr>\n",
       "    <tr>\n",
       "      <th>1</th>\n",
       "      <td>Cowboy Bebop: Tengoku no Tobira</td>\n",
       "      <td>['Action', 'Space', 'Drama', 'Mystery', 'Sci-Fi']</td>\n",
       "      <td>Another day, another bounty—such is the life o...</td>\n",
       "      <td>Movie</td>\n",
       "      <td>['Sunrise', 'Bandai Visual']</td>\n",
       "      <td>['Bones']</td>\n",
       "      <td>8.41</td>\n",
       "      <td>111187.0</td>\n",
       "      <td>475.0</td>\n",
       "      <td>179899.0</td>\n",
       "      <td>1.0</td>\n",
       "      <td>Original</td>\n",
       "      <td>Sep 1, 2001</td>\n",
       "    </tr>\n",
       "    <tr>\n",
       "      <th>2</th>\n",
       "      <td>Trigun</td>\n",
       "      <td>['Action', 'Sci-Fi', 'Adventure', 'Comedy', 'D...</td>\n",
       "      <td>Vash the Stampede is the man with a $$60,000,0...</td>\n",
       "      <td>TV</td>\n",
       "      <td>['Victor Entertainment']</td>\n",
       "      <td>['Madhouse']</td>\n",
       "      <td>8.31</td>\n",
       "      <td>197451.0</td>\n",
       "      <td>158.0</td>\n",
       "      <td>372709.0</td>\n",
       "      <td>26.0</td>\n",
       "      <td>Manga</td>\n",
       "      <td>Apr 1, 1998 to Sep 30, 1998</td>\n",
       "    </tr>\n",
       "    <tr>\n",
       "      <th>3</th>\n",
       "      <td>Witch Hunter Robin</td>\n",
       "      <td>['Action', 'Magic', 'Police', 'Supernatural', ...</td>\n",
       "      <td>Witches are individuals with special powers li...</td>\n",
       "      <td>TV</td>\n",
       "      <td>['Bandai Visual']</td>\n",
       "      <td>['Sunrise']</td>\n",
       "      <td>7.34</td>\n",
       "      <td>31875.0</td>\n",
       "      <td>1278.0</td>\n",
       "      <td>74889.0</td>\n",
       "      <td>26.0</td>\n",
       "      <td>Original</td>\n",
       "      <td>Jul 2, 2002 to Dec 24, 2002</td>\n",
       "    </tr>\n",
       "    <tr>\n",
       "      <th>4</th>\n",
       "      <td>Bouken Ou Beet</td>\n",
       "      <td>['Adventure', 'Fantasy', 'Shounen', 'Supernatu...</td>\n",
       "      <td>It is the dark century and the people are suff...</td>\n",
       "      <td>TV</td>\n",
       "      <td>NaN</td>\n",
       "      <td>['Toei Animation']</td>\n",
       "      <td>7.04</td>\n",
       "      <td>4757.0</td>\n",
       "      <td>3968.0</td>\n",
       "      <td>11247.0</td>\n",
       "      <td>52.0</td>\n",
       "      <td>Manga</td>\n",
       "      <td>Sep 30, 2004 to Sep 29, 2005</td>\n",
       "    </tr>\n",
       "  </tbody>\n",
       "</table>\n",
       "</div>"
      ],
      "text/plain": [
       "                             Title  \\\n",
       "0                     Cowboy Bebop   \n",
       "1  Cowboy Bebop: Tengoku no Tobira   \n",
       "2                           Trigun   \n",
       "3               Witch Hunter Robin   \n",
       "4                   Bouken Ou Beet   \n",
       "\n",
       "                                               Genre  \\\n",
       "0  ['Action', 'Adventure', 'Comedy', 'Drama', 'Sc...   \n",
       "1  ['Action', 'Space', 'Drama', 'Mystery', 'Sci-Fi']   \n",
       "2  ['Action', 'Sci-Fi', 'Adventure', 'Comedy', 'D...   \n",
       "3  ['Action', 'Magic', 'Police', 'Supernatural', ...   \n",
       "4  ['Adventure', 'Fantasy', 'Shounen', 'Supernatu...   \n",
       "\n",
       "                                            Synopsis   Type  \\\n",
       "0  In the year 2071, humanity has colonized sever...     TV   \n",
       "1  Another day, another bounty—such is the life o...  Movie   \n",
       "2  Vash the Stampede is the man with a $$60,000,0...     TV   \n",
       "3  Witches are individuals with special powers li...     TV   \n",
       "4  It is the dark century and the people are suff...     TV   \n",
       "\n",
       "                       Producer              Studio  Rating  ScoredBy  \\\n",
       "0             ['Bandai Visual']         ['Sunrise']    8.81  363889.0   \n",
       "1  ['Sunrise', 'Bandai Visual']           ['Bones']    8.41  111187.0   \n",
       "2      ['Victor Entertainment']        ['Madhouse']    8.31  197451.0   \n",
       "3             ['Bandai Visual']         ['Sunrise']    7.34   31875.0   \n",
       "4                           NaN  ['Toei Animation']    7.04    4757.0   \n",
       "\n",
       "   Popularity   Members  Episodes    Source                         Aired  \n",
       "0        39.0  704490.0      26.0  Original   Apr 3, 1998 to Apr 24, 1999  \n",
       "1       475.0  179899.0       1.0  Original                   Sep 1, 2001  \n",
       "2       158.0  372709.0      26.0     Manga   Apr 1, 1998 to Sep 30, 1998  \n",
       "3      1278.0   74889.0      26.0  Original   Jul 2, 2002 to Dec 24, 2002  \n",
       "4      3968.0   11247.0      52.0     Manga  Sep 30, 2004 to Sep 29, 2005  "
      ]
     },
     "execution_count": 8,
     "metadata": {},
     "output_type": "execute_result"
    }
   ],
   "source": [
    "df.head()"
   ]
  },
  {
   "cell_type": "code",
   "execution_count": 9,
   "id": "a2e12585",
   "metadata": {
    "execution": {
     "iopub.execute_input": "2022-02-12T00:33:47.229268Z",
     "iopub.status.busy": "2022-02-12T00:33:47.228385Z",
     "iopub.status.idle": "2022-02-12T00:33:47.254497Z",
     "shell.execute_reply": "2022-02-12T00:33:47.253534Z",
     "shell.execute_reply.started": "2022-02-12T00:14:24.832090Z"
    },
    "papermill": {
     "duration": 0.068972,
     "end_time": "2022-02-12T00:33:47.254693",
     "exception": false,
     "start_time": "2022-02-12T00:33:47.185721",
     "status": "completed"
    },
    "tags": []
   },
   "outputs": [
    {
     "data": {
      "text/plain": [
       "Title            0\n",
       "Genre         1961\n",
       "Synopsis      1304\n",
       "Type           591\n",
       "Producer      9161\n",
       "Studio        8885\n",
       "Rating        2396\n",
       "ScoredBy      3591\n",
       "Popularity     542\n",
       "Members          0\n",
       "Episodes      2809\n",
       "Source        1876\n",
       "Aired          542\n",
       "dtype: int64"
      ]
     },
     "execution_count": 9,
     "metadata": {},
     "output_type": "execute_result"
    }
   ],
   "source": [
    "df.isnull().sum()"
   ]
  },
  {
   "cell_type": "code",
   "execution_count": 10,
   "id": "76cc98e4",
   "metadata": {
    "execution": {
     "iopub.execute_input": "2022-02-12T00:33:47.356754Z",
     "iopub.status.busy": "2022-02-12T00:33:47.339000Z",
     "iopub.status.idle": "2022-02-12T00:33:47.363656Z",
     "shell.execute_reply": "2022-02-12T00:33:47.364214Z",
     "shell.execute_reply.started": "2022-02-12T00:14:24.859312Z"
    },
    "papermill": {
     "duration": 0.069691,
     "end_time": "2022-02-12T00:33:47.364437",
     "exception": false,
     "start_time": "2022-02-12T00:33:47.294746",
     "status": "completed"
    },
    "tags": []
   },
   "outputs": [
    {
     "data": {
      "text/plain": [
       "array([0.        , 0.11716556, 0.07791121, 0.03531099, 0.54735018,\n",
       "       0.53085977, 0.14315588, 0.21455458, 0.03238334, 0.        ,\n",
       "       0.16783175, 0.11208699, 0.03238334])"
      ]
     },
     "execution_count": 10,
     "metadata": {},
     "output_type": "execute_result"
    }
   ],
   "source": [
    "df.isnull().sum().values / df.shape[0]"
   ]
  },
  {
   "cell_type": "code",
   "execution_count": 11,
   "id": "322073fb",
   "metadata": {
    "execution": {
     "iopub.execute_input": "2022-02-12T00:33:47.447490Z",
     "iopub.status.busy": "2022-02-12T00:33:47.446795Z",
     "iopub.status.idle": "2022-02-12T00:33:47.453790Z",
     "shell.execute_reply": "2022-02-12T00:33:47.454383Z",
     "shell.execute_reply.started": "2022-02-12T00:14:24.882742Z"
    },
    "papermill": {
     "duration": 0.050792,
     "end_time": "2022-02-12T00:33:47.454593",
     "exception": false,
     "start_time": "2022-02-12T00:33:47.403801",
     "status": "completed"
    },
    "tags": []
   },
   "outputs": [],
   "source": [
    "df.drop(['Producer','Studio'],axis=1,inplace=True)"
   ]
  },
  {
   "cell_type": "code",
   "execution_count": 12,
   "id": "7f448fc5",
   "metadata": {
    "execution": {
     "iopub.execute_input": "2022-02-12T00:33:47.536913Z",
     "iopub.status.busy": "2022-02-12T00:33:47.536241Z",
     "iopub.status.idle": "2022-02-12T00:33:47.544940Z",
     "shell.execute_reply": "2022-02-12T00:33:47.545572Z",
     "shell.execute_reply.started": "2022-02-12T00:14:24.892524Z"
    },
    "papermill": {
     "duration": 0.051737,
     "end_time": "2022-02-12T00:33:47.545792",
     "exception": false,
     "start_time": "2022-02-12T00:33:47.494055",
     "status": "completed"
    },
    "tags": []
   },
   "outputs": [],
   "source": [
    "df.drop(['Aired'],axis=1,inplace=True)"
   ]
  },
  {
   "cell_type": "code",
   "execution_count": 13,
   "id": "c1aa3050",
   "metadata": {
    "execution": {
     "iopub.execute_input": "2022-02-12T00:33:47.629311Z",
     "iopub.status.busy": "2022-02-12T00:33:47.628540Z",
     "iopub.status.idle": "2022-02-12T00:33:47.646139Z",
     "shell.execute_reply": "2022-02-12T00:33:47.646856Z",
     "shell.execute_reply.started": "2022-02-12T00:14:24.906838Z"
    },
    "papermill": {
     "duration": 0.061857,
     "end_time": "2022-02-12T00:33:47.647064",
     "exception": false,
     "start_time": "2022-02-12T00:33:47.585207",
     "status": "completed"
    },
    "tags": []
   },
   "outputs": [
    {
     "data": {
      "text/html": [
       "<div>\n",
       "<style scoped>\n",
       "    .dataframe tbody tr th:only-of-type {\n",
       "        vertical-align: middle;\n",
       "    }\n",
       "\n",
       "    .dataframe tbody tr th {\n",
       "        vertical-align: top;\n",
       "    }\n",
       "\n",
       "    .dataframe thead th {\n",
       "        text-align: right;\n",
       "    }\n",
       "</style>\n",
       "<table border=\"1\" class=\"dataframe\">\n",
       "  <thead>\n",
       "    <tr style=\"text-align: right;\">\n",
       "      <th></th>\n",
       "      <th>Title</th>\n",
       "      <th>Genre</th>\n",
       "      <th>Synopsis</th>\n",
       "      <th>Type</th>\n",
       "      <th>Rating</th>\n",
       "      <th>ScoredBy</th>\n",
       "      <th>Popularity</th>\n",
       "      <th>Members</th>\n",
       "      <th>Episodes</th>\n",
       "      <th>Source</th>\n",
       "    </tr>\n",
       "  </thead>\n",
       "  <tbody>\n",
       "    <tr>\n",
       "      <th>0</th>\n",
       "      <td>Cowboy Bebop</td>\n",
       "      <td>['Action', 'Adventure', 'Comedy', 'Drama', 'Sc...</td>\n",
       "      <td>In the year 2071, humanity has colonized sever...</td>\n",
       "      <td>TV</td>\n",
       "      <td>8.81</td>\n",
       "      <td>363889.0</td>\n",
       "      <td>39.0</td>\n",
       "      <td>704490.0</td>\n",
       "      <td>26.0</td>\n",
       "      <td>Original</td>\n",
       "    </tr>\n",
       "    <tr>\n",
       "      <th>1</th>\n",
       "      <td>Cowboy Bebop: Tengoku no Tobira</td>\n",
       "      <td>['Action', 'Space', 'Drama', 'Mystery', 'Sci-Fi']</td>\n",
       "      <td>Another day, another bounty—such is the life o...</td>\n",
       "      <td>Movie</td>\n",
       "      <td>8.41</td>\n",
       "      <td>111187.0</td>\n",
       "      <td>475.0</td>\n",
       "      <td>179899.0</td>\n",
       "      <td>1.0</td>\n",
       "      <td>Original</td>\n",
       "    </tr>\n",
       "    <tr>\n",
       "      <th>2</th>\n",
       "      <td>Trigun</td>\n",
       "      <td>['Action', 'Sci-Fi', 'Adventure', 'Comedy', 'D...</td>\n",
       "      <td>Vash the Stampede is the man with a $$60,000,0...</td>\n",
       "      <td>TV</td>\n",
       "      <td>8.31</td>\n",
       "      <td>197451.0</td>\n",
       "      <td>158.0</td>\n",
       "      <td>372709.0</td>\n",
       "      <td>26.0</td>\n",
       "      <td>Manga</td>\n",
       "    </tr>\n",
       "    <tr>\n",
       "      <th>3</th>\n",
       "      <td>Witch Hunter Robin</td>\n",
       "      <td>['Action', 'Magic', 'Police', 'Supernatural', ...</td>\n",
       "      <td>Witches are individuals with special powers li...</td>\n",
       "      <td>TV</td>\n",
       "      <td>7.34</td>\n",
       "      <td>31875.0</td>\n",
       "      <td>1278.0</td>\n",
       "      <td>74889.0</td>\n",
       "      <td>26.0</td>\n",
       "      <td>Original</td>\n",
       "    </tr>\n",
       "    <tr>\n",
       "      <th>4</th>\n",
       "      <td>Bouken Ou Beet</td>\n",
       "      <td>['Adventure', 'Fantasy', 'Shounen', 'Supernatu...</td>\n",
       "      <td>It is the dark century and the people are suff...</td>\n",
       "      <td>TV</td>\n",
       "      <td>7.04</td>\n",
       "      <td>4757.0</td>\n",
       "      <td>3968.0</td>\n",
       "      <td>11247.0</td>\n",
       "      <td>52.0</td>\n",
       "      <td>Manga</td>\n",
       "    </tr>\n",
       "  </tbody>\n",
       "</table>\n",
       "</div>"
      ],
      "text/plain": [
       "                             Title  \\\n",
       "0                     Cowboy Bebop   \n",
       "1  Cowboy Bebop: Tengoku no Tobira   \n",
       "2                           Trigun   \n",
       "3               Witch Hunter Robin   \n",
       "4                   Bouken Ou Beet   \n",
       "\n",
       "                                               Genre  \\\n",
       "0  ['Action', 'Adventure', 'Comedy', 'Drama', 'Sc...   \n",
       "1  ['Action', 'Space', 'Drama', 'Mystery', 'Sci-Fi']   \n",
       "2  ['Action', 'Sci-Fi', 'Adventure', 'Comedy', 'D...   \n",
       "3  ['Action', 'Magic', 'Police', 'Supernatural', ...   \n",
       "4  ['Adventure', 'Fantasy', 'Shounen', 'Supernatu...   \n",
       "\n",
       "                                            Synopsis   Type  Rating  ScoredBy  \\\n",
       "0  In the year 2071, humanity has colonized sever...     TV    8.81  363889.0   \n",
       "1  Another day, another bounty—such is the life o...  Movie    8.41  111187.0   \n",
       "2  Vash the Stampede is the man with a $$60,000,0...     TV    8.31  197451.0   \n",
       "3  Witches are individuals with special powers li...     TV    7.34   31875.0   \n",
       "4  It is the dark century and the people are suff...     TV    7.04    4757.0   \n",
       "\n",
       "   Popularity   Members  Episodes    Source  \n",
       "0        39.0  704490.0      26.0  Original  \n",
       "1       475.0  179899.0       1.0  Original  \n",
       "2       158.0  372709.0      26.0     Manga  \n",
       "3      1278.0   74889.0      26.0  Original  \n",
       "4      3968.0   11247.0      52.0     Manga  "
      ]
     },
     "execution_count": 13,
     "metadata": {},
     "output_type": "execute_result"
    }
   ],
   "source": [
    "df.head()"
   ]
  },
  {
   "cell_type": "code",
   "execution_count": 14,
   "id": "9e06e315",
   "metadata": {
    "execution": {
     "iopub.execute_input": "2022-02-12T00:33:47.733319Z",
     "iopub.status.busy": "2022-02-12T00:33:47.732508Z",
     "iopub.status.idle": "2022-02-12T00:33:47.760213Z",
     "shell.execute_reply": "2022-02-12T00:33:47.759529Z",
     "shell.execute_reply.started": "2022-02-12T00:14:24.935067Z"
    },
    "papermill": {
     "duration": 0.073381,
     "end_time": "2022-02-12T00:33:47.760391",
     "exception": false,
     "start_time": "2022-02-12T00:33:47.687010",
     "status": "completed"
    },
    "tags": []
   },
   "outputs": [],
   "source": [
    "df = df.join(pd.get_dummies(df['Source'],prefix='src',drop_first=True))\n",
    "df.drop('Source',axis=1,inplace=True)"
   ]
  },
  {
   "cell_type": "code",
   "execution_count": 15,
   "id": "2b4d97fc",
   "metadata": {
    "execution": {
     "iopub.execute_input": "2022-02-12T00:33:47.850645Z",
     "iopub.status.busy": "2022-02-12T00:33:47.849583Z",
     "iopub.status.idle": "2022-02-12T00:33:47.860187Z",
     "shell.execute_reply": "2022-02-12T00:33:47.860694Z",
     "shell.execute_reply.started": "2022-02-12T00:14:24.962007Z"
    },
    "papermill": {
     "duration": 0.060629,
     "end_time": "2022-02-12T00:33:47.860925",
     "exception": false,
     "start_time": "2022-02-12T00:33:47.800296",
     "status": "completed"
    },
    "tags": []
   },
   "outputs": [],
   "source": [
    "df = df.join(pd.get_dummies(df['Type'],prefix='type',drop_first=True))\n",
    "df.drop('Type',axis=1,inplace=True)"
   ]
  },
  {
   "cell_type": "code",
   "execution_count": 16,
   "id": "af5ea89d",
   "metadata": {
    "execution": {
     "iopub.execute_input": "2022-02-12T00:33:47.945463Z",
     "iopub.status.busy": "2022-02-12T00:33:47.944375Z",
     "iopub.status.idle": "2022-02-12T00:33:47.969373Z",
     "shell.execute_reply": "2022-02-12T00:33:47.969941Z",
     "shell.execute_reply.started": "2022-02-12T00:14:24.979846Z"
    },
    "papermill": {
     "duration": 0.069435,
     "end_time": "2022-02-12T00:33:47.970153",
     "exception": false,
     "start_time": "2022-02-12T00:33:47.900718",
     "status": "completed"
    },
    "tags": []
   },
   "outputs": [
    {
     "data": {
      "text/html": [
       "<div>\n",
       "<style scoped>\n",
       "    .dataframe tbody tr th:only-of-type {\n",
       "        vertical-align: middle;\n",
       "    }\n",
       "\n",
       "    .dataframe tbody tr th {\n",
       "        vertical-align: top;\n",
       "    }\n",
       "\n",
       "    .dataframe thead th {\n",
       "        text-align: right;\n",
       "    }\n",
       "</style>\n",
       "<table border=\"1\" class=\"dataframe\">\n",
       "  <thead>\n",
       "    <tr style=\"text-align: right;\">\n",
       "      <th></th>\n",
       "      <th>Title</th>\n",
       "      <th>Genre</th>\n",
       "      <th>Synopsis</th>\n",
       "      <th>Rating</th>\n",
       "      <th>ScoredBy</th>\n",
       "      <th>Popularity</th>\n",
       "      <th>Members</th>\n",
       "      <th>Episodes</th>\n",
       "      <th>src_Book</th>\n",
       "      <th>src_Card game</th>\n",
       "      <th>...</th>\n",
       "      <th>src_Radio</th>\n",
       "      <th>src_Unknown</th>\n",
       "      <th>src_Visual novel</th>\n",
       "      <th>src_Web manga</th>\n",
       "      <th>type_Music</th>\n",
       "      <th>type_ONA</th>\n",
       "      <th>type_OVA</th>\n",
       "      <th>type_Special</th>\n",
       "      <th>type_TV</th>\n",
       "      <th>type_Unknown</th>\n",
       "    </tr>\n",
       "  </thead>\n",
       "  <tbody>\n",
       "    <tr>\n",
       "      <th>0</th>\n",
       "      <td>Cowboy Bebop</td>\n",
       "      <td>['Action', 'Adventure', 'Comedy', 'Drama', 'Sc...</td>\n",
       "      <td>In the year 2071, humanity has colonized sever...</td>\n",
       "      <td>8.81</td>\n",
       "      <td>363889.0</td>\n",
       "      <td>39.0</td>\n",
       "      <td>704490.0</td>\n",
       "      <td>26.0</td>\n",
       "      <td>0</td>\n",
       "      <td>0</td>\n",
       "      <td>...</td>\n",
       "      <td>0</td>\n",
       "      <td>0</td>\n",
       "      <td>0</td>\n",
       "      <td>0</td>\n",
       "      <td>0</td>\n",
       "      <td>0</td>\n",
       "      <td>0</td>\n",
       "      <td>0</td>\n",
       "      <td>1</td>\n",
       "      <td>0</td>\n",
       "    </tr>\n",
       "    <tr>\n",
       "      <th>1</th>\n",
       "      <td>Cowboy Bebop: Tengoku no Tobira</td>\n",
       "      <td>['Action', 'Space', 'Drama', 'Mystery', 'Sci-Fi']</td>\n",
       "      <td>Another day, another bounty—such is the life o...</td>\n",
       "      <td>8.41</td>\n",
       "      <td>111187.0</td>\n",
       "      <td>475.0</td>\n",
       "      <td>179899.0</td>\n",
       "      <td>1.0</td>\n",
       "      <td>0</td>\n",
       "      <td>0</td>\n",
       "      <td>...</td>\n",
       "      <td>0</td>\n",
       "      <td>0</td>\n",
       "      <td>0</td>\n",
       "      <td>0</td>\n",
       "      <td>0</td>\n",
       "      <td>0</td>\n",
       "      <td>0</td>\n",
       "      <td>0</td>\n",
       "      <td>0</td>\n",
       "      <td>0</td>\n",
       "    </tr>\n",
       "    <tr>\n",
       "      <th>2</th>\n",
       "      <td>Trigun</td>\n",
       "      <td>['Action', 'Sci-Fi', 'Adventure', 'Comedy', 'D...</td>\n",
       "      <td>Vash the Stampede is the man with a $$60,000,0...</td>\n",
       "      <td>8.31</td>\n",
       "      <td>197451.0</td>\n",
       "      <td>158.0</td>\n",
       "      <td>372709.0</td>\n",
       "      <td>26.0</td>\n",
       "      <td>0</td>\n",
       "      <td>0</td>\n",
       "      <td>...</td>\n",
       "      <td>0</td>\n",
       "      <td>0</td>\n",
       "      <td>0</td>\n",
       "      <td>0</td>\n",
       "      <td>0</td>\n",
       "      <td>0</td>\n",
       "      <td>0</td>\n",
       "      <td>0</td>\n",
       "      <td>1</td>\n",
       "      <td>0</td>\n",
       "    </tr>\n",
       "    <tr>\n",
       "      <th>3</th>\n",
       "      <td>Witch Hunter Robin</td>\n",
       "      <td>['Action', 'Magic', 'Police', 'Supernatural', ...</td>\n",
       "      <td>Witches are individuals with special powers li...</td>\n",
       "      <td>7.34</td>\n",
       "      <td>31875.0</td>\n",
       "      <td>1278.0</td>\n",
       "      <td>74889.0</td>\n",
       "      <td>26.0</td>\n",
       "      <td>0</td>\n",
       "      <td>0</td>\n",
       "      <td>...</td>\n",
       "      <td>0</td>\n",
       "      <td>0</td>\n",
       "      <td>0</td>\n",
       "      <td>0</td>\n",
       "      <td>0</td>\n",
       "      <td>0</td>\n",
       "      <td>0</td>\n",
       "      <td>0</td>\n",
       "      <td>1</td>\n",
       "      <td>0</td>\n",
       "    </tr>\n",
       "    <tr>\n",
       "      <th>4</th>\n",
       "      <td>Bouken Ou Beet</td>\n",
       "      <td>['Adventure', 'Fantasy', 'Shounen', 'Supernatu...</td>\n",
       "      <td>It is the dark century and the people are suff...</td>\n",
       "      <td>7.04</td>\n",
       "      <td>4757.0</td>\n",
       "      <td>3968.0</td>\n",
       "      <td>11247.0</td>\n",
       "      <td>52.0</td>\n",
       "      <td>0</td>\n",
       "      <td>0</td>\n",
       "      <td>...</td>\n",
       "      <td>0</td>\n",
       "      <td>0</td>\n",
       "      <td>0</td>\n",
       "      <td>0</td>\n",
       "      <td>0</td>\n",
       "      <td>0</td>\n",
       "      <td>0</td>\n",
       "      <td>0</td>\n",
       "      <td>1</td>\n",
       "      <td>0</td>\n",
       "    </tr>\n",
       "  </tbody>\n",
       "</table>\n",
       "<p>5 rows × 29 columns</p>\n",
       "</div>"
      ],
      "text/plain": [
       "                             Title  \\\n",
       "0                     Cowboy Bebop   \n",
       "1  Cowboy Bebop: Tengoku no Tobira   \n",
       "2                           Trigun   \n",
       "3               Witch Hunter Robin   \n",
       "4                   Bouken Ou Beet   \n",
       "\n",
       "                                               Genre  \\\n",
       "0  ['Action', 'Adventure', 'Comedy', 'Drama', 'Sc...   \n",
       "1  ['Action', 'Space', 'Drama', 'Mystery', 'Sci-Fi']   \n",
       "2  ['Action', 'Sci-Fi', 'Adventure', 'Comedy', 'D...   \n",
       "3  ['Action', 'Magic', 'Police', 'Supernatural', ...   \n",
       "4  ['Adventure', 'Fantasy', 'Shounen', 'Supernatu...   \n",
       "\n",
       "                                            Synopsis  Rating  ScoredBy  \\\n",
       "0  In the year 2071, humanity has colonized sever...    8.81  363889.0   \n",
       "1  Another day, another bounty—such is the life o...    8.41  111187.0   \n",
       "2  Vash the Stampede is the man with a $$60,000,0...    8.31  197451.0   \n",
       "3  Witches are individuals with special powers li...    7.34   31875.0   \n",
       "4  It is the dark century and the people are suff...    7.04    4757.0   \n",
       "\n",
       "   Popularity   Members  Episodes  src_Book  src_Card game  ...  src_Radio  \\\n",
       "0        39.0  704490.0      26.0         0              0  ...          0   \n",
       "1       475.0  179899.0       1.0         0              0  ...          0   \n",
       "2       158.0  372709.0      26.0         0              0  ...          0   \n",
       "3      1278.0   74889.0      26.0         0              0  ...          0   \n",
       "4      3968.0   11247.0      52.0         0              0  ...          0   \n",
       "\n",
       "   src_Unknown  src_Visual novel  src_Web manga  type_Music  type_ONA  \\\n",
       "0            0                 0              0           0         0   \n",
       "1            0                 0              0           0         0   \n",
       "2            0                 0              0           0         0   \n",
       "3            0                 0              0           0         0   \n",
       "4            0                 0              0           0         0   \n",
       "\n",
       "   type_OVA  type_Special  type_TV  type_Unknown  \n",
       "0         0             0        1             0  \n",
       "1         0             0        0             0  \n",
       "2         0             0        1             0  \n",
       "3         0             0        1             0  \n",
       "4         0             0        1             0  \n",
       "\n",
       "[5 rows x 29 columns]"
      ]
     },
     "execution_count": 16,
     "metadata": {},
     "output_type": "execute_result"
    }
   ],
   "source": [
    "df.head()"
   ]
  },
  {
   "cell_type": "code",
   "execution_count": 17,
   "id": "f9753c73",
   "metadata": {
    "execution": {
     "iopub.execute_input": "2022-02-12T00:33:48.057515Z",
     "iopub.status.busy": "2022-02-12T00:33:48.056473Z",
     "iopub.status.idle": "2022-02-12T00:33:48.065008Z",
     "shell.execute_reply": "2022-02-12T00:33:48.065562Z",
     "shell.execute_reply.started": "2022-02-12T00:14:25.008774Z"
    },
    "papermill": {
     "duration": 0.054882,
     "end_time": "2022-02-12T00:33:48.065780",
     "exception": false,
     "start_time": "2022-02-12T00:33:48.010898",
     "status": "completed"
    },
    "tags": []
   },
   "outputs": [
    {
     "data": {
      "text/plain": [
       "0        ['Action', 'Adventure', 'Comedy', 'Drama', 'Sc...\n",
       "1        ['Action', 'Space', 'Drama', 'Mystery', 'Sci-Fi']\n",
       "2        ['Action', 'Sci-Fi', 'Adventure', 'Comedy', 'D...\n",
       "3        ['Action', 'Magic', 'Police', 'Supernatural', ...\n",
       "4        ['Adventure', 'Fantasy', 'Shounen', 'Supernatu...\n",
       "                               ...                        \n",
       "16997                                                  NaN\n",
       "16998                                                  NaN\n",
       "16999                                                  NaN\n",
       "17000                                                  NaN\n",
       "17001                                                  NaN\n",
       "Name: Genre, Length: 16737, dtype: object"
      ]
     },
     "execution_count": 17,
     "metadata": {},
     "output_type": "execute_result"
    }
   ],
   "source": [
    "df['Genre']"
   ]
  },
  {
   "cell_type": "code",
   "execution_count": 18,
   "id": "563dd380",
   "metadata": {
    "execution": {
     "iopub.execute_input": "2022-02-12T00:33:48.154138Z",
     "iopub.status.busy": "2022-02-12T00:33:48.153026Z",
     "iopub.status.idle": "2022-02-12T00:33:48.175492Z",
     "shell.execute_reply": "2022-02-12T00:33:48.175977Z",
     "shell.execute_reply.started": "2022-02-12T00:14:25.019369Z"
    },
    "papermill": {
     "duration": 0.069369,
     "end_time": "2022-02-12T00:33:48.176205",
     "exception": false,
     "start_time": "2022-02-12T00:33:48.106836",
     "status": "completed"
    },
    "tags": []
   },
   "outputs": [
    {
     "data": {
      "text/plain": [
       "0.27233076417518076"
      ]
     },
     "execution_count": 18,
     "metadata": {},
     "output_type": "execute_result"
    }
   ],
   "source": [
    "(df.shape[0] - df.dropna().shape[0]) / df.shape[0]"
   ]
  },
  {
   "cell_type": "code",
   "execution_count": 19,
   "id": "584e4842",
   "metadata": {
    "execution": {
     "iopub.execute_input": "2022-02-12T00:33:48.272556Z",
     "iopub.status.busy": "2022-02-12T00:33:48.271592Z",
     "iopub.status.idle": "2022-02-12T00:33:48.282958Z",
     "shell.execute_reply": "2022-02-12T00:33:48.282313Z",
     "shell.execute_reply.started": "2022-02-12T00:14:25.042346Z"
    },
    "papermill": {
     "duration": 0.065782,
     "end_time": "2022-02-12T00:33:48.283120",
     "exception": false,
     "start_time": "2022-02-12T00:33:48.217338",
     "status": "completed"
    },
    "tags": []
   },
   "outputs": [],
   "source": [
    "df.dropna(inplace=True)"
   ]
  },
  {
   "cell_type": "code",
   "execution_count": 20,
   "id": "dd0896ae",
   "metadata": {
    "execution": {
     "iopub.execute_input": "2022-02-12T00:33:48.370712Z",
     "iopub.status.busy": "2022-02-12T00:33:48.369962Z",
     "iopub.status.idle": "2022-02-12T00:33:48.377706Z",
     "shell.execute_reply": "2022-02-12T00:33:48.378199Z",
     "shell.execute_reply.started": "2022-02-12T00:14:25.061710Z"
    },
    "papermill": {
     "duration": 0.053708,
     "end_time": "2022-02-12T00:33:48.378469",
     "exception": false,
     "start_time": "2022-02-12T00:33:48.324761",
     "status": "completed"
    },
    "tags": []
   },
   "outputs": [
    {
     "data": {
      "text/plain": [
       "Title                 object\n",
       "Genre                 object\n",
       "Synopsis              object\n",
       "Rating               float64\n",
       "ScoredBy             float64\n",
       "Popularity           float64\n",
       "Members              float64\n",
       "Episodes             float64\n",
       "src_Book               uint8\n",
       "src_Card game          uint8\n",
       "src_Digital manga      uint8\n",
       "src_Game               uint8\n",
       "src_Light novel        uint8\n",
       "src_Manga              uint8\n",
       "src_Music              uint8\n",
       "src_Novel              uint8\n",
       "src_Original           uint8\n",
       "src_Other              uint8\n",
       "src_Picture book       uint8\n",
       "src_Radio              uint8\n",
       "src_Unknown            uint8\n",
       "src_Visual novel       uint8\n",
       "src_Web manga          uint8\n",
       "type_Music             uint8\n",
       "type_ONA               uint8\n",
       "type_OVA               uint8\n",
       "type_Special           uint8\n",
       "type_TV                uint8\n",
       "type_Unknown           uint8\n",
       "dtype: object"
      ]
     },
     "execution_count": 20,
     "metadata": {},
     "output_type": "execute_result"
    }
   ],
   "source": [
    "df.dtypes"
   ]
  },
  {
   "cell_type": "code",
   "execution_count": 21,
   "id": "db18e330",
   "metadata": {
    "execution": {
     "iopub.execute_input": "2022-02-12T00:33:48.466463Z",
     "iopub.status.busy": "2022-02-12T00:33:48.465736Z",
     "iopub.status.idle": "2022-02-12T00:33:48.470532Z",
     "shell.execute_reply": "2022-02-12T00:33:48.471067Z",
     "shell.execute_reply.started": "2022-02-12T00:14:25.074254Z"
    },
    "papermill": {
     "duration": 0.050577,
     "end_time": "2022-02-12T00:33:48.471385",
     "exception": false,
     "start_time": "2022-02-12T00:33:48.420808",
     "status": "completed"
    },
    "tags": []
   },
   "outputs": [],
   "source": [
    "import ast\n",
    "\n",
    "def parse_list(x):\n",
    "    x = ast.literal_eval(x)\n",
    "    x = [n.strip() for n in x]\n",
    "    return(x)"
   ]
  },
  {
   "cell_type": "code",
   "execution_count": 22,
   "id": "6bb7625f",
   "metadata": {
    "execution": {
     "iopub.execute_input": "2022-02-12T00:33:48.605075Z",
     "iopub.status.busy": "2022-02-12T00:33:48.584154Z",
     "iopub.status.idle": "2022-02-12T00:33:48.881182Z",
     "shell.execute_reply": "2022-02-12T00:33:48.880532Z",
     "shell.execute_reply.started": "2022-02-12T00:14:25.083391Z"
    },
    "papermill": {
     "duration": 0.366274,
     "end_time": "2022-02-12T00:33:48.881355",
     "exception": false,
     "start_time": "2022-02-12T00:33:48.515081",
     "status": "completed"
    },
    "tags": []
   },
   "outputs": [],
   "source": [
    "df['Genre'] = df['Genre'].apply(parse_list)"
   ]
  },
  {
   "cell_type": "code",
   "execution_count": 23,
   "id": "4bf79e9d",
   "metadata": {
    "execution": {
     "iopub.execute_input": "2022-02-12T00:33:48.982123Z",
     "iopub.status.busy": "2022-02-12T00:33:48.973417Z",
     "iopub.status.idle": "2022-02-12T00:33:49.100116Z",
     "shell.execute_reply": "2022-02-12T00:33:49.101090Z",
     "shell.execute_reply.started": "2022-02-12T00:14:25.352446Z"
    },
    "papermill": {
     "duration": 0.178524,
     "end_time": "2022-02-12T00:33:49.101385",
     "exception": false,
     "start_time": "2022-02-12T00:33:48.922861",
     "status": "completed"
    },
    "tags": []
   },
   "outputs": [
    {
     "name": "stderr",
     "output_type": "stream",
     "text": [
      "/opt/conda/lib/python3.7/site-packages/ipykernel_launcher.py:1: FutureWarning: Using the level keyword in DataFrame and Series aggregations is deprecated and will be removed in a future version. Use groupby instead. df.sum(level=1) should use df.groupby(level=1).sum().\n",
      "  \"\"\"Entry point for launching an IPython kernel.\n"
     ]
    }
   ],
   "source": [
    "df = df.join(pd.get_dummies(df['Genre'].explode(),prefix='genre',drop_first=True).sum(level=0))\n",
    "df.drop('Genre',axis=1,inplace=True)"
   ]
  },
  {
   "cell_type": "code",
   "execution_count": 24,
   "id": "830e9496",
   "metadata": {
    "execution": {
     "iopub.execute_input": "2022-02-12T00:33:49.200755Z",
     "iopub.status.busy": "2022-02-12T00:33:49.198537Z",
     "iopub.status.idle": "2022-02-12T00:33:49.229159Z",
     "shell.execute_reply": "2022-02-12T00:33:49.230012Z",
     "shell.execute_reply.started": "2022-02-12T00:14:25.440502Z"
    },
    "papermill": {
     "duration": 0.083978,
     "end_time": "2022-02-12T00:33:49.230333",
     "exception": false,
     "start_time": "2022-02-12T00:33:49.146355",
     "status": "completed"
    },
    "tags": []
   },
   "outputs": [
    {
     "data": {
      "text/html": [
       "<div>\n",
       "<style scoped>\n",
       "    .dataframe tbody tr th:only-of-type {\n",
       "        vertical-align: middle;\n",
       "    }\n",
       "\n",
       "    .dataframe tbody tr th {\n",
       "        vertical-align: top;\n",
       "    }\n",
       "\n",
       "    .dataframe thead th {\n",
       "        text-align: right;\n",
       "    }\n",
       "</style>\n",
       "<table border=\"1\" class=\"dataframe\">\n",
       "  <thead>\n",
       "    <tr style=\"text-align: right;\">\n",
       "      <th></th>\n",
       "      <th>Title</th>\n",
       "      <th>Synopsis</th>\n",
       "      <th>Rating</th>\n",
       "      <th>ScoredBy</th>\n",
       "      <th>Popularity</th>\n",
       "      <th>Members</th>\n",
       "      <th>Episodes</th>\n",
       "      <th>src_Book</th>\n",
       "      <th>src_Card game</th>\n",
       "      <th>src_Digital manga</th>\n",
       "      <th>...</th>\n",
       "      <th>genre_Shounen Ai</th>\n",
       "      <th>genre_Slice of Life</th>\n",
       "      <th>genre_Space</th>\n",
       "      <th>genre_Sports</th>\n",
       "      <th>genre_Super Power</th>\n",
       "      <th>genre_Supernatural</th>\n",
       "      <th>genre_Thriller</th>\n",
       "      <th>genre_Vampire</th>\n",
       "      <th>genre_Yaoi</th>\n",
       "      <th>genre_Yuri</th>\n",
       "    </tr>\n",
       "  </thead>\n",
       "  <tbody>\n",
       "    <tr>\n",
       "      <th>0</th>\n",
       "      <td>Cowboy Bebop</td>\n",
       "      <td>In the year 2071, humanity has colonized sever...</td>\n",
       "      <td>8.81</td>\n",
       "      <td>363889.0</td>\n",
       "      <td>39.0</td>\n",
       "      <td>704490.0</td>\n",
       "      <td>26.0</td>\n",
       "      <td>0</td>\n",
       "      <td>0</td>\n",
       "      <td>0</td>\n",
       "      <td>...</td>\n",
       "      <td>0</td>\n",
       "      <td>0</td>\n",
       "      <td>1</td>\n",
       "      <td>0</td>\n",
       "      <td>0</td>\n",
       "      <td>0</td>\n",
       "      <td>0</td>\n",
       "      <td>0</td>\n",
       "      <td>0</td>\n",
       "      <td>0</td>\n",
       "    </tr>\n",
       "    <tr>\n",
       "      <th>1</th>\n",
       "      <td>Cowboy Bebop: Tengoku no Tobira</td>\n",
       "      <td>Another day, another bounty—such is the life o...</td>\n",
       "      <td>8.41</td>\n",
       "      <td>111187.0</td>\n",
       "      <td>475.0</td>\n",
       "      <td>179899.0</td>\n",
       "      <td>1.0</td>\n",
       "      <td>0</td>\n",
       "      <td>0</td>\n",
       "      <td>0</td>\n",
       "      <td>...</td>\n",
       "      <td>0</td>\n",
       "      <td>0</td>\n",
       "      <td>1</td>\n",
       "      <td>0</td>\n",
       "      <td>0</td>\n",
       "      <td>0</td>\n",
       "      <td>0</td>\n",
       "      <td>0</td>\n",
       "      <td>0</td>\n",
       "      <td>0</td>\n",
       "    </tr>\n",
       "    <tr>\n",
       "      <th>2</th>\n",
       "      <td>Trigun</td>\n",
       "      <td>Vash the Stampede is the man with a $$60,000,0...</td>\n",
       "      <td>8.31</td>\n",
       "      <td>197451.0</td>\n",
       "      <td>158.0</td>\n",
       "      <td>372709.0</td>\n",
       "      <td>26.0</td>\n",
       "      <td>0</td>\n",
       "      <td>0</td>\n",
       "      <td>0</td>\n",
       "      <td>...</td>\n",
       "      <td>0</td>\n",
       "      <td>0</td>\n",
       "      <td>0</td>\n",
       "      <td>0</td>\n",
       "      <td>0</td>\n",
       "      <td>0</td>\n",
       "      <td>0</td>\n",
       "      <td>0</td>\n",
       "      <td>0</td>\n",
       "      <td>0</td>\n",
       "    </tr>\n",
       "    <tr>\n",
       "      <th>3</th>\n",
       "      <td>Witch Hunter Robin</td>\n",
       "      <td>Witches are individuals with special powers li...</td>\n",
       "      <td>7.34</td>\n",
       "      <td>31875.0</td>\n",
       "      <td>1278.0</td>\n",
       "      <td>74889.0</td>\n",
       "      <td>26.0</td>\n",
       "      <td>0</td>\n",
       "      <td>0</td>\n",
       "      <td>0</td>\n",
       "      <td>...</td>\n",
       "      <td>0</td>\n",
       "      <td>0</td>\n",
       "      <td>0</td>\n",
       "      <td>0</td>\n",
       "      <td>0</td>\n",
       "      <td>1</td>\n",
       "      <td>0</td>\n",
       "      <td>0</td>\n",
       "      <td>0</td>\n",
       "      <td>0</td>\n",
       "    </tr>\n",
       "    <tr>\n",
       "      <th>4</th>\n",
       "      <td>Bouken Ou Beet</td>\n",
       "      <td>It is the dark century and the people are suff...</td>\n",
       "      <td>7.04</td>\n",
       "      <td>4757.0</td>\n",
       "      <td>3968.0</td>\n",
       "      <td>11247.0</td>\n",
       "      <td>52.0</td>\n",
       "      <td>0</td>\n",
       "      <td>0</td>\n",
       "      <td>0</td>\n",
       "      <td>...</td>\n",
       "      <td>0</td>\n",
       "      <td>0</td>\n",
       "      <td>0</td>\n",
       "      <td>0</td>\n",
       "      <td>0</td>\n",
       "      <td>1</td>\n",
       "      <td>0</td>\n",
       "      <td>0</td>\n",
       "      <td>0</td>\n",
       "      <td>0</td>\n",
       "    </tr>\n",
       "  </tbody>\n",
       "</table>\n",
       "<p>5 rows × 70 columns</p>\n",
       "</div>"
      ],
      "text/plain": [
       "                             Title  \\\n",
       "0                     Cowboy Bebop   \n",
       "1  Cowboy Bebop: Tengoku no Tobira   \n",
       "2                           Trigun   \n",
       "3               Witch Hunter Robin   \n",
       "4                   Bouken Ou Beet   \n",
       "\n",
       "                                            Synopsis  Rating  ScoredBy  \\\n",
       "0  In the year 2071, humanity has colonized sever...    8.81  363889.0   \n",
       "1  Another day, another bounty—such is the life o...    8.41  111187.0   \n",
       "2  Vash the Stampede is the man with a $$60,000,0...    8.31  197451.0   \n",
       "3  Witches are individuals with special powers li...    7.34   31875.0   \n",
       "4  It is the dark century and the people are suff...    7.04    4757.0   \n",
       "\n",
       "   Popularity   Members  Episodes  src_Book  src_Card game  src_Digital manga  \\\n",
       "0        39.0  704490.0      26.0         0              0                  0   \n",
       "1       475.0  179899.0       1.0         0              0                  0   \n",
       "2       158.0  372709.0      26.0         0              0                  0   \n",
       "3      1278.0   74889.0      26.0         0              0                  0   \n",
       "4      3968.0   11247.0      52.0         0              0                  0   \n",
       "\n",
       "   ...  genre_Shounen Ai  genre_Slice of Life  genre_Space  genre_Sports  \\\n",
       "0  ...                 0                    0            1             0   \n",
       "1  ...                 0                    0            1             0   \n",
       "2  ...                 0                    0            0             0   \n",
       "3  ...                 0                    0            0             0   \n",
       "4  ...                 0                    0            0             0   \n",
       "\n",
       "   genre_Super Power  genre_Supernatural  genre_Thriller  genre_Vampire  \\\n",
       "0                  0                   0               0              0   \n",
       "1                  0                   0               0              0   \n",
       "2                  0                   0               0              0   \n",
       "3                  0                   1               0              0   \n",
       "4                  0                   1               0              0   \n",
       "\n",
       "   genre_Yaoi  genre_Yuri  \n",
       "0           0           0  \n",
       "1           0           0  \n",
       "2           0           0  \n",
       "3           0           0  \n",
       "4           0           0  \n",
       "\n",
       "[5 rows x 70 columns]"
      ]
     },
     "execution_count": 24,
     "metadata": {},
     "output_type": "execute_result"
    }
   ],
   "source": [
    "df.head()"
   ]
  },
  {
   "cell_type": "code",
   "execution_count": 25,
   "id": "bfda0b1e",
   "metadata": {
    "execution": {
     "iopub.execute_input": "2022-02-12T00:33:49.333737Z",
     "iopub.status.busy": "2022-02-12T00:33:49.329012Z",
     "iopub.status.idle": "2022-02-12T00:33:49.341545Z",
     "shell.execute_reply": "2022-02-12T00:33:49.340565Z",
     "shell.execute_reply.started": "2022-02-12T00:14:25.468634Z"
    },
    "papermill": {
     "duration": 0.064354,
     "end_time": "2022-02-12T00:33:49.341783",
     "exception": false,
     "start_time": "2022-02-12T00:33:49.277429",
     "status": "completed"
    },
    "tags": []
   },
   "outputs": [],
   "source": [
    "X = df.drop(['Title','Rating'],axis=1)\n",
    "y = df['Rating']"
   ]
  },
  {
   "cell_type": "code",
   "execution_count": 26,
   "id": "d0687edb",
   "metadata": {
    "execution": {
     "iopub.execute_input": "2022-02-12T00:33:49.438380Z",
     "iopub.status.busy": "2022-02-12T00:33:49.437210Z",
     "iopub.status.idle": "2022-02-12T00:33:50.490967Z",
     "shell.execute_reply": "2022-02-12T00:33:50.490076Z",
     "shell.execute_reply.started": "2022-02-12T00:14:25.477798Z"
    },
    "papermill": {
     "duration": 1.102229,
     "end_time": "2022-02-12T00:33:50.491154",
     "exception": false,
     "start_time": "2022-02-12T00:33:49.388925",
     "status": "completed"
    },
    "tags": []
   },
   "outputs": [],
   "source": [
    "from sklearn.model_selection import train_test_split\n",
    "\n",
    "X_train,X_test,y_train,y_test = train_test_split(X,y,test_size=.2,random_state=123)"
   ]
  },
  {
   "cell_type": "markdown",
   "id": "d8e8cab7",
   "metadata": {
    "papermill": {
     "duration": 0.043423,
     "end_time": "2022-02-12T00:33:50.577856",
     "exception": false,
     "start_time": "2022-02-12T00:33:50.534433",
     "status": "completed"
    },
    "tags": []
   },
   "source": [
    "# PART 2 - predict rating from non-word features"
   ]
  },
  {
   "cell_type": "code",
   "execution_count": 27,
   "id": "a6a2eeb0",
   "metadata": {
    "execution": {
     "iopub.execute_input": "2022-02-12T00:33:50.672553Z",
     "iopub.status.busy": "2022-02-12T00:33:50.671347Z",
     "iopub.status.idle": "2022-02-12T00:33:50.676630Z",
     "shell.execute_reply": "2022-02-12T00:33:50.677190Z",
     "shell.execute_reply.started": "2022-02-12T00:14:26.351960Z"
    },
    "papermill": {
     "duration": 0.05637,
     "end_time": "2022-02-12T00:33:50.677432",
     "exception": false,
     "start_time": "2022-02-12T00:33:50.621062",
     "status": "completed"
    },
    "tags": []
   },
   "outputs": [],
   "source": [
    "X1_train = X_train.drop('Synopsis',axis=1)\n",
    "X1_test = X_test.drop('Synopsis',axis=1)"
   ]
  },
  {
   "cell_type": "code",
   "execution_count": 28,
   "id": "2590cb76",
   "metadata": {
    "execution": {
     "iopub.execute_input": "2022-02-12T00:33:50.773701Z",
     "iopub.status.busy": "2022-02-12T00:33:50.772569Z",
     "iopub.status.idle": "2022-02-12T00:33:50.776489Z",
     "shell.execute_reply": "2022-02-12T00:33:50.776979Z",
     "shell.execute_reply.started": "2022-02-12T00:14:26.360597Z"
    },
    "papermill": {
     "duration": 0.056708,
     "end_time": "2022-02-12T00:33:50.777197",
     "exception": false,
     "start_time": "2022-02-12T00:33:50.720489",
     "status": "completed"
    },
    "tags": []
   },
   "outputs": [
    {
     "data": {
      "text/plain": [
       "ScoredBy              float64\n",
       "Popularity            float64\n",
       "Members               float64\n",
       "Episodes              float64\n",
       "src_Book                uint8\n",
       "                       ...   \n",
       "genre_Supernatural      uint8\n",
       "genre_Thriller          uint8\n",
       "genre_Vampire           uint8\n",
       "genre_Yaoi              uint8\n",
       "genre_Yuri              uint8\n",
       "Length: 67, dtype: object"
      ]
     },
     "execution_count": 28,
     "metadata": {},
     "output_type": "execute_result"
    }
   ],
   "source": [
    "X1_train.dtypes"
   ]
  },
  {
   "cell_type": "code",
   "execution_count": 29,
   "id": "35803984",
   "metadata": {
    "execution": {
     "iopub.execute_input": "2022-02-12T00:33:50.868247Z",
     "iopub.status.busy": "2022-02-12T00:33:50.867467Z",
     "iopub.status.idle": "2022-02-12T00:33:50.969624Z",
     "shell.execute_reply": "2022-02-12T00:33:50.970253Z",
     "shell.execute_reply.started": "2022-02-12T00:14:26.374859Z"
    },
    "papermill": {
     "duration": 0.150753,
     "end_time": "2022-02-12T00:33:50.970499",
     "exception": false,
     "start_time": "2022-02-12T00:33:50.819746",
     "status": "completed"
    },
    "tags": []
   },
   "outputs": [],
   "source": [
    "import xgboost as xgb\n",
    "\n",
    "boost = xgb.XGBRegressor(n_estimators=10,seed=123)"
   ]
  },
  {
   "cell_type": "code",
   "execution_count": 30,
   "id": "00c2f657",
   "metadata": {
    "execution": {
     "iopub.execute_input": "2022-02-12T00:33:51.063792Z",
     "iopub.status.busy": "2022-02-12T00:33:51.062084Z",
     "iopub.status.idle": "2022-02-12T00:33:51.345084Z",
     "shell.execute_reply": "2022-02-12T00:33:51.345801Z",
     "shell.execute_reply.started": "2022-02-12T00:14:26.455765Z"
    },
    "papermill": {
     "duration": 0.332643,
     "end_time": "2022-02-12T00:33:51.346075",
     "exception": false,
     "start_time": "2022-02-12T00:33:51.013432",
     "status": "completed"
    },
    "tags": []
   },
   "outputs": [],
   "source": [
    "boost.fit(X1_train,y_train)\n",
    "\n",
    "preds = boost.predict(X1_test)"
   ]
  },
  {
   "cell_type": "code",
   "execution_count": 31,
   "id": "40af7b43",
   "metadata": {
    "execution": {
     "iopub.execute_input": "2022-02-12T00:33:51.441435Z",
     "iopub.status.busy": "2022-02-12T00:33:51.440716Z",
     "iopub.status.idle": "2022-02-12T00:33:51.446402Z",
     "shell.execute_reply": "2022-02-12T00:33:51.445825Z",
     "shell.execute_reply.started": "2022-02-12T00:14:26.707916Z"
    },
    "papermill": {
     "duration": 0.054667,
     "end_time": "2022-02-12T00:33:51.446574",
     "exception": false,
     "start_time": "2022-02-12T00:33:51.391907",
     "status": "completed"
    },
    "tags": []
   },
   "outputs": [
    {
     "name": "stdout",
     "output_type": "stream",
     "text": [
      "MSE: 0.4654566782692339\n"
     ]
    }
   ],
   "source": [
    "from sklearn.metrics import mean_squared_error\n",
    "\n",
    "print('MSE: {}'.format(mean_squared_error(y_test,preds)))"
   ]
  },
  {
   "cell_type": "code",
   "execution_count": 32,
   "id": "7d12cdc3",
   "metadata": {
    "execution": {
     "iopub.execute_input": "2022-02-12T00:33:51.544208Z",
     "iopub.status.busy": "2022-02-12T00:33:51.543283Z",
     "iopub.status.idle": "2022-02-12T00:33:51.549839Z",
     "shell.execute_reply": "2022-02-12T00:33:51.550529Z",
     "shell.execute_reply.started": "2022-02-12T00:14:26.715196Z"
    },
    "papermill": {
     "duration": 0.059955,
     "end_time": "2022-02-12T00:33:51.550755",
     "exception": false,
     "start_time": "2022-02-12T00:33:51.490800",
     "status": "completed"
    },
    "tags": []
   },
   "outputs": [],
   "source": [
    "from sklearn.pipeline import Pipeline\n",
    "from sklearn.preprocessing import StandardScaler\n",
    "from sklearn.model_selection import GridSearchCV\n",
    "import numpy as np\n",
    "\n",
    "pipe = Pipeline([('scaler',StandardScaler()),('xgb',xgb.XGBRegressor())])\n",
    "\n",
    "param_grid = {\n",
    "    'xgb__learning_rate': [0.01,0.1,0.5,0.9],\n",
    "    'xgb__n_estimators': [200],\n",
    "    'xgb__subsample': [0.3, 0.5, 0.9]\n",
    "}\n",
    "\n",
    "grid = GridSearchCV(estimator=pipe,param_grid=param_grid,\n",
    "                    scoring='neg_mean_squared_error', cv=4)"
   ]
  },
  {
   "cell_type": "code",
   "execution_count": 33,
   "id": "9c17964a",
   "metadata": {
    "execution": {
     "iopub.execute_input": "2022-02-12T00:33:51.645498Z",
     "iopub.status.busy": "2022-02-12T00:33:51.644744Z",
     "iopub.status.idle": "2022-02-12T00:36:39.627932Z",
     "shell.execute_reply": "2022-02-12T00:36:39.628566Z",
     "shell.execute_reply.started": "2022-02-12T00:14:26.730499Z"
    },
    "papermill": {
     "duration": 168.031088,
     "end_time": "2022-02-12T00:36:39.628817",
     "exception": false,
     "start_time": "2022-02-12T00:33:51.597729",
     "status": "completed"
    },
    "tags": []
   },
   "outputs": [
    {
     "name": "stdout",
     "output_type": "stream",
     "text": [
      "0.3846891441356819\n"
     ]
    }
   ],
   "source": [
    "grid.fit(X1_train,y_train)\n",
    "\n",
    "print(np.abs(grid.best_score_))"
   ]
  },
  {
   "cell_type": "markdown",
   "id": "5dcb78f1",
   "metadata": {
    "papermill": {
     "duration": 0.043117,
     "end_time": "2022-02-12T00:36:39.715506",
     "exception": false,
     "start_time": "2022-02-12T00:36:39.672389",
     "status": "completed"
    },
    "tags": []
   },
   "source": [
    "# PART 3 - calculat similarity from tfidf_vect"
   ]
  },
  {
   "cell_type": "code",
   "execution_count": 34,
   "id": "40629e54",
   "metadata": {
    "execution": {
     "iopub.execute_input": "2022-02-12T00:36:39.812639Z",
     "iopub.status.busy": "2022-02-12T00:36:39.810550Z",
     "iopub.status.idle": "2022-02-12T00:36:39.814509Z",
     "shell.execute_reply": "2022-02-12T00:36:39.815147Z",
     "shell.execute_reply.started": "2022-02-12T00:17:06.230470Z"
    },
    "papermill": {
     "duration": 0.054263,
     "end_time": "2022-02-12T00:36:39.815388",
     "exception": false,
     "start_time": "2022-02-12T00:36:39.761125",
     "status": "completed"
    },
    "tags": []
   },
   "outputs": [],
   "source": [
    "import re\n",
    "\n",
    "def clean_text(x):\n",
    "    expr = '[^a-zA-Z]'\n",
    "    x = re.sub(expr,' ',x)\n",
    "    return(x)"
   ]
  },
  {
   "cell_type": "code",
   "execution_count": 35,
   "id": "47370493",
   "metadata": {
    "execution": {
     "iopub.execute_input": "2022-02-12T00:36:39.908506Z",
     "iopub.status.busy": "2022-02-12T00:36:39.907343Z",
     "iopub.status.idle": "2022-02-12T00:36:40.441779Z",
     "shell.execute_reply": "2022-02-12T00:36:40.442364Z",
     "shell.execute_reply.started": "2022-02-12T00:17:06.237262Z"
    },
    "papermill": {
     "duration": 0.582702,
     "end_time": "2022-02-12T00:36:40.442615",
     "exception": false,
     "start_time": "2022-02-12T00:36:39.859913",
     "status": "completed"
    },
    "tags": []
   },
   "outputs": [],
   "source": [
    "df['Synopsis'] = df['Synopsis'].apply(clean_text)"
   ]
  },
  {
   "cell_type": "code",
   "execution_count": 36,
   "id": "3ce8c702",
   "metadata": {
    "execution": {
     "iopub.execute_input": "2022-02-12T00:36:40.538940Z",
     "iopub.status.busy": "2022-02-12T00:36:40.537962Z",
     "iopub.status.idle": "2022-02-12T00:36:40.541063Z",
     "shell.execute_reply": "2022-02-12T00:36:40.541606Z",
     "shell.execute_reply.started": "2022-02-12T00:17:06.754381Z"
    },
    "papermill": {
     "duration": 0.055567,
     "end_time": "2022-02-12T00:36:40.541820",
     "exception": false,
     "start_time": "2022-02-12T00:36:40.486253",
     "status": "completed"
    },
    "tags": []
   },
   "outputs": [
    {
     "data": {
      "text/plain": [
       "0        In the year       humanity has colonized sever...\n",
       "1        Another day  another bounty such is the life o...\n",
       "2        Vash the Stampede is the man with a           ...\n",
       "3        Witches are individuals with special powers li...\n",
       "4        It is the dark century and the people are suff...\n",
       "                               ...                        \n",
       "15012    Relay PV with original animation that was not ...\n",
       "15013    Short anime celebrating the    th anniversary ...\n",
       "15015    Music video directed by Kouhei Yoshino for the...\n",
       "15016    Music video directed by Kouhei Yoshino for the...\n",
       "15031    Space Shower TV Station ID directed by Densuke...\n",
       "Name: Synopsis, Length: 12179, dtype: object"
      ]
     },
     "execution_count": 36,
     "metadata": {},
     "output_type": "execute_result"
    }
   ],
   "source": [
    "df['Synopsis']"
   ]
  },
  {
   "cell_type": "code",
   "execution_count": 37,
   "id": "8499cd04",
   "metadata": {
    "execution": {
     "iopub.execute_input": "2022-02-12T00:36:40.637125Z",
     "iopub.status.busy": "2022-02-12T00:36:40.636118Z",
     "iopub.status.idle": "2022-02-12T00:36:41.653499Z",
     "shell.execute_reply": "2022-02-12T00:36:41.652780Z",
     "shell.execute_reply.started": "2022-02-12T00:17:06.764079Z"
    },
    "papermill": {
     "duration": 1.067758,
     "end_time": "2022-02-12T00:36:41.653695",
     "exception": false,
     "start_time": "2022-02-12T00:36:40.585937",
     "status": "completed"
    },
    "tags": []
   },
   "outputs": [],
   "source": [
    "from sklearn.feature_extraction.text import TfidfVectorizer\n",
    "\n",
    "vect = TfidfVectorizer(min_df=2,max_df=10,stop_words='english')\n",
    "\n",
    "tfidf_matrix = vect.fit_transform(df['Synopsis'])"
   ]
  },
  {
   "cell_type": "code",
   "execution_count": 38,
   "id": "3bfef6e8",
   "metadata": {
    "execution": {
     "iopub.execute_input": "2022-02-12T00:36:41.748159Z",
     "iopub.status.busy": "2022-02-12T00:36:41.747422Z",
     "iopub.status.idle": "2022-02-12T00:36:42.098517Z",
     "shell.execute_reply": "2022-02-12T00:36:42.097853Z",
     "shell.execute_reply.started": "2022-02-12T00:17:07.719100Z"
    },
    "papermill": {
     "duration": 0.40104,
     "end_time": "2022-02-12T00:36:42.098692",
     "exception": false,
     "start_time": "2022-02-12T00:36:41.697652",
     "status": "completed"
    },
    "tags": []
   },
   "outputs": [
    {
     "data": {
      "text/plain": [
       "array([[0., 0., 0., ..., 0., 0., 0.],\n",
       "       [0., 0., 0., ..., 0., 0., 0.],\n",
       "       [0., 0., 0., ..., 0., 0., 0.],\n",
       "       ...,\n",
       "       [0., 0., 0., ..., 0., 0., 0.],\n",
       "       [0., 0., 0., ..., 0., 0., 0.],\n",
       "       [0., 0., 0., ..., 0., 0., 0.]])"
      ]
     },
     "execution_count": 38,
     "metadata": {},
     "output_type": "execute_result"
    }
   ],
   "source": [
    "tfidf_matrix.toarray()"
   ]
  },
  {
   "cell_type": "code",
   "execution_count": 39,
   "id": "f5ee2323",
   "metadata": {
    "execution": {
     "iopub.execute_input": "2022-02-12T00:36:42.199888Z",
     "iopub.status.busy": "2022-02-12T00:36:42.198822Z",
     "iopub.status.idle": "2022-02-12T00:36:42.548806Z",
     "shell.execute_reply": "2022-02-12T00:36:42.548130Z",
     "shell.execute_reply.started": "2022-02-12T00:17:07.999895Z"
    },
    "papermill": {
     "duration": 0.40217,
     "end_time": "2022-02-12T00:36:42.548978",
     "exception": false,
     "start_time": "2022-02-12T00:36:42.146808",
     "status": "completed"
    },
    "tags": []
   },
   "outputs": [],
   "source": [
    "tfidf_df = pd.DataFrame(tfidf_matrix.toarray(), columns = vect.get_feature_names())\n",
    "tfidf_df.index = df['Title']"
   ]
  },
  {
   "cell_type": "code",
   "execution_count": 40,
   "id": "c8d35a00",
   "metadata": {
    "execution": {
     "iopub.execute_input": "2022-02-12T00:36:42.652762Z",
     "iopub.status.busy": "2022-02-12T00:36:42.651617Z",
     "iopub.status.idle": "2022-02-12T00:36:42.720817Z",
     "shell.execute_reply": "2022-02-12T00:36:42.721407Z",
     "shell.execute_reply.started": "2022-02-12T00:17:08.291646Z"
    },
    "papermill": {
     "duration": 0.126626,
     "end_time": "2022-02-12T00:36:42.721632",
     "exception": false,
     "start_time": "2022-02-12T00:36:42.595006",
     "status": "completed"
    },
    "tags": []
   },
   "outputs": [
    {
     "data": {
      "text/html": [
       "<div>\n",
       "<style scoped>\n",
       "    .dataframe tbody tr th:only-of-type {\n",
       "        vertical-align: middle;\n",
       "    }\n",
       "\n",
       "    .dataframe tbody tr th {\n",
       "        vertical-align: top;\n",
       "    }\n",
       "\n",
       "    .dataframe thead th {\n",
       "        text-align: right;\n",
       "    }\n",
       "</style>\n",
       "<table border=\"1\" class=\"dataframe\">\n",
       "  <thead>\n",
       "    <tr style=\"text-align: right;\">\n",
       "      <th></th>\n",
       "      <th>aa</th>\n",
       "      <th>aaron</th>\n",
       "      <th>aback</th>\n",
       "      <th>abandons</th>\n",
       "      <th>abarenbou</th>\n",
       "      <th>abashiri</th>\n",
       "      <th>abbreviated</th>\n",
       "      <th>abc</th>\n",
       "      <th>abduct</th>\n",
       "      <th>abducting</th>\n",
       "      <th>...</th>\n",
       "      <th>zora</th>\n",
       "      <th>zorbados</th>\n",
       "      <th>zoro</th>\n",
       "      <th>zorori</th>\n",
       "      <th>zukan</th>\n",
       "      <th>zukkoke</th>\n",
       "      <th>zure</th>\n",
       "      <th>zvezda</th>\n",
       "      <th>zwei</th>\n",
       "      <th>zz</th>\n",
       "    </tr>\n",
       "    <tr>\n",
       "      <th>Title</th>\n",
       "      <th></th>\n",
       "      <th></th>\n",
       "      <th></th>\n",
       "      <th></th>\n",
       "      <th></th>\n",
       "      <th></th>\n",
       "      <th></th>\n",
       "      <th></th>\n",
       "      <th></th>\n",
       "      <th></th>\n",
       "      <th></th>\n",
       "      <th></th>\n",
       "      <th></th>\n",
       "      <th></th>\n",
       "      <th></th>\n",
       "      <th></th>\n",
       "      <th></th>\n",
       "      <th></th>\n",
       "      <th></th>\n",
       "      <th></th>\n",
       "      <th></th>\n",
       "    </tr>\n",
       "  </thead>\n",
       "  <tbody>\n",
       "    <tr>\n",
       "      <th>Cowboy Bebop</th>\n",
       "      <td>0.0</td>\n",
       "      <td>0.0</td>\n",
       "      <td>0.0</td>\n",
       "      <td>0.0</td>\n",
       "      <td>0.0</td>\n",
       "      <td>0.0</td>\n",
       "      <td>0.0</td>\n",
       "      <td>0.0</td>\n",
       "      <td>0.0</td>\n",
       "      <td>0.0</td>\n",
       "      <td>...</td>\n",
       "      <td>0.0</td>\n",
       "      <td>0.0</td>\n",
       "      <td>0.0</td>\n",
       "      <td>0.0</td>\n",
       "      <td>0.0</td>\n",
       "      <td>0.0</td>\n",
       "      <td>0.0</td>\n",
       "      <td>0.0</td>\n",
       "      <td>0.0</td>\n",
       "      <td>0.0</td>\n",
       "    </tr>\n",
       "    <tr>\n",
       "      <th>Cowboy Bebop: Tengoku no Tobira</th>\n",
       "      <td>0.0</td>\n",
       "      <td>0.0</td>\n",
       "      <td>0.0</td>\n",
       "      <td>0.0</td>\n",
       "      <td>0.0</td>\n",
       "      <td>0.0</td>\n",
       "      <td>0.0</td>\n",
       "      <td>0.0</td>\n",
       "      <td>0.0</td>\n",
       "      <td>0.0</td>\n",
       "      <td>...</td>\n",
       "      <td>0.0</td>\n",
       "      <td>0.0</td>\n",
       "      <td>0.0</td>\n",
       "      <td>0.0</td>\n",
       "      <td>0.0</td>\n",
       "      <td>0.0</td>\n",
       "      <td>0.0</td>\n",
       "      <td>0.0</td>\n",
       "      <td>0.0</td>\n",
       "      <td>0.0</td>\n",
       "    </tr>\n",
       "    <tr>\n",
       "      <th>Trigun</th>\n",
       "      <td>0.0</td>\n",
       "      <td>0.0</td>\n",
       "      <td>0.0</td>\n",
       "      <td>0.0</td>\n",
       "      <td>0.0</td>\n",
       "      <td>0.0</td>\n",
       "      <td>0.0</td>\n",
       "      <td>0.0</td>\n",
       "      <td>0.0</td>\n",
       "      <td>0.0</td>\n",
       "      <td>...</td>\n",
       "      <td>0.0</td>\n",
       "      <td>0.0</td>\n",
       "      <td>0.0</td>\n",
       "      <td>0.0</td>\n",
       "      <td>0.0</td>\n",
       "      <td>0.0</td>\n",
       "      <td>0.0</td>\n",
       "      <td>0.0</td>\n",
       "      <td>0.0</td>\n",
       "      <td>0.0</td>\n",
       "    </tr>\n",
       "    <tr>\n",
       "      <th>Witch Hunter Robin</th>\n",
       "      <td>0.0</td>\n",
       "      <td>0.0</td>\n",
       "      <td>0.0</td>\n",
       "      <td>0.0</td>\n",
       "      <td>0.0</td>\n",
       "      <td>0.0</td>\n",
       "      <td>0.0</td>\n",
       "      <td>0.0</td>\n",
       "      <td>0.0</td>\n",
       "      <td>0.0</td>\n",
       "      <td>...</td>\n",
       "      <td>0.0</td>\n",
       "      <td>0.0</td>\n",
       "      <td>0.0</td>\n",
       "      <td>0.0</td>\n",
       "      <td>0.0</td>\n",
       "      <td>0.0</td>\n",
       "      <td>0.0</td>\n",
       "      <td>0.0</td>\n",
       "      <td>0.0</td>\n",
       "      <td>0.0</td>\n",
       "    </tr>\n",
       "    <tr>\n",
       "      <th>Bouken Ou Beet</th>\n",
       "      <td>0.0</td>\n",
       "      <td>0.0</td>\n",
       "      <td>0.0</td>\n",
       "      <td>0.0</td>\n",
       "      <td>0.0</td>\n",
       "      <td>0.0</td>\n",
       "      <td>0.0</td>\n",
       "      <td>0.0</td>\n",
       "      <td>0.0</td>\n",
       "      <td>0.0</td>\n",
       "      <td>...</td>\n",
       "      <td>0.0</td>\n",
       "      <td>0.0</td>\n",
       "      <td>0.0</td>\n",
       "      <td>0.0</td>\n",
       "      <td>0.0</td>\n",
       "      <td>0.0</td>\n",
       "      <td>0.0</td>\n",
       "      <td>0.0</td>\n",
       "      <td>0.0</td>\n",
       "      <td>0.0</td>\n",
       "    </tr>\n",
       "    <tr>\n",
       "      <th>...</th>\n",
       "      <td>...</td>\n",
       "      <td>...</td>\n",
       "      <td>...</td>\n",
       "      <td>...</td>\n",
       "      <td>...</td>\n",
       "      <td>...</td>\n",
       "      <td>...</td>\n",
       "      <td>...</td>\n",
       "      <td>...</td>\n",
       "      <td>...</td>\n",
       "      <td>...</td>\n",
       "      <td>...</td>\n",
       "      <td>...</td>\n",
       "      <td>...</td>\n",
       "      <td>...</td>\n",
       "      <td>...</td>\n",
       "      <td>...</td>\n",
       "      <td>...</td>\n",
       "      <td>...</td>\n",
       "      <td>...</td>\n",
       "      <td>...</td>\n",
       "    </tr>\n",
       "    <tr>\n",
       "      <th>Isekai Quartet Relay PV</th>\n",
       "      <td>0.0</td>\n",
       "      <td>0.0</td>\n",
       "      <td>0.0</td>\n",
       "      <td>0.0</td>\n",
       "      <td>0.0</td>\n",
       "      <td>0.0</td>\n",
       "      <td>0.0</td>\n",
       "      <td>0.0</td>\n",
       "      <td>0.0</td>\n",
       "      <td>0.0</td>\n",
       "      <td>...</td>\n",
       "      <td>0.0</td>\n",
       "      <td>0.0</td>\n",
       "      <td>0.0</td>\n",
       "      <td>0.0</td>\n",
       "      <td>0.0</td>\n",
       "      <td>0.0</td>\n",
       "      <td>0.0</td>\n",
       "      <td>0.0</td>\n",
       "      <td>0.0</td>\n",
       "      <td>0.0</td>\n",
       "    </tr>\n",
       "    <tr>\n",
       "      <th>Tanabata no Oto</th>\n",
       "      <td>0.0</td>\n",
       "      <td>0.0</td>\n",
       "      <td>0.0</td>\n",
       "      <td>0.0</td>\n",
       "      <td>0.0</td>\n",
       "      <td>0.0</td>\n",
       "      <td>0.0</td>\n",
       "      <td>0.0</td>\n",
       "      <td>0.0</td>\n",
       "      <td>0.0</td>\n",
       "      <td>...</td>\n",
       "      <td>0.0</td>\n",
       "      <td>0.0</td>\n",
       "      <td>0.0</td>\n",
       "      <td>0.0</td>\n",
       "      <td>0.0</td>\n",
       "      <td>0.0</td>\n",
       "      <td>0.0</td>\n",
       "      <td>0.0</td>\n",
       "      <td>0.0</td>\n",
       "      <td>0.0</td>\n",
       "    </tr>\n",
       "    <tr>\n",
       "      <th>Ake-Vono</th>\n",
       "      <td>0.0</td>\n",
       "      <td>0.0</td>\n",
       "      <td>0.0</td>\n",
       "      <td>0.0</td>\n",
       "      <td>0.0</td>\n",
       "      <td>0.0</td>\n",
       "      <td>0.0</td>\n",
       "      <td>0.0</td>\n",
       "      <td>0.0</td>\n",
       "      <td>0.0</td>\n",
       "      <td>...</td>\n",
       "      <td>0.0</td>\n",
       "      <td>0.0</td>\n",
       "      <td>0.0</td>\n",
       "      <td>0.0</td>\n",
       "      <td>0.0</td>\n",
       "      <td>0.0</td>\n",
       "      <td>0.0</td>\n",
       "      <td>0.0</td>\n",
       "      <td>0.0</td>\n",
       "      <td>0.0</td>\n",
       "    </tr>\n",
       "    <tr>\n",
       "      <th>Ab-rah</th>\n",
       "      <td>0.0</td>\n",
       "      <td>0.0</td>\n",
       "      <td>0.0</td>\n",
       "      <td>0.0</td>\n",
       "      <td>0.0</td>\n",
       "      <td>0.0</td>\n",
       "      <td>0.0</td>\n",
       "      <td>0.0</td>\n",
       "      <td>0.0</td>\n",
       "      <td>0.0</td>\n",
       "      <td>...</td>\n",
       "      <td>0.0</td>\n",
       "      <td>0.0</td>\n",
       "      <td>0.0</td>\n",
       "      <td>0.0</td>\n",
       "      <td>0.0</td>\n",
       "      <td>0.0</td>\n",
       "      <td>0.0</td>\n",
       "      <td>0.0</td>\n",
       "      <td>0.0</td>\n",
       "      <td>0.0</td>\n",
       "    </tr>\n",
       "    <tr>\n",
       "      <th>Space Shower Man: Legacy for the Future</th>\n",
       "      <td>0.0</td>\n",
       "      <td>0.0</td>\n",
       "      <td>0.0</td>\n",
       "      <td>0.0</td>\n",
       "      <td>0.0</td>\n",
       "      <td>0.0</td>\n",
       "      <td>0.0</td>\n",
       "      <td>0.0</td>\n",
       "      <td>0.0</td>\n",
       "      <td>0.0</td>\n",
       "      <td>...</td>\n",
       "      <td>0.0</td>\n",
       "      <td>0.0</td>\n",
       "      <td>0.0</td>\n",
       "      <td>0.0</td>\n",
       "      <td>0.0</td>\n",
       "      <td>0.0</td>\n",
       "      <td>0.0</td>\n",
       "      <td>0.0</td>\n",
       "      <td>0.0</td>\n",
       "      <td>0.0</td>\n",
       "    </tr>\n",
       "  </tbody>\n",
       "</table>\n",
       "<p>12179 rows × 14608 columns</p>\n",
       "</div>"
      ],
      "text/plain": [
       "                                          aa  aaron  aback  abandons  \\\n",
       "Title                                                                  \n",
       "Cowboy Bebop                             0.0    0.0    0.0       0.0   \n",
       "Cowboy Bebop: Tengoku no Tobira          0.0    0.0    0.0       0.0   \n",
       "Trigun                                   0.0    0.0    0.0       0.0   \n",
       "Witch Hunter Robin                       0.0    0.0    0.0       0.0   \n",
       "Bouken Ou Beet                           0.0    0.0    0.0       0.0   \n",
       "...                                      ...    ...    ...       ...   \n",
       "Isekai Quartet Relay PV                  0.0    0.0    0.0       0.0   \n",
       "Tanabata no Oto                          0.0    0.0    0.0       0.0   \n",
       "Ake-Vono                                 0.0    0.0    0.0       0.0   \n",
       "Ab-rah                                   0.0    0.0    0.0       0.0   \n",
       "Space Shower Man: Legacy for the Future  0.0    0.0    0.0       0.0   \n",
       "\n",
       "                                         abarenbou  abashiri  abbreviated  \\\n",
       "Title                                                                       \n",
       "Cowboy Bebop                                   0.0       0.0          0.0   \n",
       "Cowboy Bebop: Tengoku no Tobira                0.0       0.0          0.0   \n",
       "Trigun                                         0.0       0.0          0.0   \n",
       "Witch Hunter Robin                             0.0       0.0          0.0   \n",
       "Bouken Ou Beet                                 0.0       0.0          0.0   \n",
       "...                                            ...       ...          ...   \n",
       "Isekai Quartet Relay PV                        0.0       0.0          0.0   \n",
       "Tanabata no Oto                                0.0       0.0          0.0   \n",
       "Ake-Vono                                       0.0       0.0          0.0   \n",
       "Ab-rah                                         0.0       0.0          0.0   \n",
       "Space Shower Man: Legacy for the Future        0.0       0.0          0.0   \n",
       "\n",
       "                                         abc  abduct  abducting  ...  zora  \\\n",
       "Title                                                            ...         \n",
       "Cowboy Bebop                             0.0     0.0        0.0  ...   0.0   \n",
       "Cowboy Bebop: Tengoku no Tobira          0.0     0.0        0.0  ...   0.0   \n",
       "Trigun                                   0.0     0.0        0.0  ...   0.0   \n",
       "Witch Hunter Robin                       0.0     0.0        0.0  ...   0.0   \n",
       "Bouken Ou Beet                           0.0     0.0        0.0  ...   0.0   \n",
       "...                                      ...     ...        ...  ...   ...   \n",
       "Isekai Quartet Relay PV                  0.0     0.0        0.0  ...   0.0   \n",
       "Tanabata no Oto                          0.0     0.0        0.0  ...   0.0   \n",
       "Ake-Vono                                 0.0     0.0        0.0  ...   0.0   \n",
       "Ab-rah                                   0.0     0.0        0.0  ...   0.0   \n",
       "Space Shower Man: Legacy for the Future  0.0     0.0        0.0  ...   0.0   \n",
       "\n",
       "                                         zorbados  zoro  zorori  zukan  \\\n",
       "Title                                                                    \n",
       "Cowboy Bebop                                  0.0   0.0     0.0    0.0   \n",
       "Cowboy Bebop: Tengoku no Tobira               0.0   0.0     0.0    0.0   \n",
       "Trigun                                        0.0   0.0     0.0    0.0   \n",
       "Witch Hunter Robin                            0.0   0.0     0.0    0.0   \n",
       "Bouken Ou Beet                                0.0   0.0     0.0    0.0   \n",
       "...                                           ...   ...     ...    ...   \n",
       "Isekai Quartet Relay PV                       0.0   0.0     0.0    0.0   \n",
       "Tanabata no Oto                               0.0   0.0     0.0    0.0   \n",
       "Ake-Vono                                      0.0   0.0     0.0    0.0   \n",
       "Ab-rah                                        0.0   0.0     0.0    0.0   \n",
       "Space Shower Man: Legacy for the Future       0.0   0.0     0.0    0.0   \n",
       "\n",
       "                                         zukkoke  zure  zvezda  zwei   zz  \n",
       "Title                                                                      \n",
       "Cowboy Bebop                                 0.0   0.0     0.0   0.0  0.0  \n",
       "Cowboy Bebop: Tengoku no Tobira              0.0   0.0     0.0   0.0  0.0  \n",
       "Trigun                                       0.0   0.0     0.0   0.0  0.0  \n",
       "Witch Hunter Robin                           0.0   0.0     0.0   0.0  0.0  \n",
       "Bouken Ou Beet                               0.0   0.0     0.0   0.0  0.0  \n",
       "...                                          ...   ...     ...   ...  ...  \n",
       "Isekai Quartet Relay PV                      0.0   0.0     0.0   0.0  0.0  \n",
       "Tanabata no Oto                              0.0   0.0     0.0   0.0  0.0  \n",
       "Ake-Vono                                     0.0   0.0     0.0   0.0  0.0  \n",
       "Ab-rah                                       0.0   0.0     0.0   0.0  0.0  \n",
       "Space Shower Man: Legacy for the Future      0.0   0.0     0.0   0.0  0.0  \n",
       "\n",
       "[12179 rows x 14608 columns]"
      ]
     },
     "execution_count": 40,
     "metadata": {},
     "output_type": "execute_result"
    }
   ],
   "source": [
    "tfidf_df"
   ]
  },
  {
   "cell_type": "code",
   "execution_count": 41,
   "id": "fb838c9f",
   "metadata": {
    "execution": {
     "iopub.execute_input": "2022-02-12T00:36:42.821820Z",
     "iopub.status.busy": "2022-02-12T00:36:42.820455Z",
     "iopub.status.idle": "2022-02-12T00:51:51.312565Z",
     "shell.execute_reply": "2022-02-12T00:51:51.313227Z",
     "shell.execute_reply.started": "2022-02-12T00:17:08.369318Z"
    },
    "papermill": {
     "duration": 908.54551,
     "end_time": "2022-02-12T00:51:51.313492",
     "exception": false,
     "start_time": "2022-02-12T00:36:42.767982",
     "status": "completed"
    },
    "tags": []
   },
   "outputs": [
    {
     "data": {
      "text/plain": [
       "array([[0.        , 0.63110795, 1.        , ..., 1.        , 1.        ,\n",
       "        1.        ],\n",
       "       [0.63110795, 0.        , 1.        , ..., 1.        , 1.        ,\n",
       "        1.        ],\n",
       "       [1.        , 1.        , 0.        , ..., 1.        , 1.        ,\n",
       "        1.        ],\n",
       "       ...,\n",
       "       [1.        , 1.        , 1.        , ..., 0.        , 0.37609477,\n",
       "        1.        ],\n",
       "       [1.        , 1.        , 1.        , ..., 0.37609477, 0.        ,\n",
       "        1.        ],\n",
       "       [1.        , 1.        , 1.        , ..., 1.        , 1.        ,\n",
       "        0.        ]])"
      ]
     },
     "execution_count": 41,
     "metadata": {},
     "output_type": "execute_result"
    }
   ],
   "source": [
    "from scipy.spatial.distance import pdist,squareform\n",
    "\n",
    "similarities = pdist(tfidf_df.values,metric='cosine')\n",
    "square_sim = squareform(similarities)\n",
    "\n",
    "square_sim"
   ]
  },
  {
   "cell_type": "code",
   "execution_count": 42,
   "id": "2a990a55",
   "metadata": {
    "execution": {
     "iopub.execute_input": "2022-02-12T00:51:51.415018Z",
     "iopub.status.busy": "2022-02-12T00:51:51.414025Z",
     "iopub.status.idle": "2022-02-12T00:51:51.417130Z",
     "shell.execute_reply": "2022-02-12T00:51:51.416564Z",
     "shell.execute_reply.started": "2022-02-12T00:33:16.750215Z"
    },
    "papermill": {
     "duration": 0.055428,
     "end_time": "2022-02-12T00:51:51.417330",
     "exception": false,
     "start_time": "2022-02-12T00:51:51.361902",
     "status": "completed"
    },
    "tags": []
   },
   "outputs": [],
   "source": [
    "# print(square_sim)"
   ]
  },
  {
   "cell_type": "code",
   "execution_count": null,
   "id": "540c5b5e",
   "metadata": {
    "papermill": {
     "duration": 0.048457,
     "end_time": "2022-02-12T00:51:51.515257",
     "exception": false,
     "start_time": "2022-02-12T00:51:51.466800",
     "status": "completed"
    },
    "tags": []
   },
   "outputs": [],
   "source": []
  }
 ],
 "metadata": {
  "kernelspec": {
   "display_name": "Python 3",
   "language": "python",
   "name": "python3"
  },
  "language_info": {
   "codemirror_mode": {
    "name": "ipython",
    "version": 3
   },
   "file_extension": ".py",
   "mimetype": "text/x-python",
   "name": "python",
   "nbconvert_exporter": "python",
   "pygments_lexer": "ipython3",
   "version": "3.7.12"
  },
  "papermill": {
   "default_parameters": {},
   "duration": 1098.854474,
   "end_time": "2022-02-12T00:51:52.988322",
   "environment_variables": {},
   "exception": null,
   "input_path": "__notebook__.ipynb",
   "output_path": "__notebook__.ipynb",
   "parameters": {},
   "start_time": "2022-02-12T00:33:34.133848",
   "version": "2.3.3"
  }
 },
 "nbformat": 4,
 "nbformat_minor": 5
}
